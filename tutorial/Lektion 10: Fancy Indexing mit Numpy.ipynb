{
 "cells": [
  {
   "cell_type": "markdown",
   "id": "cb1e70ec-adf2-4ef1-b04b-dafab7a88908",
   "metadata": {},
   "source": [
    "# Lektion 10: Fancy Indexing und Masking mit `Numpy`"
   ]
  },
  {
   "cell_type": "markdown",
   "id": "a85fcf3c-39d1-4fdf-acf3-c4d0cc11d003",
   "metadata": {},
   "source": [
    "----\n",
    "\n",
    "Ziel der Lektion:\n",
    "\n",
    "* Boolesche Numeric mit `numpy`-Arrays\n",
    "* Fancy Indexing\n",
    "* Masking\n",
    "\n",
    "---"
   ]
  },
  {
   "cell_type": "markdown",
   "id": "05a6d1a4-69e2-4ef3-bfa8-fabdea398f79",
   "metadata": {},
   "source": [
    "## 1. Boolesche Numeric mit `numpy`-Arrays"
   ]
  },
  {
   "cell_type": "code",
   "execution_count": null,
   "id": "786879fb-2f45-4dfa-a3b2-56bd12b270f7",
   "metadata": {},
   "outputs": [],
   "source": []
  },
  {
   "cell_type": "code",
   "execution_count": null,
   "id": "25d36340-0b84-41f2-a083-78ba0c024cd5",
   "metadata": {},
   "outputs": [],
   "source": []
  },
  {
   "cell_type": "code",
   "execution_count": null,
   "id": "84d59984-e04d-49ce-89bf-caed56e2295c",
   "metadata": {},
   "outputs": [],
   "source": []
  },
  {
   "cell_type": "code",
   "execution_count": null,
   "id": "e4e02464-3e32-4368-96bb-7c381517504e",
   "metadata": {},
   "outputs": [],
   "source": []
  },
  {
   "cell_type": "code",
   "execution_count": null,
   "id": "bcecb857-f295-4bd5-ac25-771dd673c0b7",
   "metadata": {},
   "outputs": [],
   "source": []
  },
  {
   "cell_type": "code",
   "execution_count": null,
   "id": "158ec0b2-3d6c-403d-8a51-b7d6672e94b9",
   "metadata": {},
   "outputs": [],
   "source": []
  },
  {
   "cell_type": "code",
   "execution_count": null,
   "id": "1ae2195d-6b6e-4bfb-ac88-464917811b4a",
   "metadata": {},
   "outputs": [],
   "source": []
  },
  {
   "cell_type": "markdown",
   "id": "331f4147-e8be-4e87-8148-1b4b78e99bf6",
   "metadata": {},
   "source": [
    "## 2. Fancy Indexing mit `numpy`-Arrays"
   ]
  },
  {
   "cell_type": "code",
   "execution_count": null,
   "id": "968366c2-85cb-4524-b020-715284a8693b",
   "metadata": {},
   "outputs": [],
   "source": []
  }
 ],
 "metadata": {
  "kernelspec": {
   "display_name": "Python 3 (ipykernel)",
   "language": "python",
   "name": "python3"
  },
  "language_info": {
   "codemirror_mode": {
    "name": "ipython",
    "version": 3
   },
   "file_extension": ".py",
   "mimetype": "text/x-python",
   "name": "python",
   "nbconvert_exporter": "python",
   "pygments_lexer": "ipython3",
   "version": "3.11.6"
  }
 },
 "nbformat": 4,
 "nbformat_minor": 5
}
