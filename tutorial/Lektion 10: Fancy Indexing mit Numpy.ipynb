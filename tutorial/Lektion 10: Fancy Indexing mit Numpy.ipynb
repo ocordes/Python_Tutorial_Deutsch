{
 "cells": [
  {
   "cell_type": "markdown",
   "id": "cb1e70ec-adf2-4ef1-b04b-dafab7a88908",
   "metadata": {},
   "source": [
    "# Lektion 10: Fancy Indexing und Masking mit `Numpy`"
   ]
  },
  {
   "cell_type": "markdown",
   "id": "a85fcf3c-39d1-4fdf-acf3-c4d0cc11d003",
   "metadata": {},
   "source": [
    "----\n",
    "\n",
    "Ziel der Lektion:\n",
    "\n",
    "* Boolesche Numeric mit `numpy`-Arrays\n",
    "* Fancy Indexing\n",
    "* Masking\n",
    "\n",
    "---"
   ]
  },
  {
   "cell_type": "markdown",
   "id": "05a6d1a4-69e2-4ef3-bfa8-fabdea398f79",
   "metadata": {},
   "source": [
    "## 1. Boolesche Numeric mit `numpy`-Arrays"
   ]
  },
  {
   "cell_type": "markdown",
   "id": "786879fb-2f45-4dfa-a3b2-56bd12b270f7",
   "metadata": {},
   "source": [
    "In der vorherigen Lektion haben Sie den Umgang mit `numpy`-Arrays kennengelernt. Für den normalen Alltag haben Sie damit alle wichtigen Funktionen gesehen. Es gibt aber noch ein paar weitere mathematischen Anwendungen, die sich mit `numpy`-Arrays ausführen lassen."
   ]
  },
  {
   "cell_type": "markdown",
   "metadata": {},
   "source": [
    "Wie bei *normalen* Variablen, lassen sich mit `numpy`-Arrays auch **Vergleiche** machen. Diese werden wie alle anderen mathematischen Operationen elementweise ausgeführt:"
   ]
  },
  {
   "cell_type": "code",
   "execution_count": 3,
   "id": "25d36340-0b84-41f2-a083-78ba0c024cd5",
   "metadata": {},
   "outputs": [
    {
     "name": "stdout",
     "output_type": "stream",
     "text": [
      "[False False False False False False  True  True  True  True]\n",
      "bool\n"
     ]
    }
   ],
   "source": [
    "import numpy as np\n",
    "\n",
    "a = np.arange(10)\n",
    "\n",
    "b = a  > 5\n",
    "\n",
    "print(b)\n",
    "\n",
    "print(b.dtype)"
   ]
  },
  {
   "cell_type": "markdown",
   "metadata": {},
   "source": [
    "Sie sehen, dass als Ergebnis wieder ein `numpy`-Array erzeugt wird, diesmal mit dem Datentyp `bool`."
   ]
  },
  {
   "cell_type": "markdown",
   "metadata": {},
   "source": [
    "Diese Art von Vergleichen ist ein gutes Werkzeug, jedoch gibt es Situationen wo man nicht eine *elementweise* sondern eine Zusammenfassende Antwort haben möchte. Z.B. kann die Frage $a > 5$ gestellt werden, ob das Array prinzipiell, also __alle__ Elemente größer als $5$ sind. Dazu gibt es die Funktion `np.all(...)`:"
   ]
  },
  {
   "cell_type": "code",
   "execution_count": 4,
   "id": "84d59984-e04d-49ce-89bf-caed56e2295c",
   "metadata": {},
   "outputs": [
    {
     "name": "stdout",
     "output_type": "stream",
     "text": [
      "False\n"
     ]
    }
   ],
   "source": [
    "import numpy as np\n",
    "\n",
    "a = np.arange(10)\n",
    "\n",
    "b = a > 5\n",
    "\n",
    "print(np.all(b))"
   ]
  },
  {
   "cell_type": "markdown",
   "metadata": {},
   "source": [
    "oder"
   ]
  },
  {
   "cell_type": "code",
   "execution_count": 5,
   "id": "e4e02464-3e32-4368-96bb-7c381517504e",
   "metadata": {},
   "outputs": [
    {
     "name": "stdout",
     "output_type": "stream",
     "text": [
      "True\n"
     ]
    }
   ],
   "source": [
    "print(np.all(a >= 0))"
   ]
  },
  {
   "cell_type": "markdown",
   "metadata": {},
   "source": [
    "Man kann sich das so vorstellen, dass `np.all(...)` eine `and`-Verknüpfung aller einzelnen Element-Ergebnisse ist. Daneben gibt es die Funktion `np.any(...)`, die `True` zurückgibt, wenn mind. ein Element selber `True` ist. Dieses entspricht der `or`-Verknüpfung aller einzelnen Element-Ergebnisse."
   ]
  },
  {
   "cell_type": "code",
   "execution_count": 6,
   "metadata": {},
   "outputs": [
    {
     "name": "stdout",
     "output_type": "stream",
     "text": [
      "True\n",
      "False\n"
     ]
    }
   ],
   "source": [
    "print(np.any(a > 5))    \n",
    "print(np.any(a < 0))"
   ]
  },
  {
   "cell_type": "markdown",
   "metadata": {},
   "source": [
    "---"
   ]
  },
  {
   "cell_type": "markdown",
   "metadata": {},
   "source": [
    "## 2. Fancy Indexing"
   ]
  },
  {
   "cell_type": "markdown",
   "metadata": {},
   "source": [
    "Bei klassischen Indizieren von Elementen (nicht unbeding Slicing) kann man ja immer nur ein einzelnes Element ansprechen. `numpy`-Arrays bieten aber auch die Möglichkeit, mehrere Elemente gleichzeitig anzusprechen, wobei die Indices keinen Regeln unterworfen werden. "
   ]
  },
  {
   "cell_type": "code",
   "execution_count": 9,
   "id": "bcecb857-f295-4bd5-ac25-771dd673c0b7",
   "metadata": {},
   "outputs": [
    {
     "name": "stdout",
     "output_type": "stream",
     "text": [
      "[10 50 90]\n",
      "[10 20 40]\n"
     ]
    }
   ],
   "source": [
    "import numpy as np\n",
    "\n",
    "a = np.arange(0, 100, 10)\n",
    "\n",
    "indices = [1, 5, -1]\n",
    "b = a[indices]\n",
    "\n",
    "print(b)\n",
    "\n",
    "# or\n",
    "\n",
    "print(a[[1,2,4]])\n"
   ]
  },
  {
   "cell_type": "markdown",
   "metadata": {},
   "source": [
    "Das sog. `Fancy`-Indexing findet üblicherweise mit einer Liste von einzelnen Indices statt. Die Liste wird dann als *Index* auf das `numpy`-Array angewendet. Zur besseren Übersicht sollten die Indices in einer Variable gespeichert werden, da die doppelten \n",
    "`[[` und `]]` verwirrend erscheinen.\n",
    "\n",
    "Die Indices dürfen bunt durcheinander gemischt werden, auch Doppelungen sind kein Problem. In allen Fällen wird beim `Fancy`-Indexing immer ein neues Array zurückgegeben und kein `View` wie beim normalen Indexing/Slicing:"
   ]
  },
  {
   "cell_type": "code",
   "execution_count": 11,
   "id": "158ec0b2-3d6c-403d-8a51-b7d6672e94b9",
   "metadata": {},
   "outputs": [
    {
     "name": "stdout",
     "output_type": "stream",
     "text": [
      "[50 10 30 10 70]\n",
      "[50 10 30 10 70]\n"
     ]
    }
   ],
   "source": [
    "import numpy as np\n",
    "\n",
    "a = np.arange(0, 100, 10)\n",
    "\n",
    "indices = [5, 1, 3, 1,7]\n",
    "b = a[indices]\n",
    "\n",
    "print(b)\n",
    "\n",
    "# change array a\n",
    "a[1] = -1\n",
    "\n",
    "print(b)    # b is not a view, but a real copy of the data!"
   ]
  },
  {
   "cell_type": "markdown",
   "id": "1ae2195d-6b6e-4bfb-ac88-464917811b4a",
   "metadata": {},
   "source": [
    "Natürlich geht auch das Zuweisen von Werten mit `Fancy indexing`. Hierbei ist zu beachten, dass die Anzahl der Werte, die zugewiesen werden, mit der Anzahl der Indizes übereinstimmen muss:\n"
   ]
  },
  {
   "cell_type": "code",
   "execution_count": 13,
   "metadata": {},
   "outputs": [
    {
     "name": "stdout",
     "output_type": "stream",
     "text": [
      "[   0 -400   20 -300   40 -100   60 -500   80   90]\n"
     ]
    }
   ],
   "source": [
    "import numpy as np  \n",
    "\n",
    "a =  np.arange(0, 100, 10)\n",
    "\n",
    "indices = [5, 1, 3, 1, 7]\n",
    "\n",
    "a[indices] = np.array([-100, -200, -300, -400, -500])\n",
    "\n",
    "print(a)"
   ]
  },
  {
   "cell_type": "markdown",
   "metadata": {},
   "source": [
    "An dieser Stelle muss man aufpassen, es wird das Element mit dem Index `1` zweimal überschrieben wird, erst mit `-200` und dann mit `-400`. Sie sehen, dass bei dieser Zuweisung das Index-Array nicht parallel, sondern sequentiell von links nach rechts abgearbeitet wird."
   ]
  },
  {
   "cell_type": "markdown",
   "metadata": {},
   "source": [
    "Eine nette Anwendung des `Fancy Indexing`, wenn diese auch sicher nicht als Hauptgrund für die Implementierung gewesen ist, ist die Sortierung eines Arrays. "
   ]
  },
  {
   "cell_type": "code",
   "execution_count": 16,
   "metadata": {},
   "outputs": [
    {
     "name": "stdout",
     "output_type": "stream",
     "text": [
      "[1 3 5 0 6 2 4]\n",
      "[10 30 40 50 50 70 90]\n"
     ]
    }
   ],
   "source": [
    "import numpy as np\n",
    "\n",
    "a = np.array([50,10,70,30,90,40,50])\n",
    "\n",
    "ind = np.argsort(a)\n",
    "\n",
    "print(ind)\n",
    "\n",
    "print(a[ind])\n"
   ]
  },
  {
   "cell_type": "markdown",
   "metadata": {},
   "source": [
    "Die Funktion `np.argsort` erstellt ein Index-Array in der Weise, dass bei Anwendung der Indices auf das Original-Array dieses `sortiert` wird. "
   ]
  },
  {
   "cell_type": "markdown",
   "metadata": {},
   "source": [
    "----"
   ]
  },
  {
   "cell_type": "markdown",
   "id": "331f4147-e8be-4e87-8148-1b4b78e99bf6",
   "metadata": {},
   "source": [
    "## 3. Masking mit `numpy`-Arrays"
   ]
  },
  {
   "cell_type": "markdown",
   "metadata": {},
   "source": [
    "Eine weitere Möglichkeit, Elemente aus `numpy`-Arrays auszuwählen, ist das sog. Masking. An dieser Stelle kommen die bool-Arrays zum tragen, die in 1. vorgstellt wurden. Das Prinzip des Maskings ist so, dass man für jedes Element ein `True` oder `False` angibt. Jedes Element mit `True` wird beim `Masking` dann ausgeschnitten:"
   ]
  },
  {
   "cell_type": "code",
   "execution_count": 18,
   "id": "968366c2-85cb-4524-b020-715284a8693b",
   "metadata": {},
   "outputs": [
    {
     "name": "stdout",
     "output_type": "stream",
     "text": [
      "[ 0 20 50 70 90]\n"
     ]
    }
   ],
   "source": [
    "import numpy as np\n",
    "\n",
    "a = np.arange(0, 100, 10)\n",
    "\n",
    "ind = np.array([True, False, True, False, False, True, False, True, False, True])\n",
    "\n",
    "print(a[ind])   "
   ]
  },
  {
   "cell_type": "markdown",
   "metadata": {},
   "source": [
    "Einfacher geht es natürlich mit den Vergleichen:"
   ]
  },
  {
   "cell_type": "code",
   "execution_count": 19,
   "metadata": {},
   "outputs": [
    {
     "name": "stdout",
     "output_type": "stream",
     "text": [
      "[60 70 80 90]\n"
     ]
    }
   ],
   "source": [
    "import numpy as np\n",
    "\n",
    "a = np.arange(0, 100, 10)\n",
    "\n",
    "ind = a > 50\n",
    "\n",
    "print(a[ind])"
   ]
  },
  {
   "cell_type": "markdown",
   "metadata": {},
   "source": [
    "In diesem Beispiel werden alle Elemente indiziert, die größer als 50 sind. Es gehen auch komplexere Masken:"
   ]
  },
  {
   "cell_type": "code",
   "execution_count": 20,
   "metadata": {},
   "outputs": [
    {
     "name": "stdout",
     "output_type": "stream",
     "text": [
      "[ 0 30 60 90]\n"
     ]
    }
   ],
   "source": [
    "ind = (a % 3) == 0\n",
    "\n",
    "print(a[ind])"
   ]
  },
  {
   "cell_type": "markdown",
   "metadata": {},
   "source": [
    "Dieses Beispiel selektiert alle Elemente, die durch 3 teilbar sind.  Man kann auch verschiedene Boolesche-Operationen miteinander verknüpfen. Dazu darf man allerdings nicht `and` und `or` nutzen, sondern stattdessen `&` und `|`:"
   ]
  },
  {
   "cell_type": "code",
   "execution_count": 21,
   "metadata": {},
   "outputs": [
    {
     "name": "stdout",
     "output_type": "stream",
     "text": [
      "[60 70 80]\n",
      "[ 0 10 20 80 90]\n"
     ]
    }
   ],
   "source": [
    "ind1 = (a > 50) & (a < 90)\n",
    "ind2 = (a < 30) | (a > 70)\n",
    "\n",
    "print(a[ind1])  \n",
    "print(a[ind2])  "
   ]
  },
  {
   "cell_type": "markdown",
   "metadata": {},
   "source": [
    "Auch wenn es nicht immer notwendig ist, sollten bei den Verknüfpungen einzelne Vergleiche mit Klammern abgegrenzt werden. Das schafft auch ein gutes Mass an Übersicht."
   ]
  },
  {
   "cell_type": "markdown",
   "metadata": {},
   "source": [
    "Aufgabe von Masking im Umgang mit wissenschaftlichen Daten ist die Selektion von Messwerten, das aussortieren von **schlechten** und/oder **falschen** Werten."
   ]
  },
  {
   "cell_type": "markdown",
   "metadata": {},
   "source": [
    "----"
   ]
  },
  {
   "cell_type": "markdown",
   "metadata": {},
   "source": [
    "## 4. Anwendungen von Fancy-Indexing und Masking"
   ]
  },
  {
   "cell_type": "markdown",
   "metadata": {},
   "source": [
    "In der Regel haben wir bei Messwerten meistens Datenspalten, die miteinander verbunden sind, z.B. Messzeit und Messwert oder verschiedene Messwerte, die logisch zusammen gehören, wie Spannung und Strom. \n",
    "\n",
    "Wie wendet man das Fancy-Indexing oder Masking auf mehere Datenspalten an?"
   ]
  },
  {
   "cell_type": "code",
   "execution_count": 38,
   "metadata": {},
   "outputs": [],
   "source": [
    "import numpy as np  \n",
    "\n",
    "x_values = np.linspace(0, 2*np.pi, 100)\n",
    "y_values = np.sin(x_values)"
   ]
  },
  {
   "cell_type": "markdown",
   "metadata": {},
   "source": [
    "Wir erstellen hier eine Reihe von $x$-Werten aus dem Intervall $[0,2\\pi]$. Dann wollen wir nur mit $x$-Werten arbeiten, die kleiner als $\\pi$ sind. Dafür kann man folgendes machen:"
   ]
  },
  {
   "cell_type": "code",
   "execution_count": 39,
   "metadata": {},
   "outputs": [],
   "source": [
    "ind = x_values < np.pi\n",
    "\n",
    "new_x_values = x_values[ind]\n",
    "new_y_values = y_values[ind]"
   ]
  },
  {
   "cell_type": "markdown",
   "metadata": {},
   "source": [
    "oder als Plot zur Veranschauung:"
   ]
  },
  {
   "cell_type": "code",
   "execution_count": 43,
   "metadata": {},
   "outputs": [
    {
     "data": {
      "text/plain": [
       "<matplotlib.legend.Legend at 0x1187d7cd0>"
      ]
     },
     "execution_count": 43,
     "metadata": {},
     "output_type": "execute_result"
    },
    {
     "data": {
      "image/png": "[encoded data removed]",
      "text/plain": [
       "<Figure size 640x480 with 1 Axes>"
      ]
     },
     "metadata": {},
     "output_type": "display_data"
    }
   ],
   "source": [
    "%matplotlib inline  \n",
    "\n",
    "import matplotlib.pyplot as plt\n",
    "\n",
    "fig, ax = plt.subplots()\n",
    "\n",
    "ax.plot(x_values, y_values, 'r.', label='all data')\n",
    "\n",
    "ax.plot(new_x_values, new_y_values, 'b.', label='selected data')\n",
    "\n",
    "plt.legend()\n"
   ]
  },
  {
   "cell_type": "markdown",
   "metadata": {},
   "source": [
    "Wie man sieht, wird die Maske nicht nur auf die $x$-Werte angewendet, sondern parallel auch auf die $y$-Werte. So bleibt der Zusammenhang zwischen den Werten bestehen. \n",
    "\n",
    "Das ist auch nützlich, wenn man wie oben gezeigt, Datenwerte sortiert in einer Spalte und die Daten in der anderen Spalte mit umsortiert, wobei die Reihenfolge nicht notwendiger weise sortiert ist, aber zumindest passen dann die $x$-Werte immer noch zu den $y$-Werten."
   ]
  },
  {
   "cell_type": "markdown",
   "metadata": {},
   "source": [
    "---"
   ]
  },
  {
   "cell_type": "markdown",
   "metadata": {},
   "source": [
    "## 5. Fancy Indexing und Masking auf 2d-Arrays"
   ]
  },
  {
   "cell_type": "code",
   "execution_count": null,
   "metadata": {},
   "outputs": [],
   "source": []
  }
 ],
 "metadata": {
  "kernelspec": {
   "display_name": "Python 3 (ipykernel)",
   "language": "python",
   "name": "python3"
  },
  "language_info": {
   "codemirror_mode": {
    "name": "ipython",
    "version": 3
   },
   "file_extension": ".py",
   "mimetype": "text/x-python",
   "name": "python",
   "nbconvert_exporter": "python",
   "pygments_lexer": "ipython3",
   "version": "3.11.6"
  }
 },
 "nbformat": 4,
 "nbformat_minor": 5
}
