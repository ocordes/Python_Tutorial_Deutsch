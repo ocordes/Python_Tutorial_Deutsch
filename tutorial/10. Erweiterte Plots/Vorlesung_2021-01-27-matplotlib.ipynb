{
 "cells": [
  {
   "cell_type": "markdown",
   "metadata": {},
   "source": [
    "# Vorlesung Python 4 - 27.01.2021"
   ]
  },
  {
   "cell_type": "markdown",
   "metadata": {},
   "source": [
    "## Themen:\n",
    " * formatted Strings\n",
    " * matplotlib-Erweiterungen\n",
    " * Python-Skripte\n",
    " * Guacamole für Studenten"
   ]
  },
  {
   "cell_type": "markdown",
   "metadata": {},
   "source": [
    "## 1. formatted Strings"
   ]
  },
  {
   "cell_type": "markdown",
   "metadata": {},
   "source": [
    "Bei der Einführung von Strings wurde kurz erwähnt, das es sog. `formatted strings` existieren:"
   ]
  },
  {
   "cell_type": "code",
   "execution_count": null,
   "metadata": {},
   "outputs": [],
   "source": [
    "print(f'Hello world!')"
   ]
  },
  {
   "cell_type": "markdown",
   "metadata": {},
   "source": [
    "Die Strings müssen immer mit dem `f` eingeleitet werden.\n",
    "\n",
    "Wofür sind diese `formatted strings` notwendig?"
   ]
  },
  {
   "cell_type": "code",
   "execution_count": 62,
   "metadata": {},
   "outputs": [
    {
     "name": "stdout",
     "output_type": "stream",
     "text": [
      "Mein Name ist Oliver Cordes und bin 48 Jahre alt!\n",
      "8\n",
      "String\n",
      "\"String\"\n",
      "{3+5}\n",
      "Oliver\n"
     ]
    }
   ],
   "source": [
    "age = 48\n",
    "vorname = 'Oliver'\n",
    "name = 'Cordes'\n",
    "\n",
    "print(f'Mein Name ist {vorname} {name} und bin {age} Jahre alt!')\n",
    "\n",
    "# Weitere Beispiele:\n",
    "\n",
    "print(f'{3+5}')             # Python code innerhalb der Ausgabe!\n",
    "print(f'{\"String\"}')        # Strings innerhalb\n",
    "\n",
    "print(f'\\\"String\\\"')        # Quote mit Backslash\n",
    "print(f'{{3+5}}')           # Doppelte-Klammern für { und }\n",
    "\n",
    "# Probleme mit Dictionaries\n",
    "d = {'vorname': 'Oliver', 'name': 'Cordes'}\n",
    "key = 'vorname'\n",
    "print(f'{d[key]}')"
   ]
  },
  {
   "cell_type": "markdown",
   "metadata": {},
   "source": [
    "**Wichtig:**\n",
    " * alle Variablen können mit `{...}` ausgegeben werden\n",
    " * innerhalb von `{...}`  können Berechnungen gemacht werden\n",
    " * Dictionaries-Elemente können nicht addressiert werden\n",
    " * Variablen können formatiert werden"
   ]
  },
  {
   "cell_type": "markdown",
   "metadata": {},
   "source": [
    "Übersicht über Formatierungsmöglichkeiten:"
   ]
  },
  {
   "cell_type": "code",
   "execution_count": 63,
   "metadata": {},
   "outputs": [
    {
     "name": "stdout",
     "output_type": "stream",
     "text": [
      "1234 > 1234< 0000001234\n",
      "12345.678 12345.68 >   12345.7<\n",
      "1.234568e+04\n",
      "12,345.68\n"
     ]
    }
   ],
   "source": [
    "i = 1234       # Ganzzahl\n",
    "f = 12345.678  # Fliesskommazahl\n",
    "\n",
    "print(f'{i} >{i:5d}< {i:010d}')    # Ganzzahl-Formatierung\n",
    "print(f'{f} {f:.2f} >{f:10.1f}<')  # Fliesskommazahl-Formatierung\n",
    "print(f'{f:e}')                    # Fliesskommazahl in exp-Darstellung\n",
    "print(f'{f:,.2f}')                 # , für große Zahlen! "
   ]
  },
  {
   "cell_type": "markdown",
   "metadata": {},
   "source": [
    "## 2. matplotlib-Erweiterungen"
   ]
  },
  {
   "cell_type": "markdown",
   "metadata": {},
   "source": [
    "Wir haben in den vergangenen Vorlesungen und Übungen viele Plots gesehen, die mit Python und der matplotlib erstellt worden sind. Beispiele mit Quellcodes kann man gut auf der [matplotlib-Gallery](https://matplotlib.org/3.1.1/gallery/index.html) einsehen. "
   ]
  },
  {
   "cell_type": "markdown",
   "metadata": {},
   "source": [
    "Nun wollen wir die Plots ein wenig verbessern, sie abspeichern und auch für die Verwendung mit $\\LaTeX$ optimieren."
   ]
  },
  {
   "cell_type": "markdown",
   "metadata": {},
   "source": [
    "Als erstes erzeugen wir einen schönen Plot von Daten des [COBE satellite](http://lambda.gsfc.nasa.gov/product/cobe/), der die kosmische Hintergrundstrahlung gemessen hat. Aus dem Daten kann man die Temperatur des Universums durch einen Fit bestimmen:"
   ]
  },
  {
   "cell_type": "code",
   "execution_count": 64,
   "metadata": {},
   "outputs": [
    {
     "name": "stdout",
     "output_type": "stream",
     "text": [
      "Temperature of the universe: 2.725431+/-0.000030 K\n"
     ]
    }
   ],
   "source": [
    "%matplotlib inline\n",
    "\n",
    "import numpy as np\n",
    "import matplotlib.pyplot as plt\n",
    "\n",
    "from kafe2 import XYContainer, Fit, Plot\n",
    "\n",
    "\n",
    "# Fit a Planck function to COBE data:\n",
    "\n",
    "# The function to be minimised:\n",
    "def planck_model(f, A0, T):\n",
    "    return A0 * f**3 / (np.exp(1.439 * f / T)-1.0)\n",
    "\n",
    "\n",
    "data = np.loadtxt('data/Cobe.txt')\n",
    "\n",
    "freq = data[:,0]\n",
    "spectrum = data[:,1]\n",
    "# note that the error is in kJ / sr and the\n",
    "# spectrum in MJ/sr!\n",
    "spectrum_err = (data[:,2] / 1000.)\n",
    "\n",
    "cobe_data = XYContainer(x_data=freq, y_data=spectrum)\n",
    "cobe_data.add_error(axis='y', err_val=spectrum_err)\n",
    "\n",
    "cobe_fit = Fit(data=cobe_data, model_function=planck_model)\n",
    "\n",
    "results = cobe_fit.do_fit()\n",
    "\n",
    "#cobe_fit.report()\n",
    "\n",
    "if results['did_fit']:\n",
    "    print(\"Temperature of the universe: %8.6f+/-%8.6f K\"\n",
    "        %  (results['parameter_values']['T'], results['parameter_errors']['T']) )"
   ]
  },
  {
   "cell_type": "code",
   "execution_count": 66,
   "metadata": {},
   "outputs": [
    {
     "data": {
      "image/png": "[encoded data removed]",
      "text/plain": [
       "<Figure size 432x288 with 1 Axes>"
      ]
     },
     "metadata": {
      "needs_background": "light"
     },
     "output_type": "display_data"
    }
   ],
   "source": [
    "T = results['parameter_values']['T']\n",
    "A0 = results['parameter_values']['A0']\n",
    "\n",
    "# plot the data and the result of the fit:\n",
    "f = np.linspace(2.0, 25.0, 100)\n",
    "s = planck_model(f, A0, T)\n",
    "\n",
    "fig, ax = plt.subplots()\n",
    "\n",
    "ax.errorbar(freq, spectrum, fmt='.', yerr=spectrum_err * 400,\n",
    "             label='FIRAS data with' \"\\n\" r'$400\\sigma$ errorbars')\n",
    "ax.plot(f, s, label=\"2.73 K spectrum\")\n",
    "\n",
    "ax.set_xlabel(\"frequency [1 / cm]\")\n",
    "ax.set_ylabel(\"Intensity [MJy / sr]\")\n",
    "\n",
    "ax.legend()\n",
    "\n",
    "# save the figure to a file\n",
    "fig.savefig('datei.png')\n",
    "#fig.savefig('datei.jpg')\n",
    "#fig.savefig('datei.pdf')"
   ]
  },
  {
   "cell_type": "markdown",
   "metadata": {},
   "source": [
    "Der obige Code erzeugt einen gut aussehenden Plot innerhalb eines Notebooks."
   ]
  },
  {
   "cell_type": "markdown",
   "metadata": {},
   "source": [
    "## 2.1 Abspeichern eines Plots"
   ]
  },
  {
   "cell_type": "markdown",
   "metadata": {},
   "source": [
    "Die matplotlib kann mit der Funktion `plt.savefig` den aktuellen Plot in einer Datei abspeichern. Als Argument wird der Dateiname übergeben. Die Endung des Namens gibt den Typ der Graphik-Datei vor:\n",
    "\n",
    "* datei.png -> PNG Dateien\n",
    "* datei.jpg -> JPEG Dateien\n",
    "* datei.pdf -> PDF Dateien"
   ]
  },
  {
   "cell_type": "code",
   "execution_count": null,
   "metadata": {},
   "outputs": [],
   "source": [
    "#plt.savefig('datei.png')\n",
    "#plt.savefig('datei.jpg')\n",
    "#plt.savefig('datei.pdf')"
   ]
  },
  {
   "cell_type": "markdown",
   "metadata": {},
   "source": [
    "## 2.2 Einbinden in $\\LaTeX$"
   ]
  },
  {
   "cell_type": "markdown",
   "metadata": {},
   "source": [
    "Wie man schnell sieht, sind beim Einbinden der Datei in ein $\\LaTeX$-Dokument die Größen der Fonts und auch die Achsen-Ticks passen in ihrer Größe nicht zu der Font-Größe in dem Text-Dokument. Man kann mit dem Skalieren händisch rumprobieren, bis man optisch gute Einstellungen gefunden hat."
   ]
  },
  {
   "cell_type": "markdown",
   "metadata": {},
   "source": [
    "Thomas Erben hat ein Python-Modul erstellt `homegenise_plot` welches die Anpassungen des Plots and ein Text-Dokument automatisiert. Man muss dieses Modul nur einmal vor den Plot-Anweisungen laden und dann wie gewohnt einen Plot erstellen und abspeichern:"
   ]
  },
  {
   "cell_type": "markdown",
   "metadata": {},
   "source": [
    "Eine ausführliche Dokumentation und Diskussion finden Sie unter [https://binderhub.astro.uni-bonn.de/v2/gh/terben/Python-cheat-sheets/master]"
   ]
  },
  {
   "cell_type": "code",
   "execution_count": 67,
   "metadata": {},
   "outputs": [
    {
     "data": {
      "image/png": "[encoded data removed]",
      "text/plain": [
       "<Figure size 201.6x124.596 with 1 Axes>"
      ]
     },
     "metadata": {
      "needs_background": "light"
     },
     "output_type": "display_data"
    }
   ],
   "source": [
    "import homogenise_plot as hp\n",
    "\n",
    "# create a homogenised plot for a columnwidth of 2.8 inch:\n",
    "hp.homogenise_plot(fig_width=2.8)\n",
    "\n",
    "T = results['parameter_values']['T']\n",
    "A0 = results['parameter_values']['A0']\n",
    "\n",
    "# plot the data and the result of the fit:\n",
    "f = np.linspace(2.0, 25.0, 100)\n",
    "s = planck_model(f, A0, T)\n",
    "\n",
    "fig, ax = plt.subplots()\n",
    "\n",
    "ax.errorbar(freq, spectrum, fmt='.', yerr=spectrum_err * 400,\n",
    "             label='FIRAS data with' \"\\n\" r'$400\\sigma$ errorbars')\n",
    "ax.plot(f, s, label=\"2.73 K spectrum\")\n",
    "\n",
    "ax.set_xlabel(r\"frequency [\\si{\\per\\centi\\meter}]\")\n",
    "ax.set_ylabel(r\"Intensity [\\si{\\mega\\jansky\\per\\steradian}]\")\n",
    "\n",
    "ax.legend()\n",
    "\n",
    "\n",
    "# save the figure to a file\n",
    "fig.savefig('datei_homogenised.png')\n",
    "\n",
    "plt.show()   # necessary to flush the image queue\n",
    "\n",
    "# revert changes to the configuration made by homogenize_plot:\n",
    "hp.revert_params()"
   ]
  },
  {
   "cell_type": "markdown",
   "metadata": {},
   "source": [
    "Was passiert in dem Code?\n",
    "\n",
    " * das Modul `homogenise_plot` wird geladen\n",
    " * wir konfigurieren das Modul für eine zwei-spaltige Anordnung, wobei eine Spalte 2.8 inch (Zoll) breit ist\n",
    " * wissenschaftliche Artikel haben eine typische Spaltenbreite von 3.5 inch\n",
    " * physikalische Einheiten in den Labels werden mit dem $\\LaTeX$-Paket `siunix` erstellt\n",
    " * am Ende werden die Original-Einstellungen wieder aktiviert\n",
    " * in Jupyter-Notebooks muss vor dem `hp.revert_params()` ein `plt.show()` aufgerufen werden!"
   ]
  },
  {
   "cell_type": "markdown",
   "metadata": {},
   "source": [
    "## 3. Python-Skripte"
   ]
  },
  {
   "cell_type": "markdown",
   "metadata": {},
   "source": [
    "In vielen Fällen möchte man seine Python-Programme nicht nur innerhalb von Jupyter-Notebooks laufen lassen, sondern man möchte die Codes im Rahmen von Datenanalysen nutzen, wie z.B. bei den Linux-Beispielen im Terminal."
   ]
  },
  {
   "cell_type": "markdown",
   "metadata": {},
   "source": [
    "Fangen wir hier nochmal mit einem bekannten Beispiel an:"
   ]
  },
  {
   "cell_type": "code",
   "execution_count": 68,
   "metadata": {},
   "outputs": [
    {
     "name": "stdout",
     "output_type": "stream",
     "text": [
      "Loading data ...\n",
      "Loading finished!\n",
      "Done.\n"
     ]
    },
    {
     "data": {
      "image/png": "[encoded data removed]",
      "text/plain": [
       "<Figure size 432x288 with 1 Axes>"
      ]
     },
     "metadata": {
      "needs_background": "light"
     },
     "output_type": "display_data"
    }
   ],
   "source": [
    "%matplotlib inline\n",
    "\n",
    "# importing our own python file like a library\n",
    "import corona_data\n",
    "\n",
    "# module to make available data structures and routines\n",
    "# for numerics\n",
    "import numpy as np\n",
    "import matplotlib.pyplot as plt\n",
    "\n",
    "print('Loading data ...')\n",
    "\n",
    "# first read all the data into an own Corona class structure. This\n",
    "# needs to be done only once within this notebook!\n",
    "corona = corona_data.CoronaData()\n",
    "\n",
    "print('Loading finished!')\n",
    "\n",
    "# The countries listed are accessed as a member variable of the Corona class.\n",
    "# We do not need them immediately but it comes in handy for your own tasks\n",
    "# below.\n",
    "countries = corona.countries\n",
    "\n",
    "# now isolate interesting data for a specific country\n",
    "country = 'Germany'\n",
    "\n",
    "# The structure 'corona[country]' contains a triple of numpy-arrays\n",
    "# with days, cases and deaths. We assign them to three variables\n",
    "# with 'simultaneous assignment'.\n",
    "day, cases, deaths = corona[country]\n",
    "\n",
    "# plot the data\n",
    "fix, ax = plt.subplots()\n",
    "ax.plot(day, cases)\n",
    "ax.set_title('Corona cases')\n",
    "ax.set_xlabel('Days after March 1st 2020')\n",
    "ax.set_ylabel('Corona cases per day')\n",
    "\n",
    "fig.savefig('corona_cases.png')\n",
    "\n",
    "print('Done.')"
   ]
  },
  {
   "cell_type": "markdown",
   "metadata": {},
   "source": [
    "Wie Sie sehen, wird mit dem Code aus der obigen Zelle eine Graphik erzeugt. Dieses soll nun übertragen werden in eine Python-Skript!"
   ]
  },
  {
   "cell_type": "markdown",
   "metadata": {},
   "source": [
    "**Wichtig in einem Python-Skript:**\n",
    "\n",
    " * die Endung muss `.py` sein\n",
    " * Aufrufe sind `python3 script.py``\n",
    " * alle `%...` Zeilen führen zu Fehlern in Skripten, diese sind explizite Notebooks-Anweisungen!\n",
    " * bei der Erstellung von matplotlib-Plots, kann man interaktiv Plots erzeugen, dazu muss die\n",
    "   Graphik mit `plt.show()` angezeigt werden!"
   ]
  },
  {
   "cell_type": "markdown",
   "metadata": {},
   "source": [
    "## 4. Guacamole für Studenten"
   ]
  },
  {
   "cell_type": "markdown",
   "metadata": {},
   "source": [
    "<img src=\"figs/Apache_Guacamole_logo.png\" style=\"width: 20%\" />"
   ]
  },
  {
   "cell_type": "markdown",
   "metadata": {},
   "source": [
    "Nein, wir machen kein Essen für Studenten oder eine Studentenparty!"
   ]
  },
  {
   "cell_type": "markdown",
   "metadata": {},
   "source": [
    "Guacamole ist ein Programm, mit den man im Web-Browser auf einen Linux-Rechner in dem Astro-CipPool zugreifen kann. Man kann so arbeiten, als wäre man vor Ort. Alle Programme, auch mit grafischen Output, sind verfügbar!\n",
    "\n",
    "Der Weblink ist https://guacamole-students.astro.uni-bonn.de . Einloggen ist mit UniID und zugehörigem Passwort möglich. "
   ]
  },
  {
   "cell_type": "markdown",
   "metadata": {},
   "source": [
    "**Anmerkungen:**\n",
    " * am Besten funktioniert ein Firefox-Browser (Tastenprobleme bei anderen Browsern)\n",
    " * es werden Tasten von Linux genutzt, d.h. von MacOS unterschiedliche Tasten\n",
    " * wenn man das Browser-Fenster schliesst, wird man automatisch ausgeloggt, Daten können verloren gehen, ein *Wiederaufnehemen* der Verbindung ist nicht möglich\n",
    " "
   ]
  },
  {
   "cell_type": "code",
   "execution_count": null,
   "metadata": {},
   "outputs": [],
   "source": []
  }
 ],
 "metadata": {
  "kernelspec": {
   "display_name": "Python 3",
   "language": "python",
   "name": "python3"
  },
  "language_info": {
   "codemirror_mode": {
    "name": "ipython",
    "version": 3
   },
   "file_extension": ".py",
   "mimetype": "text/x-python",
   "name": "python",
   "nbconvert_exporter": "python",
   "pygments_lexer": "ipython3",
   "version": "3.8.3"
  }
 },
 "nbformat": 4,
 "nbformat_minor": 4
}
