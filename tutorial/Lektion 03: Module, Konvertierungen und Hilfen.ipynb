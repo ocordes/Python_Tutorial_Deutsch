{
 "cells": [
  {
   "cell_type": "markdown",
   "id": "468a6016-e94b-403b-b2b4-a5867cbd1717",
   "metadata": {},
   "source": [
    "# Lektion 3: Module, Konvertierungen und Hilfen"
   ]
  },
  {
   "cell_type": "markdown",
   "id": "7c407642-bd38-4825-adce-6c068d033ced",
   "metadata": {},
   "source": [
    "----\n",
    "\n",
    "Ziel dieser Lektion:\n",
    "\n",
    " * Module in Python\n",
    " * Hilfen für Python\n",
    "\n",
    "----"
   ]
  },
  {
   "cell_type": "markdown",
   "id": "bd3dd61b-701a-41da-b528-46e5687d5dff",
   "metadata": {},
   "source": [
    "## 1. Module"
   ]
  },
  {
   "cell_type": "markdown",
   "id": "c1f81220-1ebf-4519-9f7a-1b45d5173a13",
   "metadata": {},
   "source": [
    "Wie Sie bei der Einführung der Zahlen in Python gesehen haben, sind direkt in Python nur die einfachen arithmetischen Operationen definiert. Schnell kommt man dabei an die Grenzen, weil man doch gerne auch z.B. trigonometrische Funktionen oder auch eine Wurzelfunktion nutzen will. Aus diesem Grunde wurden mathematische Bibliotheken geschrieben, die genau diese Funktionen übernehmen. \n",
    "\n",
    "Bibliotheken oder auch Module genannt werden generell mit der Anweisung `import <modulname>` in Python erledigt. In dem folgenden Beispiel wird das mathematische `numpy`-Modul eingebunden. Module stellen neue Funktionen, aber auch Variablen zur Verfügung:\n"
   ]
  },
  {
   "cell_type": "code",
   "execution_count": null,
   "id": "3f91a674-d668-4947-b656-61e27236c504",
   "metadata": {},
   "outputs": [],
   "source": [
    "import numpy   # die Bibliothek/Modul numpy\n",
    "\n",
    "x = numpy.sin(45*numpy.pi/180)   # eine Funktion des Moduls\n",
    "\n",
    "print(x)"
   ]
  },
  {
   "cell_type": "markdown",
   "id": "121f21d9-9866-4401-8246-92f09277fa3e",
   "metadata": {},
   "source": [
    "Bibliotheken oder Module lassen sich auch mit einem alias-Namen versehen:"
   ]
  },
  {
   "cell_type": "code",
   "execution_count": null,
   "id": "d928183c-213b-4f85-a323-56ea544e1f65",
   "metadata": {},
   "outputs": [],
   "source": [
    "import numpy as np   # die Bibliothek ist nun unter np bekannt!\n",
    "\n",
    "x = np.sin(45*np.pi/180)\n",
    "print(x)\n",
    "\n",
    "# or\n",
    "sq = np.sqrt(2.)    # Wurzel 2!\n",
    "print(sq)"
   ]
  },
  {
   "cell_type": "markdown",
   "id": "4935c4d2-867e-4ca8-b050-81578b790d85",
   "metadata": {},
   "source": [
    "Funktionen und Variablen eines Moduls werden immer mit dem Modulnamen und `.`-Funktion benutzt:\n",
    "\n",
    " * `np.pi` ist eine Variable\n",
    " * `np.sin(...)` ist eine Funktion"
   ]
  },
  {
   "cell_type": "markdown",
   "id": "ad74c51e-6967-4e56-9211-88f7f7af5246",
   "metadata": {},
   "source": [
    "Wichtig bei der Nutzung von Bibliotheken/Modulen:\n",
    "\n",
    " * sie werden mit `import <name>` eingebunden\n",
    " * stehen meistens am Kopf von Scripten\n",
    " * man kann alias-Namen verwenden `import <name> as <aliasname>`\n",
    " * in Notebooks können diese einmal eingebunden in nachfolgenen Zellen verwendet werden\n",
    " \n",
    "----"
   ]
  },
  {
   "cell_type": "markdown",
   "id": "4cceb758-6570-4697-9bb9-e67354e7adcc",
   "metadata": {
    "tags": []
   },
   "source": [
    "## 2. Typ-Konvertierung"
   ]
  },
  {
   "cell_type": "markdown",
   "id": "f26e677b-3966-4e28-97e1-b7255b626abc",
   "metadata": {},
   "source": [
    "Es gibt immer die Notwendigkeit, z.B. Fliesskommazahlen in Ganzzahlen umzuwandeln oder allgemein ein Typ in einen anderen zu überführen:"
   ]
  },
  {
   "cell_type": "code",
   "execution_count": null,
   "id": "a3cb0949-6d33-48e9-902d-baf708e42f6e",
   "metadata": {},
   "outputs": [],
   "source": [
    "a = 10 / 3   # a is a float\n",
    "print(a) \n",
    "b = int(a)   # cut all digits after the .\n",
    "print(b)\n",
    "\n",
    "a = -10 / 4\n",
    "b = int(a)\n",
    "print(b)     # works also for negative numbers"
   ]
  },
  {
   "cell_type": "code",
   "execution_count": null,
   "id": "5e635955-5a9e-4071-b52a-8cb48c49cb2b",
   "metadata": {},
   "outputs": [],
   "source": [
    "# int to float\n",
    "print(float(10))  \n",
    "\n",
    "# bool to int\n",
    "print(int(True))\n",
    "print(int(False))\n",
    "\n",
    "# possible\n",
    "print(int('1'))       # a string which is a number!\n",
    "# not possible \n",
    "print(int('Hallo'))"
   ]
  },
  {
   "cell_type": "markdown",
   "id": "d4bf414f-327f-4d58-87df-f35fda7c96f4",
   "metadata": {},
   "source": [
    "In der Regel kann man mit dem Typ-Namen in Python einen Wert in einen anderen Typ umwandeln, sofern es eine Umwandelungsmöglichkeit gibt, sonst wird eine Fehlermeldung ausgegeben!\n",
    "\n",
    "----"
   ]
  },
  {
   "cell_type": "markdown",
   "id": "1bdb279f-e11b-4fde-b6dd-9491f828bf75",
   "metadata": {},
   "source": [
    "## 3. Hilfen"
   ]
  },
  {
   "cell_type": "markdown",
   "id": "49eb5a23-159f-4d99-aece-050c6cff8638",
   "metadata": {},
   "source": [
    "Python bietet eine eingebaute Hilfestellung, die man mit der Funktion `help()` aufrufen kann:"
   ]
  },
  {
   "cell_type": "code",
   "execution_count": null,
   "id": "74d55013-2e2f-46a8-a721-806df263b8bf",
   "metadata": {},
   "outputs": [],
   "source": [
    "help(print)"
   ]
  },
  {
   "cell_type": "markdown",
   "id": "ce03ac4d-518f-472c-8dd7-98f245a0bbb5",
   "metadata": {},
   "source": [
    "Alles, was Python über ein abzufragendes Objekt, eine Funktion, eine Variable, ein Modul, ... weiss, wird dann ausgegeben. \n",
    "\n",
    "Für Module ist es manchmal ganz hilfreich, mit `help(modulname)` nachzuschauen, was so alles definiert wird. \n",
    "\n",
    "**Achtung**: in den Notebooks geht mancher `help`-Aufruf schief, wenn die Ausgabe sehr umfangreich ist. Dann hilft es, in einem Terminal, `python3` aufzurufen und dort die Hilfe-Funktion zu nutzen!"
   ]
  },
  {
   "cell_type": "code",
   "execution_count": null,
   "id": "d6d47bd9-9a29-48f0-98e9-d3593de29ad1",
   "metadata": {},
   "outputs": [],
   "source": [
    "import numpy as np\n",
    "\n",
    "help(np)"
   ]
  },
  {
   "cell_type": "markdown",
   "id": "511e13b1-1c97-4904-b896-5da9e25e9a37",
   "metadata": {},
   "source": [
    "----"
   ]
  },
  {
   "cell_type": "code",
   "execution_count": null,
   "id": "a3e1291a-fff7-420b-9418-e152d4d6a672",
   "metadata": {},
   "outputs": [],
   "source": []
  }
 ],
 "metadata": {
  "kernelspec": {
   "display_name": "Python 3 (ipykernel)",
   "language": "python",
   "name": "python3"
  },
  "language_info": {
   "codemirror_mode": {
    "name": "ipython",
    "version": 3
   },
   "file_extension": ".py",
   "mimetype": "text/x-python",
   "name": "python",
   "nbconvert_exporter": "python",
   "pygments_lexer": "ipython3",
   "version": "3.9.13"
  }
 },
 "nbformat": 4,
 "nbformat_minor": 5
}
