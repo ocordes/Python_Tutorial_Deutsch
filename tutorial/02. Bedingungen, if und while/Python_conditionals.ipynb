{
 "cells": [
  {
   "cell_type": "markdown",
   "metadata": {},
   "source": [
    "## Boolesche Ausdrücke"
   ]
  },
  {
   "cell_type": "markdown",
   "metadata": {},
   "source": [
    "Neben den Datentypen der Ganz- und Fließkommazahlen ist ein weiterer Datentyp am Anfang zum Programmieren notwendig, der Type `bool` (Abkürzung für `Boolean`!). Mit diesem Typ lassen sich die sog. Zustände, `Richtig` und `Falsch` (im englischen `True` und `False`) abbilden. Wir werden in dem Tutorial die englischen Begriffe verwenden, die auch in Python implementiert sind. \n",
    "\n",
    "Ein Ergebnis vom Typ `Boolean` wird immer erzeugt, wenn man in Python ein Vergleich ausführt. In der folgenden Anweisungen wird geprüft, ob eine Ganzzahl-Variable jeweils den Wert 1 hat (`==` ist der Gleichheitsoperator):"
   ]
  },
  {
   "cell_type": "code",
   "execution_count": 1,
   "metadata": {},
   "outputs": [
    {
     "name": "stdout",
     "output_type": "stream",
     "text": [
      "True\n",
      "False\n"
     ]
    }
   ],
   "source": [
    "i = 1\n",
    "j = 2\n",
    "\n",
    "print(i == 1)\n",
    "print(j == 1)"
   ]
  },
  {
   "cell_type": "markdown",
   "metadata": {},
   "source": [
    "Wie sie sehen, hat `i` den Wert 1, während `j` den Wert 2, also nicht 1, hat. Damit ist der Vergleich (`i==1`) richtig, während (`j==1`) falsch ist.\n",
    "Verwechseln Sie den Gleichheitsoperator `==` **nicht** mit der Variablenzuweisung `=`:"
   ]
  },
  {
   "cell_type": "code",
   "execution_count": 2,
   "metadata": {},
   "outputs": [
    {
     "name": "stdout",
     "output_type": "stream",
     "text": [
      "True\n"
     ]
    }
   ],
   "source": [
    "i = 1           # Variablenzuweisung\n",
    "print(i == 1)   # Gleichheitsoperator"
   ]
  },
  {
   "cell_type": "markdown",
   "metadata": {},
   "source": [
    "Es gibt noch weitere Operatoren für die Vergleiche:"
   ]
  },
  {
   "cell_type": "code",
   "execution_count": null,
   "metadata": {},
   "outputs": [],
   "source": [
    "i = 1\n",
    "print(i > 1)  # größer als\n",
    "print(i >= 1) # größer als oder gleich \n",
    "print(i < 1)  # kleiner als\n",
    "print(i <= 1) # kleiner als oder gleich\n",
    "print(i != 1) # ungleich"
   ]
  },
  {
   "cell_type": "markdown",
   "metadata": {},
   "source": [
    "Der Gleichheitsoperator funktioniert bei Ganzzahlen ohne Probleme. Bei Fließkommazahlen jedoch gibt es einige Probleme, die durch die Darstellung von `Fließkommazahlen` (wie in Lektion 3 erwähnt) hervorgerufen werden. Der Gleichheitsoperator gibt nur dann `True` zurück, wenn die zu vergleichende Werte **identisch** sind. Rundungs- oder Darstellungsfehler werden dabei nicht berücksichtigt. \n",
    "\n",
    "Folgendes Beispiel dokumentiert die Problematik:"
   ]
  },
  {
   "cell_type": "code",
   "execution_count": 1,
   "metadata": {},
   "outputs": [
    {
     "name": "stdout",
     "output_type": "stream",
     "text": [
      "True\n",
      "False\n",
      "0.6000000000000001\n"
     ]
    }
   ],
   "source": [
    "i = 0.6\n",
    "print(i == 0.6)   # das klappt\n",
    "\n",
    "# aber:\n",
    "i = 3 * 0.2       # ist nicht exakt 0.6!\n",
    "\n",
    "print(i == 0.6)   # der Vergleich geht schief!\n",
    "print(i)          # zeigt den Fehler!"
   ]
  },
  {
   "cell_type": "markdown",
   "metadata": {},
   "source": [
    "Aus diesem Grunde dürfen Sie nie den Gleichheitsoperator auf Fließkommazahlen anwenden! Abhilfe schafft hier die Funktion `isclose` des `numpy`-Moduls:"
   ]
  },
  {
   "cell_type": "code",
   "execution_count": 14,
   "metadata": {},
   "outputs": [
    {
     "name": "stdout",
     "output_type": "stream",
     "text": [
      "True\n"
     ]
    }
   ],
   "source": [
    "import numpy\n",
    "\n",
    "i = 3 * 0.2\n",
    "print(numpy.isclose(i, 0.6))   # numpy.isclose for the == "
   ]
  },
  {
   "cell_type": "markdown",
   "metadata": {},
   "source": [
    "## Logische Operatoren"
   ]
  },
  {
   "cell_type": "markdown",
   "metadata": {},
   "source": [
    "Ergebnisse vom Typ `bool` lassen sich mit logischen Operatoren wieder zu boolschen Ausdrücken zusammenfassen. Es gibt die Operatoren `and`,  `or` und `not`. Einige Beispiele:"
   ]
  },
  {
   "cell_type": "code",
   "execution_count": null,
   "metadata": {},
   "outputs": [],
   "source": [
    "i = 1\n",
    "j = 2\n",
    "print((i == 1) and (j > 1))\n",
    "print((i == 1) or (j == 1))\n",
    "print(not(i == 2))           "
   ]
  },
  {
   "cell_type": "markdown",
   "metadata": {},
   "source": [
    "Das Ergebnis von `and` ist nur dann `True` wenn beide Operanden `True` sind. Dagegen ist das Ergebnis von `or` `True`, wenn einer oder beide Operanden `True` sind. Der `not`-Operator ergibt `True`, wenn der Operand `False` ist. Sonst sind alle Ergebnisse `False`. \n",
    "\n",
    "Eine Übersicht der Kombinationen sehen Sie im folgenden Beispiel:"
   ]
  },
  {
   "cell_type": "markdown",
   "metadata": {},
   "source": [
    "Die Ergebnisse der Kombinationen für den `and`- und `or`-Operator sehen Sie in folgender Tabelle:\n",
    "\n",
    "| $a$   |  $b$  | $a$ and $b$ | $a$ or $b$ |\n",
    "|-------|-------|-------------|------------|\n",
    "| True  | True  | True        | True       |\n",
    "| True  | False | False       | True       |\n",
    "| False | True  | False       | True       |\n",
    "| False | False | False       | False      |\n",
    "\n",
    "Für den `not`-Operator gilt folgende Tabelle:\n",
    "\n",
    "| $a$   | not $a$ |\n",
    "|-------|---------|\n",
    "| True  | False   |\n",
    "| False | True    |\n"
   ]
  },
  {
   "cell_type": "markdown",
   "metadata": {},
   "source": [
    "Es gibt einige Anwendungen, in denen boolsche Ausdrücke mit logische Ketten aus <code>and</code> und <code>or</code> notwendig sind. Hier gilt die Regel wie bei den Zahlen, dass der Python-Ausdruck von links nach rechts ausgewertet wird. Ein `or`-Operator entspricht einer Strich-Operation und der `and`-Operator einer Punkt-Operation und wird dewegen vor einem `or`-Operator ausgewertet. "
   ]
  },
  {
   "cell_type": "markdown",
   "metadata": {},
   "source": [
    "\n",
    "Für eine einfache und lesbare Implementierung von logischen Ketten gibt es folgende einfache Regeln:\n",
    "<ul>\n",
    "    <li>bei Ketten mit gemischten logischen Operatoren immer 2 Operanden als Gruppe mit Klammern zusammenfassen</li>\n",
    "    <li>Ketten mit den gleichen Operatoren brauchen keine spezielle Klammerung </li>\n",
    "</ul>"
   ]
  },
  {
   "cell_type": "markdown",
   "metadata": {},
   "source": [
    "Hier einige Beispiele für logische Ketten:"
   ]
  },
  {
   "cell_type": "code",
   "execution_count": null,
   "metadata": {},
   "outputs": [],
   "source": [
    "i = True\n",
    "j = True\n",
    "k = True\n",
    "l = False\n",
    "print(i and j and k)          # gleicher logischer Operator\n",
    "print((i and j) or (k and l)) # gemischte Operatoren\n",
    "print(i and (j or k or l))"
   ]
  },
  {
   "cell_type": "markdown",
   "metadata": {},
   "source": [
    "## Die if-Anweisung"
   ]
  },
  {
   "cell_type": "markdown",
   "metadata": {},
   "source": [
    "In Programmen gibt es immer wieder Stellen, an denen Anweisungen ausgeführt werden sollen, wenn eine bestimmte Bedingung erfüllt ist. Unter einer Bedingung wird in fast allen Programmiersprachen ein boolscher Ausdruck verstanden, der nach Auswertung ein `True` oder `False` ergibt. Bei `True` ist dann die Bedingung erfüllt. Python bietet, wie auch andere Programmiersprachen, dazu die `if`-Anweisung. Im Prinzip wird folgende Anweisung umgesetzt, *wenn diese Bedingung erfüllt ist, dann mache dies, sonst das*.\n",
    "\n",
    "Ein einfaches Beispiel:"
   ]
  },
  {
   "cell_type": "code",
   "execution_count": null,
   "metadata": {},
   "outputs": [],
   "source": [
    "age = 46 # in Jahren\n",
    "\n",
    "if age >= 18:\n",
    "    print('Sie sind volljährig!')"
   ]
  },
  {
   "cell_type": "markdown",
   "metadata": {},
   "source": [
    "Hier wird das Alter in einer Variablen gespeichert. Die Bedingung in der `if`-Anweisung ist `age >= 18`. Ist diese Bedingung erfüllt, so wird der String `Sie sind volljährig!` ausgeführt. "
   ]
  },
  {
   "cell_type": "markdown",
   "metadata": {},
   "source": [
    "Denken Sie bei dieser Art von Anweisungen, dass nach der Bedingung ein Doppelpunkt `:` folgen muss. Die Bedingung selber muss nicht geklammert werden (in der Sprache C ist dieses z.B. zwingend notwendig!). Die Anweisungen, die bei der Erfüllung ausgeführt werden sollen, müssen als Block eingerückt werden. Achten Sie penibel auf die gleiche Einrückung, sonst wird Python Ihnen dieses mit einer Fehlermeldung quittieren."
   ]
  },
  {
   "cell_type": "markdown",
   "metadata": {},
   "source": [
    "Wid die Bedingung bei der `if`-Anweisung nicht erfüllt, kann man optional auch einen Befehlsblock definieren, der dann ausgeführt wird. Python kennt dafür die Anweisung `else`, die unter der `if`-Anweisung eingerückt werden muss. Hinter `else` muss wieder zwingend ein Doppelpunkt `:` geschrieben werden und der Anweisungsblock muss selbstverständlich wieder eingerückt sein:"
   ]
  },
  {
   "cell_type": "code",
   "execution_count": null,
   "metadata": {},
   "outputs": [],
   "source": [
    "age = 46 # in Jahren\n",
    "\n",
    "if age >= 18:\n",
    "    print('Sie sind volljährig!')\n",
    "else:\n",
    "    print('Sie sind minderjährig!')"
   ]
  },
  {
   "cell_type": "markdown",
   "metadata": {},
   "source": [
    "Der Programmfluss und die Struktur eines if-Befehls ist in folgender Figur anhand des aktuellen Beispiels veranschaulicht.\n",
    "\n",
    "\n",
    "<img src=\"figures/04_if_else_combined.png\" style=\"width: 800px;\">"
   ]
  },
  {
   "cell_type": "markdown",
   "metadata": {},
   "source": [
    "In Python ist es erlaubt, innerhalb von `if`-Anweisungen weitere `if`-Anweisungen zu verschachteln. So kann man das deutsche Wahlrecht wie folgt abbilden:"
   ]
  },
  {
   "cell_type": "code",
   "execution_count": 1,
   "metadata": {},
   "outputs": [
    {
     "name": "stdout",
     "output_type": "stream",
     "text": [
      "Sie dürfen wählen und sich selber zur Wahl stellen\n"
     ]
    }
   ],
   "source": [
    "age = 22 # in Jahren\n",
    "\n",
    "if age >= 18:\n",
    "    if age >= 21:\n",
    "        print('Sie dürfen wählen und sich selber zur Wahl stellen')\n",
    "    else:\n",
    "        print('Sie dürfen wählen!')\n",
    "else:\n",
    "    print('Sie dürfen an der Wahl nicht teilnehmen!')"
   ]
  },
  {
   "cell_type": "markdown",
   "metadata": {},
   "source": [
    "In diesem Beispiel wird erst abgefragt, ob man das Alter von 18 erreicht hat. Nur in diesem Fall wird mit einem zweiten Befehl abgefragt, ob man schon 21 ist. Wenn diese Bedingung erfüllt ist, wird der Text `Sie dürfen wählen und sich selber zur Wahl stellen` ausgegeben. "
   ]
  },
  {
   "cell_type": "markdown",
   "metadata": {},
   "source": [
    "Wichtig für das Verständnis von `if`-Abfragen ist, dass die beiden Blöcke, die bei erfüllter und bei nicht erfüllter Bedingung separat ausgeführt werden, auch wenn diese Blöcke untereinander in dem Programm geschrieben sind. Der `else`-Block wird in dem Fall, dass die `if`-Bedingung erfüllt ist, komplett **übersprungen**, egal was für Anweisungen in dem `else`-Block stehen. Hier noch ein anschauliches Beispiel:"
   ]
  },
  {
   "cell_type": "code",
   "execution_count": 2,
   "metadata": {},
   "outputs": [
    {
     "name": "stdout",
     "output_type": "stream",
     "text": [
      "Sie sind volljährig\n"
     ]
    }
   ],
   "source": [
    "age = 22\n",
    "\n",
    "if age >= 18:\n",
    "    print('Sie sind volljährig!')\n",
    "    age = 15\n",
    "else:\n",
    "    if age < 18:\n",
    "        print('Sie sind nicht volljährig!')\n"
   ]
  },
  {
   "cell_type": "markdown",
   "metadata": {},
   "source": [
    "In diesem Fall ist die Bedingung der `if`-Abfrage erfüllt und der Text `Sie sind volljährig!` ausgegeben und der `else`-Block wird übersprungen. Durch die Anweisung `age = 15` denken viele Studenten am Anfang, dass nun die Bedinung für den `else`-Block *doch noch* erfüllt wird und dann abgearbeitet wird. Das ist nicht der Fall! Es wird nur *einmal* bei der Auswertung der `if`-Bedingung geprüft, welcher Block ausgeführt wird!"
   ]
  }
 ],
 "metadata": {
  "kernelspec": {
   "display_name": "Python 3",
   "language": "python",
   "name": "python3"
  },
  "language_info": {
   "codemirror_mode": {
    "name": "ipython",
    "version": 3
   },
   "file_extension": ".py",
   "mimetype": "text/x-python",
   "name": "python",
   "nbconvert_exporter": "python",
   "pygments_lexer": "ipython3",
   "version": "3.8.3"
  },
  "latex_envs": {
   "LaTeX_envs_menu_present": true,
   "autoclose": false,
   "autocomplete": true,
   "bibliofile": "biblio.bib",
   "cite_by": "apalike",
   "current_citInitial": 1,
   "eqLabelWithNumbers": true,
   "eqNumInitial": 1,
   "hotkeys": {
    "equation": "Ctrl-E",
    "itemize": "Ctrl-I"
   },
   "labels_anchors": false,
   "latex_user_defs": false,
   "report_style_numbering": false,
   "user_envs_cfg": false
  },
  "toc": {
   "base_numbering": 1,
   "nav_menu": {},
   "number_sections": true,
   "sideBar": true,
   "skip_h1_title": false,
   "title_cell": "Boolesche Ausdrücke, if und while",
   "title_sidebar": "Boolesche Ausdrücke, if  und while",
   "toc_cell": true,
   "toc_position": {},
   "toc_section_display": true,
   "toc_window_display": true
  }
 },
 "nbformat": 4,
 "nbformat_minor": 4
}
