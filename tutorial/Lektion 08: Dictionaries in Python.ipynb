{
 "cells": [
  {
   "cell_type": "markdown",
   "id": "51269edc-28ca-4f35-aef0-3a0575e84380",
   "metadata": {},
   "source": [
    "# Lektion 08: Dictionaries in Python"
   ]
  },
  {
   "cell_type": "markdown",
   "id": "fb5c4b93-bc90-4fe1-8969-ce4e45bae936",
   "metadata": {},
   "source": [
    "----\n",
    "\n",
    "Ziel der Lektion:\n",
    "\n",
    " * Dictionaries\n",
    " * [Nachschlagen (Indizierung)](#index)\n",
    " * [Funktionen und Keys](#func)\n",
    " * [Elemente hinzufügen und verändern](#addel)\n",
    " * [`get`-Funktion](#get)\n",
    " \n",
    "----"
   ]
  },
  {
   "cell_type": "markdown",
   "id": "a8c45d98-9411-485f-8ab2-968c0c5f4aa7",
   "metadata": {},
   "source": [
    "## 1. Dictionaries"
   ]
  },
  {
   "cell_type": "markdown",
   "id": "77d83a43-d3b1-4675-907c-d488b24e58e4",
   "metadata": {},
   "source": [
    "Ein weiterer Container-Datentyp, den es in Python gibt, sind die `Dictionaries`.  Der Name dieses Types kann man wörtlich nehmen, in diesen Container kann man nach speziellen Einträgen fragen. \n",
    "\n",
    "Hier einmal ein Beispiel, wie `Dictionaries` erzeugt werden:"
   ]
  },
  {
   "cell_type": "code",
   "execution_count": 3,
   "id": "cfd17bf4-d7b8-413a-9edb-2b18aa88ce83",
   "metadata": {},
   "outputs": [
    {
     "name": "stdout",
     "output_type": "stream",
     "text": [
      "{}\n",
      "{1: 0.0}\n",
      "{1: 0.0, 'Vorname': 'Oliver', 'Nachname': 'Cordes'}\n"
     ]
    }
   ],
   "source": [
    "a = {}                                                  # leeres Dictionary\n",
    "b = {1: 0.}                                             # ein einelementiges Dictionary\n",
    "d = {1: 0., 'Vorname': 'Oliver', 'Nachname': 'Cordes' } # verschiedene Einträge\n",
    "print(a)\n",
    "print(b)\n",
    "print(d)"
   ]
  },
  {
   "cell_type": "markdown",
   "id": "b0273171-29bd-452b-8700-d9ea3eed460c",
   "metadata": {},
   "source": [
    "`{` und `}` werden zum Erstellen gebraucht. Sie sehen, dass in dem Container `d` es drei Einträge gibt (durch Komma getrennt). Jeder Eintrag hat einen sogenannten `key`, der z.B. eine Zahl oder ein String sein kann. Hinter dem `:` werden die zugehörigen Informationen gespeichert. Sie können dort jeden in Python bekannten Typ verwenden! "
   ]
  },
  {
   "cell_type": "markdown",
   "id": "14dd6da7-b591-447c-85e5-ee33856cb357",
   "metadata": {},
   "source": [
    "### <a id=index></a>1.1 Nachschlagen (Indizierung)\n",
    "\n",
    "Zum Nachschlagen in dem `Dictionary` werden die definierten `keys` als Index genommen, also wie in einen Lexikon:"
   ]
  },
  {
   "cell_type": "code",
   "execution_count": 4,
   "id": "25aa890c-54e6-4154-8590-21838d7fdfbb",
   "metadata": {},
   "outputs": [
    {
     "name": "stdout",
     "output_type": "stream",
     "text": [
      "0.0\n",
      "Oliver Cordes\n"
     ]
    }
   ],
   "source": [
    "print(d[1])\n",
    "print(d['Vorname'], d['Nachname'])"
   ]
  },
  {
   "cell_type": "markdown",
   "id": "89cbf90f-eadc-46b7-a2f1-1fbf601a0000",
   "metadata": {},
   "source": [
    "Greift man auf `keys` zu, die nicht definiert sind, gibt es eine Fehlermeldung:"
   ]
  },
  {
   "cell_type": "code",
   "execution_count": 5,
   "id": "7163a65b-7edf-4c0f-8b11-eaa103db83ff",
   "metadata": {},
   "outputs": [
    {
     "ename": "KeyError",
     "evalue": "'tag'",
     "output_type": "error",
     "traceback": [
      "\u001b[0;31m---------------------------------------------------------------------------\u001b[0m",
      "\u001b[0;31mKeyError\u001b[0m                                  Traceback (most recent call last)",
      "Cell \u001b[0;32mIn [5], line 1\u001b[0m\n\u001b[0;32m----> 1\u001b[0m \u001b[38;5;28mprint\u001b[39m(d[\u001b[38;5;124m'\u001b[39m\u001b[38;5;124mtag\u001b[39m\u001b[38;5;124m'\u001b[39m])\n",
      "\u001b[0;31mKeyError\u001b[0m: 'tag'"
     ]
    }
   ],
   "source": [
    "print(d['tag'])"
   ]
  },
  {
   "cell_type": "markdown",
   "id": "0d12663e-803a-43e3-af6f-fea836437545",
   "metadata": {},
   "source": [
    "### <a id=func></a>1.2 Funktionen und keys\n",
    "\n",
    "Wie alle Container haben auch die `Dictionaries` Funktionen, die direkt an die Variablen angeheftet sind. Man kann sich z.B. alle definierten `keys` ausgeben lassen:"
   ]
  },
  {
   "cell_type": "code",
   "execution_count": 6,
   "id": "9f844d1e-8c86-4adb-b72f-d1859d1dd90c",
   "metadata": {},
   "outputs": [
    {
     "name": "stdout",
     "output_type": "stream",
     "text": [
      "dict_keys([1, 'Vorname', 'Nachname'])\n"
     ]
    }
   ],
   "source": [
    "print(d.keys())"
   ]
  },
  {
   "cell_type": "markdown",
   "id": "6bfb2bdb-6bba-408a-8fbb-1e721dbe5e73",
   "metadata": {},
   "source": [
    "Man kann auch wie Containern üblich, über ein `Dictionary` eine for-Schleife anwenden:"
   ]
  },
  {
   "cell_type": "code",
   "execution_count": 7,
   "id": "eb7b99d4-fcae-4a4b-8033-a391b5aebf5f",
   "metadata": {},
   "outputs": [
    {
     "name": "stdout",
     "output_type": "stream",
     "text": [
      "1 = 0.0\n",
      "Vorname = Oliver\n",
      "Nachname = Cordes\n"
     ]
    }
   ],
   "source": [
    "for key in d:\n",
    "    print(key, '=', d[key])"
   ]
  },
  {
   "cell_type": "markdown",
   "id": "26a74111-70df-4d2a-a4b4-3d518587170b",
   "metadata": {},
   "source": [
    "Die Schleife geht dann über alle definierten `keys`.  Die Sortierung ist dabei nicht ganz festgelegt, d.h. man sollte sich nicht darauf verlassen, dass die Sortierung sich nicht auch nach dem Einfügen ändern kann."
   ]
  },
  {
   "cell_type": "markdown",
   "id": "8efdd947-d4cc-46e9-8443-4375ac2c536c",
   "metadata": {},
   "source": [
    "Es funktioniert auch der `in`-Operator, den Sie von den anderen Container-Typen her kennen:"
   ]
  },
  {
   "cell_type": "code",
   "execution_count": 8,
   "id": "cdad1d47-b7e9-4f9b-99a7-e83752def2dc",
   "metadata": {},
   "outputs": [
    {
     "name": "stdout",
     "output_type": "stream",
     "text": [
      "True\n",
      "False\n"
     ]
    }
   ],
   "source": [
    "print('Vorname' in d)  # ergibt True\n",
    "print('Name' in d)     # ergibt False"
   ]
  },
  {
   "cell_type": "markdown",
   "id": "453aa39d-0c70-4b6a-a7d6-a0ba3dd507d2",
   "metadata": {},
   "source": [
    "Im Prinzip ist es die Abkürzung von `key in d.keys()`!"
   ]
  },
  {
   "cell_type": "markdown",
   "id": "d8eb96d3-edba-427c-b606-2efe39103391",
   "metadata": {},
   "source": [
    "### <a id=addel></a>1.3 Elemente hinzufügen oder verändern\n",
    "\n",
    "Es können neue Elemente hinzugefügt werden, in dem man einfach einen neuen `key` angibt und einen Wert zuweist:"
   ]
  },
  {
   "cell_type": "code",
   "execution_count": 2,
   "id": "4cf07cc1-ba18-41d5-9b0e-67264ef356c1",
   "metadata": {},
   "outputs": [
    {
     "name": "stdout",
     "output_type": "stream",
     "text": [
      "{1: 0.0, 'Vorname': 'Oliver', 'Nachname': 'Cordes', 'Geschlecht': 'männlich'}\n"
     ]
    }
   ],
   "source": [
    "d = {1: 0., 'Vorname': 'Oliver', 'Nachname': 'Cordes' }\n",
    "\n",
    "d['Geschlecht'] = 'männlich'     # hinzufügen eines neuen Eintrages\n",
    "\n",
    "print(d)"
   ]
  },
  {
   "cell_type": "markdown",
   "id": "74ac02a4-8c17-4190-b4f9-c764115c139c",
   "metadata": {},
   "source": [
    "Einzelne Werte lassen sich auch verändern, dazu wird das Element addressiert und dann diesem einen neuen Wert hinzugefügt:"
   ]
  },
  {
   "cell_type": "code",
   "execution_count": 3,
   "id": "44c4210a-529b-408d-a19a-c5a3e1f65cc8",
   "metadata": {},
   "outputs": [
    {
     "name": "stdout",
     "output_type": "stream",
     "text": [
      "{1: 2.0, 'Vorname': 'Oliver', 'Nachname': 'Cordes'}\n"
     ]
    }
   ],
   "source": [
    "d = {1: 0., 'Vorname': 'Oliver', 'Nachname': 'Cordes' }\n",
    "\n",
    "d[1] = 2.0\n",
    "\n",
    "print(d)"
   ]
  },
  {
   "cell_type": "markdown",
   "id": "e4157160-633e-4d16-8d3a-f1ca03d29861",
   "metadata": {},
   "source": [
    "**Vorsicht:** Es gibt Situationen, in denen man mit Werten arbeiten möchte, diese aber noch nicht existieren."
   ]
  },
  {
   "cell_type": "markdown",
   "id": "21e3b364-bb73-459c-80f8-a6120dec8f05",
   "metadata": {},
   "source": [
    "### <a id=get></a> 1.4 `get`-Funktion"
   ]
  },
  {
   "cell_type": "markdown",
   "id": "dd108248-301d-4ad0-a4a9-b00205c36191",
   "metadata": {},
   "source": [
    "Eine Funktion der Dictionaries solle in diesem Zusammenhang noch speziell erwähnt werden, die `get`-Funktion. \n",
    "\n",
    "Wie oben dargestellt, müssen Elemente eines Dictionaries immer mit dem entsprechenden `key` angesprochen werden. Wenn der `key` nicht vorhanden ist, dann bricht der Code mit einer Fehlermeldung ab. In vielen Fällen werden Dictionaries dynamisch zur Laufzeit erstellt. Insofern kann man nicht im immer vorhersagen, ob ein bestimmter `key` auch vorhanden ist, wenn man darauf zugreifen will und damit weiter arbeiten kann. \n",
    "\n",
    "Nehmen wir also ein Beispiel, in dem wir nur ein `key` `1` definieren, aber mit dem `key` `2` arbeiten wollen. Dazu müssten wir erstmal testen, ob der `key` vorhanden ist:"
   ]
  },
  {
   "cell_type": "code",
   "execution_count": 10,
   "id": "693ce0d9-fa5f-4df8-ab55-ba0f998d1f85",
   "metadata": {},
   "outputs": [
    {
     "name": "stdout",
     "output_type": "stream",
     "text": [
      "nicht vorhanden\n",
      "0\n",
      "vorhanden\n",
      "1\n"
     ]
    }
   ],
   "source": [
    "d = {1: 1}\n",
    "\n",
    "key = 2\n",
    "\n",
    "if key in d:\n",
    "    print('vorhanden')\n",
    "    print(d[key])\n",
    "else:\n",
    "    print('nicht vorhanden')\n",
    "    print(0)\n",
    "    \n",
    "key = 1\n",
    "\n",
    "if key in d:\n",
    "    print('vorhanden')\n",
    "    print(d[key])\n",
    "else:\n",
    "    print('nicht vorhanden')\n",
    "    print(0)  "
   ]
  },
  {
   "cell_type": "markdown",
   "id": "57c5198c-8fd3-4961-9049-9d759d9a6d07",
   "metadata": {},
   "source": [
    "In diesem Fall ist der `key=2` nicht vorhanden, es wird `0` ausgegeben, bei `key=1` `1`!"
   ]
  },
  {
   "cell_type": "markdown",
   "id": "d23545e6-e985-449e-9d54-bbbf68723518",
   "metadata": {},
   "source": [
    "Gehen wir davon aus, dass die `print`-Anweisungen nicht notwendig sind, sondern man einfach mit dem Wert `0` weiterarbeiten will, kann man den Code mit der `get`-Funktion kürzer schreiben:"
   ]
  },
  {
   "cell_type": "code",
   "execution_count": 11,
   "id": "7c965366-8ea3-47ee-8e93-1e9c498d3066",
   "metadata": {},
   "outputs": [
    {
     "name": "stdout",
     "output_type": "stream",
     "text": [
      "0\n",
      "1\n"
     ]
    }
   ],
   "source": [
    "d = {1: 1}\n",
    "\n",
    "key = 2\n",
    "print(d.get(key,0))\n",
    "key = 1\n",
    "print(d.get(key,0))"
   ]
  },
  {
   "cell_type": "markdown",
   "id": "8a330558-07f0-498b-884b-76386e29a6fa",
   "metadata": {},
   "source": [
    "Die `get`-Funktion testet einfach, ob der angegebene `key` vorhanden ist und gibt dann das Element zurück, ansonsten das Default-Element!"
   ]
  },
  {
   "cell_type": "markdown",
   "id": "0e65ec44-cb00-4c69-892e-1a04bad5ab96",
   "metadata": {},
   "source": [
    "#### Beispiel:\n",
    "\n",
    "Dazu ein Beispiel. Sie kennen ja die binäre Darstellung von Zahlen, nehmen wir eine beliebige binäre Zahl und wollen die Ziffern 0 und 1 jeweils zählen und dazu ein Dictionary `d` nutzen. (Das Beispiel ist trivial und man kann andere Strukturen nehmen, die vorteilhafter sind, aber es ist ein gutes Demonstrationsobjekt!). `d` ist am Anfang leer und wir wollen für jede Ziffer die jeweilige Anzahl erhöhen:"
   ]
  },
  {
   "cell_type": "code",
   "execution_count": 4,
   "id": "968b0dcf-0fa3-4597-8318-596f9c1c5566",
   "metadata": {},
   "outputs": [
    {
     "name": "stdout",
     "output_type": "stream",
     "text": [
      "{'0': 9, '1': 7}\n"
     ]
    }
   ],
   "source": [
    "d = { '0': 0, '1' : 0 }\n",
    "\n",
    "\n",
    "bin = '001010101010001'\n",
    "\n",
    "for c in bin:\n",
    "    d[c] = d[c] + 1\n",
    "    \n",
    "print(d)"
   ]
  },
  {
   "cell_type": "markdown",
   "id": "702e4662-07ac-4b43-9598-b3f032552778",
   "metadata": {},
   "source": [
    "Wie Sie erkennen, müssen Sie das Dictionary erstmal *einrichten* und dann können Sie für jedes Zeichen den jeweiligen Wert um 1 erhöhen. Das ist OK, aber es gibt einen kleinen Trick, mit dem Sie das Dictionary dynamisch erhöhen."
   ]
  },
  {
   "cell_type": "code",
   "execution_count": 12,
   "id": "e6ffe065-dafb-4686-8062-56109a94c818",
   "metadata": {},
   "outputs": [
    {
     "name": "stdout",
     "output_type": "stream",
     "text": [
      "{'0': 15}\n"
     ]
    }
   ],
   "source": [
    "d = {}\n",
    "\n",
    "\n",
    "bin = '001010101010001'\n",
    "bin = '000000000000000'\n",
    "\n",
    "for c in bin:\n",
    "    d[c] = d.get(c, 0) + 1\n",
    "    \n",
    "print(d)"
   ]
  },
  {
   "cell_type": "markdown",
   "id": "ba9fe435-ad3c-428c-a3b0-c75d7aab6e06",
   "metadata": {},
   "source": [
    "In der Zuweisung innerhalb der Schleife wird der Wert des Eintrages `c` abgefragt und die 0 wird dann zurückgegeben, wenn der Eintrag nicht vorhanden ist. Somit können Sie mit einem leeren Dictionary anfangen und dann befüllen!"
   ]
  },
  {
   "cell_type": "markdown",
   "id": "646a826b-26df-4c2a-96fd-10fda7e6e562",
   "metadata": {},
   "source": [
    "Eine statitische Auswertung sollte dann auch so aussehen:"
   ]
  },
  {
   "cell_type": "code",
   "execution_count": 13,
   "id": "548bc2de-8890-4113-9e2e-6ad10d263a77",
   "metadata": {},
   "outputs": [
    {
     "name": "stdout",
     "output_type": "stream",
     "text": [
      "15x die Ziffer 0\n"
     ]
    },
    {
     "ename": "KeyError",
     "evalue": "'1'",
     "output_type": "error",
     "traceback": [
      "\u001b[0;31m---------------------------------------------------------------------------\u001b[0m",
      "\u001b[0;31mKeyError\u001b[0m                                  Traceback (most recent call last)",
      "Cell \u001b[0;32mIn [13], line 2\u001b[0m\n\u001b[1;32m      1\u001b[0m \u001b[38;5;28mprint\u001b[39m(\u001b[38;5;28mstr\u001b[39m(d[\u001b[38;5;124m'\u001b[39m\u001b[38;5;124m0\u001b[39m\u001b[38;5;124m'\u001b[39m])\u001b[38;5;241m+\u001b[39m\u001b[38;5;124m'\u001b[39m\u001b[38;5;124mx die Ziffer 0\u001b[39m\u001b[38;5;124m'\u001b[39m)\n\u001b[0;32m----> 2\u001b[0m \u001b[38;5;28mprint\u001b[39m(\u001b[38;5;28mstr\u001b[39m(d[\u001b[38;5;124m'\u001b[39m\u001b[38;5;124m1\u001b[39m\u001b[38;5;124m'\u001b[39m])\u001b[38;5;241m+\u001b[39m\u001b[38;5;124m'\u001b[39m\u001b[38;5;124mx die Ziffer 1\u001b[39m\u001b[38;5;124m'\u001b[39m)\n",
      "\u001b[0;31mKeyError\u001b[0m: '1'"
     ]
    }
   ],
   "source": [
    "print(str(d['0'])+'x die Ziffer 0')\n",
    "print(str(d['1'])+'x die Ziffer 1')"
   ]
  },
  {
   "cell_type": "markdown",
   "id": "0acc2b85-7715-454a-98f3-9737f6ee9ab5",
   "metadata": {},
   "source": [
    "oder besser:"
   ]
  },
  {
   "cell_type": "code",
   "execution_count": 14,
   "id": "1181b323-8ba9-4a9b-bbb0-cafed7eac2d2",
   "metadata": {},
   "outputs": [
    {
     "name": "stdout",
     "output_type": "stream",
     "text": [
      "15x die Ziffer 0\n",
      "0x die Ziffer 1\n"
     ]
    }
   ],
   "source": [
    "print(str(d.get('0',0))+'x die Ziffer 0')\n",
    "print(str(d.get('1',0))+'x die Ziffer 1')"
   ]
  },
  {
   "cell_type": "markdown",
   "id": "77a1d87f-803c-4d8f-9937-12e4850714d7",
   "metadata": {},
   "source": [
    "### Weitere Eigenschaften"
   ]
  },
  {
   "cell_type": "markdown",
   "id": "cd57647b-a1ed-4b22-b791-066349363147",
   "metadata": {},
   "source": [
    "Viele der Eigenschaften kennen Sie bereits von den `numpy`-Arrays, hier gibt es verständlicherweise kein `Slicing`, da die Einträge nicht direkt durchnummeriert sind. "
   ]
  },
  {
   "cell_type": "markdown",
   "id": "123d51ab-1de2-4bba-afb6-81c5d908778d",
   "metadata": {},
   "source": [
    "----"
   ]
  }
 ],
 "metadata": {
  "kernelspec": {
   "display_name": "Python 3 (ipykernel)",
   "language": "python",
   "name": "python3"
  },
  "language_info": {
   "codemirror_mode": {
    "name": "ipython",
    "version": 3
   },
   "file_extension": ".py",
   "mimetype": "text/x-python",
   "name": "python",
   "nbconvert_exporter": "python",
   "pygments_lexer": "ipython3",
   "version": "3.9.13"
  }
 },
 "nbformat": 4,
 "nbformat_minor": 5
}
