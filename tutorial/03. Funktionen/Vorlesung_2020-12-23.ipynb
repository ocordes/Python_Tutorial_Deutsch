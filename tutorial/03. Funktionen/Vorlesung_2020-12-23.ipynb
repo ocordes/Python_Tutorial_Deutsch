{
 "cells": [
  {
   "cell_type": "markdown",
   "metadata": {},
   "source": [
    "<img src=\"figs/father-christmas-2021006_1280.png\" style=\"width: 200px; float: left;\" />"
   ]
  },
  {
   "cell_type": "markdown",
   "metadata": {},
   "source": [
    "# Vorlesung Python 2 - 23.12.2020"
   ]
  },
  {
   "cell_type": "markdown",
   "metadata": {},
   "source": [
    "## 1. Multiple Zuweisungen"
   ]
  },
  {
   "cell_type": "markdown",
   "metadata": {},
   "source": [
    "In der ersten Vorlesung haben Sie die einfachen Zuweisungen kennengelernt. Es gibt allerdings noch ein paar Besonderheiten, die Sie mit Python machen können:"
   ]
  },
  {
   "cell_type": "markdown",
   "metadata": {},
   "source": [
    "Das zuweisen von Variablen mit dem gleichen Wert zur gleichen Zeit:"
   ]
  },
  {
   "cell_type": "code",
   "execution_count": 25,
   "metadata": {},
   "outputs": [
    {
     "name": "stdout",
     "output_type": "stream",
     "text": [
      "1234\n",
      "1234\n",
      "1234\n"
     ]
    }
   ],
   "source": [
    "a = b = c = 1234\n",
    "\n",
    "print(a)\n",
    "print(b)\n",
    "print(c)"
   ]
  },
  {
   "cell_type": "markdown",
   "metadata": {},
   "source": [
    "Das parallele Zuweisen von mehreren Variablen mit verschiedenen Werten:"
   ]
  },
  {
   "cell_type": "code",
   "execution_count": 26,
   "metadata": {},
   "outputs": [
    {
     "name": "stdout",
     "output_type": "stream",
     "text": [
      "1 2\n"
     ]
    }
   ],
   "source": [
    "a = 1\n",
    "b = 2\n",
    "\n",
    "\n",
    "a,b = 1,2    # hier müssen auf der linken Seite und der rechten Seite die gleiche Anzahl von Variablen stehen\n",
    "\n",
    "print(a,b)"
   ]
  },
  {
   "cell_type": "markdown",
   "metadata": {},
   "source": [
    "Wichtig zu merken ist, dass erst die rechte Seite **komplett** ausgewertet wird und dann die Variablen auf der linke Seite gesetzt werden:"
   ]
  },
  {
   "cell_type": "code",
   "execution_count": 27,
   "metadata": {},
   "outputs": [
    {
     "name": "stdout",
     "output_type": "stream",
     "text": [
      "3 -1\n"
     ]
    }
   ],
   "source": [
    "a = 1\n",
    "b = 2\n",
    "a,b = a+b,a-b\n",
    "\n",
    "print(a,b)"
   ]
  },
  {
   "cell_type": "markdown",
   "metadata": {},
   "source": [
    "## 2. Module"
   ]
  },
  {
   "cell_type": "markdown",
   "metadata": {},
   "source": [
    "Beispiel aus dem Tutorial:"
   ]
  },
  {
   "cell_type": "code",
   "execution_count": 28,
   "metadata": {},
   "outputs": [
    {
     "name": "stdout",
     "output_type": "stream",
     "text": [
      "0.7071067811865475\n"
     ]
    }
   ],
   "source": [
    "import numpy   # die Bibliothek/Modul numpy\n",
    "\n",
    "x = numpy.sin(45*numpy.pi/180)   # eine Funktion des Moduls\n",
    "\n",
    "print(x)"
   ]
  },
  {
   "cell_type": "markdown",
   "metadata": {},
   "source": [
    "Bibliotheken oder Module lassen sich auch mit einem alias-Namen versehen:"
   ]
  },
  {
   "cell_type": "code",
   "execution_count": 29,
   "metadata": {},
   "outputs": [
    {
     "name": "stdout",
     "output_type": "stream",
     "text": [
      "0.7071067811865475\n",
      "1.4142135623730951\n"
     ]
    }
   ],
   "source": [
    "import numpy as np   # die Bibliothek ist nun unter np bekannt!\n",
    "\n",
    "x = np.sin(45*np.pi/180)\n",
    "print(x)\n",
    "\n",
    "# or\n",
    "sq = np.sqrt(2.)    # Wurzel 2!\n",
    "print(sq)"
   ]
  },
  {
   "cell_type": "markdown",
   "metadata": {},
   "source": [
    "Funktionen und Variablen eines Moduls werden immer mit dem Modulnamen und `.`-Funktion benutzt:\n",
    "\n",
    " * `np.pi` ist eine Variable\n",
    " * `np.sin(...)` ist eine Funktion"
   ]
  },
  {
   "cell_type": "markdown",
   "metadata": {},
   "source": [
    "Wichtig bei der Nutzung von Bibliotheken/Modulen:\n",
    "\n",
    " * sie werden mit `import <name>` eingebunden\n",
    " * man kann alias-Namen verwenden `import <name> as <aliasname>`\n",
    " * in Notebooks können diese einmal eingebunden in nachfolgenen Zellen verwendet werden"
   ]
  },
  {
   "cell_type": "markdown",
   "metadata": {},
   "source": [
    "## 3. Typ-Konvertierung"
   ]
  },
  {
   "cell_type": "markdown",
   "metadata": {},
   "source": [
    "Es gibt immer die Notwendigkeit, z.B. Fliesskommazahlen in Ganzzahlen umzuwandeln oder allgemein ein Typ in einen anderen zu überführen:"
   ]
  },
  {
   "cell_type": "code",
   "execution_count": 48,
   "metadata": {},
   "outputs": [
    {
     "name": "stdout",
     "output_type": "stream",
     "text": [
      "3.3333333333333335\n",
      "3\n",
      "-3\n"
     ]
    }
   ],
   "source": [
    "a = 10 / 3   # a ist eine Fliesskommazahl\n",
    "print(a) \n",
    "b = int(a)   # bei a werden die Nachkommastellen abgeschnitten und in b gespeichert\n",
    "print(b)\n",
    "\n",
    "a = -10 / 3\n",
    "b = int(a)\n",
    "print(b)     # geht auch für negative Zahlen"
   ]
  },
  {
   "cell_type": "code",
   "execution_count": 31,
   "metadata": {},
   "outputs": [
    {
     "name": "stdout",
     "output_type": "stream",
     "text": [
      "10.0\n",
      "1\n",
      "0\n"
     ]
    },
    {
     "ename": "ValueError",
     "evalue": "invalid literal for int() with base 10: 'Hallo'",
     "output_type": "error",
     "traceback": [
      "\u001b[0;31m---------------------------------------------------------------------------\u001b[0m",
      "\u001b[0;31mValueError\u001b[0m                                Traceback (most recent call last)",
      "\u001b[0;32m<ipython-input-31-c6de26042777>\u001b[0m in \u001b[0;36m<module>\u001b[0;34m\u001b[0m\n\u001b[1;32m      7\u001b[0m \u001b[0;34m\u001b[0m\u001b[0m\n\u001b[1;32m      8\u001b[0m \u001b[0;31m# geht z.B. nicht\u001b[0m\u001b[0;34m\u001b[0m\u001b[0;34m\u001b[0m\u001b[0;34m\u001b[0m\u001b[0m\n\u001b[0;32m----> 9\u001b[0;31m \u001b[0mprint\u001b[0m\u001b[0;34m(\u001b[0m\u001b[0mint\u001b[0m\u001b[0;34m(\u001b[0m\u001b[0;34m'Hallo'\u001b[0m\u001b[0;34m)\u001b[0m\u001b[0;34m)\u001b[0m\u001b[0;34m\u001b[0m\u001b[0;34m\u001b[0m\u001b[0m\n\u001b[0m",
      "\u001b[0;31mValueError\u001b[0m: invalid literal for int() with base 10: 'Hallo'"
     ]
    }
   ],
   "source": [
    "# Ganzzahl in Fliesskommazahl\n",
    "print(float(10))  # geht natürlich auch\n",
    "\n",
    "# Bool in Ganzzahl\n",
    "print(int(True))\n",
    "print(int(False))\n",
    "\n",
    "# geht z.B. nicht\n",
    "print(int('Hallo'))"
   ]
  },
  {
   "cell_type": "markdown",
   "metadata": {},
   "source": [
    "In der Regel kann man mit dem Typ-Namen in Python einen Wert in einen anderen Typ umwandeln, sofern es eine Umwandelungsmöglichkeit gibt, sonst wird eine Fehlermeldung ausgegeben!"
   ]
  },
  {
   "cell_type": "markdown",
   "metadata": {},
   "source": [
    "## 4. Funktionen"
   ]
  },
  {
   "cell_type": "markdown",
   "metadata": {},
   "source": [
    "**Motivation von Funktionen:**\n",
    "\n",
    "Anstelle den gleichen Code immer wieder und wieder in den Quelltext zu schreiben, kann man den Code in eine Funktion *auslagern*.\n",
    "\n",
    "**Vorteile:**\n",
    " * einmal den Code schreiben\n",
    " * leichter zu modifizieren\n",
    " * leichter zu testen und Fehler zu finden\n",
    " * man kann den Code besser mit anderen teilen"
   ]
  },
  {
   "cell_type": "markdown",
   "metadata": {},
   "source": [
    "### 4.1 Definition"
   ]
  },
  {
   "cell_type": "markdown",
   "metadata": {},
   "source": [
    "Hier ist ein Beispiel, wie man in Python Funktionen definieren kann:"
   ]
  },
  {
   "cell_type": "code",
   "execution_count": 33,
   "metadata": {},
   "outputs": [
    {
     "name": "stdout",
     "output_type": "stream",
     "text": [
      "Fröhliche Weihnachten! Hohoho!🎅\n",
      "Fröhliche Weihnachten! Hohoho!🎅\n"
     ]
    }
   ],
   "source": [
    "# eine einfache Funktion\n",
    "\n",
    "def hohoho():\n",
    "    print(u'Fröhliche Weihnachten! Hohoho!\\U0001F385')\n",
    "    \n",
    "hohoho()\n",
    "hohoho()"
   ]
  },
  {
   "cell_type": "markdown",
   "metadata": {},
   "source": [
    "Im Funktionsanweisungsblock können Sie beliebige Anweisungen und Konstrukte verwenden."
   ]
  },
  {
   "cell_type": "markdown",
   "metadata": {},
   "source": [
    "Beim Aufruf von Funktionen können auch Werte übergeben werden. In der Funktion werden diese Argumente wie Variablen verwendet:"
   ]
  },
  {
   "cell_type": "code",
   "execution_count": 35,
   "metadata": {},
   "outputs": [
    {
     "name": "stdout",
     "output_type": "stream",
     "text": [
      "Fröhliche Weihnachten, Oliver ! Hohoho!🎅\n",
      "Fröhliche Weihnachten, Thomas ! Hohoho!🎅\n"
     ]
    }
   ],
   "source": [
    "def hohoho(name):    # Übergabewert\n",
    "    print('Fröhliche Weihnachten,',name, u'! Hohoho!\\U0001F385')\n",
    "    \n",
    "hohoho('Oliver')\n",
    "hohoho('Thomas')"
   ]
  },
  {
   "cell_type": "markdown",
   "metadata": {},
   "source": [
    "Es können auch *optionale* Argumente mit vorgegebenen Werten definiert werden. Diese können beim Aufruf der Funktion gesetzt werden, allerdings sollte das mit Nennung des Names gemacht werden! Optionale Argumente sind immer hinter den allg. Argumenten definiert. Mehrere Argumente werden immer mit `,` getrennt:"
   ]
  },
  {
   "cell_type": "code",
   "execution_count": 36,
   "metadata": {},
   "outputs": [
    {
     "name": "stdout",
     "output_type": "stream",
     "text": [
      "Fröhliche Weihnachten, Oliver ! Hohoho!🎅\n",
      "Fröhliche Weihnachten, Thomas ! Hohoho!🎅\n"
     ]
    }
   ],
   "source": [
    "def hohoho(name='Oliver'):\n",
    "    print('Fröhliche Weihnachten,',name, u'! Hohoho!\\U0001F385')\n",
    "    \n",
    "hohoho()    \n",
    "hohoho(name='Thomas')"
   ]
  },
  {
   "cell_type": "markdown",
   "metadata": {},
   "source": [
    "### 4.2 Rückgabewerte"
   ]
  },
  {
   "cell_type": "markdown",
   "metadata": {},
   "source": [
    "Funktionen können Ergbnisse zurückliefern:"
   ]
  },
  {
   "cell_type": "code",
   "execution_count": 37,
   "metadata": {},
   "outputs": [
    {
     "name": "stdout",
     "output_type": "stream",
     "text": [
      "True\n",
      "False\n"
     ]
    }
   ],
   "source": [
    "def is_good(name):\n",
    "    if name == 'Thomas':\n",
    "        good = True\n",
    "    else:\n",
    "        good = False\n",
    "        \n",
    "    return good\n",
    "\n",
    "\n",
    "print(is_good('Thomas'))\n",
    "print(is_good('Oliver'))"
   ]
  },
  {
   "cell_type": "markdown",
   "metadata": {},
   "source": [
    "Was passiert, wenn man keinen Wert zurückgibt:"
   ]
  },
  {
   "cell_type": "code",
   "execution_count": 38,
   "metadata": {},
   "outputs": [
    {
     "name": "stdout",
     "output_type": "stream",
     "text": [
      "War Thomas brav? True\n",
      "None\n",
      "War Oliver brav? False\n",
      "None\n"
     ]
    }
   ],
   "source": [
    "def is_good(name):\n",
    "    if name == 'Thomas':\n",
    "        good = True\n",
    "    else:\n",
    "        good = False\n",
    "        \n",
    "    print('War', name, 'brav?', good)\n",
    "\n",
    "\n",
    "print(is_good('Thomas'))\n",
    "print(is_good('Oliver'))"
   ]
  },
  {
   "cell_type": "markdown",
   "metadata": {},
   "source": [
    "Man kann auch mehrere Funktionswerte zurückgeben:"
   ]
  },
  {
   "cell_type": "code",
   "execution_count": 39,
   "metadata": {},
   "outputs": [
    {
     "name": "stdout",
     "output_type": "stream",
     "text": [
      "1.0000000000000002 1.0\n"
     ]
    }
   ],
   "source": [
    "import numpy as np\n",
    "\n",
    "# to_cartesian\n",
    "#\n",
    "# calculate from polar coordinates r, theta to \n",
    "# cartesian coordinates x, y\n",
    "def to_cartesian(r, theta):\n",
    "    x = r * np.cos(theta)\n",
    "    y = r * np.sin(theta)\n",
    "    \n",
    "    return x, y\n",
    "\n",
    "\n",
    "x, y = to_cartesian(np.sqrt(2), 45*np.pi/180.)\n",
    "\n",
    "print(x, y)"
   ]
  },
  {
   "cell_type": "markdown",
   "metadata": {},
   "source": [
    "### 4.3  Fragen rund um Funktionen"
   ]
  },
  {
   "cell_type": "markdown",
   "metadata": {},
   "source": [
    "#### 4.3.1 Argument-Variablen"
   ]
  },
  {
   "cell_type": "markdown",
   "metadata": {},
   "source": [
    "Argument-Variablen sind wie Variablen in den Funktionen:\n",
    " * sie können verändert werden\n",
    " * sie sind **nicht** gekoppelt an die evt. Variablen beim Aufruf\n",
    " \n",
    "Beispiel:"
   ]
  },
  {
   "cell_type": "code",
   "execution_count": 41,
   "metadata": {},
   "outputs": [
    {
     "name": "stdout",
     "output_type": "stream",
     "text": [
      "100\n",
      "100\n"
     ]
    }
   ],
   "source": [
    "def func_a(y):\n",
    "    y = y + 1\n",
    "    y = 1.2\n",
    "    \n",
    "x = 100\n",
    "print(x)\n",
    "func_a(x)\n",
    "print(x)"
   ]
  },
  {
   "cell_type": "markdown",
   "metadata": {},
   "source": [
    "#### 4.3.2 Funktionsvariablen"
   ]
  },
  {
   "cell_type": "markdown",
   "metadata": {},
   "source": [
    "Variablen in Funktionen können von dem Programmteil nicht gelesen werden, welches die Funktion aufruft. Es sind auch gleiche Variablen-Namen haben wie im aufrufenden Programmteil erlaubt. \n",
    "\n",
    "Beispiel:"
   ]
  },
  {
   "cell_type": "code",
   "execution_count": 43,
   "metadata": {},
   "outputs": [
    {
     "ename": "NameError",
     "evalue": "name 'z2' is not defined",
     "output_type": "error",
     "traceback": [
      "\u001b[0;31m---------------------------------------------------------------------------\u001b[0m",
      "\u001b[0;31mNameError\u001b[0m                                 Traceback (most recent call last)",
      "\u001b[0;32m<ipython-input-43-9156a1c7ee2a>\u001b[0m in \u001b[0;36m<module>\u001b[0;34m\u001b[0m\n\u001b[1;32m      3\u001b[0m \u001b[0;34m\u001b[0m\u001b[0m\n\u001b[1;32m      4\u001b[0m \u001b[0mfunc_a\u001b[0m\u001b[0;34m(\u001b[0m\u001b[0;36m100\u001b[0m\u001b[0;34m)\u001b[0m\u001b[0;34m\u001b[0m\u001b[0;34m\u001b[0m\u001b[0m\n\u001b[0;32m----> 5\u001b[0;31m \u001b[0mprint\u001b[0m\u001b[0;34m(\u001b[0m\u001b[0mz2\u001b[0m\u001b[0;34m)\u001b[0m     \u001b[0;31m# is not defined\u001b[0m\u001b[0;34m\u001b[0m\u001b[0;34m\u001b[0m\u001b[0m\n\u001b[0m",
      "\u001b[0;31mNameError\u001b[0m: name 'z2' is not defined"
     ]
    }
   ],
   "source": [
    "def func_a(y):\n",
    "    z2 = y + 1\n",
    "    \n",
    "func_a(100)\n",
    "print(z2)     # is not defined"
   ]
  },
  {
   "cell_type": "markdown",
   "metadata": {},
   "source": [
    "und:"
   ]
  },
  {
   "cell_type": "code",
   "execution_count": 44,
   "metadata": {},
   "outputs": [
    {
     "name": "stdout",
     "output_type": "stream",
     "text": [
      "100\n"
     ]
    }
   ],
   "source": [
    "def func_a(y):\n",
    "    z2 = y + 1\n",
    "    \n",
    "z2 = 100\n",
    "func_a(z2)\n",
    "print(z2)    # does not interfere with the function variable y"
   ]
  },
  {
   "cell_type": "markdown",
   "metadata": {},
   "source": [
    "### 4.4 Zusammenfassung"
   ]
  },
  {
   "cell_type": "markdown",
   "metadata": {},
   "source": [
    "Wichtig bei der Definition von Funktionen:\n",
    " * Funktionen werden mit dem Word `def` eingeleitet\n",
    " * Funktionsnamen werden wie bei Variablennamen gebildet\n",
    " * es gibt einfache Argumente und Namensargumente, mehrere werden durch `,` getrennt\n",
    " * der Anweisungsblock muss eingerückt werden\n",
    " * Rückgabewerte können selbst definiert werden\n",
    " * es gibt immer einen Rückgabewert `None`, wenn kein Rückgabewert definiert wird\n",
    " * nach einer `return`-Anweisung wird die Funktion beendet!\n",
    " * Variablen innerhalb von Funktionen sind entkoppelt vom restlichen Programmteil"
   ]
  },
  {
   "cell_type": "markdown",
   "metadata": {},
   "source": [
    "# Online-Hilfe in Python"
   ]
  },
  {
   "cell_type": "markdown",
   "metadata": {},
   "source": [
    "Hilfestellungen, wie Funktionen definiert werden, kann man jederzeit mit dem `help(...)`-Befehl bekommen:"
   ]
  },
  {
   "cell_type": "code",
   "execution_count": 45,
   "metadata": {},
   "outputs": [
    {
     "name": "stdout",
     "output_type": "stream",
     "text": [
      "Help on built-in function print in module builtins:\n",
      "\n",
      "print(...)\n",
      "    print(value, ..., sep=' ', end='\\n', file=sys.stdout, flush=False)\n",
      "    \n",
      "    Prints the values to a stream, or to sys.stdout by default.\n",
      "    Optional keyword arguments:\n",
      "    file:  a file-like object (stream); defaults to the current sys.stdout.\n",
      "    sep:   string inserted between values, default a space.\n",
      "    end:   string appended after the last value, default a newline.\n",
      "    flush: whether to forcibly flush the stream.\n",
      "\n"
     ]
    }
   ],
   "source": [
    "help(print)"
   ]
  },
  {
   "cell_type": "code",
   "execution_count": 46,
   "metadata": {},
   "outputs": [
    {
     "name": "stdout",
     "output_type": "stream",
     "text": [
      "Help on built-in function factorial in module math:\n",
      "\n",
      "factorial(x, /)\n",
      "    Find x!.\n",
      "    \n",
      "    Raise a ValueError if x is negative or non-integral.\n",
      "\n"
     ]
    }
   ],
   "source": [
    "import numpy as np\n",
    "\n",
    "help(np.math.factorial)  # hilfe zu np.math.factorial"
   ]
  },
  {
   "cell_type": "markdown",
   "metadata": {},
   "source": [
    "## Spezielle Funktionsargumente"
   ]
  },
  {
   "cell_type": "markdown",
   "metadata": {},
   "source": [
    "Es gibt spezielle Funktionsargumente:\n",
    " * `*args`  eine Liste von Argumenten\n",
    " * `**kwargs` eine Liste von optionalen Argumenten\n",
    " \n",
    "Die Anzahl und Bedeutung von Argumenten ist variable und muss nicht bei der `def`-Anweisung festgelegt werden. Die Auswertung der Argumente wird komplett im Funktions-Code erledigt. \n",
    "\n",
    "Bei allen Übungen und Beispielen, werden wir das nicht machen! Es soll zur Übersicht dienen, weil in den Hilfen diese Bezeichnungen auftauchen! "
   ]
  },
  {
   "cell_type": "code",
   "execution_count": null,
   "metadata": {},
   "outputs": [],
   "source": []
  }
 ],
 "metadata": {
  "kernelspec": {
   "display_name": "Python 3",
   "language": "python",
   "name": "python3"
  },
  "language_info": {
   "codemirror_mode": {
    "name": "ipython",
    "version": 3
   },
   "file_extension": ".py",
   "mimetype": "text/x-python",
   "name": "python",
   "nbconvert_exporter": "python",
   "pygments_lexer": "ipython3",
   "version": "3.8.3"
  }
 },
 "nbformat": 4,
 "nbformat_minor": 4
}
