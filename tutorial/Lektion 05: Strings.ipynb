{
 "cells": [
  {
   "cell_type": "markdown",
   "id": "9dca6c68-c9cd-43cb-bfc8-9e9fc8a3ef1c",
   "metadata": {},
   "source": [
    "# Lektion 05: Strings"
   ]
  },
  {
   "cell_type": "markdown",
   "id": "a9890f19-9e69-4326-b1dc-258c595464cd",
   "metadata": {},
   "source": [
    "----\n",
    "\n",
    "Ziele der Lektion:\n",
    "\n",
    " * [Strings](#strings)\n",
    "    * Definition (Video: [Python - Strings als Container](https://www.youtube.com/watch?v=JdMIgWLiUrQ&list=PL4XPVfJ_raU-37_-94SHaxTtExPfr3eTw&index=6))\n",
    "    * [Loops über Elemente](#loops)\n",
    "    * [Indizierung/Slicing](#slicing) (Video: [Python - Strings und Slicing](https://www.youtube.com/watch?v=v_oJ2YhOT6Y&list=PL4XPVfJ_raU-37_-94SHaxTtExPfr3eTw&index=7))\n",
    "    * [String-Funktionen](#functions) (Video: [Python - Strings und Funktionen](https://www.youtube.com/watch?v=JD0G_HwjRnA&list=PL4XPVfJ_raU-37_-94SHaxTtExPfr3eTw&index=5))\n",
    "    * [Tips und Tricks rund um Strings](#tricks)\n",
    "----"
   ]
  },
  {
   "cell_type": "markdown",
   "id": "e3fe1036-ae2d-4f12-9739-968d7455e97a",
   "metadata": {},
   "source": [
    "## <a id=strings></a> 1. Strings in Python"
   ]
  },
  {
   "cell_type": "markdown",
   "id": "f46f8822-9a1b-4590-8043-cc0e37a0dd75",
   "metadata": {},
   "source": [
    "Nachdem die skalaren Datentypen in Python ausführlich behandelt wurden, kommen wir nun zu einer neuen Klasse von Datentypen, den Container-Typen, von denen die Strings sich als Beispiel für die ganze Klasse gut benutzen lassen."
   ]
  },
  {
   "cell_type": "markdown",
   "id": "13b37549-925a-45be-b1a6-abf54c682c87",
   "metadata": {},
   "source": [
    "### 1.1 Definition"
   ]
  },
  {
   "cell_type": "markdown",
   "id": "4ba21074-0982-4c7d-a524-fd8c09349afd",
   "metadata": {},
   "source": [
    "Was sind Strings in Python? Ein String oder Zeichenkette ist eine Folge von keinem oder mehreren Zeichen! "
   ]
  },
  {
   "cell_type": "code",
   "execution_count": null,
   "id": "2fd19c64-1b7c-4141-aa33-0bd1337a3144",
   "metadata": {},
   "outputs": [],
   "source": [
    "s = 'Dies ist ein String!'       # oder\n",
    "t = \"Dies ist auch ein String!\"  # Mischung beider Quotes ist nicht erlaubt!\n",
    "c = 'a'                          # ein String mit nur einem Zeichen\n",
    "l = ''                           # ein leerer String\n",
    "print(s)\n",
    "print(t)\n",
    "print(c)\n",
    "print(l)"
   ]
  },
  {
   "cell_type": "markdown",
   "id": "dc61bf20-9b85-4f7e-9e93-0581922e407c",
   "metadata": {},
   "source": [
    "Die Größe eines Strings ist nur vom vorhandenen Arbeitsspeicher begrenzt!"
   ]
  },
  {
   "cell_type": "markdown",
   "id": "b67a5a7b-08d9-4c4f-ae0f-e13e34c67b89",
   "metadata": {},
   "source": [
    "Strings können auch spezielle Zeichen enthalten, die durch eine sog. Escape-Squenze `\\` eingeleitet werden:"
   ]
  },
  {
   "cell_type": "code",
   "execution_count": null,
   "id": "c91df442-1f34-478a-8ff5-0d38b8907399",
   "metadata": {},
   "outputs": [],
   "source": [
    "s = '\\\"'    # quote \"\n",
    "s = '\\''    # quote '\n",
    "s = '\\n'    # einen Zeilenumbruch\n",
    "s = '\\t'    # Tabulator"
   ]
  },
  {
   "cell_type": "markdown",
   "id": "cf683629-6c68-4a7d-a36e-b4acb4881d16",
   "metadata": {},
   "source": [
    "Mit der Zeit wurden weitere spezielle Strings eingeführt:"
   ]
  },
  {
   "cell_type": "code",
   "execution_count": null,
   "id": "cfa94c0e-2544-4e8a-ad71-068557f1aeb1",
   "metadata": {},
   "outputs": [],
   "source": [
    "s = u'Dies ist ein Unicode-String: \\U0001F606'\n",
    "print(s)\n",
    "\n",
    "i = 1234\n",
    "\n",
    "s = f'Dies ist ein formatierter String: {i}'\n",
    "print(s)\n",
    "\n",
    "s = r'Dies ist ein String für Labels beim Plotten'\n",
    "print(s)"
   ]
  },
  {
   "cell_type": "markdown",
   "id": "e3c633fc-d294-4894-bfdf-0d8944a6b471",
   "metadata": {},
   "source": [
    "### 1.2 Umwandlungen"
   ]
  },
  {
   "cell_type": "markdown",
   "id": "cb6b99b2-93ca-4225-ac90-9a4c390c8bea",
   "metadata": {},
   "source": [
    "Strings lassen sich auch umwandeln, z.B. in Zahlen und umgekehrt:"
   ]
  },
  {
   "cell_type": "code",
   "execution_count": null,
   "id": "4cfa3bf1-1413-4783-ac1c-44ee8f50d5a7",
   "metadata": {},
   "outputs": [],
   "source": [
    "s = '1234'\n",
    "print(int(s))\n",
    "i = 5678\n",
    "print(str(i))  # die Umwandlungsfunktion ist str(...) für die Strings"
   ]
  },
  {
   "cell_type": "markdown",
   "id": "8186f74d-73f0-4ea4-916c-9e46a7e2aca8",
   "metadata": {},
   "source": [
    "### 1.3 *Mathematik* mit Strings"
   ]
  },
  {
   "cell_type": "markdown",
   "id": "4b5e1b64-0d53-4859-9b61-cf4bf12ab51e",
   "metadata": {},
   "source": [
    "Was auf den ersten Blick etwas *komisch* anmutet, ist aber bei näheren Betrachtung logisch und einfach nachzvollziehen. Für die Strings sind in Python tatsächlich die mathematischen Operationen `+` und `*` definiert."
   ]
  },
  {
   "cell_type": "markdown",
   "id": "31f24d29-cd2d-4b29-8025-12b4ffcf5abc",
   "metadata": {},
   "source": [
    "Mit dem Operator `+` lassen sich Strings zusammensetzen:"
   ]
  },
  {
   "cell_type": "code",
   "execution_count": null,
   "id": "ff26865a-25cb-45da-bd12-2929254e6357",
   "metadata": {},
   "outputs": [],
   "source": [
    "s = 'Oliver' + ' Cordes'\n",
    "print(s)\n",
    "\n",
    "i = 0\n",
    "s = ''\n",
    "while i < 10:        # zähl von 0 bis 9\n",
    "    s = s + str(i)   # den String um ein Zeichen ergänzen\n",
    "    i = i + 1\n",
    "print(s)"
   ]
  },
  {
   "cell_type": "markdown",
   "id": "f70506a5-281a-443b-b4b6-13d84abfbae2",
   "metadata": {},
   "source": [
    "Mit dem Operator `*` lässt sich ein String *duplizieren* ... . Die Anzahl sollte mit einer positiven Ganzzahl gegeben werden (negative Zahlen sind kein Fehler, aber machen keinen Sinn!):"
   ]
  },
  {
   "cell_type": "code",
   "execution_count": null,
   "id": "faac7a44-fc8a-4c5a-b905-785bad62a000",
   "metadata": {},
   "outputs": [],
   "source": [
    "s = 'Oliver' * 2\n",
    "print(s)\n",
    "s = 'Hallo' * -2\n",
    "print(s)"
   ]
  },
  {
   "cell_type": "markdown",
   "id": "6e77adf7-7bd8-4f81-80e8-c5856119d65a",
   "metadata": {},
   "source": [
    "### 1.4 Container"
   ]
  },
  {
   "cell_type": "markdown",
   "id": "f84d7179-a926-4c4a-b7bb-5e58034acd0d",
   "metadata": {},
   "source": [
    "Unter Container-Typen kann man sich folgendes vorstellen, eine endliche Ansammlung von einzelnen *Teilen*, die man durchnummerieren kann. \n",
    "\n",
    "Bei den Strings ist das die Sammlung von einzelnen Zeichen. Eine erste wichtige Operation, die man auf Container anwenden kann, ist die Bestimmung der Anzahl der Teile oder Elemente. Dazu nutzt man die Funktion `len(...)`:"
   ]
  },
  {
   "cell_type": "code",
   "execution_count": null,
   "id": "5ae2b84e-6aa4-434c-9766-3b6afecf425d",
   "metadata": {},
   "outputs": [],
   "source": [
    "s = 'Hallo'\n",
    "print(len(s))   # gibt die Anzahl der Zeichen im String zurück"
   ]
  },
  {
   "cell_type": "markdown",
   "id": "35cfcc4b-6066-43e2-b3ed-ea82d9cb8135",
   "metadata": {},
   "source": [
    "Auf einzelne Elemente kann man mit dem `[...]`-Operator zugreifen:"
   ]
  },
  {
   "cell_type": "code",
   "execution_count": null,
   "id": "194445fe-c7fe-4c68-a6dc-3ae63f9984cd",
   "metadata": {},
   "outputs": [],
   "source": [
    "s = 'Hallo'\n",
    "print(s[0])      # das erste Element\n",
    "print(s[4])      # das 5. Element\n",
    "print(s[-1])     # das letzte Element\n",
    "print(s[-6])     # ausserhalb des Bereiches"
   ]
  },
  {
   "cell_type": "markdown",
   "id": "0f68d77b-04f3-492f-a2bc-33d50bcfb40f",
   "metadata": {},
   "source": [
    "Der Index bestimmt die Nummer des Elementes und gehen von `0` bis `len(...)-1` für positive Indices.  Negative Indices zählen mit `-1` für das letzte Element bis `-len(...)` für das erste Element. \n",
    "\n",
    "Einfacher kann man die Umrechnung von negative Indices in positive Indices mittels des Restoperators vornehmen:"
   ]
  },
  {
   "cell_type": "code",
   "execution_count": null,
   "id": "644316fc-7189-4f86-afe4-4f23c456b7f4",
   "metadata": {},
   "outputs": [],
   "source": [
    "s = 'Hallo'\n",
    "\n",
    "i = -1\n",
    "print(s[i])\n",
    "j = i % len(s)    # Restoperator! \n",
    "print(j)\n",
    "print(s[j])"
   ]
  },
  {
   "cell_type": "markdown",
   "id": "3b137d93-e2c1-47d0-88c0-669f449b8000",
   "metadata": {},
   "source": [
    "### <a id=loops></a> 1.5 Loops über Container"
   ]
  },
  {
   "cell_type": "markdown",
   "id": "79f1772a-7f85-4acc-a318-6e7f2c2685bd",
   "metadata": {},
   "source": [
    "Eine wichtige Eigenschaft von Containern ist, dass man einfach alle Elemente eines Container durchgehen kann. Dazu gibt es die sog. `for`-Loop, die Sie auch von der bash her kennen. Dort ist das Prinzip ähnlich, wobei in der Bash zum Beispiel der Container eine Liste von Dateinamen ist. "
   ]
  },
  {
   "cell_type": "markdown",
   "id": "8627b192-d0d9-44e1-8063-646024d3e29e",
   "metadata": {},
   "source": [
    "Anwendungen sind vielfältig, hier ein Beispiel:"
   ]
  },
  {
   "cell_type": "code",
   "execution_count": null,
   "id": "0cfbb042-20f2-4be1-a2fb-dce956a50b53",
   "metadata": {},
   "outputs": [],
   "source": [
    "s = 'Oliver Cordes'\n",
    "\n",
    "for c in s:     # gehe durch alle Zeichen des Strings und speicher das aktuelle Zeichen in c\n",
    "    print(c)"
   ]
  },
  {
   "cell_type": "markdown",
   "id": "b1b05863-2579-4d47-a225-4f0234496a76",
   "metadata": {},
   "source": [
    "Der generelle Aufbau einer `for`-Loop ist:\n",
    "\n",
    "```Python\n",
    "for <variable> in container:\n",
    "    Anweisungsblock\n",
    "```\n",
    "\n",
    "Natürlich lässt sich diese Schleife in eine `while`-Schleife umwandeln, aber die `for`-Schleife bietet diese Vorteile:\n",
    " * keine Schleifenabbruchbedingung\n",
    " * keine zusätzliche Zählvariable\n",
    " * nicht so Fehleranfällig wie `while`"
   ]
  },
  {
   "cell_type": "markdown",
   "id": "5df788dd-0e36-439a-9af3-8154e3f43cd9",
   "metadata": {},
   "source": [
    "### 1.6 Änderungen von Strings"
   ]
  },
  {
   "cell_type": "markdown",
   "id": "6ba746e5-e379-4ee9-a7e3-afc745e43800",
   "metadata": {},
   "source": [
    "In anderen Sprachen lassen sich Strings zeichenweise verändern. Man würde folgendes ausführen:"
   ]
  },
  {
   "cell_type": "code",
   "execution_count": null,
   "id": "6f4936c9-44e3-439e-8dd3-956156cb37af",
   "metadata": {},
   "outputs": [],
   "source": [
    "s = 'hallo'   # das h soll durch ein H ersetzt werden\n",
    "s[0] = 'H'"
   ]
  },
  {
   "cell_type": "markdown",
   "id": "a27e2cab-db63-47dc-9ad6-f46011ddb768",
   "metadata": {},
   "source": [
    "Das ist bei anderen Containern möglich, aber Strings gehören zu den sog. `immutable` Typen, d.h. die Elemente des Containers können **nicht** mehr verändert werden. \n",
    "\n",
    "Eine Lösung des obigen Problems wäre mit dem sog. Slicing zu erledigen, was Thema des nächsten Videos sein wird."
   ]
  },
  {
   "cell_type": "markdown",
   "id": "6e58f377-ae56-44ad-bd66-dec7daa30be4",
   "metadata": {},
   "source": [
    "### 1.7 Vergleiche mit Strings"
   ]
  },
  {
   "cell_type": "markdown",
   "id": "61c9e53f-7567-49de-98d7-8bcf9eead8ac",
   "metadata": {},
   "source": [
    "Im Vergleich mit anderen Programmiersprachen kann man in Python *nativ* Strings miteinander vergleichen:"
   ]
  },
  {
   "cell_type": "code",
   "execution_count": null,
   "id": "529d58d2-a77b-468e-85bd-03358b1fcc84",
   "metadata": {},
   "outputs": [],
   "source": [
    "s = 'Hallo'\n",
    "\n",
    "print(s == 'Hallo')  # identisch\n",
    "print(s == 'HALLO')  # muss absolut identisch sein!\n",
    "print(s == 'Hall')   # muss gleich lang sein!"
   ]
  },
  {
   "cell_type": "markdown",
   "id": "6c457cff-2e6e-4c60-810d-20289c47a1fa",
   "metadata": {},
   "source": [
    "Spannend werden die Vergleiche mit `<` und `>`:"
   ]
  },
  {
   "cell_type": "code",
   "execution_count": null,
   "id": "6d3088f6-5446-4654-b383-5e00ab52fa3e",
   "metadata": {},
   "outputs": [],
   "source": [
    "s = 'Hallo'\n",
    "\n",
    "print(s > 'Hall')      \n",
    "print(s < 'Hall')  \n",
    "print(s < 'Halloo')\n",
    "print(s < 'hallo')\n",
    "print(s > '1')"
   ]
  },
  {
   "cell_type": "markdown",
   "id": "61f26b17-11f0-427e-bcf9-8c87b22392be",
   "metadata": {},
   "source": [
    "Zum Verständnis muss man die alphabetische Sortierung im Computer verstehen. Dazu muss man die sog. ASCII-Tabellen nehmen, die noch aus den Anfängen der Computer stammen. \n",
    "\n",
    "Wenn man einzelne Zeichen miteinander vergleicht, so kommen grob erst die Zahlen, dann die großen und dann die kleinen Buchstaben. Darstellen kann man das, wenn man ein Zeichen mit der `ord`-Funktion in eine ASCII-Nummer konvertiert:"
   ]
  },
  {
   "cell_type": "code",
   "execution_count": null,
   "id": "a1aef537-0dd5-4a84-895d-a5d627660474",
   "metadata": {},
   "outputs": [],
   "source": [
    "print(ord('5'))\n",
    "print(ord('A'))\n",
    "print(ord('a'))"
   ]
  },
  {
   "cell_type": "markdown",
   "id": "552d340f-c064-449b-8491-2feb36b1a7a1",
   "metadata": {},
   "source": [
    "Damit sieht man, wie im Prinzip ein Vergleich durchgeführt wird. \n",
    "\n",
    "Verglichen werden die Zeichen vom Anfang der Strings und bei Gleichheit dann weiter zu den nächsten Strings.\n",
    "Kürzere Strings sind immer **kleiner** als die längeren Strings, wenn man an die kürzeren Strings Zeichen anfügt!"
   ]
  },
  {
   "cell_type": "markdown",
   "id": "010f33f4-59cc-4fee-8820-0d15613333f4",
   "metadata": {
    "tags": []
   },
   "source": [
    "----"
   ]
  },
  {
   "cell_type": "markdown",
   "id": "3721898a-c7e8-4df2-ad69-163a68e77439",
   "metadata": {},
   "source": [
    "## 2. <a id=slicing></a> String - Slicing"
   ]
  },
  {
   "cell_type": "markdown",
   "id": "79969cd0-2501-4d9e-bc4b-b65d013a1e31",
   "metadata": {},
   "source": [
    "### 2.1 Slicing"
   ]
  },
  {
   "cell_type": "markdown",
   "id": "f24e257a-816c-48ae-95b8-28c10597a2e0",
   "metadata": {},
   "source": [
    "Einmal noch zur Wiederholung. Man kann auf einzelne Elemente eines Container mit dem sog. Index zugreifen. Bei den Strings sieht das so aus:"
   ]
  },
  {
   "cell_type": "code",
   "execution_count": null,
   "id": "af9c698d-1ab2-4f13-95b9-0071c7b57aae",
   "metadata": {},
   "outputs": [],
   "source": [
    "s = 'Hallo'\n",
    "print(s[0])      # das erste Element\n",
    "print(s[4])      # das 5. Element\n",
    "print(s[-1])     # das letzte Element\n",
    "#print(s[5])     # ausserhalb des Bereiches"
   ]
  },
  {
   "cell_type": "markdown",
   "id": "9ad5ba4e-5f94-4958-beb2-0cae5f89ebab",
   "metadata": {},
   "source": [
    "Bei positiven Indices wird von vorne ab `0` gezählt und bei negativen Indices von hinten, wobei `-1` das letzte Element ist. Die Umrechnung von negativen in positiven Indices lässt sich mit dem Restoperator und die Länge des Containers machen:\n",
    "\n",
    "```Python\n",
    "pos_index = neg_index % len(container)\n",
    "```"
   ]
  },
  {
   "cell_type": "markdown",
   "id": "a7c975dd-de95-49a3-bb58-af933f28b646",
   "metadata": {},
   "source": [
    "Auf einzelne Elemente zuzugreifen ist schon mal gut, aber bei verschiedenen Projekten möchte man auch auf mehrere Elemente gleichzeitig zugreifen. Dazu wurde das Slicing implementiert. Statt dem einfachen Index wird dem `[...]`-Operator ein komplexer Ausdruck (Slicing-Index) übergeben. Ein paar Beispiele:"
   ]
  },
  {
   "cell_type": "code",
   "execution_count": null,
   "id": "eef1bbb2-90f6-4844-8705-c1eebd733842",
   "metadata": {},
   "outputs": [],
   "source": [
    "s = 'Hallo'\n",
    "\n",
    "print(s[1:3])     # gebe das 2. bis zum 3. Zeichen\n",
    "print(s[1:10])    # gebe das 2. bis zum 10. Zeichen aus, da der String nur 5 Zeichen hat, bricht es ab\n",
    "print(s[1:-1])    # gebe das 2. bis zum vorletzen Zeichen aus"
   ]
  },
  {
   "cell_type": "markdown",
   "id": "5140d6d2-d4fd-4a2f-81b1-b6dcc3144d2a",
   "metadata": {},
   "source": [
    "Der Slicing-Index hat immer einen Anfang und ein Ende, welcher durch ein `:` getrennt wird. Beide bilden ein halboffenes Intervall, wobei vom Anfang bis zum Ende vorwärts durchgezählt wird. Das Ende ist nicht mehr im Intervall enthalten. \n",
    "\n",
    "Wird der Anfang weggelassen, so ist immer der Index `0` gemeint und lässt man das Ende weg, so wird `-1` angenommen. Liegt das Ende außerhalb der möglichen Indices, werden nur die möglichen Elemente adressiert, liegt auch der Anfang außerhalb, gibt es bei den Strings einen leeren String zurück."
   ]
  },
  {
   "cell_type": "code",
   "execution_count": null,
   "id": "859074e0-4be2-4825-b754-a114270f85a8",
   "metadata": {},
   "outputs": [],
   "source": [
    "s = 'Hallo'\n",
    "\n",
    "print(s[:3])   # die ersten 3 Zeichen\n",
    "print(s[2:])   # ab dem 3. Zeichen\n",
    "print(s[:])    # alle Zeichen\n",
    "print(s[2:20]) \n",
    "print(s[10:20])"
   ]
  },
  {
   "cell_type": "markdown",
   "id": "44c98679-70bf-40ad-809c-7d47731c6aec",
   "metadata": {},
   "source": [
    "In den ersten Beispielen wurden die Elemente *vorwärts* ausgeschnitten. Man kann natürlich auch die Elemente *rückwärts* ausschneiden:"
   ]
  },
  {
   "cell_type": "code",
   "execution_count": null,
   "id": "83c55f3b-3cdb-4b98-84e9-8569a675be74",
   "metadata": {},
   "outputs": [],
   "source": [
    "s = 'Hallo'\n",
    "print(s[3:0:-1])    # das 4.Zeichen bis zum 1. Zeichen\n",
    "print(s[3::-1])     # das 4.Zeichen bis zum Anfang\n",
    "print(s[::-1])      # alles rückwärts\n",
    "print(s[10::-1])"
   ]
  },
  {
   "cell_type": "markdown",
   "id": "8feada23-b3aa-4774-9634-29aee46c05b9",
   "metadata": {},
   "source": [
    "Es gelten hier die Gleichen Regeln wie beim vorwärts ausschneiden, das der Startindex größer als der Endindex sein muss, damit man rückwärts zählen kann."
   ]
  },
  {
   "cell_type": "markdown",
   "id": "fb3e30a2-b396-4d0d-88ca-f1d22ba6de4a",
   "metadata": {},
   "source": [
    "Neben vorwärts und Rückwärts kann man natürlich auch jedes x-te Element addressieren:"
   ]
  },
  {
   "cell_type": "code",
   "execution_count": null,
   "id": "07099cd8-0ae5-43cf-9e7e-a6523e842aa8",
   "metadata": {},
   "outputs": [],
   "source": [
    "s = 'Oliver'\n",
    "print(s[::2])   # jedes 2. Element vorwärts\n",
    "print(s[::-2])  # jedes 2. Element rückwärts"
   ]
  },
  {
   "cell_type": "markdown",
   "id": "57076682-dec0-4285-a9d8-d645dce04c1f",
   "metadata": {},
   "source": [
    "Für bestimmte Anwendungen müssen das Ausschneiden, die Richtung und x-te Element gleichzeitig ausgeführt werden."
   ]
  },
  {
   "cell_type": "markdown",
   "id": "d6c9506e-ae17-4daa-9b5e-d93b110c2ec2",
   "metadata": {},
   "source": [
    "### 2.2 Strings verändern (2) "
   ]
  },
  {
   "cell_type": "markdown",
   "id": "28e90139-74c4-43b0-be54-8ae62839d1ee",
   "metadata": {},
   "source": [
    "An dieser Stelle soll nochmal das Beispiel aufgegriffen werden, wie man einen String verändern kann:"
   ]
  },
  {
   "cell_type": "code",
   "execution_count": null,
   "id": "b6ba8aca-39a4-4d8e-80ce-b442701a8df7",
   "metadata": {},
   "outputs": [],
   "source": [
    "s = 'hallo'   # das h soll durch ein H ersetzt werden\n",
    "s[0] = 'H'"
   ]
  },
  {
   "cell_type": "markdown",
   "id": "b0e5054b-fb77-48cb-9d14-875319669a83",
   "metadata": {},
   "source": [
    "geht bekanntlicherweise schief. Mit Hilfe des Slicings lässt sich eine gute Lösung definieren:"
   ]
  },
  {
   "cell_type": "code",
   "execution_count": null,
   "id": "2ee9ba82-2b46-4a7b-b26d-9d027b7b1218",
   "metadata": {},
   "outputs": [],
   "source": [
    "s = 'hallo'\n",
    "s = 'H' + s[1:]   # das H plus den Rest-String nach dem 'h'!\n",
    "print(s)"
   ]
  },
  {
   "cell_type": "markdown",
   "id": "5d30a0b5-2fd4-47d5-a127-7ae646f7f08e",
   "metadata": {},
   "source": [
    "### 2.3 Zusammenfassung"
   ]
  },
  {
   "cell_type": "markdown",
   "id": "4179de96-4baf-4bca-8a81-24572a5e8dc6",
   "metadata": {},
   "source": [
    "Anhand der Strings kann man das Slicing gut zeigen, aber die Regeln gelten auch allgemein für Container:"
   ]
  },
  {
   "cell_type": "markdown",
   "id": "02970545-405f-4d88-b9f1-22f357a8adcf",
   "metadata": {},
   "source": [
    " * der Slicing-Index lässt sich wie folgt schreiben:\n",
    "\n",
    "   ```Python\n",
    "start:end:step\n",
    "   ```\n",
    "   \n",
    "   wobei `start`, `end`, `step` jeweils optional sind.\n",
    " * die ausgeschnittenen Elemente entsprechen einem Sub-Container und haben den gleichen Typ wie der Original -Container\n",
    " \n",
    "---"
   ]
  },
  {
   "cell_type": "markdown",
   "id": "0367f08c-6924-4f49-9447-6c85fff2935b",
   "metadata": {},
   "source": [
    "## <a id=functions></a> 3. String - Funktionen"
   ]
  },
  {
   "cell_type": "markdown",
   "id": "e26ff79f-855d-4146-a14c-c030ecc3ad6c",
   "metadata": {},
   "source": [
    "Aufbauend auf dem Container-Charakter von Strings ergeben sich weitere Möglichkeiten mit Strings zu arbeiten. Wenn Sie schon mal in anderen Programmiersprachen mit Strings Erfahrungen gemacht haben, werden Sie einige Funktionen kennen, die neue modifizierte Strings erstellen können, z.B. alle Zeichen eines Strings in Großbuchstaben umwandeln!\n",
    "\n",
    "Python hat diese Funktionen auch implementiert. Dazu wurde allerdings keine spezielle Bibliothek oder Modul entwickelt, sondern man hat diese Funktionen an die Strings angeheftet:"
   ]
  },
  {
   "cell_type": "code",
   "execution_count": null,
   "id": "1454a818-5d84-4698-9430-ba61e0299cf7",
   "metadata": {},
   "outputs": [],
   "source": [
    "s = 'hallo'\n",
    "\n",
    "print(s.upper())   # ein String hat auch eine Funktion!"
   ]
  },
  {
   "cell_type": "markdown",
   "id": "7069a078-4ec5-42ed-b813-af17d564aefd",
   "metadata": {},
   "source": [
    "Ähnlich wie bei den Funktionen des `numpy`-Moduls werden die Funktionen eines Strings mit `.` an den Strings aufgerufen. Dabei ist es egal, ob man eine String-Variable oder Konstante hat:"
   ]
  },
  {
   "cell_type": "code",
   "execution_count": null,
   "id": "0eed4453-4823-4e25-8068-1bc9bce4155a",
   "metadata": {},
   "outputs": [],
   "source": [
    "print('Hallo'.lower())"
   ]
  },
  {
   "cell_type": "markdown",
   "id": "6216244f-ce8e-4589-b9ee-74796d1ab770",
   "metadata": {},
   "source": [
    "Da wie schon vorher gesagt, Strings nicht veränderbar sind, wird beim Aufruf von `upper` oder `lower` immer eine neuer String gebildet, der dann weiter verwendet werden kann."
   ]
  },
  {
   "cell_type": "markdown",
   "id": "7f7895a6-4e52-4acb-bd2c-a91d0fc033d4",
   "metadata": {},
   "source": [
    "### 3.1 Suchen in Strings"
   ]
  },
  {
   "cell_type": "markdown",
   "id": "8cde33fb-b9b8-4492-8c59-7e042dc54aa4",
   "metadata": {},
   "source": [
    "Eine wichtige Funktion ist das Suchen von Strings oder Zeichen in vorhandenen Strings:"
   ]
  },
  {
   "cell_type": "code",
   "execution_count": null,
   "id": "d6f4a9f5-735b-4c10-978d-303ba930556f",
   "metadata": {},
   "outputs": [],
   "source": [
    "s = 'Hallo'\n",
    "\n",
    "print(s.find('allo'))   # gibt den Index wieder, ab dem der Sub-String zu finden ist\n",
    "print(s[1:])\n",
    "print(s.find('hall'))   # -1 sagt, der Substring existiert nicht"
   ]
  },
  {
   "cell_type": "code",
   "execution_count": null,
   "id": "0a99a1dd-075e-4b7b-bacf-2e80d16ee954",
   "metadata": {},
   "outputs": [],
   "source": [
    "print(s.index('hallo'))  # index arbeitet wie find, allerdings gibt es einen Fehler, wenn nicht vorhanden"
   ]
  },
  {
   "cell_type": "markdown",
   "id": "845423d4-a613-457a-a451-98a693f0f925",
   "metadata": {},
   "source": [
    "In allen Fällen wird immer das erste Auftreten des Substring zurückgeliefert."
   ]
  },
  {
   "cell_type": "markdown",
   "id": "b7ff0a31-c0ce-4eef-bc85-16a10f3660d1",
   "metadata": {},
   "source": [
    "### 3.2 Weitere Funktionen"
   ]
  },
  {
   "cell_type": "markdown",
   "id": "a6221790-a819-4297-8c9c-421419086d7b",
   "metadata": {},
   "source": [
    "Es gibt noch viele andere Funktionen, die man mit den Strings aufrufen kann. Die Vorstellung aller Funktionen würde jedes Tutorial sprengen. "
   ]
  },
  {
   "cell_type": "code",
   "execution_count": null,
   "id": "5d49fe6d-01f6-4724-a44d-3a2228bfa318",
   "metadata": {},
   "outputs": [],
   "source": [
    "s = 'Hallo'\n",
    "s."
   ]
  },
  {
   "cell_type": "markdown",
   "id": "259e0dd0-8bf3-490f-a935-b2c1068a03a8",
   "metadata": {},
   "source": [
    "Schreiben Sie in einer Zelle den Variablen-Namen, fügen einen `.` hinzu und drücken Sie `[tab]`!"
   ]
  },
  {
   "cell_type": "markdown",
   "id": "59cd68de-4f22-4672-b310-848e1910d85e",
   "metadata": {},
   "source": [
    "Um eine Übersicht über definierte Funktionen zu bekommen kann man in einer Notebook-Zelle auch folgendes machen:"
   ]
  },
  {
   "cell_type": "code",
   "execution_count": null,
   "id": "63e098db-bb9d-4ed8-b508-84eaf20c717e",
   "metadata": {},
   "outputs": [],
   "source": [
    "help(str)"
   ]
  },
  {
   "cell_type": "markdown",
   "id": "b3570583-df45-48ee-9c45-ee8bd1c4e272",
   "metadata": {},
   "source": [
    "----"
   ]
  },
  {
   "cell_type": "markdown",
   "id": "81e424c4-c7f1-4973-8b94-a702727e6fb5",
   "metadata": {},
   "source": [
    "## <a id=tricks></a> 4. Tips und Tricks rund um Strings"
   ]
  },
  {
   "cell_type": "markdown",
   "id": "c3e38d7d-5fb1-40c3-9f91-7444d66a4326",
   "metadata": {},
   "source": [
    "### 4.1 Der **in**-Operator"
   ]
  },
  {
   "cell_type": "markdown",
   "id": "7cd0a35f-5a31-4c91-9d70-0661ff2c17bd",
   "metadata": {},
   "source": [
    "Als sehr nützlich hat sich der sog. `in`-Operator für alle container-ähnlichen Typen in Python erwiesen. Dieser stellt einen eleganten Test da, ob ein Element in einem Container ist oder nicht. Bei den Strings ist er allerdings etwas erweitert, wenn man Strings als Container für einzelne Zeichen versteht:"
   ]
  },
  {
   "cell_type": "code",
   "execution_count": 3,
   "id": "0f25eb48-e24e-463d-a1c8-f8d3b80bbf6b",
   "metadata": {},
   "outputs": [
    {
     "name": "stdout",
     "output_type": "stream",
     "text": [
      "True\n",
      "False\n",
      "True\n"
     ]
    }
   ],
   "source": [
    "s = 'Dies ist ein Test!'\n",
    "\n",
    "print('D' in s)  # ergibt True\n",
    "print('E' in s)  # ergibt False\n",
    "print('e' in s)  # ergibt True, egal wieviele 'e's in s sind!"
   ]
  },
  {
   "cell_type": "markdown",
   "id": "44791241-18db-4054-aab9-1991cf68c9f7",
   "metadata": {},
   "source": [
    "Man kann an dieser Stelle testen, ob ein bestimmtes Zeichen in dem String vorhanden ist oder nicht. Im Gegensatz zu `.index(...)` oder `.find(...)` gibt diese Operation nur einen **Status** wieder und keine Position!"
   ]
  },
  {
   "cell_type": "markdown",
   "id": "43a473d4-1205-400d-9171-ec0a48471199",
   "metadata": {},
   "source": [
    "Die Erweiterung bei Strings ist, dass der `in`-Test mit Strings unbegrenzter Länge auf Strings anwendbar ist:"
   ]
  },
  {
   "cell_type": "code",
   "execution_count": 5,
   "id": "7af8119e-6097-426b-9b10-940e204d4343",
   "metadata": {},
   "outputs": [
    {
     "name": "stdout",
     "output_type": "stream",
     "text": [
      "True\n",
      "False\n"
     ]
    }
   ],
   "source": [
    "s = 'Dies ist ein Test!'\n",
    "\n",
    "print('ist' in s)   # ergibt True\n",
    "print('eine' in s)  # ergibt False, da zwar 'ein' aber nicht 'eine' in s ist!"
   ]
  },
  {
   "cell_type": "markdown",
   "id": "6c87cb16-3bd8-4f2f-81ab-18823c9ad1ee",
   "metadata": {},
   "source": [
    "Eine schöne Anwendung kann man mit diesem Test konstruieren, in dem man einen Text nach Buchstaben, Zahlen und Satzzeichen sortieren kann:"
   ]
  },
  {
   "cell_type": "code",
   "execution_count": 6,
   "id": "8dcf8fed-4424-43c0-bc01-3dcd49686041",
   "metadata": {},
   "outputs": [
    {
     "name": "stdout",
     "output_type": "stream",
     "text": [
      " 90 Buchstaben\n",
      "  5 Zahlen\n",
      "  4 Satzzeichen\n",
      " 20 Leerzeichen\n"
     ]
    }
   ],
   "source": [
    "s = 'Es gibt die Möglichkeit, in einen Text mit mind. 3 verschiedenen Verfahren Texte zu suchen. Das gab es 1970 noch nicht!'\n",
    "\n",
    "# some statistic variables\n",
    "chars = 0\n",
    "digits = 0\n",
    "puncts = 0\n",
    "spaces = 0\n",
    "\n",
    "# loop over all characters\n",
    "for c in s:\n",
    "    if c in '!?,.:;':\n",
    "        puncts += 1\n",
    "    elif c in '0123456789':\n",
    "        digits += 1\n",
    "    elif c == ' ':\n",
    "        spaces += 1\n",
    "    else:\n",
    "        chars += 1\n",
    "        \n",
    "print(f'{chars:3} Buchstaben')\n",
    "print(f'{digits:3} Zahlen')\n",
    "print(f'{puncts:3} Satzzeichen')\n",
    "print(f'{spaces:3} Leerzeichen')"
   ]
  },
  {
   "cell_type": "markdown",
   "id": "0d4e79a1-870e-45c4-be7b-6a8d53880da3",
   "metadata": {},
   "source": [
    "----"
   ]
  }
 ],
 "metadata": {
  "kernelspec": {
   "display_name": "Python 3 (ipykernel)",
   "language": "python",
   "name": "python3"
  },
  "language_info": {
   "codemirror_mode": {
    "name": "ipython",
    "version": 3
   },
   "file_extension": ".py",
   "mimetype": "text/x-python",
   "name": "python",
   "nbconvert_exporter": "python",
   "pygments_lexer": "ipython3",
   "version": "3.9.13"
  }
 },
 "nbformat": 4,
 "nbformat_minor": 5
}
