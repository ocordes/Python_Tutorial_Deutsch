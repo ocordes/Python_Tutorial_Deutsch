{
 "cells": [
  {
   "cell_type": "markdown",
   "metadata": {},
   "source": [
    "# String - Slicing"
   ]
  },
  {
   "cell_type": "markdown",
   "metadata": {},
   "source": [
    "Einmal noch zur Wiederholung. Man kann auf einzelne Elemente eines Container mit dem sog. Index zugreifen. Bei den Strings sieht das so aus:"
   ]
  },
  {
   "cell_type": "code",
   "execution_count": 46,
   "metadata": {},
   "outputs": [
    {
     "name": "stdout",
     "output_type": "stream",
     "text": [
      "H\n",
      "o\n",
      "o\n"
     ]
    }
   ],
   "source": [
    "s = 'Hallo'\n",
    "print(s[0])      # das erste Element\n",
    "print(s[4])      # das 5. Element\n",
    "print(s[-1])     # das letzte Element\n",
    "#print(s[5])     # ausserhalb des Bereiches"
   ]
  },
  {
   "cell_type": "markdown",
   "metadata": {},
   "source": [
    "Bei positiven Indices wird von vorne ab `0` gezählt und bei negativen Indices von hinten, wobei `-1` das letzte Element ist. Die Umrechnung von negativen in positiven Indices lässt sich mit dem Restoperator und die Länge des Containers machen:\n",
    "\n",
    "```Python\n",
    "pos_index = neg_index % len(container)\n",
    "```"
   ]
  },
  {
   "cell_type": "markdown",
   "metadata": {},
   "source": [
    "Auf einzelne Elemente zuzugreifen ist schon mal gut, aber bei verschiedenen Projekten möchte man auch auf mehrere Elemente gleichzeitig zugreifen. Dazu wurde das Slicing implementiert. Statt dem einfachen Index wird dem `[...]`-Operator ein komplexer Ausdruck (Slicing-Index) übergeben. Ein paar Beispiele:"
   ]
  },
  {
   "cell_type": "code",
   "execution_count": 47,
   "metadata": {},
   "outputs": [
    {
     "name": "stdout",
     "output_type": "stream",
     "text": [
      "al\n",
      "allo\n",
      "all\n"
     ]
    }
   ],
   "source": [
    "s = 'Hallo'\n",
    "\n",
    "print(s[1:3])     # gebe das 2. bis zum 3. Zeichen\n",
    "print(s[1:10])    # gebe das 2. bis zum 10. Zeichen aus, da der String nur 5 Zeichen hat, bricht es ab\n",
    "print(s[1:-1])    # gebe das 2. bis zum vorletzen Zeichen aus"
   ]
  },
  {
   "cell_type": "markdown",
   "metadata": {},
   "source": [
    "Der Slicing-Index hat immer einen Anfang und ein Ende, welcher durch ein `:` getrennt wird. Beide bilden ein halboffenes Intervall, wobei vom Anfang bis zum Ende vorwärts durchgezählt wird. Das Ende ist nicht mehr im Intervall enthalten. \n",
    "\n",
    "Wird der Anfang weggelassen, so ist immer der Index `0` gemeint und lässt man das Ende weg, so wird `-1` angenommen. Liegt das Ende außerhalb der möglichen Indices, werden nur die möglichen Elemente adressiert, liegt auch der Anfang außerhalb, gibt es bei den Strings einen leeren String zurück."
   ]
  },
  {
   "cell_type": "code",
   "execution_count": 48,
   "metadata": {},
   "outputs": [
    {
     "name": "stdout",
     "output_type": "stream",
     "text": [
      "Hal\n",
      "llo\n",
      "Hallo\n",
      "llo\n",
      "\n"
     ]
    }
   ],
   "source": [
    "s = 'Hallo'\n",
    "\n",
    "print(s[:3])   # die ersten 3 Zeichen\n",
    "print(s[2:])   # ab dem 3. Zeichen\n",
    "print(s[:])    # alle Zeichen\n",
    "print(s[2:20]) \n",
    "print(s[10:20])"
   ]
  },
  {
   "cell_type": "markdown",
   "metadata": {},
   "source": [
    "In den ersten Beispielen wurden die Elemente *vorwärts* ausgeschnitten. Man kann natürlich auch die Elemente *rückwärts* ausschneiden:"
   ]
  },
  {
   "cell_type": "code",
   "execution_count": 49,
   "metadata": {},
   "outputs": [
    {
     "name": "stdout",
     "output_type": "stream",
     "text": [
      "lla\n",
      "llaH\n",
      "ollaH\n",
      "ollaH\n"
     ]
    }
   ],
   "source": [
    "s = 'Hallo'\n",
    "print(s[3:0:-1])    # das 4.Zeichen bis zum 1. Zeichen\n",
    "print(s[3::-1])     # das 4.Zeichen bis zum Anfang\n",
    "print(s[::-1])      # alles rückwärts\n",
    "print(s[10::-1])"
   ]
  },
  {
   "cell_type": "markdown",
   "metadata": {},
   "source": [
    "Es gelten hier die Gleichen Regeln wie beim vorwärts ausschneiden, das der Startindex größer als der Endindex sein muss, damit man rückwärts zählen kann."
   ]
  },
  {
   "cell_type": "markdown",
   "metadata": {},
   "source": [
    "Neben vorwärts und Rückwärts kann man natürlich auch jedes x-te Element addressieren:"
   ]
  },
  {
   "cell_type": "code",
   "execution_count": 50,
   "metadata": {},
   "outputs": [
    {
     "name": "stdout",
     "output_type": "stream",
     "text": [
      "Oie\n",
      "rvl\n"
     ]
    }
   ],
   "source": [
    "s = 'Oliver'\n",
    "print(s[::2])   # jedes 2. Element vorwärts\n",
    "print(s[::-2])  # jedes 2. Element rückwärts"
   ]
  },
  {
   "cell_type": "markdown",
   "metadata": {},
   "source": [
    "Für bestimmte Anwendungen müssen das Ausschneiden, die Richtung und x-te Element gleichzeitig ausgeführt werden."
   ]
  },
  {
   "cell_type": "markdown",
   "metadata": {},
   "source": [
    "## Strings verändern "
   ]
  },
  {
   "cell_type": "markdown",
   "metadata": {},
   "source": [
    "An dieser Stelle soll nochmal das Beispiel aufgegriffen werden, wie man einen String verändern kann:"
   ]
  },
  {
   "cell_type": "code",
   "execution_count": 51,
   "metadata": {},
   "outputs": [
    {
     "ename": "TypeError",
     "evalue": "'str' object does not support item assignment",
     "output_type": "error",
     "traceback": [
      "\u001b[0;31m---------------------------------------------------------------------------\u001b[0m",
      "\u001b[0;31mTypeError\u001b[0m                                 Traceback (most recent call last)",
      "\u001b[0;32m<ipython-input-51-d588dcceece1>\u001b[0m in \u001b[0;36m<module>\u001b[0;34m\u001b[0m\n\u001b[1;32m      1\u001b[0m \u001b[0ms\u001b[0m \u001b[0;34m=\u001b[0m \u001b[0;34m'hallo'\u001b[0m   \u001b[0;31m# das h soll durch ein H ersetzt werden\u001b[0m\u001b[0;34m\u001b[0m\u001b[0;34m\u001b[0m\u001b[0m\n\u001b[0;32m----> 2\u001b[0;31m \u001b[0ms\u001b[0m\u001b[0;34m[\u001b[0m\u001b[0;36m0\u001b[0m\u001b[0;34m]\u001b[0m \u001b[0;34m=\u001b[0m \u001b[0;34m'H'\u001b[0m\u001b[0;34m\u001b[0m\u001b[0;34m\u001b[0m\u001b[0m\n\u001b[0m",
      "\u001b[0;31mTypeError\u001b[0m: 'str' object does not support item assignment"
     ]
    }
   ],
   "source": [
    "s = 'hallo'   # das h soll durch ein H ersetzt werden\n",
    "s[0] = 'H'"
   ]
  },
  {
   "cell_type": "markdown",
   "metadata": {},
   "source": [
    "geht bekanntlicherweise schief. Mit Hilfe des Slicings lässt sich eine gute Lösung definieren:"
   ]
  },
  {
   "cell_type": "code",
   "execution_count": 52,
   "metadata": {},
   "outputs": [
    {
     "name": "stdout",
     "output_type": "stream",
     "text": [
      "Hallo\n"
     ]
    }
   ],
   "source": [
    "s = 'hallo'\n",
    "s = 'H' + s[1:]   # das H plus den Rest-String nach dem 'h'!\n",
    "print(s)"
   ]
  },
  {
   "cell_type": "markdown",
   "metadata": {},
   "source": [
    "## Zusammenfassung"
   ]
  },
  {
   "cell_type": "markdown",
   "metadata": {},
   "source": [
    "Anhand der Strings kann man das Slicing gut zeigen, aber die Regeln gelten auch allgemein für Container:"
   ]
  },
  {
   "cell_type": "markdown",
   "metadata": {},
   "source": [
    " * der Slicing-Index lässt sich wie folgt schreiben:\n",
    "\n",
    "   ```Python\n",
    "start:end:step\n",
    "   ```\n",
    "   \n",
    "   wobei `start`, `end`, `step` jeweils optional sind.\n",
    " * die ausgeschnittenen Elemente entsprechen einem Sub-Container und haben den gleichen Typ wie der Original -Container"
   ]
  },
  {
   "cell_type": "code",
   "execution_count": null,
   "metadata": {},
   "outputs": [],
   "source": []
  },
  {
   "cell_type": "code",
   "execution_count": null,
   "metadata": {},
   "outputs": [],
   "source": []
  },
  {
   "cell_type": "code",
   "execution_count": null,
   "metadata": {},
   "outputs": [],
   "source": []
  },
  {
   "cell_type": "markdown",
   "metadata": {},
   "source": [
    "Eine Idee für einen Algorithmus zur Berechnung der Indices lässt sich wie folgt schreiben. Nicht alle Situationen sind erfasst, aber er gibt einen Überblick:"
   ]
  },
  {
   "cell_type": "code",
   "execution_count": 53,
   "metadata": {},
   "outputs": [
    {
     "name": "stdout",
     "output_type": "stream",
     "text": [
      "1\n",
      "2\n",
      "3\n"
     ]
    }
   ],
   "source": [
    "s = 'Hallo'\n",
    "\n",
    "start = 1\n",
    "end = 4\n",
    "step = 1\n",
    "\n",
    "\n",
    "# adjust start and end index\n",
    "if end > len(s):\n",
    "    end = len(s)\n",
    "else:\n",
    "    end = end % len(s)\n",
    "    \n",
    "if start >= len(s):\n",
    "    start = len(s)-1\n",
    "else:\n",
    "    start = start % len(s)\n",
    "\n",
    "\n",
    "if step > 0:    # forward counting\n",
    "    while (start < end):\n",
    "        print(start)\n",
    "        start = start + step\n",
    "else:           # backward counting\n",
    "    while (start > end):\n",
    "        print(start)\n",
    "        start = start + step"
   ]
  },
  {
   "cell_type": "code",
   "execution_count": null,
   "metadata": {},
   "outputs": [],
   "source": []
  }
 ],
 "metadata": {
  "kernelspec": {
   "display_name": "Python 3",
   "language": "python",
   "name": "python3"
  },
  "language_info": {
   "codemirror_mode": {
    "name": "ipython",
    "version": 3
   },
   "file_extension": ".py",
   "mimetype": "text/x-python",
   "name": "python",
   "nbconvert_exporter": "python",
   "pygments_lexer": "ipython3",
   "version": "3.8.3"
  }
 },
 "nbformat": 4,
 "nbformat_minor": 4
}
