{
 "cells": [
  {
   "cell_type": "markdown",
   "metadata": {},
   "source": [
    "# Strings"
   ]
  },
  {
   "cell_type": "markdown",
   "metadata": {},
   "source": [
    "Nachdem die skalaren Datentypen in Python ausführlich behandelt wurden, kommen wir nun zu einer neuen Klasse von Datentypen, den Container-Typen, von denen die Strings sich als Beispiel für die ganze Klasse gut benutzen lassen."
   ]
  },
  {
   "cell_type": "markdown",
   "metadata": {},
   "source": [
    "## Definition"
   ]
  },
  {
   "cell_type": "markdown",
   "metadata": {},
   "source": [
    "Was sind Strings in Python? Ein String oder Zeichenkette ist eine Folge von keinem oder mehreren Zeichen! "
   ]
  },
  {
   "cell_type": "code",
   "execution_count": 47,
   "metadata": {},
   "outputs": [
    {
     "name": "stdout",
     "output_type": "stream",
     "text": [
      "Dies ist ein String!\n",
      "Dies ist auch ein String!\n",
      "a\n",
      "\n"
     ]
    }
   ],
   "source": [
    "s = 'Dies ist ein String!'       # oder\n",
    "t = \"Dies ist auch ein String!\"  # Mischung beider Quotes ist nicht erlaubt!\n",
    "c = 'a'                          # ein String mit nur einem Zeichen\n",
    "l = ''                           # ein leerer String\n",
    "print(s)\n",
    "print(t)\n",
    "print(c)\n",
    "print(l)"
   ]
  },
  {
   "cell_type": "markdown",
   "metadata": {},
   "source": [
    "Die Größe eines Strings ist nur vom vorhandenen Arbeitsspeicher begrenzt!"
   ]
  },
  {
   "cell_type": "markdown",
   "metadata": {},
   "source": [
    "Strings können auch spezielle Zeichen enthalten, die durch eine sog. Escape-Squenze `\\` eingeleitet werden:"
   ]
  },
  {
   "cell_type": "code",
   "execution_count": null,
   "metadata": {},
   "outputs": [],
   "source": [
    "s = '\\\"'    # quote \"\n",
    "s = '\\''    # quote '\n",
    "s = '\\n'    # einen Zeilenumbruch\n",
    "s = '\\t'    # Tabulator"
   ]
  },
  {
   "cell_type": "markdown",
   "metadata": {},
   "source": [
    "Mit der Zeit wurden weitere spezielle Strings eingeführt:"
   ]
  },
  {
   "cell_type": "code",
   "execution_count": 48,
   "metadata": {},
   "outputs": [
    {
     "name": "stdout",
     "output_type": "stream",
     "text": [
      "Dies ist ein Unicode-String: 😆\n",
      "Dies ist ein formatierter String: 1234\n",
      "Dies ist ein String für Labels beim Plotten\n"
     ]
    }
   ],
   "source": [
    "s = u'Dies ist ein Unicode-String: \\U0001F606'\n",
    "print(s)\n",
    "\n",
    "i = 1234\n",
    "\n",
    "s = f'Dies ist ein formatierter String: {i}'\n",
    "print(s)\n",
    "\n",
    "s = r'Dies ist ein String für Labels beim Plotten'\n",
    "print(s)"
   ]
  },
  {
   "cell_type": "markdown",
   "metadata": {},
   "source": [
    "## Umwandlungen"
   ]
  },
  {
   "cell_type": "markdown",
   "metadata": {},
   "source": [
    "Strings lassen sich auch umwandeln, z.B. in Zahlen und umgekehrt:"
   ]
  },
  {
   "cell_type": "code",
   "execution_count": 49,
   "metadata": {},
   "outputs": [
    {
     "name": "stdout",
     "output_type": "stream",
     "text": [
      "1234\n",
      "5678\n"
     ]
    }
   ],
   "source": [
    "s = '1234'\n",
    "print(int(s))\n",
    "i = 5678\n",
    "print(str(i))  # die Umwandlungsfunktion ist str(...) für die Strings"
   ]
  },
  {
   "cell_type": "markdown",
   "metadata": {},
   "source": [
    "## \"Mathematik\" mit Strings"
   ]
  },
  {
   "cell_type": "markdown",
   "metadata": {},
   "source": [
    "Was auf den ersten Blick etwas *komisch* anmutet, ist aber bei näheren Betrachtung logisch und einfach nachzvollziehen. Für die Strings sind in Python tatsächlich die mathematischen Operationen `+` und `*` definiert."
   ]
  },
  {
   "cell_type": "markdown",
   "metadata": {},
   "source": [
    "Mit dem Operator `+` lassen sich Strings zusammensetzen:"
   ]
  },
  {
   "cell_type": "code",
   "execution_count": 50,
   "metadata": {},
   "outputs": [
    {
     "name": "stdout",
     "output_type": "stream",
     "text": [
      "Oliver Cordes\n",
      "0123456789\n"
     ]
    }
   ],
   "source": [
    "s = 'Oliver' + ' Cordes'\n",
    "print(s)\n",
    "\n",
    "i = 0\n",
    "s = ''\n",
    "while i < 10:        # zähl von 0 bis 9\n",
    "    s = s + str(i)   # den String um ein Zeichen ergänzen\n",
    "    i = i + 1\n",
    "print(s)"
   ]
  },
  {
   "cell_type": "markdown",
   "metadata": {},
   "source": [
    "Mit dem Operator `*` lässt sich ein String *duplizieren* ... . Die Anzahl sollte mit einer positiven Ganzzahl gegeben werden (negative Zahlen sind kein Fehler, aber machen keinen Sinn!):"
   ]
  },
  {
   "cell_type": "code",
   "execution_count": 51,
   "metadata": {},
   "outputs": [
    {
     "name": "stdout",
     "output_type": "stream",
     "text": [
      "OliverOliver\n",
      "\n"
     ]
    }
   ],
   "source": [
    "s = 'Oliver' * 2\n",
    "print(s)\n",
    "s = 'Hallo' * -2\n",
    "print(s)"
   ]
  },
  {
   "cell_type": "markdown",
   "metadata": {},
   "source": [
    "## Container"
   ]
  },
  {
   "cell_type": "markdown",
   "metadata": {},
   "source": [
    "Unter Container-Typen kann man sich folgendes vorstellen, eine endliche Ansammlung von einzelnen *Teilen*, die man durchnummerieren kann. \n",
    "\n",
    "Bei den Strings ist das die Sammlung von einzelnen Zeichen. Eine erste wichtige Operation, die man auf Container anwenden kann, ist die Bestimmung der Anzahl der Teile oder Elemente. Dazu nutzt man die Funktion `len(...)`:"
   ]
  },
  {
   "cell_type": "code",
   "execution_count": 46,
   "metadata": {},
   "outputs": [
    {
     "name": "stdout",
     "output_type": "stream",
     "text": [
      "5\n"
     ]
    }
   ],
   "source": [
    "s = 'Hallo'\n",
    "print(len(s))   # gibt die Anzahl der Zeichen im String zurück"
   ]
  },
  {
   "cell_type": "markdown",
   "metadata": {},
   "source": [
    "Auf einzelne Elemente kann man mit dem `[...]`-Operator zugreifen:"
   ]
  },
  {
   "cell_type": "code",
   "execution_count": 55,
   "metadata": {},
   "outputs": [
    {
     "name": "stdout",
     "output_type": "stream",
     "text": [
      "H\n",
      "o\n",
      "o\n"
     ]
    },
    {
     "ename": "IndexError",
     "evalue": "string index out of range",
     "output_type": "error",
     "traceback": [
      "\u001b[0;31m---------------------------------------------------------------------------\u001b[0m",
      "\u001b[0;31mIndexError\u001b[0m                                Traceback (most recent call last)",
      "\u001b[0;32m<ipython-input-55-3ee37d783514>\u001b[0m in \u001b[0;36m<module>\u001b[0;34m\u001b[0m\n\u001b[1;32m      3\u001b[0m \u001b[0mprint\u001b[0m\u001b[0;34m(\u001b[0m\u001b[0ms\u001b[0m\u001b[0;34m[\u001b[0m\u001b[0;36m4\u001b[0m\u001b[0;34m]\u001b[0m\u001b[0;34m)\u001b[0m      \u001b[0;31m# das 5. Element\u001b[0m\u001b[0;34m\u001b[0m\u001b[0;34m\u001b[0m\u001b[0m\n\u001b[1;32m      4\u001b[0m \u001b[0mprint\u001b[0m\u001b[0;34m(\u001b[0m\u001b[0ms\u001b[0m\u001b[0;34m[\u001b[0m\u001b[0;34m-\u001b[0m\u001b[0;36m1\u001b[0m\u001b[0;34m]\u001b[0m\u001b[0;34m)\u001b[0m     \u001b[0;31m# das letzte Element\u001b[0m\u001b[0;34m\u001b[0m\u001b[0;34m\u001b[0m\u001b[0m\n\u001b[0;32m----> 5\u001b[0;31m \u001b[0mprint\u001b[0m\u001b[0;34m(\u001b[0m\u001b[0ms\u001b[0m\u001b[0;34m[\u001b[0m\u001b[0;34m-\u001b[0m\u001b[0;36m6\u001b[0m\u001b[0;34m]\u001b[0m\u001b[0;34m)\u001b[0m     \u001b[0;31m# ausserhalb des Bereiches\u001b[0m\u001b[0;34m\u001b[0m\u001b[0;34m\u001b[0m\u001b[0m\n\u001b[0m",
      "\u001b[0;31mIndexError\u001b[0m: string index out of range"
     ]
    }
   ],
   "source": [
    "s = 'Hallo'\n",
    "print(s[0])      # das erste Element\n",
    "print(s[4])      # das 5. Element\n",
    "print(s[-1])     # das letzte Element\n",
    "print(s[-6])     # ausserhalb des Bereiches"
   ]
  },
  {
   "cell_type": "markdown",
   "metadata": {},
   "source": [
    "Der Index bestimmt die Nummer des Elementes und gehen von `0` bis `len(...)-1` für positive Indices.  Negative Indices zählen mit `-1` für das letzte Element bis `-len(...)` für das erste Element. \n",
    "\n",
    "Einfacher kann man die Umrechnung von negative Indices in positive Indices mittels des Restoperators vornehmen:"
   ]
  },
  {
   "cell_type": "code",
   "execution_count": 56,
   "metadata": {},
   "outputs": [
    {
     "name": "stdout",
     "output_type": "stream",
     "text": [
      "o\n",
      "4\n",
      "o\n"
     ]
    }
   ],
   "source": [
    "s = 'Hallo'\n",
    "\n",
    "i = -1\n",
    "print(s[i])\n",
    "j = i % len(s)    # Restoperator! \n",
    "print(j)\n",
    "print(s[j])"
   ]
  },
  {
   "cell_type": "markdown",
   "metadata": {},
   "source": [
    "## Loops über Container"
   ]
  },
  {
   "cell_type": "markdown",
   "metadata": {},
   "source": [
    "Eine wichtige Eigenschaft von Containern ist, dass man einfach alle Elemente eines Container durchgehen kann. Dazu gibt es die sog. `for`-Loop, die Sie auch von der bash her kennen. Dort ist das Prinzip ähnlich, wobei in der Bash zum Beispiel der Container eine Liste von Dateinamen ist. "
   ]
  },
  {
   "cell_type": "markdown",
   "metadata": {},
   "source": [
    "Anwendungen sind vielfältig, hier ein Beispiel:"
   ]
  },
  {
   "cell_type": "code",
   "execution_count": 57,
   "metadata": {},
   "outputs": [
    {
     "name": "stdout",
     "output_type": "stream",
     "text": [
      "O\n",
      "l\n",
      "i\n",
      "v\n",
      "e\n",
      "r\n",
      " \n",
      "C\n",
      "o\n",
      "r\n",
      "d\n",
      "e\n",
      "s\n"
     ]
    }
   ],
   "source": [
    "s = 'Oliver Cordes'\n",
    "\n",
    "for c in s:     # gehe durch alle Zeichen des Strings und speicher das aktuelle Zeichen in c\n",
    "    print(c)"
   ]
  },
  {
   "cell_type": "markdown",
   "metadata": {},
   "source": [
    "Der generelle Aufbau einer `for`-Loop ist:\n",
    "\n",
    "```Python\n",
    "for <variable> in container:\n",
    "    Anweisungsblock\n",
    "```\n",
    "\n",
    "Natürlich lässt sich diese Schleife in eine `while`-Schleife umwandeln, aber die `for`-Schleife bietet diese Vorteile:\n",
    " * keine Schleifenabbruchbedingung\n",
    " * keine zusätzliche Zählvariable\n",
    " * nicht so Fehleranfällig wie `while`"
   ]
  },
  {
   "cell_type": "markdown",
   "metadata": {},
   "source": [
    "## Änderungen von Strings"
   ]
  },
  {
   "cell_type": "markdown",
   "metadata": {},
   "source": [
    "In anderen Sprachen lassen sich Strings zeichenweise verändern. Man würde folgendes ausführen:"
   ]
  },
  {
   "cell_type": "code",
   "execution_count": 58,
   "metadata": {},
   "outputs": [
    {
     "ename": "TypeError",
     "evalue": "'str' object does not support item assignment",
     "output_type": "error",
     "traceback": [
      "\u001b[0;31m---------------------------------------------------------------------------\u001b[0m",
      "\u001b[0;31mTypeError\u001b[0m                                 Traceback (most recent call last)",
      "\u001b[0;32m<ipython-input-58-d588dcceece1>\u001b[0m in \u001b[0;36m<module>\u001b[0;34m\u001b[0m\n\u001b[1;32m      1\u001b[0m \u001b[0ms\u001b[0m \u001b[0;34m=\u001b[0m \u001b[0;34m'hallo'\u001b[0m   \u001b[0;31m# das h soll durch ein H ersetzt werden\u001b[0m\u001b[0;34m\u001b[0m\u001b[0;34m\u001b[0m\u001b[0m\n\u001b[0;32m----> 2\u001b[0;31m \u001b[0ms\u001b[0m\u001b[0;34m[\u001b[0m\u001b[0;36m0\u001b[0m\u001b[0;34m]\u001b[0m \u001b[0;34m=\u001b[0m \u001b[0;34m'H'\u001b[0m\u001b[0;34m\u001b[0m\u001b[0;34m\u001b[0m\u001b[0m\n\u001b[0m",
      "\u001b[0;31mTypeError\u001b[0m: 'str' object does not support item assignment"
     ]
    }
   ],
   "source": [
    "s = 'hallo'   # das h soll durch ein H ersetzt werden\n",
    "s[0] = 'H'"
   ]
  },
  {
   "cell_type": "markdown",
   "metadata": {},
   "source": [
    "Das ist bei anderen Containern möglich, aber Strings gehören zu den sog. `immutable` Typen, d.h. die Elemente des Containers können **nicht** mehr verändert werden. \n",
    "\n",
    "Eine Lösung des obigen Problems wäre mit dem sog. Slicing zu erledigen, was Thema des nächsten Videos sein wird."
   ]
  },
  {
   "cell_type": "markdown",
   "metadata": {},
   "source": [
    "## Vergleiche mit Strings"
   ]
  },
  {
   "cell_type": "markdown",
   "metadata": {},
   "source": [
    "Im Vergleich mit anderen Programmiersprachen kann man in Python *nativ* Strings miteinander vergleichen:"
   ]
  },
  {
   "cell_type": "code",
   "execution_count": 59,
   "metadata": {},
   "outputs": [
    {
     "name": "stdout",
     "output_type": "stream",
     "text": [
      "True\n",
      "False\n",
      "False\n"
     ]
    }
   ],
   "source": [
    "s = 'Hallo'\n",
    "\n",
    "print(s == 'Hallo')  # identisch\n",
    "print(s == 'HALLO')  # muss absolut identisch sein!\n",
    "print(s == 'Hall')   # muss gleich lang sein!"
   ]
  },
  {
   "cell_type": "markdown",
   "metadata": {},
   "source": [
    "Spannend werden die Vergleiche mit `<` und `>`:"
   ]
  },
  {
   "cell_type": "code",
   "execution_count": 60,
   "metadata": {},
   "outputs": [
    {
     "name": "stdout",
     "output_type": "stream",
     "text": [
      "True\n",
      "False\n",
      "True\n",
      "True\n",
      "True\n"
     ]
    }
   ],
   "source": [
    "s = 'Hallo'\n",
    "\n",
    "print(s > 'Hall')      \n",
    "print(s < 'Hall')  \n",
    "print(s < 'Halloo')\n",
    "print(s < 'hallo')\n",
    "print(s > '1')"
   ]
  },
  {
   "cell_type": "markdown",
   "metadata": {},
   "source": [
    "Zum Verständnis muss man die alphabetische Sortierung im Computer verstehen. Dazu muss man die sog. ASCII-Tabellen nehmen, die noch aus den Anfängen der Computer stammen. \n",
    "\n",
    "Wenn man einzelne Zeichen miteinander vergleicht, so kommen grob erst die Zahlen, dann die großen und dann die kleinen Buchstaben. Darstellen kann man das, wenn man ein Zeichen mit der `ord`-Funktion in eine ASCII-Nummer konvertiert:"
   ]
  },
  {
   "cell_type": "code",
   "execution_count": 61,
   "metadata": {},
   "outputs": [
    {
     "name": "stdout",
     "output_type": "stream",
     "text": [
      "53\n",
      "65\n",
      "97\n"
     ]
    }
   ],
   "source": [
    "print(ord('5'))\n",
    "print(ord('A'))\n",
    "print(ord('a'))"
   ]
  },
  {
   "cell_type": "markdown",
   "metadata": {},
   "source": [
    "Damit sieht man, wie im Prinzip ein Vergleich durchgeführt wird. \n",
    "\n",
    "Verglichen werden die Zeichen vom Anfang der Strings und bei Gleichheit dann weiter zu den nächsten Strings.\n",
    "Kürzere Strings sind immer **kleiner** als die längeren Strings, wenn man an die kürzeren Strings Zeichen anfügt!"
   ]
  },
  {
   "cell_type": "code",
   "execution_count": null,
   "metadata": {},
   "outputs": [],
   "source": []
  }
 ],
 "metadata": {
  "kernelspec": {
   "display_name": "Python 3",
   "language": "python",
   "name": "python3"
  },
  "language_info": {
   "codemirror_mode": {
    "name": "ipython",
    "version": 3
   },
   "file_extension": ".py",
   "mimetype": "text/x-python",
   "name": "python",
   "nbconvert_exporter": "python",
   "pygments_lexer": "ipython3",
   "version": "3.8.3"
  }
 },
 "nbformat": 4,
 "nbformat_minor": 4
}
