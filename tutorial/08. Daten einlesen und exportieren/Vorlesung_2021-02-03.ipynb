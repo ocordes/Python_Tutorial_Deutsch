{
 "cells": [
  {
   "cell_type": "markdown",
   "metadata": {},
   "source": [
    "# Vorlesung Python 5 - 03.02.2021"
   ]
  },
  {
   "cell_type": "markdown",
   "metadata": {},
   "source": [
    "## 1. Ankündigungen"
   ]
  },
  {
   "cell_type": "markdown",
   "metadata": {},
   "source": [
    "Wichtige Termine:\n",
    "\n",
    " * Anmeldung auf Basis zur Berichtsabgabe - bis zum 05.02.2021\n",
    " * Abgabe des Berichts am **19.02.2021** digital auf eCampus\n",
    " \n",
    "Die Anleitungen für den Latex- und Linux-Block sind bereits online, für Python/Statistik wird in Kürze online gestellt.\n",
    "\n",
    "**Wichtig**: \n",
    "\n",
    " * Studenten, die den Kurs für 4 LP belegen (*physik131*), brauchen nur einen Linux- und Python/Statistik-Bericht abgeben\n",
    " * Studenten, die den Kurs für 6 LP belegen (*physik132*), müssen alle Teilberichte abgeben"
   ]
  },
  {
   "cell_type": "markdown",
   "metadata": {},
   "source": [
    "## 2. Python File-IO"
   ]
  },
  {
   "cell_type": "markdown",
   "metadata": {},
   "source": [
    "Für das Bearbeiten von Daten aus Dateien haben wir im Rahmen des `numpy`-Moduls schon das Einlesen mit `numpy.loadtxt(...)` genutzt. \n",
    "\n",
    "An einigen Stellen, möchte man aber auch Daten, z.B. Resultate von Fits in Dateien abspeichern, die bisher mit `print` ausgegeben wurden.\n",
    "\n",
    "Zum Speichern von kompletten Datensätzen kann man die Funktion `numpy.savetxt(...)`, auf die ich hier nicht eingehen möchte."
   ]
  },
  {
   "cell_type": "markdown",
   "metadata": {},
   "source": [
    "**Beispiel**:\n",
    "\n",
    "In dem Beispiel haben wir 2 `numpy`-Arrays, gefüllt mit Zufallszahlen und wollen als Vergleich jeweils den Mittelwert, die Standard-Abweichung und die Varianz bestimmen und in einer LaTeX-Tabelle abspeichern:"
   ]
  },
  {
   "cell_type": "code",
   "execution_count": 10,
   "metadata": {},
   "outputs": [],
   "source": [
    "import numpy as np\n",
    "import numpy.random as nr\n",
    "\n",
    "num=10000\n",
    "\n",
    "array1 = nr.normal(loc=0.5, scale=0.1, size=num)\n",
    "array2 = nr.uniform(low=0., high=1., size=num)"
   ]
  },
  {
   "cell_type": "markdown",
   "metadata": {},
   "source": [
    "Zum Testen kann man die Werte berechnen:"
   ]
  },
  {
   "cell_type": "code",
   "execution_count": 11,
   "metadata": {},
   "outputs": [
    {
     "name": "stdout",
     "output_type": "stream",
     "text": [
      "0.5000823554568489\n",
      "0.09936090676081101\n",
      "0.009872589792330579\n",
      "0.4928602555231697\n",
      "0.2895868928273825\n",
      "0.08386056849741792\n"
     ]
    }
   ],
   "source": [
    "print(array1.mean())\n",
    "print(array1.std())\n",
    "print(array1.var())\n",
    "print(array2.mean())\n",
    "print(array2.std())\n",
    "print(array2.var())"
   ]
  },
  {
   "cell_type": "markdown",
   "metadata": {},
   "source": [
    "Ein besserer Output wäre so:"
   ]
  },
  {
   "cell_type": "code",
   "execution_count": 12,
   "metadata": {},
   "outputs": [
    {
     "name": "stdout",
     "output_type": "stream",
     "text": [
      "------------------------------------------------------------\n",
      "Verteilung | Mittelwert | Standardabweichung | Varianz\n",
      "------------------------------------------------------------\n",
      "Normal     | 0.50008236 | 0.09936091         | 0.00987259\n",
      "Gleich     | 0.49286026 | 0.28958689         | 0.08386057\n",
      "------------------------------------------------------------\n"
     ]
    }
   ],
   "source": [
    "print('-'*60)\n",
    "print('Verteilung | Mittelwert | Standardabweichung | Varianz')\n",
    "print('-'*60)\n",
    "print(f'Normal     | {array1.mean():.8f} | {array1.std():.8f}         | {array1.var():.8f}')\n",
    "print(f'Gleich     | {array2.mean():.8f} | {array2.std():.8f}         | {array2.var():.8f}')\n",
    "print('-'*60)"
   ]
  },
  {
   "cell_type": "markdown",
   "metadata": {},
   "source": [
    "Oder als Latex-Format:"
   ]
  },
  {
   "cell_type": "code",
   "execution_count": 13,
   "metadata": {},
   "outputs": [
    {
     "name": "stdout",
     "output_type": "stream",
     "text": [
      "\\begin{tabular}[h]{l|l|l|l}\n",
      " \\hline\n",
      " Verteilung & Mittelwert & Standardabweichung & Varianz\\\\\n",
      " \\hline\n",
      " Normal & 0.50008236 & 0.09936091 & 0.00987259\\\\\n",
      " Gleich & 0.49286026 & 0.28958689 & 0.08386057\\\\\n",
      " \\hline\n",
      "\\end{tabular}\n"
     ]
    }
   ],
   "source": [
    "print('\\\\begin{tabular}[h]{l|l|l|l}')\n",
    "print(' \\\\hline')\n",
    "print(' Verteilung & Mittelwert & Standardabweichung & Varianz\\\\\\\\')\n",
    "print(' \\\\hline')\n",
    "print(f' Normal & {array1.mean():.8f} & {array1.std():.8f} & {array1.var():.8f}\\\\\\\\')\n",
    "print(f' Gleich & {array2.mean():.8f} & {array2.std():.8f} & {array2.var():.8f}\\\\\\\\')\n",
    "print(' \\\\hline')\n",
    "print('\\\\end{tabular}')"
   ]
  },
  {
   "cell_type": "markdown",
   "metadata": {},
   "source": [
    "**Wichtig**: um einen `\\` zu erhalten, muss man in der Ausgabe `\\\\` schreiben!"
   ]
  },
  {
   "cell_type": "markdown",
   "metadata": {},
   "source": [
    "### 2.1 print"
   ]
  },
  {
   "cell_type": "markdown",
   "metadata": {},
   "source": [
    "Speichern in einer Datei kann man mit `print` erledigen:"
   ]
  },
  {
   "cell_type": "code",
   "execution_count": 14,
   "metadata": {},
   "outputs": [],
   "source": [
    "with open('output_print.txt', 'w') as f:\n",
    "    print('\\\\begin{tabular}[h]{l|l|l|l}', file=f)\n",
    "    print(' \\\\hline', file=f)\n",
    "    print(' Verteilung & Mittelwert & Standardabweichung & Varianz\\\\\\\\', file=f)\n",
    "    print(' \\\\hline', file=f)\n",
    "    print(f' Normal & {array1.mean():.8f} & {array1.std():.8f} & {array1.var():.8f}\\\\\\\\', file=f)\n",
    "    print(f' Gleich & {array2.mean():.8f} & {array2.std():.8f} & {array2.var():.8f}\\\\\\\\', file=f)\n",
    "    print(' \\\\hline', file=f)\n",
    "    print('\\\\end{tabular}', file=f)"
   ]
  },
  {
   "cell_type": "markdown",
   "metadata": {},
   "source": [
    "Hier werden gleich zwei Konzepte verwendet:"
   ]
  },
  {
   "cell_type": "markdown",
   "metadata": {},
   "source": [
    "### 1. File-Objekte"
   ]
  },
  {
   "cell_type": "markdown",
   "metadata": {},
   "source": [
    "In Python wie in anderen Programmiersprachen gibt es sog. File-Objekte, die auf relativ einfache Art und Weise das Lesen- und auch Schreiben von Dateien ermöglichen:"
   ]
  },
  {
   "cell_type": "markdown",
   "metadata": {},
   "source": [
    "#### File-Objekte anlegen"
   ]
  },
  {
   "cell_type": "markdown",
   "metadata": {},
   "source": [
    "File-Objekte werden mit `open` erzeugt:\n",
    "\n",
    "```Python\n",
    "f = open(<filename>, <permission>)\n",
    "```\n",
    "\n",
    " * `filename` ist einfach der Dateiname und kann auch Verzeichnisse enthalten\n",
    " * `permission` kann folgendes sein:\n",
    "    * `r`  zum Lesen\n",
    "    * `w`  zum Schreiben\n",
    "    * `a`  zum Anhängen\n",
    "    * und noch ein paar mehr, siehe `help(open)` \n",
    "    \n",
    "Rückgabewert ist eine Variable, mit der man Lesen/Schreiben kann"
   ]
  },
  {
   "cell_type": "markdown",
   "metadata": {},
   "source": [
    "#### File-Objekte schliessen"
   ]
  },
  {
   "cell_type": "markdown",
   "metadata": {},
   "source": [
    "Jedes geöffnete File-Objekt muss von Hand geschlossen werden oder am Programmende werden alle offenen Objekte geschlossen:"
   ]
  },
  {
   "cell_type": "markdown",
   "metadata": {},
   "source": [
    "```Python\n",
    "f.close()   # schliesst ein offenes File-Objekt\n",
    "```\n",
    "\n",
    "**Wichtig**: Mehrmaliges Schliessen gibt einen Fehler!"
   ]
  },
  {
   "cell_type": "markdown",
   "metadata": {},
   "source": [
    "### 2. with-Umgebung"
   ]
  },
  {
   "cell_type": "markdown",
   "metadata": {},
   "source": [
    "Die `with`-Umgebung wird gerne bei File-Operationen genommen, weil sie ein wenig Arbeit beim Programmieren abnimmt. Die Umgebung kann noch erheblich mehr, worauf wir hier aber nicht eingehen werden."
   ]
  },
  {
   "cell_type": "markdown",
   "metadata": {},
   "source": [
    "Aus der Syntax heraus wird hier eine andere Art der Deklaration gemacht:"
   ]
  },
  {
   "cell_type": "markdown",
   "metadata": {},
   "source": [
    "```Python\n",
    "...\n",
    "with open(...) as f:\n",
    "    block\n",
    "...\n",
    "````\n",
    "\n",
    "ist äquivalent zu:\n",
    "\n",
    "```Python\n",
    "f = open(...)\n",
    "block\n",
    "f.close()\n",
    "```"
   ]
  },
  {
   "cell_type": "markdown",
   "metadata": {},
   "source": [
    "Im Prinzip wird `with` hier verwendet, um das `f.close()` zu sparen, was manchmal von den Programmierern auch *vergessen* wird!"
   ]
  },
  {
   "cell_type": "markdown",
   "metadata": {},
   "source": [
    "Zurück zu dem `print`-Beispiel:"
   ]
  },
  {
   "cell_type": "markdown",
   "metadata": {},
   "source": [
    "Mit dem zusätzlichen Argument `file=` in `print` kann man ein offenes File-Objekt angeben, wobei dann die Ausgabe in diese Datei geschrieben wird!"
   ]
  },
  {
   "cell_type": "markdown",
   "metadata": {},
   "source": [
    "### 2.2 write"
   ]
  },
  {
   "cell_type": "markdown",
   "metadata": {},
   "source": [
    "Anstelle von `print` kann man auch die Funktion `f.write(...)` verwenden:"
   ]
  },
  {
   "cell_type": "code",
   "execution_count": 16,
   "metadata": {},
   "outputs": [],
   "source": [
    "with open('output_print.txt', 'w') as f:\n",
    "    f.write('\\\\begin{tabular}[h]{l|l|l|l}\\n')\n",
    "    f.write(' \\\\hline\\n')\n",
    "    f.write(' Verteilung & Mittelwert & Standardabweichung & Varianz\\\\\\\\\\n')\n",
    "    f.write(' \\\\hline\\n')\n",
    "    f.write(f' Normal & {array1.mean():.8f} & {array1.std():.8f} & {array1.var():.8f}\\\\\\\\\\n')\n",
    "    f.write(f' Gleich & {array2.mean():.8f} & {array2.std():.8f} & {array2.var():.8f}\\\\\\\\\\n')\n",
    "    f.write(' \\\\hline\\n')\n",
    "    f.write('\\\\end{tabular}\\n')"
   ]
  },
  {
   "cell_type": "markdown",
   "metadata": {},
   "source": [
    "**Wichtig:** `f.write(...)` schreibt keine automatischen Returns am Ende der Zeile, die muss man manuell angeben!"
   ]
  },
  {
   "cell_type": "markdown",
   "metadata": {},
   "source": [
    "### 2.3 writelines"
   ]
  },
  {
   "cell_type": "markdown",
   "metadata": {},
   "source": [
    "Eine relativ elegante Lösung ist, dass man den Ausgabetext in einer Liste von Strings abspeichert:"
   ]
  },
  {
   "cell_type": "code",
   "execution_count": 18,
   "metadata": {},
   "outputs": [
    {
     "name": "stdout",
     "output_type": "stream",
     "text": [
      "['\\\\begin{tabular}[h]{l|l|l|l}\\n', ' \\\\hline\\n', ' Verteilung & Mittelwert & Standardabweichung & Varianz\\\\\\\\\\n', ' \\\\hline\\n', ' Normal & 0.50008236 & 0.09936091 & 0.00987259\\\\\\\\\\n', ' Gleich & 0.49286026 & 0.28958689 & 0.08386057\\\\\\\\\\n', ' \\\\hline\\n', '\\\\end{tabular}\\n']\n"
     ]
    }
   ],
   "source": [
    "text = list()\n",
    "text.append('\\\\begin{tabular}[h]{l|l|l|l}\\n')\n",
    "text.append(' \\\\hline\\n')\n",
    "text.append(' Verteilung & Mittelwert & Standardabweichung & Varianz\\\\\\\\\\n')\n",
    "text.append(' \\\\hline\\n')\n",
    "text.append(f' Normal & {array1.mean():.8f} & {array1.std():.8f} & {array1.var():.8f}\\\\\\\\\\n')\n",
    "text.append(f' Gleich & {array2.mean():.8f} & {array2.std():.8f} & {array2.var():.8f}\\\\\\\\\\n')\n",
    "text.append(' \\\\hline\\n')\n",
    "text.append('\\\\end{tabular}\\n')\n",
    "\n",
    "print(text)"
   ]
  },
  {
   "cell_type": "markdown",
   "metadata": {},
   "source": [
    "und dann abspeichern:"
   ]
  },
  {
   "cell_type": "code",
   "execution_count": 19,
   "metadata": {},
   "outputs": [],
   "source": [
    "with open('output.tex', 'w') as f:\n",
    "    f.writelines(text)"
   ]
  },
  {
   "cell_type": "markdown",
   "metadata": {},
   "source": [
    ":-)"
   ]
  },
  {
   "cell_type": "markdown",
   "metadata": {},
   "source": [
    "## 3. Hilfe zu Python / Debugging"
   ]
  },
  {
   "cell_type": "markdown",
   "metadata": {},
   "source": [
    "An dieser Stelle sollen einmal alle Möglichkeiten an Hilfe zum Nutzen von Python dargestellt werden. als Beispiel nehmen wir nochmal das `kafe2`-Modul:"
   ]
  },
  {
   "cell_type": "markdown",
   "metadata": {},
   "source": [
    "### 3.1 direkte Hilfe"
   ]
  },
  {
   "cell_type": "code",
   "execution_count": 20,
   "metadata": {},
   "outputs": [
    {
     "name": "stdout",
     "output_type": "stream",
     "text": [
      "{'did_fit': True, 'cost': 2.6779212418183818, 'ndf': 2, 'goodness_of_fit': 2.6779212418183818, 'cost/ndf': 1.3389606209091909, 'chi2_probability': 0.2621179669793847, 'parameter_values': OrderedDict([('a', 2.410372330912922), ('b', -0.14822776208071486)]), 'parameter_cov_mat': array([[ 0.01605522, -0.04370975],\n",
      "       [-0.04370975,  0.14386601]]), 'parameter_errors': OrderedDict([('a', 0.1267089696080867), ('b', 0.37929611386007195)]), 'parameter_cor_mat': array([[ 1.        , -0.90947877],\n",
      "       [-0.90947877,  1.        ]]), 'asymmetric_parameter_errors': None}\n"
     ]
    }
   ],
   "source": [
    "%matplotlib inline\n",
    "\n",
    "from kafe2 import XYContainer, Fit, Plot\n",
    "\n",
    "import numpy as np\n",
    "import matplotlib.pyplot as plt\n",
    "\n",
    "# the linear model function\n",
    "def linear_model(x, a, b):\n",
    "    # Our first model is a simple linear function\n",
    "    return a * x + b\n",
    "\n",
    "\n",
    "# the numpy data\n",
    "x_data = np.array([1.0, 2.0, 3.0, 4.0])\n",
    "y_data = np.array([2.3, 4.2, 7.5, 9.4])\n",
    "y_err  = np.array([0.3,0.45,0.35,0.25])\n",
    "\n",
    "# define the data object\n",
    "xy_data = XYContainer(x_data=x_data, y_data=y_data)\n",
    "xy_data.add_error(axis='y', err_val= y_err) \n",
    "\n",
    "# define the fit object\n",
    "my_fit = Fit(data=xy_data, model_function=linear_model) \n",
    "\n",
    "results = my_fit.do_fit()   # do the fit!\n",
    "\n",
    "print(results)"
   ]
  },
  {
   "cell_type": "code",
   "execution_count": 21,
   "metadata": {},
   "outputs": [
    {
     "name": "stdout",
     "output_type": "stream",
     "text": [
      "Help on XYFit in module kafe2.fit.xy.fit object:\n",
      "\n",
      "class XYFit(kafe2.fit._base.fit.FitBase)\n",
      " |  XYFit(xy_data, model_function=<function linear_model at 0x7ff54e9bbc10>, cost_function=<kafe2.fit.xy.cost.XYCostFunction_Chi2 object at 0x7ff54e966c70>, minimizer=None, minimizer_kwargs=None, dynamic_error_algorithm='nonlinear')\n",
      " |  \n",
      " |  This is a purely abstract class implementing the minimal interface required by all\n",
      " |  types of fitters.\n",
      " |  \n",
      " |  Method resolution order:\n",
      " |      XYFit\n",
      " |      kafe2.fit._base.fit.FitBase\n",
      " |      kafe2.fit.io.file.FileIOMixin\n",
      " |      builtins.object\n",
      " |  \n",
      " |  Methods defined here:\n",
      " |  \n",
      " |  __init__(self, xy_data, model_function=<function linear_model at 0x7ff54e9bbc10>, cost_function=<kafe2.fit.xy.cost.XYCostFunction_Chi2 object at 0x7ff54e966c70>, minimizer=None, minimizer_kwargs=None, dynamic_error_algorithm='nonlinear')\n",
      " |      Construct a fit of a model to *xy* data.\n",
      " |      \n",
      " |      :param xy_data: the x and y measurement values\n",
      " |      :type xy_data: (2, N)-array of float\n",
      " |      :param model_function: the model function\n",
      " |      :type model_function: :py:class:`~kafe2.fit.xy.XYModelFunction` or unwrapped native Python function\n",
      " |      :param cost_function: the cost function\n",
      " |      :type cost_function: :py:class:`~kafe2.fit._base.CostFunctionBase`-derived or unwrapped native Python function\n",
      " |      :param minimizer: the minimizer to use for fitting.\n",
      " |      :type minimizer: None, \"iminuit\", \"tminuit\", or \"scipy\".\n",
      " |      :param minimizer_kwargs: dictionary with kwargs for the minimizer.\n",
      " |      :type minimizer_kwargs: dict\n",
      " |  \n",
      " |  add_error(self, axis, err_val, name=None, correlation=0, relative=False, reference='data')\n",
      " |      Add an uncertainty source for axis to the data container.\n",
      " |      Returns an error id which uniquely identifies the created error source.\n",
      " |      \n",
      " |      :param axis: ``'x'``/``0`` or ``'y'``/``1``\n",
      " |      :type axis: str or int\n",
      " |      :param err_val: pointwise uncertainty/uncertainties for all data points\n",
      " |      :type err_val: float or iterable of float\n",
      " |      :param correlation: correlation coefficient between any two distinct data points\n",
      " |      :type correlation: float\n",
      " |      :param relative: if ``True``, **err_val** will be interpreted as a *relative* uncertainty\n",
      " |      :type relative: bool\n",
      " |      :param reference: which reference values to use when calculating absolute errors from relative errors\n",
      " |      :type reference: 'data' or 'model'\n",
      " |      :return: error id\n",
      " |      :rtype: int\n",
      " |  \n",
      " |  add_matrix_error(self, axis, err_matrix, matrix_type, name=None, err_val=None, relative=False, reference='data')\n",
      " |      Add a matrix uncertainty source for an axis to the data container.\n",
      " |      Returns an error id which uniquely identifies the created error source.\n",
      " |      \n",
      " |      :param axis: ``'x'``/``0`` or ``'y'``/``1``\n",
      " |      :type axis: str or int\n",
      " |      :param err_matrix: covariance or correlation matrix\n",
      " |      :param matrix_type: one of ``'covariance'``/``'cov'`` or ``'correlation'``/``'cor'``\n",
      " |      :type matrix_type: str\n",
      " |      :param err_val: the pointwise uncertainties (mandatory if only a correlation matrix is given)\n",
      " |      :type err_val: iterable of float\n",
      " |      :param relative: if ``True``, the covariance matrix and/or **err_val** will be interpreted as a *relative* uncertainty\n",
      " |      :type relative: bool\n",
      " |      :param reference: which reference values to use when calculating absolute errors from relative errors\n",
      " |      :type reference: 'data' or 'model'\n",
      " |      :return: error id\n",
      " |      :rtype: int\n",
      " |  \n",
      " |  eval_model_function(self, x=None, model_parameters=None)\n",
      " |      Evaluate the model function.\n",
      " |      \n",
      " |      :param x: values of *x* at which to evaluate the model function (if ``None``, the data *x* values are used)\n",
      " |      :type x: iterable of float\n",
      " |      :param model_parameters: the model parameter values (if ``None``, the current values are used)\n",
      " |      :type model_parameters: iterable of float\n",
      " |      :return: model function values\n",
      " |      :rtype: :py:class:`numpy.ndarray`\n",
      " |  \n",
      " |  eval_model_function_derivative_by_parameters(self, x=None, model_parameters=None)\n",
      " |      Evaluate the model function derivative for each parameter.\n",
      " |      \n",
      " |      :param x: values of *x* at which to evaluate the model function (if ``None``, the data *x* values are used)\n",
      " |      :type x: iterable of float\n",
      " |      :param model_parameters: the model parameter values (if ``None``, the current values are used)\n",
      " |      :type model_parameters: iterable of float\n",
      " |      :return: model function values\n",
      " |      :rtype: :py:class:`numpy.ndarray`\n",
      " |  \n",
      " |  ----------------------------------------------------------------------\n",
      " |  Readonly properties defined here:\n",
      " |  \n",
      " |  data_cor_mat\n",
      " |      the data *xy* correlation matrix (projected onto the *y* axis)\n",
      " |  \n",
      " |  data_cov_mat\n",
      " |      the data *xy* covariance matrix (projected onto the *y* axis)\n",
      " |  \n",
      " |  data_cov_mat_inverse\n",
      " |      inverse of the data *xy* covariance matrix (projected onto the *y* axis, ``None`` if\n",
      " |      singular)\n",
      " |  \n",
      " |  data_error\n",
      " |      array of pointwise *xy* uncertainties (projected onto the *y* axis)\n",
      " |  \n",
      " |  has_x_errors\n",
      " |      ``True`` if at least one *x* uncertainty source has been defined\n",
      " |  \n",
      " |  has_y_errors\n",
      " |      ``True`` if at least one *y* uncertainty source has been defined\n",
      " |  \n",
      " |  model\n",
      " |      (2, N)-array containing *x* and *y* model values\n",
      " |  \n",
      " |  model_cor_mat\n",
      " |      the model *xy* correlation matrix (projected onto the *y* axis)\n",
      " |  \n",
      " |  model_cov_mat\n",
      " |      the model *xy* covariance matrix (projected onto the *y* axis)\n",
      " |  \n",
      " |  model_cov_mat_inverse\n",
      " |      inverse of the model *xy* covariance matrix (projected onto the *y* axis, ``None`` if\n",
      " |      singular)\n",
      " |  \n",
      " |  model_error\n",
      " |      array of pointwise model *xy* uncertainties (projected onto the *y* axis)\n",
      " |  \n",
      " |  total_cov_mat\n",
      " |      the total *xy* covariance matrix (projected onto the *y* axis)\n",
      " |  \n",
      " |  total_cov_mat_inverse\n",
      " |      inverse of the total *xy* covariance matrix (projected onto the *y* axis, ``None`` if\n",
      " |      singular)\n",
      " |  \n",
      " |  total_error\n",
      " |      array of pointwise total *xy* uncertainties (projected onto the *y* axis)\n",
      " |  \n",
      " |  x_data\n",
      " |      array of measurement *x* values\n",
      " |  \n",
      " |  x_data_cor_mat\n",
      " |      the data *x* correlation matrix\n",
      " |  \n",
      " |  x_data_cov_mat\n",
      " |      the data *x* covariance matrix\n",
      " |  \n",
      " |  x_data_cov_mat_inverse\n",
      " |      inverse of the data *x* covariance matrix (or ``None`` if singular)\n",
      " |  \n",
      " |  x_data_error\n",
      " |      array of pointwise *x* data uncertainties\n",
      " |  \n",
      " |  x_model\n",
      " |  \n",
      " |  x_model_cor_mat\n",
      " |      the model *x* correlation matrix\n",
      " |  \n",
      " |  x_model_cov_mat\n",
      " |      the model *x* covariance matrix\n",
      " |  \n",
      " |  x_model_cov_mat_inverse\n",
      " |      inverse of the model *x* covariance matrix (or ``None`` if singular)\n",
      " |  \n",
      " |  x_model_error\n",
      " |      array of pointwise model *x* uncertainties\n",
      " |  \n",
      " |  x_range\n",
      " |      range of the *x* measurement data\n",
      " |  \n",
      " |  x_total_cor_mat\n",
      " |      the total *x* correlation matrix\n",
      " |  \n",
      " |  x_total_cov_mat\n",
      " |      the total *x* covariance matrix\n",
      " |  \n",
      " |  x_total_cov_mat_inverse\n",
      " |      inverse of the total *x* covariance matrix (or ``None`` if singular)\n",
      " |  \n",
      " |  x_total_error\n",
      " |      array of pointwise total *x* uncertainties\n",
      " |  \n",
      " |  y_data\n",
      " |      array of measurement data *y* values\n",
      " |  \n",
      " |  y_data_cor_mat\n",
      " |      the data *y* correlation matrix\n",
      " |  \n",
      " |  y_data_cov_mat\n",
      " |      the data *y* covariance matrix\n",
      " |  \n",
      " |  y_data_cov_mat_inverse\n",
      " |      inverse of the data *y* covariance matrix (or ``None`` if singular)\n",
      " |  \n",
      " |  y_data_error\n",
      " |      array of pointwise *y* data uncertainties\n",
      " |  \n",
      " |  y_model\n",
      " |      array of *y* model predictions for the data points\n",
      " |  \n",
      " |  y_model_cor_mat\n",
      " |      the model *y* correlation matrix\n",
      " |  \n",
      " |  y_model_cov_mat\n",
      " |      the model *y* covariance matrix\n",
      " |  \n",
      " |  y_model_cov_mat_inverse\n",
      " |      inverse of the model *y* covariance matrix (or ``None`` if singular)\n",
      " |  \n",
      " |  y_model_error\n",
      " |      array of pointwise model *y* uncertainties\n",
      " |  \n",
      " |  y_range\n",
      " |      range of the *y* measurement data\n",
      " |  \n",
      " |  y_total_cor_mat\n",
      " |      the total *y* correlation matrix\n",
      " |  \n",
      " |  y_total_cov_mat\n",
      " |      the total *y* covariance matrix\n",
      " |  \n",
      " |  y_total_cov_mat_inverse\n",
      " |      inverse of the total *y* covariance matrix (or ``None`` if singular)\n",
      " |  \n",
      " |  y_total_error\n",
      " |      array of pointwise total *y* uncertainties\n",
      " |  \n",
      " |  ----------------------------------------------------------------------\n",
      " |  Data and other attributes defined here:\n",
      " |  \n",
      " |  CONTAINER_TYPE = <class 'kafe2.fit.xy.container.XYContainer'>\n",
      " |      This object is a specialized data container for *xy* data.\n",
      " |  \n",
      " |  EXCEPTION_TYPE = <class 'kafe2.fit.xy.fit.XYFitException'>\n",
      " |      Common base class for all non-exit exceptions.\n",
      " |  \n",
      " |  MODEL_FUNCTION_TYPE = <class 'kafe2.fit._base.model.ModelFunctionBase'...\n",
      " |      This is a purely abstract class implementing the minimal interface required by all\n",
      " |      model functions.\n",
      " |      \n",
      " |      In order to be used as a model function, a native Python function must be wrapped\n",
      " |      by an object whose class derives from this base class.\n",
      " |      There is a dedicated :py:class:`ModelFunction` specialization for each type of\n",
      " |      data container.\n",
      " |      \n",
      " |      This class provides the basic functionality used by all :py:class:`ModelFunction` objects.\n",
      " |      These use introspection (:py:mod:`inspect`) for determining the parameter structure of the\n",
      " |      model function and to ensure the function can be used as a model function (validation).\n",
      " |  \n",
      " |  MODEL_TYPE = <class 'kafe2.fit.xy.model.XYParametricModel'>\n",
      " |      A \"mixin\" class for representing a parametric model.\n",
      " |      Inheriting from this class in addition to a data container class\n",
      " |      additionally stores a Python function handle referring to the\n",
      " |      model function. The argument structure of this function must\n",
      " |      be compatible with the data container type and it must return\n",
      " |      a numpy array of the same shape as the\n",
      " |      :py:meth:`~kafe2.fit._base.DataContainerBase.data` property of\n",
      " |      the data container.\n",
      " |      \n",
      " |      This mixin class introduces an additional :py:func:`parameters` property for\n",
      " |      the object, which can be used to obtain and set the values of the parameter\n",
      " |      \n",
      " |      Derived classes should inherit from :py:class:`ParametricModelBaseMixin` and the\n",
      " |      relevant data container (in that order).\n",
      " |  \n",
      " |  PLOT_ADAPTER_TYPE = <class 'kafe2.fit.xy.plot.XYPlotAdapter'>\n",
      " |      This is a purely abstract class implementing the minimal interface required by all\n",
      " |      types of plot adapters.\n",
      " |      \n",
      " |      A :py:obj:`PlotAdapter` object can be constructed for a :py:obj:`Fit` object of the\n",
      " |      corresponding type.\n",
      " |      Its main purpose is to provide an interface for accessing data stored in the\n",
      " |      :py:obj:`Fit` object, for the purposes of plotting.\n",
      " |      Most importantly, it provides methods to call the relevant ``matplotlib`` methods\n",
      " |      for plotting the data, model (and other information, depending on the fit type),\n",
      " |      and constructs the arrays required by these routines in a meaningful way.\n",
      " |      \n",
      " |      Classes derived from :py:obj:`PlotAdapter` must at the very least contain\n",
      " |      properties for constructing the ``x`` and ``y`` point arrays for both the\n",
      " |      data and the fitted model, as well as methods calling the ``matplotlib`` routines\n",
      " |      doing the actual plotting.\n",
      " |  \n",
      " |  RESERVED_NODE_NAMES = {'cost', 'total_cor_mat', 'total_cor_mat_inverse...\n",
      " |  \n",
      " |  X_ERROR_ALGORITHMS = ('iterative linear', 'nonlinear')\n",
      " |  \n",
      " |  __abstractmethods__ = frozenset()\n",
      " |  \n",
      " |  ----------------------------------------------------------------------\n",
      " |  Methods inherited from kafe2.fit._base.fit.FitBase:\n",
      " |  \n",
      " |  add_matrix_parameter_constraint(self, names, values, matrix, matrix_type='cov', uncertainties=None, relative=False)\n",
      " |      Advanced class for applying correlated constraints to several parameters of a fit.\n",
      " |      The order of **names**, **values**, **matrix**, and **uncertainties** must be aligned.\n",
      " |      In other words the first index must belong to the first value, the first row/column in the matrix, etc.\n",
      " |      \n",
      " |      Let N be the number of parameters to be constrained.\n",
      " |      \n",
      " |      :param names: The names of the parameters to be constrained. Must be of shape (N,).\n",
      " |      :type names: typing.Collection[str]\n",
      " |      :param values: The values to which the parameters should be constrained. Must be of shape shape (N,).\n",
      " |      :type values: typing.Sized[float]\n",
      " |      :param matrix: The matrix that defines the correlation between the parameters. By default interpreted as a\n",
      " |          covariance matrix. Can also be interpreted as a correlation matrix by setting **matrix_type**.\n",
      " |          Must be of shape shape (N, N).\n",
      " |      :type matrix: typing.Iterable[float]\n",
      " |      :param matrix_type: Either ``'cov'`` or ``'cor'``. Defines whether the matrix should be interpreted as a\n",
      " |          covariance matrix or as a correlation matrix.\n",
      " |      :type matrix_type: str\n",
      " |      :param uncertainties: The uncertainties to be used in conjunction with a correlation matrix.\n",
      " |          Must be of shape (N,)\n",
      " |      :type uncertainties: None or typing.Iterable[float]\n",
      " |      :param relative: Whether the covariance matrix/the uncertainties should be interpreted as relative to\n",
      " |          **values**.\n",
      " |      :type relative: bool\n",
      " |  \n",
      " |  add_parameter_constraint(self, name, value, uncertainty, relative=False)\n",
      " |      Apply a simple gaussian constraint to a single fit parameter.\n",
      " |      \n",
      " |      :param str name: The name of the parameter to be constrained.\n",
      " |      :param float value: The value to which the parameter should be constrained.\n",
      " |      :param float uncertainty: The uncertainty with which the parameter should be constrained to the given value.\n",
      " |      :param bool relative: Whether the given uncertainty is relative to the given value.\n",
      " |  \n",
      " |  assign_model_function_expression(self, expression_format_string)\n",
      " |      Assign a plain-text-formatted expression string to the model function.\n",
      " |      \n",
      " |      :param str expression_format_string: The plain text string.\n",
      " |  \n",
      " |  assign_model_function_latex_expression(self, latex_expression_format_string)\n",
      " |      Assign a LaTeX-formatted expression string to the model function.\n",
      " |      \n",
      " |      :param str latex_expression_format_string: The LaTeX string. Elements like ``'{par_name}'``\n",
      " |          will be replaced automatically with the corresponding LaTeX names for the given\n",
      " |          parameter. These can be set with :py:meth:`~assign_parameter_latex_names`.\n",
      " |  \n",
      " |  assign_model_function_latex_name(self, latex_name)\n",
      " |      Assign a LaTeX-formatted string to be the model function name.\n",
      " |      \n",
      " |      :param str latex_name: The LaTeX string.\n",
      " |  \n",
      " |  assign_model_function_name(self, name)\n",
      " |      Assign a string to be the model function name.\n",
      " |      \n",
      " |      :param str name: The new name.\n",
      " |  \n",
      " |  assign_parameter_latex_names(self, **par_latex_names_dict)\n",
      " |      Assign LaTeX-formatted strings to all model function arguments.\n",
      " |      \n",
      " |      :param par_latex_names_dict: Dictionary mapping the parameter names to their latex names.\n",
      " |  \n",
      " |  assign_parameter_names(self, **par_names_dict)\n",
      " |      Assign display strings to all model function arguments.\n",
      " |      \n",
      " |      :param par_names_dict: Dictionary mapping the parameter names to their display names.\n",
      " |  \n",
      " |  disable_error(self, err_id)\n",
      " |      Temporarily disable an uncertainty source so that it doesn't count towards calculating the total uncertainty.\n",
      " |      \n",
      " |      :param str err_id: error id\n",
      " |  \n",
      " |  do_fit(self, asymmetric_parameter_errors=False)\n",
      " |      Perform the minimization of the cost function.\n",
      " |      \n",
      " |      :param bool asymmetric_parameter_errors: If :py:obj:`True`, calculate asymmetric parameter errors.\n",
      " |      :return: A dictionary containing the fit results.\n",
      " |      :rtype: dict\n",
      " |  \n",
      " |  enable_error(self, err_id)\n",
      " |      (Re-)Enable an uncertainty source so that it counts towards calculating the total uncertainty.\n",
      " |      \n",
      " |      :param str err_id: error id\n",
      " |  \n",
      " |  fix_parameter(self, name, value=None)\n",
      " |      Fix a parameter so that its value doesn't change when calling :py:meth:`~do_fit()`.\n",
      " |      \n",
      " |      :param str name: The name of the parameter to be fixed\n",
      " |      :param float or None value: The value to be given to the fixed parameter. If :py:obj:`None` the current value\n",
      " |          from :py:attr:`~parameter_values` will be used.\n",
      " |  \n",
      " |  get_matching_errors(self, matching_criteria=None, matching_type='equal')\n",
      " |      Return a list of uncertainty objects fulfilling the specified matching criteria.\n",
      " |      \n",
      " |      Valid keys for **matching_criteria**:\n",
      " |          * ``name`` (the unique error name)\n",
      " |          * ``type`` (either ``'simple'`` or ``'matrix'``)\n",
      " |          * ``correlated`` (bool, only matches simple errors!)\n",
      " |          * ``reference`` (either ``'model'`` or ``'data'``)\n",
      " |      \n",
      " |      .. note::\n",
      " |          The error objects contained in the dictionary are not copies, but the original error objects.\n",
      " |          Modifying them is possible, but not recommended.\n",
      " |          If you do modify any of them, the changes will not be reflected in the total error calculation until the\n",
      " |          error cache is cleared. This can be done by calling the private dataset method\n",
      " |          :py:meth:`~kafe2.fit._base.DataContainerBase._clear_total_error_cache`.\n",
      " |      \n",
      " |      :param matching_criteria: Key-value pairs specifying matching criteria. The resulting error array will only\n",
      " |                                contain error objects matching *all* provided criteria.\n",
      " |                                If :py:obj:`None`, all error objects are returned.\n",
      " |      :type matching_criteria: dict or None\n",
      " |      :param matching_type: How to perform the matching.\n",
      " |                            If ``'equal'``, the value in **matching_criteria** is checked for equality against the\n",
      " |                            stored value.\n",
      " |                            If ``'regex'``, the value in **matching_criteria** is interpreted as a regular expression\n",
      " |                            and is matched against the stored value.\n",
      " |      :type matching_type: str\n",
      " |      :return: Dict mapping error name to :py:obj:`~kafe2.core.error.GaussianErrorBase`-derived error objects.\n",
      " |      :rtype: dict[str, kafe2.core.error.GaussianErrorBase]\n",
      " |  \n",
      " |  get_result_dict(self, asymmetric_parameter_errors=False)\n",
      " |      Return a dictionary of the fit results.\n",
      " |      \n",
      " |      :param bool asymmetric_parameter_errors: If :py:obj:`True`, calculate asymmetric parameter errors.\n",
      " |      :return: A dictionary containing the fit results.\n",
      " |      :rtype: dict\n",
      " |  \n",
      " |  limit_parameter(self, name, lower=None, upper=None)\n",
      " |      Limit a parameter to a given range.\n",
      " |      \n",
      " |      :param str name: The name of the parameter to limit.\n",
      " |      :param float lower: The minimum parameter value.\n",
      " |      :param float upper: The maximum parameter value.\n",
      " |  \n",
      " |  release_parameter(self, name)\n",
      " |      Release a fixed parameter so that its value once again changes when calling :py:meth:`~do_fit()`.\n",
      " |      \n",
      " |      :param str name: The name of the fixed parameter to be released\n",
      " |  \n",
      " |  report(self, output_stream=<ipykernel.iostream.OutStream object at 0x7ff679f01fa0>, show_data=True, show_model=True, show_fit_results=True, asymmetric_parameter_errors=False)\n",
      " |      Print a summary of the fit state and/or results.\n",
      " |      \n",
      " |      :param output_stream: The output stream to which the report should be printed.\n",
      " |      :type output_stream: io.TextIOBase\n",
      " |      :param show_data: If :py:obj:`True`, print out information about the data.\n",
      " |      :type show_data: bool\n",
      " |      :param show_model: If :py:obj:`True`, print out information about the parametric model.\n",
      " |      :type show_model: bool\n",
      " |      :param show_fit_results: If :py:obj:`True`, print out information about the fit results.\n",
      " |      :type show_fit_results: bool\n",
      " |      :param asymmetric_parameter_errors: If :py:obj:`True`, use two different parameter errors for up/down\n",
      " |          directions.\n",
      " |      :type asymmetric_parameter_errors: bool\n",
      " |  \n",
      " |  set_all_parameter_values(self, param_value_list)\n",
      " |      Set all the fit parameters at the same time.\n",
      " |      \n",
      " |      :param typing.Iterable[float] param_value_list: List of parameter values (mind the order).\n",
      " |  \n",
      " |  set_parameter_values(self, **param_name_value_dict)\n",
      " |      Set the fit parameters to new values. Valid keyword arguments are the names of the declared fit parameters.\n",
      " |      \n",
      " |      :param param_name_value_dict: new parameter values\n",
      " |  \n",
      " |  to_file(self, filename, file_format=None, calculate_asymmetric_errors=False)\n",
      " |      Write kafe2 object to file\n",
      " |      \n",
      " |      :param filename: Filename for the output.\n",
      " |      :type filename: str\n",
      " |      :param file_format: A format for the output file. If :py:obj:`None`, the extension from the filename is used.\n",
      " |      :type file_format: str or None\n",
      " |      :param calculate_asymmetric_errors: If asymmetric errors should be calculated before saving the results.\n",
      " |      :type calculate_asymmetric_errors: bool\n",
      " |  \n",
      " |  unlimit_parameter(self, name)\n",
      " |      Unlimit a parameter.\n",
      " |      \n",
      " |      :param str name: The name of the parameter to unlimit.\n",
      " |  \n",
      " |  ----------------------------------------------------------------------\n",
      " |  Readonly properties inherited from kafe2.fit._base.fit.FitBase:\n",
      " |  \n",
      " |  asymmetric_parameter_errors\n",
      " |      The current asymmetric parameter uncertainties.\n",
      " |      \n",
      " |      :rtype: numpy.ndarray[numpy.ndarray[float, float]]\n",
      " |  \n",
      " |  chi2_probability\n",
      " |      The chi2 probability for the current model values.\n",
      " |  \n",
      " |  cost_function_value\n",
      " |      The current value of the cost function.\n",
      " |      \n",
      " |      :rtype: float\n",
      " |  \n",
      " |  data_container\n",
      " |      The data container used in this fit.\n",
      " |      \n",
      " |      :rtype: kafe2.fit._base.DataContainerBase\n",
      " |  \n",
      " |  data_size\n",
      " |      The size (number of points) of the data container.\n",
      " |      \n",
      " |      :rtype: int\n",
      " |  \n",
      " |  did_fit\n",
      " |      Whether a fit was performed for the given data and model.\n",
      " |      \n",
      " |      :rtype: bool\n",
      " |  \n",
      " |  goodness_of_fit\n",
      " |  \n",
      " |  has_data_errors\n",
      " |      :py:obj:`True` if at least one uncertainty source is defined for the data.\n",
      " |      \n",
      " |      :rtype: bool\n",
      " |  \n",
      " |  has_errors\n",
      " |      :py:obj:`True` if at least one uncertainty source is defined for either the data or the model.\n",
      " |      \n",
      " |      :rtype: bool\n",
      " |  \n",
      " |  has_model_errors\n",
      " |      :py:obj:`True` if at least one uncertainty source is defined for the model.\n",
      " |      \n",
      " |      :rtype: bool\n",
      " |  \n",
      " |  model_count\n",
      " |      The number of model functions contained in the fit, 1 by default.\n",
      " |      \n",
      " |      :rtype: int\n",
      " |  \n",
      " |  model_function\n",
      " |      The wrapped model function as a :py:obj:`~kafe2.fit._base.ModelFunctionBase` or derived object.\n",
      " |      This object contains the model function as well as formatting information used for this fit.\n",
      " |      \n",
      " |      :rtype: kafe2.fit._base.ModelFunctionBase\n",
      " |  \n",
      " |  ndf\n",
      " |      The degrees of freedom of this fit.\n",
      " |      \n",
      " |      :rtype: int\n",
      " |  \n",
      " |  parameter_constraints\n",
      " |      The gaussian constraints given for the fit parameters.\n",
      " |      \n",
      " |      :rtype: list[kafe2.core.constraint.GaussianSimpleParameterConstraint or\n",
      " |          kafe2.core.constraint.GaussianMatrixParameterConstraint]\n",
      " |  \n",
      " |  parameter_cor_mat\n",
      " |      The current parameter correlation matrix.\n",
      " |      \n",
      " |      :rtype: None or numpy.ndarray[numpy.ndarray[float]]\n",
      " |  \n",
      " |  parameter_cov_mat\n",
      " |      The current parameter covariance matrix.\n",
      " |      \n",
      " |      :rtype: None or numpy.ndarray[numpy.ndarray[float]]\n",
      " |  \n",
      " |  parameter_errors\n",
      " |      The current parameter uncertainties.\n",
      " |      \n",
      " |      :rtype: numpy.ndarray[float]\n",
      " |  \n",
      " |  parameter_name_value_dict\n",
      " |      A dictionary mapping each parameter name to its current value.\n",
      " |      \n",
      " |      :rtype: OrderedDict[str, float]\n",
      " |  \n",
      " |  parameter_names\n",
      " |      The current parameter names.\n",
      " |      \n",
      " |      :rtype: tuple[str]\n",
      " |  \n",
      " |  parameter_values\n",
      " |      The current parameter values.\n",
      " |      \n",
      " |      :rtype: numpy.ndarray[float]\n",
      " |  \n",
      " |  total_cor_mat\n",
      " |      the total correlation matrix\n",
      " |  \n",
      " |  ----------------------------------------------------------------------\n",
      " |  Data descriptors inherited from kafe2.fit._base.fit.FitBase:\n",
      " |  \n",
      " |  data\n",
      " |      array of measurement values\n",
      " |  \n",
      " |  dynamic_error_algorithm\n",
      " |      The algorithm to use for handling errors that depend on the model parameters.\n",
      " |      :rtype: str\n",
      " |  \n",
      " |  model_label\n",
      " |      The label of the model used in this fit.\n",
      " |      \n",
      " |      :rtype: str or None\n",
      " |  \n",
      " |  ----------------------------------------------------------------------\n",
      " |  Class methods inherited from kafe2.fit.io.file.FileIOMixin:\n",
      " |  \n",
      " |  from_file(filename, file_format=None) from abc.ABCMeta\n",
      " |      Read kafe2 object from file\n",
      " |  \n",
      " |  ----------------------------------------------------------------------\n",
      " |  Data descriptors inherited from kafe2.fit.io.file.FileIOMixin:\n",
      " |  \n",
      " |  __dict__\n",
      " |      dictionary for instance variables (if defined)\n",
      " |  \n",
      " |  __weakref__\n",
      " |      list of weak references to the object (if defined)\n",
      "\n"
     ]
    }
   ],
   "source": [
    "help(my_fit)"
   ]
  },
  {
   "cell_type": "markdown",
   "metadata": {},
   "source": [
    "Wonach suchen?\n",
    "\n",
    " * Funktionen, sind in der Regel offensichtlich, achten Sie auf die Beschreibung, *notwendige* und *optionale* Parameter\n",
    " * Variablen oder Properties (können auch nur *read-only* sein)\n",
    " * manchmal steht *inherited* bei Funktionen/Variablen/Properties weiter unten, d.h. sie sind in anderen Objekten sog. Elternobjekten definiert, aber können ganz normal zugegriffen werden\n",
    " \n",
    "Bei Variablen/Properties *kann* der Typ mitgeliefert sein, aber man sollte diese zum Testen entweder mit `print` ausgeben oder mit `type` den Typ bestimmen."
   ]
  },
  {
   "cell_type": "code",
   "execution_count": 22,
   "metadata": {},
   "outputs": [
    {
     "name": "stdout",
     "output_type": "stream",
     "text": [
      "('a', 'b')\n",
      "[ 2.41037233 -0.14822776]\n",
      "[0.12670897 0.37929611]\n",
      "<class 'numpy.ndarray'>\n",
      "[1, 2, 3, 4]\n",
      "[     0      1      2 ... 999997 999998 999999]\n"
     ]
    }
   ],
   "source": [
    "print(my_fit.parameter_names)\n",
    "print(my_fit.parameter_values)\n",
    "print(my_fit.parameter_errors)\n",
    "\n",
    "print(type(my_fit.parameter_values))\n",
    "\n",
    "l = [1,2,3,4]          # python Liste\n",
    "print(l)\n",
    "\n",
    "a = np.arange(1000000) # numpy array !\n",
    "print(a)"
   ]
  },
  {
   "cell_type": "markdown",
   "metadata": {},
   "source": [
    "### 3.2 Hilfen von den Modul-Seiten"
   ]
  },
  {
   "cell_type": "markdown",
   "metadata": {},
   "source": [
    "Wenn Sie ein Modul z.B. `kafe2` nutzen und nicht wissen, wozu man es anwendet, evt. installieren muss, wie man es benutzt, dann gibt es in der Regel die Webseiten der Autoren, die das Modul beschreiben:\n",
    "\n",
    " * `kafe2` [https://kafe2.readthedocs.io/en/latest/ ]\n",
    " * `numpy` [https://numpy.org/doc/ ]\n",
    " * `scipy` [https://docs.scipy.org/doc/ ]\n",
    " * `matplotlib` [https://matplotlib.org/ ]\n",
    " * ...\n",
    " \n",
    "(Generell hat sich für die OpenSource-Gemeinde [https://readthedocs.org/ ] durchgesetzt, um Dokumentation online anbieten zu können!)"
   ]
  },
  {
   "cell_type": "code",
   "execution_count": null,
   "metadata": {},
   "outputs": [],
   "source": []
  },
  {
   "cell_type": "markdown",
   "metadata": {},
   "source": [
    "### 3.3  Hilfen von https://stackexchange.com/"
   ]
  },
  {
   "cell_type": "markdown",
   "metadata": {},
   "source": [
    "Allgemein sind bei Fragen rund um das Programmieren und auch zu anderen Problemen, Foren von \n",
    "[https://stackexchange.com/ ] sehr beliebt. Das Bekannteste Forum ist:\n",
    "\n",
    "**[Stackoverflow](https://stackoverflow.com/)**\n",
    "\n",
    "Für Python und andere Module kann man zur Übersicht  **Tags** verwenden:\n",
    "\n",
    "* [python]\n",
    "* [pytho-3.x]\n",
    "* [numpy]\n",
    "* [matplotlib]\n",
    "* [scipy]\n",
    "\n",
    "`kafe2` ist leider zu speziell und nicht als **Tag** verfügbar!"
   ]
  },
  {
   "cell_type": "markdown",
   "metadata": {},
   "source": [
    "Es gibt aber noch spezielle Foren, die für Sie vielleicht auch von Interesse sind:\n",
    "\n",
    " * [https://tex.stackexchange.com/ ]  für alles rund um LaTeX\n",
    " * [https://math.stackexchange.com/ ] für Fragen rund um Mathematik\n",
    " * [https://physics.stackexchange.com/ ] für Fragen rund um Physik"
   ]
  },
  {
   "cell_type": "markdown",
   "metadata": {},
   "source": [
    "**Wichtig** und **Warnung**:\n",
    " * meistens/oft sind die Fragen/Antworten auf Englisch\n",
    " * die Foren sind von der Community gemanaged, d.h. die Antworten müssen nicht immer korrekt sein, es gibt Antworten, für die *Votes*  vergeben werden. Antworten mit der höchsten Zustimmung wird nicht falsch sein ... \n",
    " * Kommentare sind hilfreich\n",
    " * bei den Programmierfragen lernt man auch unkonventionelle Lösungen\n",
    " * beim Verwenden von Antworten, bitte immer angeben, woher man es hat, Link etc.! Das hilft der eigenen Dokumentation und das Verstehen!"
   ]
  },
  {
   "cell_type": "markdown",
   "metadata": {},
   "source": [
    "### 3.4 Debuggen von Codes"
   ]
  },
  {
   "cell_type": "markdown",
   "metadata": {},
   "source": [
    "An dieser Stelle kann man leider kein einheitliches Konzept nennen; im Prinzip hat jeder seine eigenen Strategien. Es gibt aber ein paar einfache Möglichkeiten, während des Erstellens von Code, Debugging zu betreiben:\n",
    "\n",
    " * Debugging erfordert nicht immer eine spezielle Software, z.B. einen Debugger\n",
    " * Teil-Aufgaben oder -Probleme sollen in Funktionen ausgelagert werden, die man speziell für bestimmte Parameter separat testen kann. Verwenden Sie ruhig ein neues leeres Notebook für diese Tests\n",
    " * Geben Sie Schlüsselvariablen, dessen Werte meist mit Algorithmen berechnet werden, mit `print` aus, unter Umständen auch den Zustand beim Erstellen. Die `print`-Befehle können gelöscht werden, wenn der Code das tut, was er soll!\n",
    " * Schreiben Sie kurzen Code und nutzen Sie vorgefertigte Funktionen und Algorithmen, man muss nicht das Rad neu erfinden! kurzer Code -> weniger Fehlermöglichkeiten!\n",
    " * Dokumentieren Sie Ihren Code, denn dadurch muss man sich die Codezeilen nochmal anschauen und versuchen den Sinn zu erkennen. Komplizierter Code, den man nicht auf anhieb versteht, ist meistens die Ursache von Fehlern\n",
    " * Testen Sie ihre Funktionen auch mit willkürlichen Eingaben *Babytest*, dadurch werden Fehler, an die man sonst nicht denken würde, sichtbar"
   ]
  },
  {
   "cell_type": "code",
   "execution_count": null,
   "metadata": {},
   "outputs": [],
   "source": []
  }
 ],
 "metadata": {
  "kernelspec": {
   "display_name": "Python 3",
   "language": "python",
   "name": "python3"
  },
  "language_info": {
   "codemirror_mode": {
    "name": "ipython",
    "version": 3
   },
   "file_extension": ".py",
   "mimetype": "text/x-python",
   "name": "python",
   "nbconvert_exporter": "python",
   "pygments_lexer": "ipython3",
   "version": "3.8.3"
  }
 },
 "nbformat": 4,
 "nbformat_minor": 4
}
