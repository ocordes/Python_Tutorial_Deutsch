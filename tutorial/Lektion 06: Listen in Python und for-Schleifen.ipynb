{
 "cells": [
  {
   "cell_type": "markdown",
   "id": "3dbdb043-0a8c-495d-8768-b56c5897c4b8",
   "metadata": {},
   "source": [
    "# Lektion 06: Listen in Python und *for*-Schleife"
   ]
  },
  {
   "cell_type": "markdown",
   "id": "ba66b3b4-0fae-4a2b-9e3a-f0d8344cdea8",
   "metadata": {},
   "source": [
    "----\n",
    "\n",
    "Ziele der Lektion:\n",
    "\n",
    " * [Listen](#python_lists)\n",
    "    * Definition\n",
    "    * Indizierung/Slicing\n",
    "    * Listen-Funktionen\n",
    " * [Tuples](#python_tuples)\n",
    " * [for-Schleife](#for_loops)\n",
    " \n",
    "----"
   ]
  },
  {
   "cell_type": "markdown",
   "id": "c3b12b6b-292d-4d33-96cb-15e74068e5dc",
   "metadata": {},
   "source": [
    "## <a id=python_lists></a> 1. Python-Listen"
   ]
  },
  {
   "cell_type": "markdown",
   "id": "17d495a8-6210-4930-ad2d-92412cd94bca",
   "metadata": {},
   "source": [
    "Python-Listen entsprechen den klassischen Arrays aus den anderen Programmiersprachen, sie haben jedoch einige Besonderheiten."
   ]
  },
  {
   "cell_type": "markdown",
   "id": "ced6a117-d7f4-4245-9472-cdf12309efe0",
   "metadata": {},
   "source": [
    "Sie werden viele Gemeinsamkeiten mit den Strings aus der [Lektion 05](Lektion%2005%3A%20Strings.ipynb) wiedererkennen. Dieses sind die Merkmale der Container-Typen und deswegen lassen sich viele Sachen direkt anwenden, ohne etwas *Neues* zu lernen!"
   ]
  },
  {
   "cell_type": "markdown",
   "id": "4a4ffb43-3b6f-404e-9a51-322f529a9909",
   "metadata": {},
   "source": [
    "### 1.1 Erstellung von Listen"
   ]
  },
  {
   "cell_type": "markdown",
   "id": "5c153656-2d35-4ee1-a2de-250dcb000bef",
   "metadata": {},
   "source": [
    "Python-Listen werden mit den eckigen Klammern definiert `[` und `]`:"
   ]
  },
  {
   "cell_type": "code",
   "execution_count": 25,
   "id": "de3a75f2-7dab-4426-a5fe-60d34509abdd",
   "metadata": {},
   "outputs": [
    {
     "name": "stdout",
     "output_type": "stream",
     "text": [
      "[]\n",
      "[1, 2, 3, 4]\n",
      "['a', 1.234, <ufunc 'sqrt'>, 'Oliver']\n"
     ]
    }
   ],
   "source": [
    "import numpy as np\n",
    "\n",
    "a = []                                 # leere Liste oder\n",
    "a = list()         \n",
    "b = [1,2,3,4]                          # Liste aus Ganzzahlen\n",
    "c = ['a', 1.234, np.sqrt, 'Oliver']    # eine gemischte Liste\n",
    "                   \n",
    "print(a)\n",
    "print(b)\n",
    "print(c)"
   ]
  },
  {
   "cell_type": "markdown",
   "id": "b32e289c-a440-43d7-beb6-a57c84194ab8",
   "metadata": {},
   "source": [
    "Werden Python-Listen erstellt, dann können die einzelnen Elemente beliebigen Types sein und vor allem können diese Typen wild durcheinander sein. Es gibt keine Regel, die vorschreibt, dass man Listen nur von eine Typ haben darf, wenn auch in der Regel Listen mit gleichen Typen gebildet werden."
   ]
  },
  {
   "cell_type": "markdown",
   "id": "7900f879-1762-480b-bc01-370a3d618566",
   "metadata": {},
   "source": [
    "### 1.2 Hinzufügen von Elementen"
   ]
  },
  {
   "cell_type": "markdown",
   "id": "4d29c7f8-a89c-48a1-aa2e-e1ada7ac1bcb",
   "metadata": {},
   "source": [
    "Neue Elemente können mit der Funktion `.append` hinzugefügt werden oder man kann aus anderen Listen durch `+` und `*` neue Listen erstellen:"
   ]
  },
  {
   "cell_type": "code",
   "execution_count": 26,
   "id": "812c4dd8-6eb9-46f7-9b5d-6f66a1a89319",
   "metadata": {},
   "outputs": [
    {
     "name": "stdout",
     "output_type": "stream",
     "text": [
      "[1, 2, 3, 4]\n",
      "[1, 2, 3, 4, 5]\n",
      "[1, 2, 3, 4, 5, 6]\n",
      "[True, True, True, True]\n"
     ]
    }
   ],
   "source": [
    "a = [1,2,3,4]    # erstelle eine Liste von 4 Elementen\n",
    "print(a)\n",
    "a.append(5)      # füge ein 5. Element hinzu\n",
    "print(a)\n",
    "\n",
    "b = [1,2,3,4]\n",
    "c = [5,6]\n",
    "d = b + c        # füge beide Listen zusammen!\n",
    "print(d)\n",
    "\n",
    "e = [True] * 4   # erstelle ein Bool-Liste mit 4 Elementen!\n",
    "print(e)"
   ]
  },
  {
   "cell_type": "markdown",
   "id": "9a32ac94-6784-4a9e-8b70-99ea7edf844f",
   "metadata": {},
   "source": [
    "**Wichtig**: `.append` **verändert** die existierende Liste, `+` und `*` erzeugen **neue** Listen!"
   ]
  },
  {
   "cell_type": "markdown",
   "id": "c0e5b61c-9678-4070-b153-689c47296e4e",
   "metadata": {},
   "source": [
    "###  1.3 Zugriff auf Listen und Slicing von Listen"
   ]
  },
  {
   "cell_type": "markdown",
   "id": "d8251430-14cd-41c8-8653-c8b878bd465f",
   "metadata": {},
   "source": [
    "Wie bei den Strings gibt die Funktion `len` die Anzahl der Elemente zurück. Und wie bei Strings und `numpy`-Arrays kann man auf die Listen elementweise mit Indices zugreifen:"
   ]
  },
  {
   "cell_type": "code",
   "execution_count": 27,
   "id": "82071799-4bdd-46b6-baf5-0de7fb0430f9",
   "metadata": {},
   "outputs": [
    {
     "name": "stdout",
     "output_type": "stream",
     "text": [
      "10\n",
      "1\n",
      "9\n"
     ]
    }
   ],
   "source": [
    "a = [0,1,2,3,4,5,6,7,8,9]\n",
    "\n",
    "print(len(a))  # Anzahl der Elemente\n",
    "\n",
    "print(a[1])    # das zweite Element\n",
    "print(a[-1])   # das letzte Element"
   ]
  },
  {
   "cell_type": "markdown",
   "id": "015143b2-a03d-45fa-ba54-76714e528eb8",
   "metadata": {},
   "source": [
    "Hier wird bei den positiven Indices von `0` bis `len()-1`  gezählt und bei negativen Indices von `-1` bis `-len()` rückwärts. Um aus negativen Indices positive Indices zu berechnen können Sie ebenfalls mit dem `%`-Operator rechnen."
   ]
  },
  {
   "cell_type": "markdown",
   "id": "ec044b2e-8bba-4df6-9b4d-13b4a434d10d",
   "metadata": {},
   "source": [
    "Natürlich geht auch das Ausschneiden von Sub-Listen mit dem Slicing. Die Rückgaben des Slicings sind wieder Python-Listen:"
   ]
  },
  {
   "cell_type": "code",
   "execution_count": 28,
   "id": "af470d03-1f6e-4339-b918-dca7db19b5bd",
   "metadata": {},
   "outputs": [
    {
     "name": "stdout",
     "output_type": "stream",
     "text": [
      "[1]\n",
      "[0, 1, 2, 3, 4, 5, 6, 7]\n",
      "[2, 3, 4, 5, 6, 7, 8, 9]\n",
      "[5, 4, 3]\n",
      "[9, 8, 7, 6, 5, 4, 3, 2, 1, 0]\n"
     ]
    }
   ],
   "source": [
    "a = [0,1,2,3,4,5,6,7,8,9]\n",
    "\n",
    "print(a[1:2])     # schneide das zweite Element als Liste aus!\n",
    "print(a[:-2])     # alle Elemente bis zum vorvorletzten \n",
    "print(a[2:])      # alle Elemente ab dem 3. Element\n",
    "print(a[5:2:-1])  # alle Elemente vom 6. bis zum 4. Element rückwärts\n",
    "print(a[::-1])    # alle Elemente rückwärts"
   ]
  },
  {
   "cell_type": "markdown",
   "id": "2afdd181-20d3-4a69-9f80-360eb6adacce",
   "metadata": {},
   "source": [
    "### 1.4 Verändern von Elementen "
   ]
  },
  {
   "cell_type": "markdown",
   "id": "2041306f-c048-4865-81e5-6742eca5904b",
   "metadata": {},
   "source": [
    "Gegenüber den Strings können die Elemente in den Python-Listen verändert werden. Dazu werden die Elemente, die man verändern will, auf der linken Seite ausgewählt werden:"
   ]
  },
  {
   "cell_type": "code",
   "execution_count": 30,
   "id": "fe1ddff9-b4a9-4dfe-a35a-53768c6e2492",
   "metadata": {},
   "outputs": [
    {
     "name": "stdout",
     "output_type": "stream",
     "text": [
      "[0, 1, 2, 3, 4, 5, 6, 7, 8, 9]\n",
      "[0, 1, 1.2, 3, 4, 5, 6, 7, 8, 9]\n",
      "[0, 1, 1000, 2000, 4, 5, 6, 7, 8, 9]\n"
     ]
    },
    {
     "ename": "TypeError",
     "evalue": "can only assign an iterable",
     "output_type": "error",
     "traceback": [
      "\u001b[0;31m---------------------------------------------------------------------------\u001b[0m",
      "\u001b[0;31mTypeError\u001b[0m                                 Traceback (most recent call last)",
      "\u001b[0;32m<ipython-input-30-4eb3abfac7f7>\u001b[0m in \u001b[0;36m<module>\u001b[0;34m\u001b[0m\n\u001b[1;32m     11\u001b[0m \u001b[0mprint\u001b[0m\u001b[0;34m(\u001b[0m\u001b[0ma\u001b[0m\u001b[0;34m)\u001b[0m\u001b[0;34m\u001b[0m\u001b[0;34m\u001b[0m\u001b[0m\n\u001b[1;32m     12\u001b[0m \u001b[0;34m\u001b[0m\u001b[0m\n\u001b[0;32m---> 13\u001b[0;31m \u001b[0ma\u001b[0m\u001b[0;34m[\u001b[0m\u001b[0;36m2\u001b[0m\u001b[0;34m:\u001b[0m\u001b[0;36m4\u001b[0m\u001b[0;34m]\u001b[0m \u001b[0;34m=\u001b[0m \u001b[0;34m-\u001b[0m\u001b[0;36m1\u001b[0m   \u001b[0;31m# so geht es leider nicht\u001b[0m\u001b[0;34m\u001b[0m\u001b[0;34m\u001b[0m\u001b[0m\n\u001b[0m",
      "\u001b[0;31mTypeError\u001b[0m: can only assign an iterable"
     ]
    }
   ],
   "source": [
    "a = [0,1,2,3,4,5,6,7,8,9]\n",
    "\n",
    "print(a)\n",
    "\n",
    "# ein Element verändern\n",
    "a[2] = 1.2\n",
    "print(a)\n",
    "\n",
    "# mehrere Elemente ändern\n",
    "a[2:4] = [1000,2000] \n",
    "print(a)\n",
    "\n",
    "a[2:4] = -1   # so geht es leider nicht"
   ]
  },
  {
   "cell_type": "markdown",
   "id": "d095a7d7-25c9-4823-8a30-17cdc0c44afb",
   "metadata": {},
   "source": [
    "Mit dem Ändern der Werte von bestehenden Elementen darf auch der Typ verändert werden!\n",
    "\n",
    "Sollen mehrere Werte zugleich verändert werden, so muss auf der rechten Seite eine Liste mit gleich vielen Elementen zugewiesen werden. Man kann diese Werte nicht wie bei `numpy`-Arrays auf einen Wert gleichzeitig setzen."
   ]
  },
  {
   "cell_type": "markdown",
   "id": "4d12716c-678f-4474-8b54-5ace5c59d8d4",
   "metadata": {},
   "source": [
    "### 1.5 Loops über Lists"
   ]
  },
  {
   "cell_type": "markdown",
   "id": "5aeafa86-4fb4-4625-a084-5f15283bba83",
   "metadata": {},
   "source": [
    "Wie bei den Strings und anderen Container-Typen kann man mit `for` über alle Elemente eine Schleife bilden:"
   ]
  },
  {
   "cell_type": "code",
   "execution_count": 31,
   "id": "2d610c21-4b3b-46d0-bb38-0ecb508b448c",
   "metadata": {},
   "outputs": [
    {
     "name": "stdout",
     "output_type": "stream",
     "text": [
      "1\n",
      "2\n",
      "3\n",
      "4\n",
      "5\n"
     ]
    }
   ],
   "source": [
    "a = [1,2,3,4,5]\n",
    "\n",
    "for num in a:\n",
    "    print(num)"
   ]
  },
  {
   "cell_type": "markdown",
   "id": "a4be6eec-e905-4549-b38e-c2dcf4273345",
   "metadata": {},
   "source": [
    "### 1.6 List-Funktionen"
   ]
  },
  {
   "cell_type": "markdown",
   "id": "0e466ad2-b157-475b-b1e6-7c192eff1f46",
   "metadata": {},
   "source": [
    "Genauso, wie es bei anderen Typen definiert ist, haben auch die Python-Listen angeheftete Funktionen. Die wichtigste Funktion haben wir schon oben kennengelernt `.append`, um neue Elemente an eine Liste anzuhängen. Es gibt aber noch ein paar weitere Funktionen:"
   ]
  },
  {
   "cell_type": "code",
   "execution_count": null,
   "id": "64f9ff33-6189-4a84-a46d-6391524eb225",
   "metadata": {},
   "outputs": [],
   "source": [
    "a = [1,2,3,4]\n",
    "a.    # und dann <TAB> drücken"
   ]
  },
  {
   "cell_type": "markdown",
   "id": "15d937e1-1ff8-433b-8e97-a9eb14f889b2",
   "metadata": {},
   "source": [
    "oder"
   ]
  },
  {
   "cell_type": "code",
   "execution_count": 32,
   "id": "84e426a3-6b77-41f2-b765-d1fd3f6b9d80",
   "metadata": {},
   "outputs": [
    {
     "name": "stdout",
     "output_type": "stream",
     "text": [
      "Help on list object:\n",
      "\n",
      "class list(object)\n",
      " |  list(iterable=(), /)\n",
      " |  \n",
      " |  Built-in mutable sequence.\n",
      " |  \n",
      " |  If no argument is given, the constructor creates a new empty list.\n",
      " |  The argument must be an iterable if specified.\n",
      " |  \n",
      " |  Methods defined here:\n",
      " |  \n",
      " |  __add__(self, value, /)\n",
      " |      Return self+value.\n",
      " |  \n",
      " |  __contains__(self, key, /)\n",
      " |      Return key in self.\n",
      " |  \n",
      " |  __delitem__(self, key, /)\n",
      " |      Delete self[key].\n",
      " |  \n",
      " |  __eq__(self, value, /)\n",
      " |      Return self==value.\n",
      " |  \n",
      " |  __ge__(self, value, /)\n",
      " |      Return self>=value.\n",
      " |  \n",
      " |  __getattribute__(self, name, /)\n",
      " |      Return getattr(self, name).\n",
      " |  \n",
      " |  __getitem__(...)\n",
      " |      x.__getitem__(y) <==> x[y]\n",
      " |  \n",
      " |  __gt__(self, value, /)\n",
      " |      Return self>value.\n",
      " |  \n",
      " |  __iadd__(self, value, /)\n",
      " |      Implement self+=value.\n",
      " |  \n",
      " |  __imul__(self, value, /)\n",
      " |      Implement self*=value.\n",
      " |  \n",
      " |  __init__(self, /, *args, **kwargs)\n",
      " |      Initialize self.  See help(type(self)) for accurate signature.\n",
      " |  \n",
      " |  __iter__(self, /)\n",
      " |      Implement iter(self).\n",
      " |  \n",
      " |  __le__(self, value, /)\n",
      " |      Return self<=value.\n",
      " |  \n",
      " |  __len__(self, /)\n",
      " |      Return len(self).\n",
      " |  \n",
      " |  __lt__(self, value, /)\n",
      " |      Return self<value.\n",
      " |  \n",
      " |  __mul__(self, value, /)\n",
      " |      Return self*value.\n",
      " |  \n",
      " |  __ne__(self, value, /)\n",
      " |      Return self!=value.\n",
      " |  \n",
      " |  __repr__(self, /)\n",
      " |      Return repr(self).\n",
      " |  \n",
      " |  __reversed__(self, /)\n",
      " |      Return a reverse iterator over the list.\n",
      " |  \n",
      " |  __rmul__(self, value, /)\n",
      " |      Return value*self.\n",
      " |  \n",
      " |  __setitem__(self, key, value, /)\n",
      " |      Set self[key] to value.\n",
      " |  \n",
      " |  __sizeof__(self, /)\n",
      " |      Return the size of the list in memory, in bytes.\n",
      " |  \n",
      " |  append(self, object, /)\n",
      " |      Append object to the end of the list.\n",
      " |  \n",
      " |  clear(self, /)\n",
      " |      Remove all items from list.\n",
      " |  \n",
      " |  copy(self, /)\n",
      " |      Return a shallow copy of the list.\n",
      " |  \n",
      " |  count(self, value, /)\n",
      " |      Return number of occurrences of value.\n",
      " |  \n",
      " |  extend(self, iterable, /)\n",
      " |      Extend list by appending elements from the iterable.\n",
      " |  \n",
      " |  index(self, value, start=0, stop=9223372036854775807, /)\n",
      " |      Return first index of value.\n",
      " |      \n",
      " |      Raises ValueError if the value is not present.\n",
      " |  \n",
      " |  insert(self, index, object, /)\n",
      " |      Insert object before index.\n",
      " |  \n",
      " |  pop(self, index=-1, /)\n",
      " |      Remove and return item at index (default last).\n",
      " |      \n",
      " |      Raises IndexError if list is empty or index is out of range.\n",
      " |  \n",
      " |  remove(self, value, /)\n",
      " |      Remove first occurrence of value.\n",
      " |      \n",
      " |      Raises ValueError if the value is not present.\n",
      " |  \n",
      " |  reverse(self, /)\n",
      " |      Reverse *IN PLACE*.\n",
      " |  \n",
      " |  sort(self, /, *, key=None, reverse=False)\n",
      " |      Sort the list in ascending order and return None.\n",
      " |      \n",
      " |      The sort is in-place (i.e. the list itself is modified) and stable (i.e. the\n",
      " |      order of two equal elements is maintained).\n",
      " |      \n",
      " |      If a key function is given, apply it once to each list item and sort them,\n",
      " |      ascending or descending, according to their function values.\n",
      " |      \n",
      " |      The reverse flag can be set to sort in descending order.\n",
      " |  \n",
      " |  ----------------------------------------------------------------------\n",
      " |  Static methods defined here:\n",
      " |  \n",
      " |  __new__(*args, **kwargs) from builtins.type\n",
      " |      Create and return a new object.  See help(type) for accurate signature.\n",
      " |  \n",
      " |  ----------------------------------------------------------------------\n",
      " |  Data and other attributes defined here:\n",
      " |  \n",
      " |  __hash__ = None\n",
      "\n"
     ]
    }
   ],
   "source": [
    "help(a)"
   ]
  },
  {
   "cell_type": "markdown",
   "id": "95f0a7bc-5738-4c7a-b32d-bd0f5829f8d0",
   "metadata": {},
   "source": [
    "Beispiel Sortieren (wichtig ist, einige Funktionen verändern die Liste selber!):"
   ]
  },
  {
   "cell_type": "code",
   "execution_count": 36,
   "id": "289eea96-a2ba-4686-88d9-d96c752fe6e0",
   "metadata": {},
   "outputs": [
    {
     "name": "stdout",
     "output_type": "stream",
     "text": [
      "[6, 1, 3, 2, 7]\n",
      "[1, 2, 3, 6, 7]\n",
      "None\n"
     ]
    }
   ],
   "source": [
    "a = [6,1,3,2,7]\n",
    "\n",
    "print(a)\n",
    "b = a.sort()    # findet INPLACE statt, d.h. die vorhandene Liste wird sortiert\n",
    "print(a)\n",
    "print(b)"
   ]
  },
  {
   "cell_type": "markdown",
   "id": "378189d6-707f-4f2a-93c3-88351943764b",
   "metadata": {},
   "source": [
    "Wenn man eine neue sortierte Liste erstellen möchte, dann muss man folgendes machen:"
   ]
  },
  {
   "cell_type": "code",
   "execution_count": 34,
   "id": "90ba357f-f04d-4e37-9fe2-522f51920688",
   "metadata": {},
   "outputs": [
    {
     "name": "stdout",
     "output_type": "stream",
     "text": [
      "[6, 1, 3, 2, 7]\n",
      "[1, 2, 3, 6, 7]\n"
     ]
    }
   ],
   "source": [
    "a = [6,1,3,2,7]\n",
    "\n",
    "b = sorted(a)   # erstellt eine neue sortiere Listem nicht INPLACE!\n",
    "\n",
    "print(a)\n",
    "print(b)"
   ]
  },
  {
   "cell_type": "markdown",
   "id": "7c8dc12c-58b7-4b8c-8442-e34b68642210",
   "metadata": {},
   "source": [
    "### 1.7 Anwendungen von Listen"
   ]
  },
  {
   "cell_type": "markdown",
   "id": "2f0f3341-e8f4-4c0b-9fc9-b71080b2419a",
   "metadata": {},
   "source": [
    "Viele Funktionen geben als Rückgabewerte Listen zurück, die weiter verarbeitet werden können oder haben auch Listen als Argumente."
   ]
  },
  {
   "cell_type": "markdown",
   "id": "b852b6ad-e5d9-4042-bf45-cd7deb4fca2c",
   "metadata": {},
   "source": [
    "Ein Beispiel ist das Zerlegen eines Strings:"
   ]
  },
  {
   "cell_type": "code",
   "execution_count": 38,
   "id": "372926ae-55b2-4e13-a479-e8ca5db1dda1",
   "metadata": {},
   "outputs": [
    {
     "name": "stdout",
     "output_type": "stream",
     "text": [
      "<class 'list'>\n",
      "Dies\n",
      "ist\n",
      "ein\n",
      "Beispiel-Satz!\n"
     ]
    }
   ],
   "source": [
    "s = 'Dies ist ein Beispiel-Satz!'\n",
    "\n",
    "l = s.split()      # zerlege einen String in Wörter\n",
    "\n",
    "print(type(l))     # das Ergebnis ist eine Liste!\n",
    "\n",
    "for word in l:     # gebe alle Wörter aus\n",
    "    print(word)    "
   ]
  },
  {
   "cell_type": "markdown",
   "id": "31ac898c-bc4f-4127-85d3-49bff16c3956",
   "metadata": {},
   "source": [
    "oder umgekehrt, aus einer Liste wird ein String:"
   ]
  },
  {
   "cell_type": "code",
   "execution_count": 4,
   "id": "4d2b11c8-bccd-47c2-8924-fc72c2b37801",
   "metadata": {},
   "outputs": [
    {
     "name": "stdout",
     "output_type": "stream",
     "text": [
      "Ein paar Wörter ergeben einen Satz!\n"
     ]
    }
   ],
   "source": [
    "s = ['Ein', 'paar', 'Wörter', 'ergeben', 'einen', 'Satz!']\n",
    "\n",
    "satz = ' '.join(s)\n",
    "\n",
    "print(satz)"
   ]
  },
  {
   "cell_type": "markdown",
   "id": "985111e3-b087-44cf-bcb1-643cb85e6299",
   "metadata": {},
   "source": [
    "----"
   ]
  },
  {
   "cell_type": "markdown",
   "id": "e55b874a-49f9-4b7a-b881-d681b027c04b",
   "metadata": {},
   "source": [
    "## <a id=python_tuples></a> 2. Python-Tupels"
   ]
  },
  {
   "cell_type": "markdown",
   "id": "a0af23ac-416f-4db0-9be7-c63e0e60b278",
   "metadata": {},
   "source": [
    "Als letzten Datentyp der Container sollte man noch die Tupel nennen. Die Tupel sind den Listen ähnlich, jedoch können die Tupel nach ihrer Erstellung nicht mehr verändert werden, d.h. die Elemente sind `nicht veränderbar` (immutable) und neue Elemente können nicht angehängt werden. Tupel werden\n",
    "mit `(` und `)` definiert:  "
   ]
  },
  {
   "cell_type": "code",
   "execution_count": 39,
   "id": "44cee468-3d09-4b86-aa27-b442576daa88",
   "metadata": {},
   "outputs": [
    {
     "name": "stdout",
     "output_type": "stream",
     "text": [
      "()\n",
      "(1, 2, 3, 4)\n",
      "('a', 1.234, <ufunc 'sqrt'>, 'Oliver')\n",
      "(1, 2, 3, 4)\n"
     ]
    }
   ],
   "source": [
    "a = ()\n",
    "# oder\n",
    "a = tuple()\n",
    "\n",
    "b = (1,2,3,4)                          # Tupel aus Ganzzahlen\n",
    "c = ('a', 1.234, np.sqrt, 'Oliver')\n",
    "\n",
    "d = 1,2,3,4                            # man kann die Klammern auch weglassen!\n",
    "\n",
    "print(a)\n",
    "print(b)\n",
    "print(c)\n",
    "print(d)"
   ]
  },
  {
   "cell_type": "markdown",
   "id": "416aba0d-4d1c-4927-bbb1-6967bfd7b9f7",
   "metadata": {},
   "source": [
    "Eine Besonderheit gibt es beim Erstellen von Tupel mit einem Element:"
   ]
  },
  {
   "cell_type": "code",
   "execution_count": 40,
   "id": "b823edc2-ea25-4375-a4da-3e4aa605ec5a",
   "metadata": {},
   "outputs": [
    {
     "name": "stdout",
     "output_type": "stream",
     "text": [
      "<class 'int'>\n",
      "0\n",
      "<class 'tuple'>\n",
      "(0,)\n"
     ]
    }
   ],
   "source": [
    "a = (0)         # vermeintlicher Tupel, aber es ist nur eine Ganzzahl\n",
    "\n",
    "print(type(a))\n",
    "print(a)\n",
    "\n",
    "b = (0,)        # nun ist es ein Tupel mit einem Element\n",
    "print(type(b))\n",
    "print(b)"
   ]
  },
  {
   "cell_type": "markdown",
   "id": "f5342254-58c7-4e21-b392-141ffa8a70d6",
   "metadata": {},
   "source": [
    "Zugriff und Slicing, sowie die For-Schleife wie bei Python-Listen:"
   ]
  },
  {
   "cell_type": "code",
   "execution_count": 41,
   "id": "6dc030e1-a664-4a18-b3c0-11c2d7292876",
   "metadata": {},
   "outputs": [
    {
     "name": "stdout",
     "output_type": "stream",
     "text": [
      "2\n",
      "(2, 3, 4, 5, 6, 7)\n",
      "(9, 8, 7, 6, 5, 4, 3, 2, 1, 0)\n",
      "0\n",
      "1\n",
      "2\n",
      "3\n",
      "4\n",
      "5\n",
      "6\n",
      "7\n",
      "8\n",
      "9\n"
     ]
    }
   ],
   "source": [
    "a = (0,1,2,3,4,5,6,7,8,9)\n",
    "\n",
    "print(a[2])         # das dritte Element\n",
    "print(a[2:-2])      # vom dritten bis zum vorvorletzen Element\n",
    "print(a[::-1])      # umgekehrte Reihenfolge\n",
    "\n",
    "for i in a:         # über alle Elemente eine for-Schleife nutzen\n",
    "    print(i)"
   ]
  },
  {
   "cell_type": "markdown",
   "id": "c83928e7-d0ac-4214-8f7e-8d51b64a1e96",
   "metadata": {},
   "source": [
    "Elemente können nicht verändert werden:"
   ]
  },
  {
   "cell_type": "code",
   "execution_count": 42,
   "id": "20e4dbed-8a87-4b91-b243-76bbaa54fab0",
   "metadata": {},
   "outputs": [
    {
     "ename": "TypeError",
     "evalue": "'tuple' object does not support item assignment",
     "output_type": "error",
     "traceback": [
      "\u001b[0;31m---------------------------------------------------------------------------\u001b[0m",
      "\u001b[0;31mTypeError\u001b[0m                                 Traceback (most recent call last)",
      "\u001b[0;32m<ipython-input-42-a55a7feee7df>\u001b[0m in \u001b[0;36m<module>\u001b[0;34m\u001b[0m\n\u001b[1;32m      1\u001b[0m \u001b[0ma\u001b[0m \u001b[0;34m=\u001b[0m \u001b[0;34m(\u001b[0m\u001b[0;36m1\u001b[0m\u001b[0;34m,\u001b[0m\u001b[0;36m2\u001b[0m\u001b[0;34m,\u001b[0m\u001b[0;36m3\u001b[0m\u001b[0;34m,\u001b[0m\u001b[0;36m4\u001b[0m\u001b[0;34m)\u001b[0m\u001b[0;34m\u001b[0m\u001b[0;34m\u001b[0m\u001b[0m\n\u001b[1;32m      2\u001b[0m \u001b[0;34m\u001b[0m\u001b[0m\n\u001b[0;32m----> 3\u001b[0;31m \u001b[0ma\u001b[0m\u001b[0;34m[\u001b[0m\u001b[0;36m1\u001b[0m\u001b[0;34m]\u001b[0m \u001b[0;34m=\u001b[0m \u001b[0;36m100\u001b[0m    \u001b[0;31m# das geht nicht, Tupel sind unveränderbar\u001b[0m\u001b[0;34m\u001b[0m\u001b[0;34m\u001b[0m\u001b[0m\n\u001b[0m",
      "\u001b[0;31mTypeError\u001b[0m: 'tuple' object does not support item assignment"
     ]
    }
   ],
   "source": [
    "a = (1,2,3,4)\n",
    "\n",
    "a[1] = 100    # das geht nicht, Tupel sind unveränderbar"
   ]
  },
  {
   "cell_type": "markdown",
   "id": "a992409d-7c71-46f8-8ea1-de0e407425aa",
   "metadata": {},
   "source": [
    "Angeheftete Funktionen von Tupel:"
   ]
  },
  {
   "cell_type": "code",
   "execution_count": 43,
   "id": "93975cf9-03d8-4eac-bafb-bdc6a4b71acb",
   "metadata": {},
   "outputs": [
    {
     "name": "stdout",
     "output_type": "stream",
     "text": [
      "Help on tuple object:\n",
      "\n",
      "class tuple(object)\n",
      " |  tuple(iterable=(), /)\n",
      " |  \n",
      " |  Built-in immutable sequence.\n",
      " |  \n",
      " |  If no argument is given, the constructor returns an empty tuple.\n",
      " |  If iterable is specified the tuple is initialized from iterable's items.\n",
      " |  \n",
      " |  If the argument is a tuple, the return value is the same object.\n",
      " |  \n",
      " |  Built-in subclasses:\n",
      " |      asyncgen_hooks\n",
      " |      UnraisableHookArgs\n",
      " |  \n",
      " |  Methods defined here:\n",
      " |  \n",
      " |  __add__(self, value, /)\n",
      " |      Return self+value.\n",
      " |  \n",
      " |  __contains__(self, key, /)\n",
      " |      Return key in self.\n",
      " |  \n",
      " |  __eq__(self, value, /)\n",
      " |      Return self==value.\n",
      " |  \n",
      " |  __ge__(self, value, /)\n",
      " |      Return self>=value.\n",
      " |  \n",
      " |  __getattribute__(self, name, /)\n",
      " |      Return getattr(self, name).\n",
      " |  \n",
      " |  __getitem__(self, key, /)\n",
      " |      Return self[key].\n",
      " |  \n",
      " |  __getnewargs__(self, /)\n",
      " |  \n",
      " |  __gt__(self, value, /)\n",
      " |      Return self>value.\n",
      " |  \n",
      " |  __hash__(self, /)\n",
      " |      Return hash(self).\n",
      " |  \n",
      " |  __iter__(self, /)\n",
      " |      Implement iter(self).\n",
      " |  \n",
      " |  __le__(self, value, /)\n",
      " |      Return self<=value.\n",
      " |  \n",
      " |  __len__(self, /)\n",
      " |      Return len(self).\n",
      " |  \n",
      " |  __lt__(self, value, /)\n",
      " |      Return self<value.\n",
      " |  \n",
      " |  __mul__(self, value, /)\n",
      " |      Return self*value.\n",
      " |  \n",
      " |  __ne__(self, value, /)\n",
      " |      Return self!=value.\n",
      " |  \n",
      " |  __repr__(self, /)\n",
      " |      Return repr(self).\n",
      " |  \n",
      " |  __rmul__(self, value, /)\n",
      " |      Return value*self.\n",
      " |  \n",
      " |  count(self, value, /)\n",
      " |      Return number of occurrences of value.\n",
      " |  \n",
      " |  index(self, value, start=0, stop=9223372036854775807, /)\n",
      " |      Return first index of value.\n",
      " |      \n",
      " |      Raises ValueError if the value is not present.\n",
      " |  \n",
      " |  ----------------------------------------------------------------------\n",
      " |  Static methods defined here:\n",
      " |  \n",
      " |  __new__(*args, **kwargs) from builtins.type\n",
      " |      Create and return a new object.  See help(type) for accurate signature.\n",
      "\n"
     ]
    }
   ],
   "source": [
    "a = (1,2,3,4)\n",
    "help(a)"
   ]
  },
  {
   "cell_type": "markdown",
   "id": "a1eab9e8-2ffd-4a8e-aeae-683daeb9a0f6",
   "metadata": {},
   "source": [
    "Wofür nutzt man Tupel? Ihnen bekannte Beispiele:"
   ]
  },
  {
   "cell_type": "code",
   "execution_count": 44,
   "id": "8bcbc33a-8ed2-45b5-8895-22de4ca63132",
   "metadata": {},
   "outputs": [
    {
     "name": "stdout",
     "output_type": "stream",
     "text": [
      "1 3\n",
      "2 4\n"
     ]
    }
   ],
   "source": [
    "# simultane Zuweisung:\n",
    "\n",
    "a, b = 1, 3\n",
    "print(a, b)\n",
    "\n",
    "# ein- und auspacken von Tupel\n",
    "z = 2, 4\n",
    "a, b = z \n",
    "print(a, b)"
   ]
  },
  {
   "cell_type": "code",
   "execution_count": 45,
   "id": "744796e9-3beb-423b-ab06-3663a03bbcb0",
   "metadata": {},
   "outputs": [
    {
     "name": "stdout",
     "output_type": "stream",
     "text": [
      "3 1\n",
      "<class 'tuple'>\n",
      "3 1\n"
     ]
    }
   ],
   "source": [
    "# Rückgabewerte von Funktionen\n",
    "\n",
    "def addsub(a,b):\n",
    "    return a+b, a-b\n",
    "\n",
    "a, b = addsub(2,1)    # zwei Rückgabewerte in zwei Variablen\n",
    "print(a, b)\n",
    "\n",
    "# oder anders zurückgegeben\n",
    "d = addsub(2,1)       # Rückgabewerte als Tupel!\n",
    "\n",
    "print(type(d))\n",
    "x, y = d\n",
    "print(x, y)"
   ]
  },
  {
   "cell_type": "markdown",
   "id": "a76fd2d0-1e03-412c-9d32-2c1943ea5502",
   "metadata": {},
   "source": [
    "----"
   ]
  },
  {
   "cell_type": "markdown",
   "id": "30932f40-88af-4aba-a242-bdcd4ca25d2c",
   "metadata": {},
   "source": [
    "## <a id=for_loops></a> 3. Python - For loops"
   ]
  },
  {
   "cell_type": "markdown",
   "id": "a0a0ef45-6a1f-4c7c-bf6c-1dce099d22de",
   "metadata": {},
   "source": [
    "Mit den Container-Typen *Strings*, *Listen* und *Tuples* haben Sie schon die `for`-Loop kennengelernt. Damit wird über eine *aufzählbare Sammlung von Einzelstücken* iteriert. \n",
    "\n",
    "Es gibt auch eine andere Variante der `for`-Schleife, die näher an dem ist, was man in anderen Programmiersprachen findet. Dazu ein kleines Beispiel mit der `while`-Schleife, mit der ein Zähler implementiert wird: "
   ]
  },
  {
   "cell_type": "code",
   "execution_count": 2,
   "id": "3837b3ea-d1ed-454f-857e-fbd0d2076ed7",
   "metadata": {},
   "outputs": [
    {
     "name": "stdout",
     "output_type": "stream",
     "text": [
      "0\n",
      "1\n",
      "2\n",
      "3\n",
      "4\n",
      "5\n",
      "6\n",
      "7\n",
      "8\n",
      "9\n"
     ]
    }
   ],
   "source": [
    "counter = 0\n",
    "while counter < 10:\n",
    "    print(counter)\n",
    "    counter = counter + 1"
   ]
  },
  {
   "cell_type": "markdown",
   "id": "44ce9679-b084-4def-9f81-a5c0ad6703e7",
   "metadata": {},
   "source": [
    "Es wird genaue eine Vorgegebene Anzahl von Iterationen, in diesem Fall `10`, eine Anweisung ausgeführt, wobei `counter` als Schleifenvariable dient.\n",
    "\n",
    "Dagegen nutzt man z.B. bei *Strings* folgende Iterationen:"
   ]
  },
  {
   "cell_type": "code",
   "execution_count": 3,
   "id": "12547f0d-0615-4b21-af34-8ccfe94009de",
   "metadata": {},
   "outputs": [
    {
     "name": "stdout",
     "output_type": "stream",
     "text": [
      "O\n",
      "l\n",
      "i\n",
      "v\n",
      "e\n",
      "r\n"
     ]
    }
   ],
   "source": [
    "s = 'Oliver'\n",
    "\n",
    "for c in s:\n",
    "    print(c)"
   ]
  },
  {
   "cell_type": "markdown",
   "id": "407f2703-2253-4d1c-b044-e5b2b16882fe",
   "metadata": {},
   "source": [
    "Hier ist `c` die Schleifenvariable, wobei die Anzahl der Iteration `versteckt` in der Größe des Strings steckt."
   ]
  },
  {
   "cell_type": "markdown",
   "id": "f6bf8d6d-1666-4a67-8739-b67ae1281e8a",
   "metadata": {},
   "source": [
    "Den obigen Zähler in eine `for`-Schleife zu übersetzen ist einfach. Es gibt eine Funktion `range(...)` über dessen Rückgabewert iteriert werden kann. Das Argument bzw. die Argumente von `range` bestimmen die Werte der Schleifenvariablen `i`:"
   ]
  },
  {
   "cell_type": "code",
   "execution_count": 9,
   "id": "315753f0-58a7-4ec8-93a0-e741489c283e",
   "metadata": {},
   "outputs": [
    {
     "name": "stdout",
     "output_type": "stream",
     "text": [
      "0\n",
      "1\n",
      "2\n",
      "3\n",
      "4\n",
      "5\n",
      "6\n",
      "7\n",
      "8\n",
      "9\n"
     ]
    }
   ],
   "source": [
    "for i in range(10):\n",
    "    print(i)"
   ]
  },
  {
   "cell_type": "markdown",
   "id": "d82064af-aa64-432a-b421-73d4ede9fafd",
   "metadata": {},
   "source": [
    "Um sich Vorzustellen, was `range(...)` macht, kann man die Rückgabe der Funktion in eine Liste umwandeln:"
   ]
  },
  {
   "cell_type": "code",
   "execution_count": 2,
   "id": "12248048-ebc9-43c3-8b89-801d2d49073b",
   "metadata": {},
   "outputs": [
    {
     "name": "stdout",
     "output_type": "stream",
     "text": [
      "[0, 1, 2, 3, 4, 5, 6, 7, 8, 9]\n"
     ]
    }
   ],
   "source": [
    "print(list(range(10)))"
   ]
  },
  {
   "cell_type": "markdown",
   "id": "a50783d0-9225-4feb-82cc-02fc1c266a32",
   "metadata": {},
   "source": [
    "Sie sehen, dass die Liste genau die Elemente hat, die dann bei der `for`-Schleife ausgegeben werden. Bei der Nutzung von `for` können Sie die Umwandlung mit `list(...)` weglassen, aber er schadet auch nicht!"
   ]
  },
  {
   "cell_type": "markdown",
   "id": "993c4a71-f02b-4b0f-b04a-693f44f6321e",
   "metadata": {},
   "source": [
    "`range` hat ähnlich wie das Slicing eine erweiterte Argument-Liste:\n",
    "\n",
    "```\n",
    " range(start,end,step)\n",
    "```\n",
    "\n",
    "wobei `end` und `step` optional sind:\n"
   ]
  },
  {
   "cell_type": "code",
   "execution_count": 7,
   "id": "47440f45-3ec9-4209-9bb3-9b86e1054342",
   "metadata": {},
   "outputs": [
    {
     "name": "stdout",
     "output_type": "stream",
     "text": [
      "[1, 2, 3, 4, 5, 6, 7, 8, 9]\n",
      "[1, 4, 7]\n",
      "[5, 4, 3, 2]\n"
     ]
    }
   ],
   "source": [
    "print(list(range(1,10)))    # von 1 bis 9\n",
    "print(list(range(1,10,3)))  # von 1 bis 9 aber nur jede 3. Zahl!\n",
    "print(list(range(5,1,-1)))  # von 5 rückwärts bis 2!"
   ]
  },
  {
   "cell_type": "code",
   "execution_count": null,
   "id": "17682220-2e9a-4297-b3b6-1f15caf4e6da",
   "metadata": {},
   "outputs": [],
   "source": []
  }
 ],
 "metadata": {
  "kernelspec": {
   "display_name": "Python 3 (ipykernel)",
   "language": "python",
   "name": "python3"
  },
  "language_info": {
   "codemirror_mode": {
    "name": "ipython",
    "version": 3
   },
   "file_extension": ".py",
   "mimetype": "text/x-python",
   "name": "python",
   "nbconvert_exporter": "python",
   "pygments_lexer": "ipython3",
   "version": "3.9.13"
  }
 },
 "nbformat": 4,
 "nbformat_minor": 5
}
