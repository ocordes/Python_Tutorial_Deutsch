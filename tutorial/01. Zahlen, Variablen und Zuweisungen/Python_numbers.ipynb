{
 "cells": [
  {
   "cell_type": "markdown",
   "metadata": {},
   "source": [
    "## Zahlen"
   ]
  },
  {
   "cell_type": "markdown",
   "metadata": {},
   "source": [
    "Python kennt zwei verschiedene skalare Datentypen für Zahlen die Ganzzahlen (Integer) und die Fliesskommazahlen (Floats). Grundsätzlich unterscheiden sich beide Datentypen in ihrer Darstellung und Genauigkeit, aber die Operationen, die man mit beiden Typen machen kann sind zum großen Teil identisch. \n",
    "\n",
    "**Als Hintergrund:** \n",
    "\n",
    "Computer können im Prinzip erstmal nur mit `0` und `1` umgehen. Ganze Zahlen lassen sich sehr einfach mit `0` und `1` beschreiben (binär-Format) und so waren die Ganzzahlen lange die einzigen Zahlen in den Computern. Natürlicherweise reichen die Ganzzahlen nicht aus, jede mathematische Operation auszuführen (z.B. Division), so wurden auch die Fliesskommazahlen in den Computern implementiert. Die Bearbeitung von Fliesskommazahlen ist jedoch im Vergleich zu den Ganzzahlen recht Zeitintensiv und wird auch mit speziellen Rechenwerken erledigt."
   ]
  },
  {
   "cell_type": "markdown",
   "metadata": {},
   "source": [
    "### Darstellung"
   ]
  },
  {
   "cell_type": "markdown",
   "metadata": {},
   "source": [
    "Zur besseren Darstellung der Zahlen, werden alle Zahlen mit der ```print()```-Anweisung ausgegeben. Die Bedeutung der einzelnen Notationen sind jeweils als Kommentar mitgegeben. Sie können die folgende Zelle ausführen:"
   ]
  },
  {
   "cell_type": "code",
   "execution_count": 7,
   "metadata": {},
   "outputs": [
    {
     "name": "stdout",
     "output_type": "stream",
     "text": [
      "1\n",
      "-1\n",
      "1\n",
      "1.23\n",
      "120.0\n",
      "120.0\n",
      "-0.012\n"
     ]
    }
   ],
   "source": [
    "print(1)       # die Ganzzahl 1\n",
    "print(-1)      # negative Zahlen haben immer ein \"-\"-Zeichen vorweg\n",
    "print(+1)      # das Pluszeichen ist möglich, aber hier nutzlos!\n",
    "print(1.23)    # die Fliesskommazahl 1,23 = das deutsche Komma wird als Punkt verwendet!\n",
    "print(1.2e2)   # Fliesskommazahlen können auch Zehnerpotenzen enthalten\n",
    "print(1.2E02)  # e oder E ist egal, führende Nullen werden hier ignoriert!\n",
    "print(-1.2e-2) # negative Flisskommazahlen existieren, genauso wie negative Zehnerpotenzen "
   ]
  },
  {
   "cell_type": "markdown",
   "metadata": {},
   "source": [
    "Die folgenden Beispiele sind falsche Darstellungen. Führen Sie die Beispiele zur Anschauung einfach mal aus:"
   ]
  },
  {
   "cell_type": "code",
   "execution_count": 8,
   "metadata": {},
   "outputs": [
    {
     "ename": "SyntaxError",
     "evalue": "leading zeros in decimal integer literals are not permitted; use an 0o prefix for octal integers (<ipython-input-8-93fdf7a608ae>, line 1)",
     "output_type": "error",
     "traceback": [
      "\u001b[0;36m  File \u001b[0;32m\"<ipython-input-8-93fdf7a608ae>\"\u001b[0;36m, line \u001b[0;32m1\u001b[0m\n\u001b[0;31m    print(0001)   # hier werden die führenden Nullen als Fehler markiert!\u001b[0m\n\u001b[0m             ^\u001b[0m\n\u001b[0;31mSyntaxError\u001b[0m\u001b[0;31m:\u001b[0m leading zeros in decimal integer literals are not permitted; use an 0o prefix for octal integers\n"
     ]
    }
   ],
   "source": [
    "print(0001)   # hier werden die führenden Nullen als Fehler markiert!"
   ]
  },
  {
   "cell_type": "code",
   "execution_count": 10,
   "metadata": {},
   "outputs": [
    {
     "ename": "SyntaxError",
     "evalue": "invalid syntax (<ipython-input-10-06048c20352e>, line 1)",
     "output_type": "error",
     "traceback": [
      "\u001b[0;36m  File \u001b[0;32m\"<ipython-input-10-06048c20352e>\"\u001b[0;36m, line \u001b[0;32m1\u001b[0m\n\u001b[0;31m    print(1.2e2.2)  # mathematisch vielleicht sinnvoll, aber die Zehnerpotenzen dürfen nur ganze Zahlen sein!\u001b[0m\n\u001b[0m               ^\u001b[0m\n\u001b[0;31mSyntaxError\u001b[0m\u001b[0;31m:\u001b[0m invalid syntax\n"
     ]
    }
   ],
   "source": [
    "print(1.2e2.2)  # mathematisch vielleicht sinnvoll, aber die Zehnerpotenzen dürfen nur ganze Zahlen sein!"
   ]
  },
  {
   "cell_type": "code",
   "execution_count": null,
   "metadata": {},
   "outputs": [],
   "source": []
  },
  {
   "cell_type": "markdown",
   "metadata": {},
   "source": [
    "### Mathematische Operationen"
   ]
  },
  {
   "cell_type": "markdown",
   "metadata": {},
   "source": [
    "Mit den Zahlen kann man natürlich auch rechnen. Dazu lassen sich die klassischen Operationen, die Sie aus der Mathematik kennen direkt in Python nutzen. Hier ist ein Beispiel der Addition, Subtraktion und Multiplikation mit ganzen Zahlen:"
   ]
  },
  {
   "cell_type": "code",
   "execution_count": 12,
   "metadata": {},
   "outputs": [
    {
     "name": "stdout",
     "output_type": "stream",
     "text": [
      "3\n",
      "-2\n",
      "42\n"
     ]
    }
   ],
   "source": [
    "print(1+2)  # Addition\n",
    "print(3-5)  # Subtraktion\n",
    "print(6*7)  # Multiplikation"
   ]
  },
  {
   "cell_type": "markdown",
   "metadata": {},
   "source": [
    "Das ganze geht natürlich auch mit Fliesskommazahlen oder mit der Mischung aus beiden Zahlentypen, wobei das Ergebnisimmer eine Fliesskommazahl ergibt:"
   ]
  },
  {
   "cell_type": "code",
   "execution_count": 19,
   "metadata": {},
   "outputs": [
    {
     "name": "stdout",
     "output_type": "stream",
     "text": [
      "4.1\n",
      "1.5631\n",
      "38.254\n",
      "3.0\n",
      "-1.1\n",
      "31.0\n"
     ]
    }
   ],
   "source": [
    "print(1.2+2.9)      # Addition mit Fliesskommazahlen\n",
    "print(2.431-0.8679) # Subtraktion mit Fliesskommazahlen\n",
    "print(12.34*3.1)    # Muliplikation mit Fliesskommazahlen\n",
    "print(1+2.0)        # gemischte Addition\n",
    "print(2-3.1)        # gemischte Subtraktion\n",
    "print(3.1*10)       # gemischte Multiplikation"
   ]
  },
  {
   "cell_type": "markdown",
   "metadata": {},
   "source": [
    "Betrachtet man die Ausgaben der beiden vorherigen Zellen, so sieht man, dass bei Operationen von zwei ganzen Zahlen wieder eine ganze zahl berechnet wird, während bei den anderen Rechnungen, die eine oder zwei Fliesskommazahlen enthalten, wie man erwarten würde, wieder eine Fliesskommazahl entsteht."
   ]
  },
  {
   "cell_type": "markdown",
   "metadata": {},
   "source": [
    "Die Division ist ein wenig komplexer. Python kennt bei den Zahlen zwei Divisionsoperationen, die Ganzzahl-Division `//` und die *reale* Division `/`. Beide Divisionen können jeweils auf die ganzen Zahlen und auf die Fliesskommazahlen angewendet werden:"
   ]
  },
  {
   "cell_type": "code",
   "execution_count": 23,
   "metadata": {},
   "outputs": [
    {
     "name": "stdout",
     "output_type": "stream",
     "text": [
      "1\n",
      "1.5\n",
      "1.0\n",
      "1.5\n",
      "-2\n"
     ]
    }
   ],
   "source": [
    "print(3//2)      # die Ganzzahldivsion \n",
    "print(3/2)       # die reale Division\n",
    "print(3.0//2.0)  # die Ganzzahldivision bei Fliesskommazahlen\n",
    "print(3.0/2.0)   # die reale Division\n",
    "print(-3//2)     # geht auch mit negativen Zahlen, aber das Ergebnis ist unerwartet"
   ]
  },
  {
   "cell_type": "markdown",
   "metadata": {},
   "source": [
    "Das letzte Beispiel `-3//2` ergibt mit `-2` ein unerwartetes Ergebnis. Das liegt an der Bestimmungsregel für die Ganzzahldivision. Das Ergbnis der Ganzzahldivision ist das Ergebnis der mathematischen (realen) Division abgerundet zur nächsten kleineren ganzen Zahl. Die reale Division von `3/2` ist `1.5` und die nächste kleinere ganze Zahl ist `1`. Für die negativen Zahlen ist `-3/2` gleich `-1.5` und die nächste kleinere Zahl ist `-2`. Auch hier ist es wichtig, dass sobald eine der beiden Operanden eine Fliesskommazahl ist, wird das Ergebnis auch eine Fliesskommazahl."
   ]
  },
  {
   "cell_type": "markdown",
   "metadata": {},
   "source": [
    "### Potenz- und Modulo-Operator"
   ]
  },
  {
   "cell_type": "markdown",
   "metadata": {},
   "source": [
    "Neben den klassischen Operationen, Addition, Subtraktion, Multiplikation und Division gibt es in Python noch einen Potenz- und Modulo-Operator, die an vielen Stellen hilfreich sind. Der Potenzoperator ist das mathematische `hoch` und der Modulo-Operator lässt sich am Besten mit dem Rest einer Division beschreiben. Hier sind ein paar Beispiele für den Potenzoperator:"
   ]
  },
  {
   "cell_type": "code",
   "execution_count": 25,
   "metadata": {},
   "outputs": [
    {
     "name": "stdout",
     "output_type": "stream",
     "text": [
      "4\n",
      "4.840000000000001\n",
      "1.4142135623730951\n"
     ]
    }
   ],
   "source": [
    "print(2**2)    # 2^2 = 4 Potenzoperator \n",
    "print(2.2**2)  # Potenzoperator mit Fliesskommazahlen\n",
    "print(2**0.5)  # als Potenzen sind auch Fliesskommazahlen erlaubt, hier eine Beschreibung des Wurzelziehens!"
   ]
  },
  {
   "cell_type": "markdown",
   "metadata": {},
   "source": [
    "Damit man den Modulo-Operator korrekt verstehen kann, sollte man sich die Definition genauestens anschauen:\n",
    "```\n",
    "x % n = x - (x // n) * n\n",
    "```\n",
    "Diese Definition gilt für positive und negative Zahlen und kann auf Ganzzahlen oder Fliesskommazahlen angewendet werden."
   ]
  },
  {
   "cell_type": "code",
   "execution_count": 10,
   "metadata": {},
   "outputs": [
    {
     "name": "stdout",
     "output_type": "stream",
     "text": [
      "1\n",
      "1.0\n",
      "-2\n",
      "-1\n"
     ]
    }
   ],
   "source": [
    "print(4 % 3)     # der Rest nach der Division \n",
    "print(4.0 % 3.0) # geht auch mit Fliesskommazahlen\n",
    "print(-4 % -3)   # natürlich auch für negative Zahlen\n",
    "print(4 % -3)    # sieht etwas komisch aus, aber korrekt, wenn man die Regeln nachvollzieht"
   ]
  },
  {
   "cell_type": "markdown",
   "metadata": {},
   "source": [
    "### Klammerungen und Auswertungen von mathematischen Operationen"
   ]
  },
  {
   "cell_type": "markdown",
   "metadata": {},
   "source": [
    "Alle mathematischen Operationen werden von links nach rechts ausgeführt. Dabei werden die Multiplikationen und Divisionen vor der Addition und Subtraktion ausgeführt. Der Modulo-Operator wird in dieser Reihenfolge wie eine Multiplikation gewertet:"
   ]
  },
  {
   "cell_type": "code",
   "execution_count": 12,
   "metadata": {},
   "outputs": [
    {
     "name": "stdout",
     "output_type": "stream",
     "text": [
      "22\n",
      "0\n"
     ]
    }
   ],
   "source": [
    "print(3+4+5+6)  # von links nach rechts auswerten\n",
    "print(3+4*5-1)  # erst wird die 3 zum Ergebnis der Multiplikation 20 gezählt und dann 1 subtrahiert\n",
    "print(3+5%2-4)  # hier wird die 3 zum Ergebnis er Rest-Operation 1 gezählt und 4 subtrahiert"
   ]
  },
  {
   "cell_type": "markdown",
   "metadata": {},
   "source": [
    "Eine Ausnahme ist der Potenzoperator, der von rechts nach links ausgewertet wird:"
   ]
  },
  {
   "cell_type": "code",
   "execution_count": 13,
   "metadata": {},
   "outputs": [
    {
     "name": "stdout",
     "output_type": "stream",
     "text": [
      "512\n"
     ]
    }
   ],
   "source": [
    "print(2**3**2) # es ist nicht 8**2 = 64 , sondern 2**9 = 512!"
   ]
  },
  {
   "cell_type": "markdown",
   "metadata": {},
   "source": [
    "Der Potenzoperator macht es genau wie in der Mathematik $2^{3^2} = 512$ !"
   ]
  },
  {
   "cell_type": "markdown",
   "metadata": {},
   "source": [
    "Möchte man diese Art der Auswertungen umgehen, so muss man Teil-Operationen mit den runden Klammern abgrenzen:"
   ]
  },
  {
   "cell_type": "code",
   "execution_count": 14,
   "metadata": {},
   "outputs": [
    {
     "name": "stdout",
     "output_type": "stream",
     "text": [
      "64\n"
     ]
    }
   ],
   "source": [
    "print((2**3)**2)  # dieses ergibt 8**2 = 64, weil die Klammer vorrang vor den anderen Operationen haben"
   ]
  },
  {
   "cell_type": "markdown",
   "metadata": {},
   "source": [
    "An vielen Stellen ist es sinnvoll, Klammern zu verwenden, damit man selber den Überblick nicht verliert. Ein Tipp wäre, jede gemischte Operation durch Klammern eindeutig abzugrenzen. Das verhindert Fehler und macht das Programm lesbarer."
   ]
  },
  {
   "cell_type": "markdown",
   "metadata": {},
   "source": [
    "### Weitere mathematische Operationen"
   ]
  },
  {
   "cell_type": "markdown",
   "metadata": {},
   "source": [
    "Mit den einfachen mathematischen Operationen lassen sich schon viele Aufgaben erledigen, allerdings kennen Sie aus der Mathematik noch weitere spezielle Funktionen, z.B. das Wurzelziehen, die trigonometrischen und die logarithmischen Funktionen. Diese können nicht direkt in Python genutzt werden. Dazu benötigt man eine Bibliothek oder Modul `numpy`, die diese Funktionen bereit stellt. Der Einfachheit geschuldet zeigen wir hier die konkrete Anwendung dieser Funktionen, die Erklärung, wie man Module nutzt, kommt in einem weiteren Tutorial. `numpy` wird wie folgt genutzt:"
   ]
  },
  {
   "cell_type": "code",
   "execution_count": 6,
   "metadata": {},
   "outputs": [
    {
     "name": "stdout",
     "output_type": "stream",
     "text": [
      "1.0\n",
      "1.4142135623730951\n",
      "3.141592653589793\n",
      "0.49999999999999994\n"
     ]
    }
   ],
   "source": [
    "import numpy\n",
    "\n",
    "print(numpy.exp(0))                # e^0 = 1 !\n",
    "print(numpy.sqrt(2))               # Wurzel aus 2\n",
    "print(numpy.pi)                    # auch Pi wird angegeben\n",
    "print(numpy.sin(numpy.pi*30/180))  # sinus von 30 Grad"
   ]
  },
  {
   "cell_type": "markdown",
   "metadata": {},
   "source": [
    "Neben den Funktionen bietet `numpy` auch den Wert $\\pi$ zur Benutzung an. Bei den trigonometrischen Funktionen bedenken Sie bitte, dass die Werte im Bogenmass und nicht in Grad übergeben werden. Sie müssen die Grad-Zahl deswegen erst umrechnen!"
   ]
  },
  {
   "cell_type": "markdown",
   "metadata": {},
   "source": [
    "## Variablen"
   ]
  },
  {
   "cell_type": "markdown",
   "metadata": {},
   "source": [
    "Variablen sind Speicherplätze im Computer, die mit Zahlen oder anderem Inhalt gefüllt werden können. Diese stehen immer bereit und können bei Bedarf modifiziert oder überschrieben werden:"
   ]
  },
  {
   "cell_type": "code",
   "execution_count": 15,
   "metadata": {},
   "outputs": [
    {
     "name": "stdout",
     "output_type": "stream",
     "text": [
      "12345\n",
      "12344\n",
      "1.2\n"
     ]
    }
   ],
   "source": [
    "itime = 12345      # die Variable hat den Wert 12345\n",
    "print(itime)  \n",
    "itime = itime - 1  # der Wert wird modifiziert\n",
    "print(itime)\n",
    "itime = 1.2        # der Wert wird überschrieben\n",
    "print(itime)"
   ]
  },
  {
   "cell_type": "markdown",
   "metadata": {},
   "source": [
    "Variablen in Python haben im Gegensatz zu anderen Programmiersprachen keine Type-Bindung. Das bedeutet, dass man eine Variable, der einen Ganzzahl hat mit einer Fliesskommazahl überschreiben kann. Variablen lassen sich auch durch eine Operation modifizieren.  "
   ]
  },
  {
   "cell_type": "markdown",
   "metadata": {},
   "source": [
    "Bei der Wahl des Namens für die Variablen müssen einige Regeln eingehalten werden, Sie sollen aber in jedem Fall im Programm einen Hinweis geben, wofür der Wert der Variablen gedacht ist. Es macht also Sinn, eine Variable für Zeitangaben `itime` zu nennen, der Name `word` wäre irreführend und `a` nicht aussagekräftig.\n",
    "\n",
    "Regeln zur Findung von Variablennamen:\n",
    " * der erste Buchstabe darf keine Zahl sein\n",
    " * große und kleine Buchstaben sind erlaubt, sowie Zahlen im Namen\n",
    " * ein Bindestrich ist im Namen nicht erlaubt, der Bindestrich steht für die Subtraktion\n",
    " * (kein Muss) englische Namen wählen, wie bei den Kommentaren für die Lesbarkeit"
   ]
  },
  {
   "cell_type": "code",
   "execution_count": null,
   "metadata": {},
   "outputs": [],
   "source": []
  }
 ],
 "metadata": {
  "kernelspec": {
   "display_name": "Python 3",
   "language": "python",
   "name": "python3"
  },
  "language_info": {
   "codemirror_mode": {
    "name": "ipython",
    "version": 3
   },
   "file_extension": ".py",
   "mimetype": "text/x-python",
   "name": "python",
   "nbconvert_exporter": "python",
   "pygments_lexer": "ipython3",
   "version": "3.8.3"
  }
 },
 "nbformat": 4,
 "nbformat_minor": 4
}
