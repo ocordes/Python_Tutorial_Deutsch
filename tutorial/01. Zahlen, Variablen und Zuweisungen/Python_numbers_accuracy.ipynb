{
 "cells": [
  {
   "cell_type": "markdown",
   "metadata": {},
   "source": [
    "### Genauigkeiten von Zahlen"
   ]
  },
  {
   "cell_type": "markdown",
   "metadata": {},
   "source": [
    "Ein ganz wichtiger Aspekt bei der Nutzung von Zahlen ist die Genauigkeit. Aus der Mathematik kennen Sie sicher das Beispiel, dass das Ergebnis einer Division durch 7 oder 9 nicht exakt mit einer ausgeschriebenen Zahl angegeben werden kann. Bei sich immer wiederholenden Nachkommastellen kann man sich dann mit der Periodendarstellung behelfen:\n",
    "\n",
    "$$ \\frac{1}{9} = 0.\\overline{1}$$\n",
    "\n",
    "Dies ist ein Problem, welches man mit Zahlen hat, die man mit dem Computer bearbeiten möchte. An dieser Stelle müssen wir zwischen den Ganzzahlen und den Fliesskommazahlen unterscheiden. "
   ]
  },
  {
   "cell_type": "markdown",
   "metadata": {},
   "source": [
    "Python erlaubt es, Ganzzahlen in beliebiger Größe darzustellen, womit auch alle mathematischen Operationen, die als Ergbnis eine Ganzzahl ergeben, immer ein genaues Ergebnis liefern. Ein Beispiel:"
   ]
  },
  {
   "cell_type": "code",
   "execution_count": 7,
   "metadata": {},
   "outputs": [
    {
     "name": "stdout",
     "output_type": "stream",
     "text": [
      "5966168960605969465897840432221570682240962491405470442492865628185649004305076742888571353308620807173528695730080412257172847333192548012987484226230496238465902875446022503734676029524063256260392206690768550395772180133724314498597552007870002969142665260021557644182757653418526578637511887073640914251846618184678277713553468745098438386011808872335877890594999377891757852966221591410822480985053177203164787892164996827586613190052307560295621478434106510509738799077592690193471769613453576293869400881930934794780335871324352603946838990694683862696222015835598421975924225184124860813228215788856559773575090280217883028889985006701676208578080630198436654231645088648462149674777608941880540172106026955582154699858243559284150018266143789318205359826541499912904685229801341098162511145455470966838263691984740559108491088315084335936516789866142247907475638235332743909236576459173704662446031940120092419826653066035208751500293187417000353835930647747331402296286202777375314157059934330772411551496574580331748735660319342633829033363859497376162194921400369543911262372372579202867842712178871018273822158155874145197886604243744448184651740021322805309842335341071614827101358081901566783433878611841587724085650765069733607508911550454182408691102905734274641127231676240738643703389200569922740790452398053786549921280362822258892423555026221337075229245095946707413534459740607143694911224530239860941799053246137391762078070953420693720502098957126485327632453913900205932070715763137178319753524578815257160782396475730425022506553160773639042483906547991714282476014550313416731987835771885920453581569285469960285247418305561750034424012962173270314291252728701694073453361927325805003585727568957767377643001762587247739142144\n"
     ]
    }
   ],
   "source": [
    "print(1234**567)"
   ]
  },
  {
   "cell_type": "markdown",
   "metadata": {},
   "source": [
    "Das Ergebnis hat `1753` Stellen und ist genau. Verwechseln Sie die Ganzzahlen nicht mit den Integer-Datentypen aus anderen Programmiersprachen, die nicht so viele Stellen darstellen können. \n",
    "\n",
    "Etwas anders sieht es bei den Fliesskommazahlen aus. Machen wir die gleiche Rechnung, so erhält man:"
   ]
  },
  {
   "cell_type": "code",
   "execution_count": 9,
   "metadata": {},
   "outputs": [
    {
     "ename": "OverflowError",
     "evalue": "(34, 'Numerical result out of range')",
     "output_type": "error",
     "traceback": [
      "\u001b[0;31m---------------------------------------------------------------------------\u001b[0m",
      "\u001b[0;31mOverflowError\u001b[0m                             Traceback (most recent call last)",
      "\u001b[0;32m<ipython-input-9-daca1fee645a>\u001b[0m in \u001b[0;36m<module>\u001b[0;34m\u001b[0m\n\u001b[0;32m----> 1\u001b[0;31m \u001b[0mprint\u001b[0m\u001b[0;34m(\u001b[0m\u001b[0;36m1234.0\u001b[0m\u001b[0;34m**\u001b[0m\u001b[0;36m567\u001b[0m\u001b[0;34m)\u001b[0m\u001b[0;34m\u001b[0m\u001b[0;34m\u001b[0m\u001b[0m\n\u001b[0m",
      "\u001b[0;31mOverflowError\u001b[0m: (34, 'Numerical result out of range')"
     ]
    }
   ],
   "source": [
    "print(1234.0**567.0)"
   ]
  },
  {
   "cell_type": "markdown",
   "metadata": {},
   "source": [
    "eine Fehlermeldung, dass das Ergebnis dieser Operation `ausserhalb` des Darstellungsbereiches liegt. Dieses ist erstmal dem Umstand geschuldet, dass bei Fliesskommazahlen nur eine begrenzte Anzahl von Bytes für das Speichern zur Verfügung steht (8 Bytes maximal). Damit klar wird, woher die Beschränkung der Darstellung her kommt, müssen wir uns die Fliesskommazahlen ein wenig genauer anschauen. "
   ]
  },
  {
   "cell_type": "markdown",
   "metadata": {},
   "source": [
    "Jede Fliesskommazahl lässt sich schreiben, als eine Zahl, die nur aus Nachkommastellen besteht, die dann mit einer Zehnerpotenz multipliziert werden muss:\n",
    "\n",
    "```\n",
    "1.2 = 0.12 * 10^1   \n",
    "120 = 0.12 * 10^3\n",
    "```\n",
    "Wird die Fliesskommazahl im Computer abgespeichert, muss man **nur** die Nachkommastellen und die Zehnerpotenz abspeichern. Die Anzahl der Nachkommastellen ist allerdings auf etwa 8 beschränkt (Genaueres siehe unten). Allerdings wird es kompliziert, wenn man mit Fliesskommazahlen rechnet. Da kommt es auf die Zahlen mit denen man rechnet an. Leicht nachzuvollziehen ist es, wenn man eine sehr große Fliesskommazahl zu einer sehr kleinen Zahl addiert. Da kann es vorkommen, dass die kleine Zahl keine Wirkung auf die Addition hat, z.B.:"
   ]
  },
  {
   "cell_type": "code",
   "execution_count": 4,
   "metadata": {},
   "outputs": [
    {
     "name": "stdout",
     "output_type": "stream",
     "text": [
      "1e+30\n"
     ]
    }
   ],
   "source": [
    "print(1e30+1.)  # große Zahl plus eine kleine Zahl"
   ]
  },
  {
   "cell_type": "markdown",
   "metadata": {},
   "source": [
    "Das ergibt keine Veränderung! Insofern muss man genau an dieser Stelle vorsichtig sein und genau schauen, mit welchen Zahlengrößen man rechnet!"
   ]
  },
  {
   "cell_type": "markdown",
   "metadata": {},
   "source": [
    "Es gibt noch ein anderes Problem, was auftritt, wenn man mit Fliesskommazahlen rechnet. Schauen wir das folgende Beispiel an:"
   ]
  },
  {
   "cell_type": "code",
   "execution_count": 3,
   "metadata": {},
   "outputs": [
    {
     "name": "stdout",
     "output_type": "stream",
     "text": [
      "0.1\n",
      "0.30000000000000004\n"
     ]
    }
   ],
   "source": [
    "print(0.1)\n",
    "print(0.1*3)"
   ]
  },
  {
   "cell_type": "markdown",
   "metadata": {},
   "source": [
    "Die erste Ausgabe ist noch okay, aber bei der zweiten Ausgabe ist das Ergebnis nicht wie erwartet `0.1 * 3 = 0.3`, sondern leicht größer! Warum?"
   ]
  },
  {
   "cell_type": "markdown",
   "metadata": {},
   "source": [
    "Computer speichern die Zahlen nicht so einfach, wie wir uns das vielleicht vorstellen. Die kleinste Speichereinheit oder Zahl, die ein Computer eigentlich versteht, ist ein sog. `Bit` eine `0` oder `1`. Wenn man mehrere `0` und `1` zusammenfügt, kann man ganze Zahlen genau beschreiben. Diese ergibt die sog. binäre Darstellung oder mathematisch die Zahlen zu der Basis `2` anstelle des Dezimalssystems mit der Basis `10`, welches wir normalerweise nutzen.\n",
    "\n",
    "Mathematisch lassen sich alle ganzen Zahlen $x$ aus dem  Dezimalssystem so darstellen:\n",
    "$$ x = \\sum_{i=0}^{\\infty} b_i 2^i $$\n",
    "Die Zahlen $b_i$ sind dann die Bits und haben die Werte `0` und `1`. Man schreibt in der Regel die Binärzahlen mit dem kleinsten Bit am Schluss:\n",
    "$$ x = \\ldots b_5 b_4 b_3 b_2 b_1 b_0$$\n",
    "\n",
    "So ist z.B. `100` die Darstellung von `4` und `101010` von `42`. "
   ]
  },
  {
   "cell_type": "markdown",
   "metadata": {},
   "source": [
    "Nun müssen auch die Fliesskommazahlen in das binäre Format umgewandelt werden. Die Exponenten als Ganze Zahlen lassen sich wie im Beispiel vorher einfach darstellen. Der Nachkommateil der Fliesskommazahl ist allerdings etwas komplizierter. Obige Umrechnung kann man etwas erweitern:\n",
    "\n",
    "$$ f = \\sum_{j=1}^{\\infty} b_i 2^{-j}$$\n",
    "\n",
    "wobei hier nun \n",
    "\n",
    "$$ f = . b_1 b_2 b_3 b_4 b_5 \\ldots $$\n",
    "bedeutet.\n",
    "\n",
    "\n",
    "Dieses ist die Darstellung einer positiven Zahl $f$ die kleiner als 1 ist. Wenn Sie sich nun anschauen, wie `0.1` in der binäre Darstellung aussieht, so stellt man fest, dass sich `0.1` nicht als binäre Zahl genau umwandeln lässt. Am Besten schaut man in die Umrechnungstabelle für die einzelnen Bits und versucht daraus die `0.1` in einer Summe zu berechnen:\n",
    "\n",
    "| Bit   | Wert |\n",
    "| :------------- | :------------- |\n",
    "| $b_1$ | 0.5 |\n",
    "| $b_2$ | 0.25 |\n",
    "| $b_3$ | 0.125 |\n",
    "| $b_4$ | 0.0625 |\n",
    "| $b_5$ | 0.030125 |\n",
    "| $b_6$ | 0.015625 |\n",
    "| $b_7$ | 0.0078125 |\n",
    "| ... | ... |\n",
    "\n",
    "Eine Annäherung wäre `0.0001100...`, aber wie gesagt, die Zahl kann nicht genau im Computer abgespeichert werden. Diese Abweichung wird natürlich beim Multiplizieren mitgenommen und dann vergrößert. So kann man diese Ungenauigkeit mit der Ausgabe darstellen."
   ]
  },
  {
   "cell_type": "code",
   "execution_count": null,
   "metadata": {},
   "outputs": [],
   "source": []
  }
 ],
 "metadata": {
  "kernelspec": {
   "display_name": "Python 3",
   "language": "python",
   "name": "python3"
  },
  "language_info": {
   "codemirror_mode": {
    "name": "ipython",
    "version": 3
   },
   "file_extension": ".py",
   "mimetype": "text/x-python",
   "name": "python",
   "nbconvert_exporter": "python",
   "pygments_lexer": "ipython3",
   "version": "3.8.3"
  }
 },
 "nbformat": 4,
 "nbformat_minor": 4
}
