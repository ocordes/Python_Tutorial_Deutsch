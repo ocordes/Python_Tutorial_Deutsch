{
 "cells": [
  {
   "cell_type": "markdown",
   "metadata": {},
   "source": [
    "# Vorlesung Python 3 (numpy) - 06.01.2021"
   ]
  },
  {
   "cell_type": "markdown",
   "metadata": {},
   "source": [
    "Diese Vorlesung soll eine Einführung in die Arbeit mit wissenschaftlichen Daten sein. Anhand eine kleiner Geschichte werden auf der einen Seite die sog. `numpy`-Arrays eingeführt, aber auch gleich die visuelle Darstellung mit Hilfe der `matplotlib`-Bibliothek."
   ]
  },
  {
   "cell_type": "markdown",
   "metadata": {},
   "source": [
    "# Vorgeschichte\n",
    "\n",
    "In vielen Beispielen haben wir von der Studentin Annika geredet, die als Studentin der Physik und Astronomie einige Aufgaben mit Linux und auch mit Python erledigt hat. In dieser Vorlesung geht es um das Fahrzeug der Studentin einen kleinen Elektro-PKW eines bekannten französischen Autoherstellers. \n",
    "\n",
    "Gründlich, wie Annika nun ist, hat Sie in dem vergangenen Jahr, den Stromverbrauch und die gefahrenen Kilometer pro Woche in einer Datei notiert."
   ]
  },
  {
   "cell_type": "code",
   "execution_count": 68,
   "metadata": {},
   "outputs": [
    {
     "name": "stdout",
     "output_type": "stream",
     "text": [
      "# week\t  power\t distance\n",
      "0  \t  61.1\t 278.3\n",
      "1  \t  58.3\t 257.1\n",
      "2  \t  60.3\t 274.4\n",
      "3  \t  52.1\t 253.2\n",
      "4  \t  55.9\t 266.8\n",
      "5  \t  59.3\t 279.2\n",
      "6  \t  54.6\t 269.0\n",
      "7  \t  36.1\t 173.5\n",
      "8  \t 145.0\t 744.5\n",
      "9  \t 116.4\t 623.5\n",
      "10 \t 115.1\t 591.6\n",
      "11 \t  43.5\t 235.1\n",
      "12 \t  28.5\t 154.3\n",
      "13 \t  49.8\t 268.4\n"
     ]
    }
   ],
   "source": [
    "!head -15 data/test.dat"
   ]
  },
  {
   "cell_type": "markdown",
   "metadata": {},
   "source": [
    "Wie man gut sieht, ist in der ersten Spalte die Wochennummer von `0` an eingetragen. Dann folgt in der ersten Spalte der Verbrauch in `kW/h` und in der 3. Spalte die gefahrene Strecke in `km`."
   ]
  },
  {
   "cell_type": "markdown",
   "metadata": {},
   "source": [
    "Annika möchte diese Daten nun genauer analysieren."
   ]
  },
  {
   "cell_type": "markdown",
   "metadata": {},
   "source": [
    "# Daten einlesen"
   ]
  },
  {
   "cell_type": "markdown",
   "metadata": {},
   "source": [
    "Der folgende Code ist ein wenig Standard, es wird eine Datei in die Variable `data` eingelesen und dann werden die Spalten in separate Variablen abgespeichert. Was es im Detail bedeutet, wird später klar werden!"
   ]
  },
  {
   "cell_type": "code",
   "execution_count": 69,
   "metadata": {},
   "outputs": [],
   "source": [
    "import numpy as np\n",
    "\n",
    "data = np.loadtxt('data/test.dat')\n",
    "\n",
    "data_weeks = data[:,0]\n",
    "data_power = data[:,1]\n",
    "data_range = data[:,2]"
   ]
  },
  {
   "cell_type": "markdown",
   "metadata": {},
   "source": [
    "# Numpy-Arrays"
   ]
  },
  {
   "cell_type": "markdown",
   "metadata": {},
   "source": [
    "Bevor wir in der Geschichte weitergehen, müssen wir über die `numpy`-Arrays sprechen."
   ]
  },
  {
   "cell_type": "markdown",
   "metadata": {},
   "source": [
    "`numpy`-Arrays sind Container (wie Strings), in denen alle Elemente den (meistens) gleichen Typ haben. Typen können z.B. Ganzzahlen oder Fliesskommazahlen sein."
   ]
  },
  {
   "cell_type": "markdown",
   "metadata": {},
   "source": [
    "### Meta-Daten\n",
    "\n",
    "Wichtig bei den Arrays sind die sog. Meta-Daten, die das Array beschreiben:"
   ]
  },
  {
   "cell_type": "code",
   "execution_count": 70,
   "metadata": {},
   "outputs": [
    {
     "name": "stdout",
     "output_type": "stream",
     "text": [
      "<class 'numpy.ndarray'>\n",
      "float64\n",
      "1\n",
      "(52,)\n"
     ]
    }
   ],
   "source": [
    "print(type(data_power))    # type of the python array\n",
    "print(data_power.dtype)    # data type of the array\n",
    "print(data_power.ndim)     # number of dimensions\n",
    "print(data_power.shape)    # shape of the array"
   ]
  },
  {
   "cell_type": "markdown",
   "metadata": {},
   "source": [
    "### Erstellung von Arrays"
   ]
  },
  {
   "cell_type": "code",
   "execution_count": 71,
   "metadata": {},
   "outputs": [
    {
     "name": "stdout",
     "output_type": "stream",
     "text": [
      "[1 2 3 4]\n",
      "[1. 2. 3. 4.]\n",
      "[0.  0.1 0.2 0.3 0.4 0.5 0.6 0.7 0.8 0.9]\n",
      "[0.         0.11111111 0.22222222 0.33333333 0.44444444 0.55555556\n",
      " 0.66666667 0.77777778 0.88888889 1.        ]\n",
      "[0. 0. 0. 0. 0. 0. 0. 0. 0. 0.]\n"
     ]
    }
   ],
   "source": [
    "import numpy as np\n",
    "\n",
    "# there are many possibilities to create a numpy-array\n",
    "a1 = np.array([1,2,3,4])       # conversion of a numerical list to a numpy-array\n",
    "a2 = np.array([1., 2., 3., 4.])\n",
    "print(a1)\n",
    "print(a2)\n",
    "b = np.arange(0.0, 1.0, 0.1)  # array between two limits with a given distance\n",
    "                              # between array elements. The array if a half-open\n",
    "                              # interval!\n",
    "print(b)\n",
    "c = np.linspace(0.0, 1.0, 10) # array between two limits with a given number of\n",
    "                              # array elements. Both limits are contained in the\n",
    "                              # array\n",
    "print(c)\n",
    "d = np.zeros(10)              # array of 10 elements with 0 \n",
    "print(d)"
   ]
  },
  {
   "cell_type": "markdown",
   "metadata": {},
   "source": [
    "`numpy` erzeugt automatisch den richtigen Datentyp, man kann aber auch den Datentyp *forcieren*:"
   ]
  },
  {
   "cell_type": "code",
   "execution_count": 72,
   "metadata": {},
   "outputs": [
    {
     "name": "stdout",
     "output_type": "stream",
     "text": [
      "[1. 2. 3. 4.]\n"
     ]
    }
   ],
   "source": [
    "a1 = np.array([1,2,3,4], dtype=np.float64)\n",
    "print(a1)"
   ]
  },
  {
   "cell_type": "markdown",
   "metadata": {},
   "source": [
    "Wichtige Typen:\n",
    "  * `np.int64`    64-bit Ganzzahlen\n",
    "  * `np.float64`  64-bit Fliesskommazahlen\n",
    "  \n",
    "(Ganzzahlen in `numpy` haben eine beschränkte Genauigkeit!)"
   ]
  },
  {
   "cell_type": "markdown",
   "metadata": {},
   "source": [
    "Wie bei allen Containern kann man mit `len` die Größe des Arrays abfragen, allerdings sollte `shape` bevorzugt werden."
   ]
  },
  {
   "cell_type": "markdown",
   "metadata": {},
   "source": [
    "# Erste Datenanalyse"
   ]
  },
  {
   "cell_type": "markdown",
   "metadata": {},
   "source": [
    "Wir haben nun drei `numpy`-Arrays aus der Text-Datei eingelesen:"
   ]
  },
  {
   "cell_type": "code",
   "execution_count": 73,
   "metadata": {},
   "outputs": [
    {
     "name": "stdout",
     "output_type": "stream",
     "text": [
      "(52,)\n",
      "(52,)\n",
      "(52,)\n"
     ]
    }
   ],
   "source": [
    "print(data_weeks.shape)\n",
    "print(data_power.shape)\n",
    "print(data_range.shape)"
   ]
  },
  {
   "cell_type": "markdown",
   "metadata": {},
   "source": [
    "Alle Größen sind identisch, so dass man die Wochen gegen den Stromverbrauch  plotten kann:"
   ]
  },
  {
   "cell_type": "code",
   "execution_count": 79,
   "metadata": {},
   "outputs": [
    {
     "data": {
      "text/plain": [
       "Text(0, 0.5, 'Power [kWh]')"
      ]
     },
     "execution_count": 79,
     "metadata": {},
     "output_type": "execute_result"
    },
    {
     "data": {
      "image/png": "[encoded data removed]",
      "text/plain": [
       "<Figure size 432x288 with 1 Axes>"
      ]
     },
     "metadata": {
      "needs_background": "light"
     },
     "output_type": "display_data"
    }
   ],
   "source": [
    "%matplotlib inline    \n",
    "\n",
    "import matplotlib.pyplot as plt     # import the matplotlib\n",
    "\n",
    "fig, ax = plt.subplots()            # generate a figure with an axis!\n",
    "\n",
    "ax.scatter(data_weeks, data_power)  # scatter plot\n",
    "#ax.plot(data_weeks, data_power)     # line plot\n",
    "ax.set_title('My first plot')       # sets a main title\n",
    "ax.set_xlabel('Weeks')              # sets a label on the x axis\n",
    "ax.set_ylabel('Power [kWh]')          # sets a label on the y axis"
   ]
  },
  {
   "cell_type": "markdown",
   "metadata": {},
   "source": [
    "oder die Wochen gegenüber den gefahrenden Kilometern:"
   ]
  },
  {
   "cell_type": "code",
   "execution_count": 80,
   "metadata": {},
   "outputs": [
    {
     "data": {
      "text/plain": [
       "Text(0, 0.5, 'Distance km')"
      ]
     },
     "execution_count": 80,
     "metadata": {},
     "output_type": "execute_result"
    },
    {
     "data": {
      "image/png": "[encoded data removed]",
      "text/plain": [
       "<Figure size 432x288 with 1 Axes>"
      ]
     },
     "metadata": {
      "needs_background": "light"
     },
     "output_type": "display_data"
    }
   ],
   "source": [
    "%matplotlib inline    \n",
    "\n",
    "import matplotlib.pyplot as plt     # import the matplotlib\n",
    "\n",
    "fig, ax = plt.subplots()            # generate a figure with an axis!\n",
    "\n",
    "ax.scatter(data_weeks, data_range)  # scatter plot\n",
    "#ax.plot(data_weeks, data_range)     # line plot\n",
    "ax.set_title('My second plot')      # sets a main title\n",
    "ax.set_xlabel('Week')               # sets a label on the x axis\n",
    "ax.set_ylabel('Distance km')        # sets a label on the y axis"
   ]
  },
  {
   "cell_type": "markdown",
   "metadata": {},
   "source": [
    "# Zugriff auf einzelne Elemente"
   ]
  },
  {
   "cell_type": "markdown",
   "metadata": {},
   "source": [
    "Schauen wir uns mal das Array für den Verbrauch an:"
   ]
  },
  {
   "cell_type": "code",
   "execution_count": 81,
   "metadata": {},
   "outputs": [
    {
     "name": "stdout",
     "output_type": "stream",
     "text": [
      "[ 61.1  58.3  60.3  52.1  55.9  59.3  54.6  36.1 145.  116.4 115.1  43.5\n",
      "  28.5  49.8  47.4  48.8  50.4  47.8  49.2  44.2  46.2  45.5  47.7  45.3\n",
      "  45.5  41.4  45.6  45.5  45.1  44.9  24.   55.5  67.  104.9  49.4  36.8\n",
      "  37.7 101.2  47.1  52.5  46.7  50.5  49.5  55.   48.4  53.4  53.2  54.8\n",
      "  59.1  54.5  56.8  62.6]\n"
     ]
    }
   ],
   "source": [
    "print(data_power)"
   ]
  },
  {
   "cell_type": "markdown",
   "metadata": {},
   "source": [
    "Einzelne Elemente bekommt man wie bei den Strings:"
   ]
  },
  {
   "cell_type": "code",
   "execution_count": 82,
   "metadata": {},
   "outputs": [
    {
     "name": "stdout",
     "output_type": "stream",
     "text": [
      "58.3\n",
      "62.6\n"
     ]
    },
    {
     "ename": "IndexError",
     "evalue": "index 60 is out of bounds for axis 0 with size 52",
     "output_type": "error",
     "traceback": [
      "\u001b[0;31m---------------------------------------------------------------------------\u001b[0m",
      "\u001b[0;31mIndexError\u001b[0m                                Traceback (most recent call last)",
      "\u001b[0;32m<ipython-input-82-f2f74d357d79>\u001b[0m in \u001b[0;36m<module>\u001b[0;34m\u001b[0m\n\u001b[1;32m      1\u001b[0m \u001b[0mprint\u001b[0m\u001b[0;34m(\u001b[0m\u001b[0mdata_power\u001b[0m\u001b[0;34m[\u001b[0m\u001b[0;36m1\u001b[0m\u001b[0;34m]\u001b[0m\u001b[0;34m)\u001b[0m  \u001b[0;31m# the second element\u001b[0m\u001b[0;34m\u001b[0m\u001b[0;34m\u001b[0m\u001b[0m\n\u001b[1;32m      2\u001b[0m \u001b[0mprint\u001b[0m\u001b[0;34m(\u001b[0m\u001b[0mdata_power\u001b[0m\u001b[0;34m[\u001b[0m\u001b[0;34m-\u001b[0m\u001b[0;36m1\u001b[0m\u001b[0;34m]\u001b[0m\u001b[0;34m)\u001b[0m \u001b[0;31m# the last element\u001b[0m\u001b[0;34m\u001b[0m\u001b[0;34m\u001b[0m\u001b[0m\n\u001b[0;32m----> 3\u001b[0;31m \u001b[0mprint\u001b[0m\u001b[0;34m(\u001b[0m\u001b[0mdata_power\u001b[0m\u001b[0;34m[\u001b[0m\u001b[0;36m60\u001b[0m\u001b[0;34m]\u001b[0m\u001b[0;34m)\u001b[0m \u001b[0;31m# out of range!\u001b[0m\u001b[0;34m\u001b[0m\u001b[0;34m\u001b[0m\u001b[0m\n\u001b[0m",
      "\u001b[0;31mIndexError\u001b[0m: index 60 is out of bounds for axis 0 with size 52"
     ]
    }
   ],
   "source": [
    "print(data_power[1])  # the second element\n",
    "print(data_power[-1]) # the last element\n",
    "print(data_power[60]) # out of range!"
   ]
  },
  {
   "cell_type": "markdown",
   "metadata": {},
   "source": [
    "Positive Indices gehen von `0` bis zur `Länge-1` und negative Indices von `-1` bis `-Länge`. Wie bei den Strings hilft für das Verständnis der Restoperator `%`."
   ]
  },
  {
   "cell_type": "markdown",
   "metadata": {},
   "source": [
    "# Slicing von Arrays"
   ]
  },
  {
   "cell_type": "markdown",
   "metadata": {},
   "source": [
    "Slicing geht analog zu den Strings:"
   ]
  },
  {
   "cell_type": "code",
   "execution_count": 83,
   "metadata": {},
   "outputs": [
    {
     "name": "stdout",
     "output_type": "stream",
     "text": [
      "[ 61.1  58.3  60.3  52.1  55.9  59.3  54.6  36.1 145.  116.4 115.1  43.5\n",
      "  28.5  49.8  47.4  48.8  50.4  47.8  49.2  44.2  46.2  45.5  47.7  45.3\n",
      "  45.5  41.4  45.6  45.5  45.1  44.9  24.   55.5  67.  104.9  49.4  36.8\n",
      "  37.7 101.2  47.1  52.5  46.7  50.5  49.5  55.   48.4  53.4  53.2  54.8\n",
      "  59.1  54.5  56.8  62.6]\n"
     ]
    }
   ],
   "source": [
    "print(data_power)"
   ]
  },
  {
   "cell_type": "code",
   "execution_count": 84,
   "metadata": {},
   "outputs": [
    {
     "name": "stdout",
     "output_type": "stream",
     "text": [
      "[ 58.3  60.3  52.1  55.9  59.3  54.6  36.1 145.  116.4]\n",
      "[]\n",
      "[59.3 55.9 52.1 60.3]\n",
      "[ 58.3  52.1  59.3  36.1 116.4]\n"
     ]
    }
   ],
   "source": [
    "print(data_power[1:10])    # forward counting\n",
    "print(data_power[5:1])     # indices wrong for forward counting\n",
    "print(data_power[5:1:-1])  # backward counting\n",
    "print(data_power[1:10:2])  # every second element"
   ]
  },
  {
   "cell_type": "markdown",
   "metadata": {},
   "source": [
    "Anfang, Ende und der Step sind optional. Wenn keine Elemente addressiert werden können, wird ein leeres Array zurückgegeben."
   ]
  },
  {
   "cell_type": "markdown",
   "metadata": {},
   "source": [
    "Ausgeschnittene Arrays sind wiederum Arrays:"
   ]
  },
  {
   "cell_type": "code",
   "execution_count": 85,
   "metadata": {},
   "outputs": [
    {
     "name": "stdout",
     "output_type": "stream",
     "text": [
      "<class 'numpy.ndarray'>\n",
      "float64\n",
      "(9,)\n"
     ]
    }
   ],
   "source": [
    "cut = data_power[1:10]\n",
    "\n",
    "print(type(cut))\n",
    "print(cut.dtype)\n",
    "print(cut.shape)"
   ]
  },
  {
   "cell_type": "markdown",
   "metadata": {},
   "source": [
    "# Verändern von Elementen"
   ]
  },
  {
   "cell_type": "markdown",
   "metadata": {},
   "source": [
    "Wenn man sich den Plot für die gefahrenden Kilometer anschaut, dann findet man, dass ein Wert *komisch* ist:"
   ]
  },
  {
   "cell_type": "code",
   "execution_count": 86,
   "metadata": {},
   "outputs": [
    {
     "data": {
      "text/plain": [
       "Text(0, 0.5, 'Distance km')"
      ]
     },
     "execution_count": 86,
     "metadata": {},
     "output_type": "execute_result"
    },
    {
     "data": {
      "image/png": "[encoded data removed]",
      "text/plain": [
       "<Figure size 432x288 with 1 Axes>"
      ]
     },
     "metadata": {
      "needs_background": "light"
     },
     "output_type": "display_data"
    }
   ],
   "source": [
    "%matplotlib inline    \n",
    "\n",
    "import matplotlib.pyplot as plt     # import the matplotlib\n",
    "\n",
    "fig, ax = plt.subplots()            # generate a figure with an axis!\n",
    "\n",
    "ax.scatter(data_weeks, data_range)  # scatter plot\n",
    "ax.set_title('My second plot')      # sets a main title\n",
    "ax.set_xlabel('Week')               # sets a label on the x axis\n",
    "ax.set_ylabel('Distance km')        # sets a label on the y axis"
   ]
  },
  {
   "cell_type": "markdown",
   "metadata": {},
   "source": [
    "Schauen wir uns deswegen die Daten einmal genauer an:"
   ]
  },
  {
   "cell_type": "code",
   "execution_count": 87,
   "metadata": {},
   "outputs": [
    {
     "name": "stdout",
     "output_type": "stream",
     "text": [
      "[ 278.3  257.1  274.4  253.2  266.8  279.2  269.   173.5  744.5  623.5\n",
      "  591.6  235.1  154.3  268.4  260.3  260.   279.2  276.9  269.1  254.7\n",
      "  275.9  261.9  266.8  260.   263.1  251.8  271.8  276.2  264.6  264.7\n",
      "  143.2  330.7  393.2  612.1  273.7  212.7  204.7  568.9  255.6  277.4\n",
      "  258.5  265.1  259.   271.8  255.5  275.9  271.3  264.7  277.6  262.3\n",
      "  265.7 -270.7]\n"
     ]
    }
   ],
   "source": [
    "print(data_range)"
   ]
  },
  {
   "cell_type": "markdown",
   "metadata": {},
   "source": [
    "Wie man sieht, scheint es in der Datendatei einen Fehler gegeben zu haben. Der Wert für die 52. Woche (Index=51) ist negativ, obwohl er positiv sein sollte. Natürlich kann man die Datei händisch ändern, aber wir wollen das in Python machen:"
   ]
  },
  {
   "cell_type": "code",
   "execution_count": 88,
   "metadata": {},
   "outputs": [
    {
     "name": "stdout",
     "output_type": "stream",
     "text": [
      "-270.7\n",
      "270.7\n"
     ]
    }
   ],
   "source": [
    "print(data_range[51])\n",
    "data_range[51] = - data_range[51]\n",
    "print(data_range[51])"
   ]
  },
  {
   "cell_type": "markdown",
   "metadata": {},
   "source": [
    "In `numpy`-Arrays lassen sich Elemente verändern, dazu adressiert man das Element auf der linken Seite und weist dem Element einen neuen Wert zu! Dieses Feature ist aber nicht bei allen Container-Typen verfügbar, siehe Strings!"
   ]
  },
  {
   "cell_type": "markdown",
   "metadata": {},
   "source": [
    "Schauen wir nun den Plot nochmal an, nun sieht er wieder gut aus!"
   ]
  },
  {
   "cell_type": "code",
   "execution_count": 89,
   "metadata": {},
   "outputs": [
    {
     "data": {
      "text/plain": [
       "Text(0, 0.5, 'Distance km')"
      ]
     },
     "execution_count": 89,
     "metadata": {},
     "output_type": "execute_result"
    },
    {
     "data": {
      "image/png": "[encoded data removed]",
      "text/plain": [
       "<Figure size 432x288 with 1 Axes>"
      ]
     },
     "metadata": {
      "needs_background": "light"
     },
     "output_type": "display_data"
    }
   ],
   "source": [
    "%matplotlib inline    \n",
    "\n",
    "import matplotlib.pyplot as plt     # import the matplotlib\n",
    "\n",
    "fig, ax = plt.subplots()            # generate a figure with an axis!\n",
    "\n",
    "ax.scatter(data_weeks, data_range)  # scatter plot\n",
    "ax.set_title('My corrected second plot')      # sets a main title\n",
    "ax.set_xlabel('Week')               # sets a label on the x axis\n",
    "ax.set_ylabel('Distance km')        # sets a label on the y axis"
   ]
  },
  {
   "cell_type": "markdown",
   "metadata": {},
   "source": [
    "Man kann auch mehrere Elemente gleichzeitig verändern:"
   ]
  },
  {
   "cell_type": "code",
   "execution_count": 90,
   "metadata": {},
   "outputs": [
    {
     "name": "stdout",
     "output_type": "stream",
     "text": [
      "[3 4 5]\n",
      "[  1   2 100 100 100   6]\n",
      "[ 1  2 10 20 30  6]\n"
     ]
    }
   ],
   "source": [
    "a = np.array([1,2,3,4,5,6])     # ein Ganzzahlen-Array\n",
    "print(a[2:5])                   # ein Ausschnitt\n",
    "a[2:5] = 100                    # alle Werte werden mit einem Wert überschrieben\n",
    "print(a)\n",
    "a[2:5] = np.array([10,20,30])   # Zuweisung mit einem Array gleicher Länge\n",
    "print(a) "
   ]
  },
  {
   "cell_type": "markdown",
   "metadata": {},
   "source": [
    "**Wichtig**: Werden mehrere Elemente verändert, muss auf der rechten Seite entweder ein einzelner Wert oder ein `numpy`-Array gegeben werden. Die Länge des Arrays muss mit der Länge des Arrays auf der linken Seite identisch sein."
   ]
  },
  {
   "cell_type": "markdown",
   "metadata": {},
   "source": [
    "# Rechnen mit Arrays"
   ]
  },
  {
   "cell_type": "markdown",
   "metadata": {},
   "source": [
    "Nachdem wir die Daten mit Plots visualisiert haben, wollen wir mit den Daten ein wenig rechnen."
   ]
  },
  {
   "cell_type": "markdown",
   "metadata": {},
   "source": [
    "Aus dem Strom-Gesammtverbrauch und der gefahrenen Entfernung lässt sich analog zum Benzinverbrauch ein Durchschnittsverbrauch pro 100km berechnen:"
   ]
  },
  {
   "cell_type": "code",
   "execution_count": 91,
   "metadata": {},
   "outputs": [],
   "source": [
    "consumption = data_power / data_range   # consumption per km\n",
    "consumption = consumption * 100         # consumption per 100 km "
   ]
  },
  {
   "cell_type": "markdown",
   "metadata": {},
   "source": [
    "Hier werden die **gleichlangen** Arrays `data_power`und `data_range` jeweils elementweise durcheinander geteilt. In einem zweiten Schritt wird das neue Array `consumption` elementweise mit `100` multipliziert. Bitte nie Schleifen wie in C benutzen!\n",
    "\n",
    "Das Ergebnis ist:"
   ]
  },
  {
   "cell_type": "code",
   "execution_count": 96,
   "metadata": {},
   "outputs": [
    {
     "data": {
      "text/plain": [
       "Text(0, 0.5, 'consumption $[\\\\frac{KWh}{100km}]$')"
      ]
     },
     "execution_count": 96,
     "metadata": {},
     "output_type": "execute_result"
    },
    {
     "data": {
      "image/png": "[encoded data removed]",
      "text/plain": [
       "<Figure size 432x288 with 1 Axes>"
      ]
     },
     "metadata": {
      "needs_background": "light"
     },
     "output_type": "display_data"
    }
   ],
   "source": [
    "%matplotlib inline    \n",
    "\n",
    "import matplotlib.pyplot as plt     # import the matplotlib\n",
    "\n",
    "fig, ax = plt.subplots()            # generate a figure with an axis!\n",
    "\n",
    "ax.scatter(data_weeks, consumption)                 # scatter plot\n",
    "ax.set_title('My consumption plot')                 # sets a main title\n",
    "ax.set_xlabel(r'Week')                               # sets a label on the x axis\n",
    "ax.set_ylabel(r'consumption $[\\frac{KWh}{100km}]$') # sets a label on the y axis"
   ]
  },
  {
   "cell_type": "markdown",
   "metadata": {},
   "source": [
    "Auch die `numpy`-Funktionen können auf Arrays angewendet werden:"
   ]
  },
  {
   "cell_type": "code",
   "execution_count": 97,
   "metadata": {},
   "outputs": [
    {
     "data": {
      "text/plain": [
       "[<matplotlib.lines.Line2D at 0x7eff2954d310>]"
      ]
     },
     "execution_count": 97,
     "metadata": {},
     "output_type": "execute_result"
    },
    {
     "data": {
      "image/png": "[encoded data removed]",
      "text/plain": [
       "<Figure size 432x288 with 1 Axes>"
      ]
     },
     "metadata": {
      "needs_background": "light"
     },
     "output_type": "display_data"
    }
   ],
   "source": [
    "%matplotlib inline\n",
    "\n",
    "import matplotlib.pyplot as plt\n",
    "\n",
    "x = np.linspace(0,np.pi,100)     # 100 values from 0 to pi\n",
    "y = np.sin(x)                    # calculate the sin for x\n",
    "\n",
    "# plot the results\n",
    "fig, ax = plt.subplots()\n",
    "ax.plot(x,y)"
   ]
  },
  {
   "cell_type": "markdown",
   "metadata": {},
   "source": [
    "Auch Vergleiche funktionieren elementweise:"
   ]
  },
  {
   "cell_type": "code",
   "execution_count": 98,
   "metadata": {},
   "outputs": [
    {
     "name": "stdout",
     "output_type": "stream",
     "text": [
      "[False False False  True  True  True]\n"
     ]
    }
   ],
   "source": [
    "a = np.array([1,2,3,4,5,6])\n",
    "print(a > 3)"
   ]
  },
  {
   "cell_type": "markdown",
   "metadata": {},
   "source": [
    "# ,,Kopieren'' von Arrays"
   ]
  },
  {
   "cell_type": "markdown",
   "metadata": {},
   "source": [
    "**Wichtig:** Vorsicht beim Kopieren von Arrays:"
   ]
  },
  {
   "cell_type": "code",
   "execution_count": 100,
   "metadata": {},
   "outputs": [
    {
     "name": "stdout",
     "output_type": "stream",
     "text": [
      "[100   2   3   4]\n",
      "[100   2   3   4]\n",
      "[  1 100   3   4]\n",
      "[  1 100]\n",
      "[1 2 3 4]\n",
      "[100   2   3   4]\n"
     ]
    }
   ],
   "source": [
    "a = np.array([1,2,3,4])\n",
    "b = a                     # creates not a clone but a new view on the same data!\n",
    "b[0] = 100                # manipulates b and also a!\n",
    "print(a)\n",
    "print(b)\n",
    "\n",
    "\n",
    "a = np.array([1,2,3,4])   \n",
    "b = a[0:2]                # creates a sub-view on the same data\n",
    "b[1] = 100                # manipulates b and also a!\n",
    "print(a)\n",
    "print(b)\n",
    "\n",
    "a = np.array([1,2,3,4])   \n",
    "b = 1*a                   # creates a new array!\n",
    "b[0] = 100                # manipulates only a\n",
    "print(a)\n",
    "print(b)"
   ]
  },
  {
   "cell_type": "markdown",
   "metadata": {},
   "source": [
    "# Zusammenfassung des Rechnens\n",
    " * mit Arrays wie mit Zahlen rechnen, es gelten die gleichen Regeln\n",
    " * Rechnen mit Arrays geht immer elementweise\n",
    " * Arrays können mit Zahlen verarbeitet werden\n",
    " * Arrays können mit gleichlangen Arrays verarbeitet werden\n",
    " * `numpy`-Funktionen arbeiten auf Arrays\n",
    " * Array-Operationen **nie** mit Schleifen ausführen!!\n",
    " \n",
    "Und jede Array-Operation erzeugt ein neues Array! Eine Zuweisung oder Slicing nur einen neue View auf die gleichen Daten! "
   ]
  },
  {
   "cell_type": "markdown",
   "metadata": {},
   "source": [
    "# Funktionen mit Arrays"
   ]
  },
  {
   "cell_type": "markdown",
   "metadata": {},
   "source": [
    "Wie bei den Strings haben auch Arrays angeheftete Funktionen, die über die Array-Variablen aufgerufen werden können. \n",
    "\n",
    "Zum Beispiel möchte unsere Studentin Annika wissen, welchen Durchschnittsverbrauch sie in den ersten 8 Wochen gehabt hat oder wieviele Kilometer sie insgesammt gefahren ist oder welches ihre längste Entfernung gewesen ist:"
   ]
  },
  {
   "cell_type": "code",
   "execution_count": 101,
   "metadata": {},
   "outputs": [
    {
     "name": "stdout",
     "output_type": "stream",
     "text": [
      "[21.95472512 22.67600156 21.97521866 20.57661927 20.95202399 21.23925501\n",
      " 20.29739777 20.80691643]\n",
      "21.30976972539394\n",
      "15396.200000000003\n",
      "744.5\n"
     ]
    }
   ],
   "source": [
    "consumption_8weeks = consumption[:8]  # cut the first 8 weeks\n",
    "print(consumption_8weeks)\n",
    "\n",
    "print(consumption_8weeks.mean())      # mean of the consumption in the first 8 weeks\n",
    "\n",
    "print(data_range.sum())               # the sum of all distances\n",
    "print(data_range.max())               # maximum of all distances"
   ]
  },
  {
   "cell_type": "markdown",
   "metadata": {},
   "source": [
    "Es gibt noch viele andere Funktionen, die direkt auf den Arrays arbeiten. Einige geben Werte zurück, andere können auch das Array verändern (im Gegensatz zu den String-Funktionen!)."
   ]
  },
  {
   "cell_type": "markdown",
   "metadata": {},
   "source": [
    "# Algorithmen mit Arrays"
   ]
  },
  {
   "cell_type": "markdown",
   "metadata": {},
   "source": [
    "Eine Idee, die Annika umsetzen möchte, ist die Beantwortung der Frage, wie sich ihr Verbrauch von Woche zu Woche verändert hat:"
   ]
  },
  {
   "cell_type": "markdown",
   "metadata": {},
   "source": [
    "Eine Lösung ist, dass man von dem Verbrauchsarray $f$ stückweise die die 1. Ableitung bildet \n",
    "$f_i = \\frac{f(x_{i+1})-f(x_{i}}{x_{i+1}-x_{i}}$. Mit Arrays lässt sich das in einem Schritt erledigen, in dem man das Array $f$ mit Hilfe von Slicing um eine Position verschiebt und dann elementweise voneinander abzieht. Die Differenz der $x$-Werte ist immer `1` !"
   ]
  },
  {
   "cell_type": "code",
   "execution_count": 104,
   "metadata": {},
   "outputs": [
    {
     "data": {
      "text/plain": [
       "<BarContainer object of 51 artists>"
      ]
     },
     "execution_count": 104,
     "metadata": {},
     "output_type": "execute_result"
    },
    {
     "data": {
      "image/png": "[encoded data removed]",
      "text/plain": [
       "<Figure size 432x288 with 1 Axes>"
      ]
     },
     "metadata": {
      "needs_background": "light"
     },
     "output_type": "display_data"
    }
   ],
   "source": [
    "%matplotlib inline\n",
    "\n",
    "import matplotlib.pyplot as plt\n",
    "\n",
    "cons_diff = consumption[1:] - consumption[:-1]\n",
    "\n",
    "# plot the results\n",
    "fig, ax = plt.subplots()\n",
    "ax.bar(data_weeks[1:], cons_diff)    # use a bar plot visualizing the diffs"
   ]
  },
  {
   "cell_type": "markdown",
   "metadata": {},
   "source": [
    "Wichtig ist hierbei, dass das neue Array ein Element weniger hat und deswegen beim Plotten man eine andere Zählung vornehmen muss. In unserem Fall kann man argumentieren, dass für die Woche mit Index $i$ die Differenz der Werte $f_{i-1}$ und $f_{i}$ massgeblich sein sollen!"
   ]
  },
  {
   "cell_type": "markdown",
   "metadata": {},
   "source": [
    "# 2d-Numpy-Arrays"
   ]
  },
  {
   "cell_type": "markdown",
   "metadata": {},
   "source": [
    "Zum Abschluss greife ich nochmal das Einlesen vom Anfang auf:"
   ]
  },
  {
   "cell_type": "code",
   "execution_count": 105,
   "metadata": {},
   "outputs": [],
   "source": [
    "import numpy as np\n",
    "\n",
    "data = np.loadtxt('data/test.dat')"
   ]
  },
  {
   "cell_type": "markdown",
   "metadata": {},
   "source": [
    "Schaut man sich die Metadaten des `data`-Arrays an, so sieht man:"
   ]
  },
  {
   "cell_type": "code",
   "execution_count": 106,
   "metadata": {},
   "outputs": [
    {
     "name": "stdout",
     "output_type": "stream",
     "text": [
      "2\n",
      "(52, 3)\n"
     ]
    }
   ],
   "source": [
    "print(data.ndim)    # more than 1 dimension\n",
    "print(data.shape)   # 52 rows and 3 colums"
   ]
  },
  {
   "cell_type": "markdown",
   "metadata": {},
   "source": [
    "Dieses ist ein 2d-Array, welches in die einzelnen Spalten zerlegt werden soll. Im Prinzip wird bei 2d-Arrays das Indizieren und Slicing um eine weitere Komponente erweitert, wobei jede Dimension durch ein `,` getrennt wird:"
   ]
  },
  {
   "cell_type": "code",
   "execution_count": 107,
   "metadata": {},
   "outputs": [
    {
     "name": "stdout",
     "output_type": "stream",
     "text": [
      "[  0.   61.1 278.3]\n",
      "0.0\n",
      "[ 0.  1.  2.  3.  4.  5.  6.  7.  8.  9. 10. 11. 12. 13. 14. 15. 16. 17.\n",
      " 18. 19. 20. 21. 22. 23. 24. 25. 26. 27. 28. 29. 30. 31. 32. 33. 34. 35.\n",
      " 36. 37. 38. 39. 40. 41. 42. 43. 44. 45. 46. 47. 48. 49. 50. 51.]\n",
      "[58.3 60.3]\n"
     ]
    }
   ],
   "source": [
    "print(data[0])       # write the complete 1st row\n",
    "print(data[0,0])     # write the element of the 1st row and 1st column\n",
    "print(data[:,0])     # write the first column\n",
    "print(data[1:3,1])   # write the second column of the second row to the third row"
   ]
  },
  {
   "cell_type": "markdown",
   "metadata": {},
   "source": [
    "Das Ergebnis des 2d-Slicings kann je nach dem Slicing-Vorgang ein Wert, ein 1d-Array oder ein 2d-Array sein!"
   ]
  },
  {
   "cell_type": "code",
   "execution_count": null,
   "metadata": {},
   "outputs": [],
   "source": []
  }
 ],
 "metadata": {
  "kernelspec": {
   "display_name": "Python 3 (ipykernel)",
   "language": "python",
   "name": "python3"
  },
  "language_info": {
   "codemirror_mode": {
    "name": "ipython",
    "version": 3
   },
   "file_extension": ".py",
   "mimetype": "text/x-python",
   "name": "python",
   "nbconvert_exporter": "python",
   "pygments_lexer": "ipython3",
   "version": "3.11.6"
  }
 },
 "nbformat": 4,
 "nbformat_minor": 4
}
