{
 "cells": [
  {
   "cell_type": "markdown",
   "metadata": {},
   "source": [
    "# Python - numpy-Arrays (2)"
   ]
  },
  {
   "cell_type": "markdown",
   "metadata": {},
   "source": [
    "**Zusammenfassung**: \n",
    "\n",
    "Wie in der Einführung mit den `numpy`-Arrays erwähnt wurde, werden die Arrays wie folgt indiziert oder mit Slicing ausgeschnitten:"
   ]
  },
  {
   "cell_type": "code",
   "execution_count": 25,
   "metadata": {},
   "outputs": [
    {
     "name": "stdout",
     "output_type": "stream",
     "text": [
      "[0 1 2 3 4 5 6 7 8 9]\n",
      "1\n",
      "9\n",
      "[1 2]\n",
      "[9 8 7 6 5 4 3 2 1 0]\n"
     ]
    }
   ],
   "source": [
    "import numpy as np\n",
    "\n",
    "a = np.arange(10)       # erstelle ein Ganzzahlenarray mit 10 Elementen\n",
    "print(a)\n",
    "\n",
    "print(a[1])             # das zweite Element\n",
    "print(a[-1])            # das letzte Element\n",
    "print(a[1:3])           # das zweite und dritte Element\n",
    "print(a[::-1])          # das Array rückwärts"
   ]
  },
  {
   "cell_type": "markdown",
   "metadata": {},
   "source": [
    "Das Indexing und Slicing kann auch auf der linken Seite stehen, solange den Elementen ein einzelner Wert oder ein gleich großes Array zugewiesen wird:"
   ]
  },
  {
   "cell_type": "code",
   "execution_count": 26,
   "metadata": {},
   "outputs": [
    {
     "name": "stdout",
     "output_type": "stream",
     "text": [
      "[  0   1 100   3   4   5   6   7   8   9]\n",
      "[  0   1 100   3   4 100   6 100   8 100]\n",
      "[  0 400 500   3   4 100   6 100   8 100]\n"
     ]
    }
   ],
   "source": [
    "a = np.arange(10)              # neues Array\n",
    "a[2] = 100                     # das dritte Element überschreiben\n",
    "print(a)\n",
    "a[5::2] = 100                  # ab dem 6. Element jedes 2. überschreiben\n",
    "print(a)          \n",
    "a[1:3] = np.arange(4,6)*100    # das zweite und dritte Element mit einem Array überschreiben\n",
    "print(a)"
   ]
  },
  {
   "cell_type": "markdown",
   "metadata": {},
   "source": [
    "## `numpy`-Indizieren (allgemein)"
   ]
  },
  {
   "cell_type": "markdown",
   "metadata": {},
   "source": [
    "Um `numpy`-Arrays anzusprechen gibt es folgende Möglichkeiten:\n",
    " * einfache Indices\n",
    " * Slicing\n",
    " * Fancy-Indexing \n",
    " * Maskieren \n",
    " \n",
    "Beim Slicing, Fancy-Indexing und Maskieren werden Arrays zurückgegeben, wobei diese Arrays ein sog. View auf die Original-Daten darstellen und keine Kopien, wie z.B. bei den Strings sind! Mathematische Operationen erzeugen dann ein neues Array!"
   ]
  },
  {
   "cell_type": "markdown",
   "metadata": {},
   "source": [
    "# Spezielle Indizes"
   ]
  },
  {
   "cell_type": "markdown",
   "metadata": {},
   "source": [
    "Die nächsten Indizierungsmethoden haben eines gemeinsam, es wird eine Index-Vorschrift in Form eines Arrays erstellt und direkt auf ein vorhandenes Array angewendet. "
   ]
  },
  {
   "cell_type": "markdown",
   "metadata": {},
   "source": [
    "### Fancy-Indexing"
   ]
  },
  {
   "cell_type": "markdown",
   "metadata": {},
   "source": [
    "Es gibt allerdings immer mal wieder die Ausnahmen, in denen man auf mehrere Elemente eines Arrays zugreifen möchte, dessen Indizes sich nicht mit Hilfe des Slicings abbilden lassen."
   ]
  },
  {
   "cell_type": "markdown",
   "metadata": {},
   "source": [
    "Wenn man z.B. aus einem Array mit 10 Elementen, das 2., 5. und 6. Element ausschneiden will:"
   ]
  },
  {
   "cell_type": "code",
   "execution_count": 28,
   "metadata": {},
   "outputs": [
    {
     "name": "stdout",
     "output_type": "stream",
     "text": [
      "[  0 100 200 300 400 500 600 700 800 900]\n",
      "[100 400 500]\n"
     ]
    }
   ],
   "source": [
    "a = np.arange(10)*100       # erstelle ein Array\n",
    "print(a)\n",
    "ind = np.array([1,4,5])     # erstelle ein Array mit Indizes\n",
    "print(a[ind])               # schneide die Elemente mit den Indizes aus"
   ]
  },
  {
   "cell_type": "markdown",
   "metadata": {},
   "source": [
    "Dazu benutzt man das sog. `Fancy-Indexing` in dem man in einem weiteren Array die Indizes definiert und dann mit diesem Index-Array das eigentliche Array indiziert. Es werden dann die spezifizierten Elemente als ein neues Array zurückgegeben. "
   ]
  },
  {
   "cell_type": "markdown",
   "metadata": {},
   "source": [
    "Natürlich kann man auch dieses Indizieren auf der linken Seite nutzen und dann die indizierten Elemente modifizieren:"
   ]
  },
  {
   "cell_type": "code",
   "execution_count": 29,
   "metadata": {},
   "outputs": [
    {
     "name": "stdout",
     "output_type": "stream",
     "text": [
      "[   0 -100  200  300 -100 -100  600  700  800  900]\n"
     ]
    }
   ],
   "source": [
    "a = np.arange(10)*100       # erstelle ein Array\n",
    "\n",
    "ind = np.array([1,4,5])     # erstelle ein Array mit Indizes\n",
    "a[ind] = -100               # modifiziere das Array \n",
    "print(a)"
   ]
  },
  {
   "cell_type": "markdown",
   "metadata": {},
   "source": [
    "*Fancy* heisst hier in dem Sinne auch, dass man in dem Index-Array Elemente mehrfach nennen kann:"
   ]
  },
  {
   "cell_type": "code",
   "execution_count": 30,
   "metadata": {},
   "outputs": [
    {
     "name": "stdout",
     "output_type": "stream",
     "text": [
      "[100 400 500 100]\n",
      "[  0  10 200 300   4   8 600 700 800 900]\n"
     ]
    }
   ],
   "source": [
    "a = np.arange(10)*100\n",
    "\n",
    "ind = np.array([1,4,5,1])     # gib das zweite Element mehrmals aus\n",
    "print(a[ind])\n",
    "a[ind] = np.array([2,4,8,10]) # überschreib auch das zweite Element mehrmals ...\n",
    "print(a)"
   ]
  },
  {
   "cell_type": "markdown",
   "metadata": {},
   "source": [
    "Wobei die Elemente nacheinander modifiziert werden und deswegen das 2. Element mehrmals überschrieben wird!!"
   ]
  },
  {
   "cell_type": "markdown",
   "metadata": {},
   "source": [
    "### Maskieren"
   ]
  },
  {
   "cell_type": "markdown",
   "metadata": {},
   "source": [
    "Das Fancy-Indexing erlaubt es einige Elemente mit Hilfe von einem Index-Array anzusprechen. Eine weitere Möglichkeit ist, dass man Elemente mit einem Array aus Booleschen-Elemente anspricht. Dieses Index-Array muss gleich groß sein und alle Elemente werden angesprochen, deren boolesches Äquivalent `True` ist:"
   ]
  },
  {
   "cell_type": "code",
   "execution_count": 31,
   "metadata": {},
   "outputs": [
    {
     "name": "stdout",
     "output_type": "stream",
     "text": [
      "[0 1 5]\n"
     ]
    }
   ],
   "source": [
    "a = np.arange(10)\n",
    "ind = np.array([True,True,False,False,False,True,False,False,False,False])\n",
    "print(a[ind])"
   ]
  },
  {
   "cell_type": "markdown",
   "metadata": {},
   "source": [
    "Das Index-Array stellt in diesem Fall eine sog. **Maske** dar! Elemente, deren Äquivalent `False` ist, werden ignoriert. \n",
    "\n",
    "Man kann natürlich auch dieses Indizieren linksseitig machen:"
   ]
  },
  {
   "cell_type": "code",
   "execution_count": 32,
   "metadata": {},
   "outputs": [
    {
     "name": "stdout",
     "output_type": "stream",
     "text": [
      "[-100 -100    2    3    4 -100    6    7    8    9]\n",
      "[100 200   2   3   4 300   6   7   8   9]\n"
     ]
    }
   ],
   "source": [
    "a = np.arange(10)\n",
    "ind = np.array([True,True,False,False,False,True,False,False,False,False])\n",
    "\n",
    "a[ind] = -100                    # setze die ind.  Werte auf einen Wert \n",
    "print(a)\n",
    "a[ind] = np.array([100,200,300]) # ersetze die ind. Werte mit einem Array\n",
    "print(a)"
   ]
  },
  {
   "cell_type": "markdown",
   "metadata": {},
   "source": [
    "### Masken-Erstellung"
   ]
  },
  {
   "cell_type": "markdown",
   "metadata": {},
   "source": [
    "Masken manuell zu erstellen ist möglich, aber an vielen Stellen nicht sinnvoll. Deswegen lassen sich dafür die `numpy`-Array-Vergleiche heranziehen:"
   ]
  },
  {
   "cell_type": "code",
   "execution_count": 33,
   "metadata": {},
   "outputs": [
    {
     "name": "stdout",
     "output_type": "stream",
     "text": [
      "[0 1 2 3 4 5 6 7 8 9]\n",
      "[False False False False False  True  True  True  True  True]\n",
      "[5 6 7 8 9]\n"
     ]
    }
   ],
   "source": [
    "a = np.arange(10)\n",
    "\n",
    "print(a)\n",
    "ind = a > 4      # erzeuge eine Maske, in dem alle Werte > 4 sind\n",
    "print(ind)       # zeige die Maske\n",
    "print(a[ind])    # zeige die maskierten Werte"
   ]
  },
  {
   "cell_type": "markdown",
   "metadata": {},
   "source": [
    "Masken lassen sich miteinander logisch verknüpfen, allerdings nicht mit `and` und `or` wie man denken würde, sondern mit den Operatoren `&` für `und` und `|` für `oder`:"
   ]
  },
  {
   "cell_type": "code",
   "execution_count": 34,
   "metadata": {},
   "outputs": [
    {
     "name": "stdout",
     "output_type": "stream",
     "text": [
      "[False False False False False  True  True False False False]\n",
      "[5 6]\n"
     ]
    }
   ],
   "source": [
    "a = np.arange(10)\n",
    "\n",
    "ind = (a > 4) & (a < 7)     # (a > 4) and (a < 7)\n",
    "print(ind)\n",
    "print(a[ind])"
   ]
  },
  {
   "cell_type": "markdown",
   "metadata": {},
   "source": [
    "oder"
   ]
  },
  {
   "cell_type": "code",
   "execution_count": 35,
   "metadata": {},
   "outputs": [
    {
     "name": "stdout",
     "output_type": "stream",
     "text": [
      "[False False  True False False False False False  True  True]\n",
      "[2 8 9]\n"
     ]
    }
   ],
   "source": [
    "a = np.arange(10)\n",
    "\n",
    "ind = (a == 2) | (a > 7)     # (a ==  2) or ( a > 7)\n",
    "print(ind)\n",
    "print(a[ind])"
   ]
  },
  {
   "cell_type": "markdown",
   "metadata": {},
   "source": [
    "### Sortieren"
   ]
  },
  {
   "cell_type": "markdown",
   "metadata": {},
   "source": [
    "Eigentlich ist das Sortieren von Arrays, z.B. Zeiten nicht Thema beim Indizieren, aber man kann das Sortieren auch als `Neu-Indizieren` von Arrays verstehen. Nehmen wir ein unsortiertes Array:"
   ]
  },
  {
   "cell_type": "code",
   "execution_count": 36,
   "metadata": {},
   "outputs": [
    {
     "name": "stdout",
     "output_type": "stream",
     "text": [
      "[2 1 3 0 4]\n",
      "[1 3 5 6 6]\n"
     ]
    }
   ],
   "source": [
    "a = np.array([6,3,1,5,6])\n",
    "\n",
    "ind = np.argsort(a)        # erstelle ein Sortier-Index-Array\n",
    "print(ind)  \n",
    "print(a[ind])              # sortiere a"
   ]
  },
  {
   "cell_type": "markdown",
   "metadata": {},
   "source": [
    "### Anwenden der Indizierungen auf verschiedene Arrays"
   ]
  },
  {
   "cell_type": "markdown",
   "metadata": {},
   "source": [
    "Wenn Daten in verschiedenen Spalten $x$ und $y$ zusammenhängen, z.B. Zeiten in $x$ und Werte in $y$, dann kann man mit dem Maskieren Daten in Masken selektieren und dann auf beide Arrays anwenden:"
   ]
  },
  {
   "cell_type": "code",
   "execution_count": 39,
   "metadata": {},
   "outputs": [
    {
     "data": {
      "text/plain": [
       "[<matplotlib.lines.Line2D at 0x7fbb71d508b0>]"
      ]
     },
     "execution_count": 39,
     "metadata": {},
     "output_type": "execute_result"
    },
    {
     "data": {
      "image/png": "[encoded data removed]",
      "text/plain": [
       "<Figure size 432x288 with 1 Axes>"
      ]
     },
     "metadata": {
      "needs_background": "light"
     },
     "output_type": "display_data"
    }
   ],
   "source": [
    "%matplotlib inline\n",
    "\n",
    "import matplotlib.pyplot as plt\n",
    "\n",
    "# erzeuge zwei Datenarrays\n",
    "x = np.arange(-100,100)\n",
    "y = x**2\n",
    "\n",
    "# erzeuge eine Maske\n",
    "ind = x >= 50\n",
    "\n",
    "# plotte nur die maskierten Werte\n",
    "\n",
    "fig, ax = plt.subplots()\n",
    "\n",
    "#ax.plot(x,y)\n",
    "ax.plot(x[ind], y[ind])"
   ]
  },
  {
   "cell_type": "markdown",
   "metadata": {},
   "source": [
    "Insbesondere ist mit diesem Vorgehen das Sortieren sinnvoll, wenn man aus einem Array einen Sortier-Index-Array generiert und dann auf ein weiteres Array anwendet, dann wirkt es so, wie ein Zeilentausch in einer Tabelle!"
   ]
  },
  {
   "cell_type": "markdown",
   "metadata": {},
   "source": [
    "## Allgemeine Anwendungen\n",
    "\n",
    "Masken werden eingesetzt, um Arrays zu maskieren oder filtern, um ...:\n",
    " * ... schlechte Daten (z.B. Messfehler) von guten Daten zu trennen\n",
    " * ... Datenbereiche einzuschränken, z.B. Messwerte auf bestimmte Tage oder Messwerte größer einem Schwellenwert\n",
    " \n",
    "Man kann dann entscheiden, die maskierten Werte auszuschneiden oder zu modifizeren, evt. zu korrigieren, wenn es möglich ist..."
   ]
  },
  {
   "cell_type": "code",
   "execution_count": null,
   "metadata": {},
   "outputs": [],
   "source": []
  }
 ],
 "metadata": {
  "kernelspec": {
   "display_name": "Python 3",
   "language": "python",
   "name": "python3"
  },
  "language_info": {
   "codemirror_mode": {
    "name": "ipython",
    "version": 3
   },
   "file_extension": ".py",
   "mimetype": "text/x-python",
   "name": "python",
   "nbconvert_exporter": "python",
   "pygments_lexer": "ipython3",
   "version": "3.8.3"
  }
 },
 "nbformat": 4,
 "nbformat_minor": 4
}
