{
 "cells": [
  {
   "cell_type": "code",
   "execution_count": 93,
   "metadata": {},
   "outputs": [],
   "source": [
    "import numpy as np\n",
    "import numpy.random as nr\n",
    "\n",
    "weeks = 52\n",
    "\n",
    "zpower = 17.\n",
    "zpower_err = 0.75\n",
    "\n",
    "dist_normal       = 250 # km normal\n",
    "dist_normal_err   = 30  # add distance uniform ;-)\n",
    "\n",
    "dist_vacation     = 100 # km vacation\n",
    "dist_vacation_err = 700 # add distance uniform ;-)\n",
    "\n",
    "temp_a = ((weeks/2)**2)*3\n",
    "temp_b = (weeks/2)**2\n",
    "temp_b = 0.\n",
    "\n",
    "normal_weeks = [0,1,2,3,4,5,6,13,14,15,16,17,18,19,20,21,22,23,24,25,26,27,28,29,38,39,40,41,42,43,44,45,46,47,48,49,50,51]\n",
    "vacation_weeks = [7,8,9,10,11,12,30,31,32,33,34,35,36,37]\n",
    "\n",
    "# temp factor with max. at the end and min in the middle 'summer' ;-)\n",
    "temp = (((np.arange(weeks)-weeks/2)**2)-temp_b)/temp_a\n",
    "\n",
    "\n",
    "power = zpower + nr.uniform(low=-zpower_err, high=zpower_err, size=weeks)\n",
    "power *= (1+temp)\n",
    "\n",
    "#print(power)\n",
    "\n",
    "drange = np.zeros(weeks, dtype=np.float64)\n",
    "\n",
    "for i in normal_weeks:\n",
    "    drange[i] = dist_normal + nr.uniform(low=0., high=dist_normal_err)\n",
    "        \n",
    "for i in vacation_weeks:\n",
    "    drange[i] = dist_vacation + nr.uniform(low=0., high=dist_vacation_err)\n",
    "\n",
    "#print(drange)\n",
    "\n",
    "\n",
    "# calculate the total power\n",
    "tpower = drange * power / 100.0\n",
    "\n",
    "\n",
    "drange[51] = -drange[51]\n",
    "\n",
    "# number for the week\n",
    "nr = np.arange(weeks)\n",
    "\n",
    "\n",
    "np.savetxt('data/test.dat', np.vstack([nr, tpower, drange]).T, fmt=['%-3i', '%6.1f', '%6.1f'], delimiter='\\t')\n",
    "#np.savetxt('data/test.dat', np.vstack([nr, tpower, drange]).T, delimiter='\\t')\n",
    "#np.savetxt('data/test.dat', (nr,tpower,drange))"
   ]
  },
  {
   "cell_type": "code",
   "execution_count": 85,
   "metadata": {},
   "outputs": [
    {
     "data": {
      "text/plain": [
       "<matplotlib.collections.PathCollection at 0x7ff4490699d0>"
      ]
     },
     "execution_count": 85,
     "metadata": {},
     "output_type": "execute_result"
    },
    {
     "data": {
      "image/png": "[encoded data removed]",
      "text/plain": [
       "<Figure size 432x288 with 2 Axes>"
      ]
     },
     "metadata": {
      "needs_background": "light"
     },
     "output_type": "display_data"
    }
   ],
   "source": [
    "import matplotlib.pyplot as plt\n",
    "\n",
    "fig, ax = plt.subplots(nrows=2)\n",
    "ax[0].plot(nr, drange)\n",
    "\n",
    "ax[1].scatter(drange, tpower*0.3)"
   ]
  },
  {
   "cell_type": "code",
   "execution_count": null,
   "metadata": {},
   "outputs": [],
   "source": []
  }
 ],
 "metadata": {
  "kernelspec": {
   "display_name": "Python 3",
   "language": "python",
   "name": "python3"
  },
  "language_info": {
   "codemirror_mode": {
    "name": "ipython",
    "version": 3
   },
   "file_extension": ".py",
   "mimetype": "text/x-python",
   "name": "python",
   "nbconvert_exporter": "python",
   "pygments_lexer": "ipython3",
   "version": "3.8.3"
  }
 },
 "nbformat": 4,
 "nbformat_minor": 4
}
