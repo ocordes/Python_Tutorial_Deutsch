{
 "cells": [
  {
   "cell_type": "markdown",
   "id": "057fff67-17d3-40b2-b6f6-428e02c64a77",
   "metadata": {
    "tags": []
   },
   "source": [
    "# Lektion 3: Funktionen"
   ]
  },
  {
   "cell_type": "markdown",
   "id": "f9b80bba-55ed-404a-993d-7777ff9228be",
   "metadata": {},
   "source": [
    "----\n",
    "\n",
    "Ziele der Lektion:\n",
    "\n",
    " * Funktionen\n",
    "    * Argumente\n",
    "    * Rückgabewerte\n",
    "    * Funktionsvariablen\n",
    " \n",
    "----"
   ]
  },
  {
   "cell_type": "markdown",
   "id": "d8180559-8c60-4464-b9ce-d97b69c2672e",
   "metadata": {},
   "source": [
    "## 1. Funktionen"
   ]
  },
  {
   "cell_type": "markdown",
   "id": "d48069cc-7bc3-4bf9-84ef-803ab7dc29d6",
   "metadata": {},
   "source": [
    "**Motivation von Funktionen:**\n",
    "\n",
    "Anstelle den gleichen Code immer wieder und wieder in den Quelltext zu schreiben, kann man den Code in eine Funktion *auslagern*.\n",
    "\n",
    "**Vorteile:**\n",
    " * einmal den Code schreiben\n",
    " * leichter zu modifizieren\n",
    " * leichter zu testen und Fehler zu finden\n",
    " * man kann den Code besser mit anderen teilen"
   ]
  },
  {
   "cell_type": "markdown",
   "id": "7dcc11d4-e335-4da9-9cd1-373ccbee76d7",
   "metadata": {},
   "source": [
    "### 1.1 Definition"
   ]
  },
  {
   "cell_type": "markdown",
   "id": "d94bf756-2f7e-48d7-afb1-cbc67b373345",
   "metadata": {},
   "source": [
    "Hier ist ein Beispiel, wie man in Python Funktionen definieren kann:"
   ]
  },
  {
   "cell_type": "code",
   "execution_count": 33,
   "id": "74cf2304-c876-4c5c-b5f7-f2c7d6c46bfb",
   "metadata": {},
   "outputs": [
    {
     "name": "stdout",
     "output_type": "stream",
     "text": [
      "Fröhliche Weihnachten! Hohoho!🎅\n",
      "Fröhliche Weihnachten! Hohoho!🎅\n"
     ]
    }
   ],
   "source": [
    "# eine einfache Funktion\n",
    "\n",
    "def hohoho():\n",
    "    print(u'Fröhliche Weihnachten! Hohoho!\\U0001F385')\n",
    "    \n",
    "hohoho()\n",
    "hohoho()"
   ]
  },
  {
   "cell_type": "markdown",
   "id": "a8cfe47e-cc13-469c-89f8-2e17e384a1af",
   "metadata": {},
   "source": [
    "Im Funktionsanweisungsblock können Sie beliebige Anweisungen und Konstrukte verwenden."
   ]
  },
  {
   "cell_type": "markdown",
   "id": "d1b22df5-285e-4f54-aa14-7b33d97fa556",
   "metadata": {},
   "source": [
    "Beim Aufruf von Funktionen können auch Werte übergeben werden. In der Funktion werden diese Argumente wie Variablen verwendet:"
   ]
  },
  {
   "cell_type": "code",
   "execution_count": 35,
   "id": "18a8eb57-fce9-4405-9eb5-c76838667191",
   "metadata": {},
   "outputs": [
    {
     "name": "stdout",
     "output_type": "stream",
     "text": [
      "Fröhliche Weihnachten, Oliver ! Hohoho!🎅\n",
      "Fröhliche Weihnachten, Thomas ! Hohoho!🎅\n"
     ]
    }
   ],
   "source": [
    "def hohoho(name):    # Übergabewert\n",
    "    print('Fröhliche Weihnachten,',name, u'! Hohoho!\\U0001F385')\n",
    "    \n",
    "hohoho('Oliver')\n",
    "hohoho('Thomas')"
   ]
  },
  {
   "cell_type": "markdown",
   "id": "760222a1-203f-4f9e-805c-344443e763c9",
   "metadata": {},
   "source": [
    "Es können auch *optionale* Argumente mit vorgegebenen Werten definiert werden. Diese können beim Aufruf der Funktion gesetzt werden, allerdings sollte das mit Nennung des Names gemacht werden! Optionale Argumente sind immer hinter den allg. Argumenten definiert. Mehrere Argumente werden immer mit `,` getrennt:"
   ]
  },
  {
   "cell_type": "code",
   "execution_count": 36,
   "id": "17bc9de8-bde0-49c4-bda8-c61e1246bd65",
   "metadata": {},
   "outputs": [
    {
     "name": "stdout",
     "output_type": "stream",
     "text": [
      "Fröhliche Weihnachten, Oliver ! Hohoho!🎅\n",
      "Fröhliche Weihnachten, Thomas ! Hohoho!🎅\n"
     ]
    }
   ],
   "source": [
    "def hohoho(name='Oliver'):\n",
    "    print('Fröhliche Weihnachten,',name, u'! Hohoho!\\U0001F385')\n",
    "    \n",
    "hohoho()    \n",
    "hohoho(name='Thomas')"
   ]
  },
  {
   "cell_type": "markdown",
   "id": "2f3dba23-d743-4e6d-8cc1-5265e5a25738",
   "metadata": {},
   "source": [
    "### 1.2 Rückgabewerte"
   ]
  },
  {
   "cell_type": "markdown",
   "id": "e4d3df9f-4721-4c45-b6c6-6a806298f7d0",
   "metadata": {},
   "source": [
    "Funktionen können Ergbnisse zurückliefern:"
   ]
  },
  {
   "cell_type": "code",
   "execution_count": 37,
   "id": "125bcc9e-e6c8-4814-b35a-d59af39f29a1",
   "metadata": {},
   "outputs": [
    {
     "name": "stdout",
     "output_type": "stream",
     "text": [
      "True\n",
      "False\n"
     ]
    }
   ],
   "source": [
    "def is_good(name):\n",
    "    if name == 'Thomas':\n",
    "        good = True\n",
    "    else:\n",
    "        good = False\n",
    "        \n",
    "    return good\n",
    "\n",
    "\n",
    "print(is_good('Thomas'))\n",
    "print(is_good('Oliver'))"
   ]
  },
  {
   "cell_type": "markdown",
   "id": "31d44def-6968-43d5-a506-49d32fc480da",
   "metadata": {},
   "source": [
    "Was passiert, wenn man keinen Wert zurückgibt:"
   ]
  },
  {
   "cell_type": "code",
   "execution_count": 38,
   "id": "1be241a6-e26a-4ed6-bdf2-ab6260752a34",
   "metadata": {},
   "outputs": [
    {
     "name": "stdout",
     "output_type": "stream",
     "text": [
      "War Thomas brav? True\n",
      "None\n",
      "War Oliver brav? False\n",
      "None\n"
     ]
    }
   ],
   "source": [
    "def is_good(name):\n",
    "    if name == 'Thomas':\n",
    "        good = True\n",
    "    else:\n",
    "        good = False\n",
    "        \n",
    "    print('War', name, 'brav?', good)\n",
    "\n",
    "\n",
    "print(is_good('Thomas'))\n",
    "print(is_good('Oliver'))"
   ]
  },
  {
   "cell_type": "markdown",
   "id": "92669fce-dec5-474a-b393-3a1b0ffd04a4",
   "metadata": {},
   "source": [
    "Man kann auch mehrere Funktionswerte zurückgeben:"
   ]
  },
  {
   "cell_type": "code",
   "execution_count": 39,
   "id": "429ca88d-0513-4d80-aada-6fab0f2f3974",
   "metadata": {},
   "outputs": [
    {
     "name": "stdout",
     "output_type": "stream",
     "text": [
      "1.0000000000000002 1.0\n"
     ]
    }
   ],
   "source": [
    "import numpy as np\n",
    "\n",
    "# to_cartesian\n",
    "#\n",
    "# calculate from polar coordinates r, theta to \n",
    "# cartesian coordinates x, y\n",
    "def to_cartesian(r, theta):\n",
    "    x = r * np.cos(theta)\n",
    "    y = r * np.sin(theta)\n",
    "    \n",
    "    return x, y\n",
    "\n",
    "\n",
    "x, y = to_cartesian(np.sqrt(2), 45*np.pi/180.)\n",
    "\n",
    "print(x, y)"
   ]
  },
  {
   "cell_type": "markdown",
   "id": "54033273-0948-4375-bd57-01c9306bb162",
   "metadata": {},
   "source": [
    "### 1.3  Fragen rund um Funktionen"
   ]
  },
  {
   "cell_type": "markdown",
   "id": "77d18de0-4cdd-4a57-88b9-58efe7548279",
   "metadata": {},
   "source": [
    "#### 1.3.1 Argument-Variablen"
   ]
  },
  {
   "cell_type": "markdown",
   "id": "9d7b35ae-393e-4549-9793-862a1f6a61ec",
   "metadata": {},
   "source": [
    "Argument-Variablen sind wie Variablen in den Funktionen:\n",
    " * sie können verändert werden\n",
    " * sie sind **nicht** gekoppelt an die evt. Variablen beim Aufruf\n",
    " \n",
    "Beispiel:"
   ]
  },
  {
   "cell_type": "code",
   "execution_count": 41,
   "id": "5458509a-3292-4a86-9e6b-fb8ad880593d",
   "metadata": {},
   "outputs": [
    {
     "name": "stdout",
     "output_type": "stream",
     "text": [
      "100\n",
      "100\n"
     ]
    }
   ],
   "source": [
    "def func_a(y):\n",
    "    y = y + 1\n",
    "    y = 1.2\n",
    "    \n",
    "x = 100\n",
    "print(x)\n",
    "func_a(x)\n",
    "print(x)"
   ]
  },
  {
   "cell_type": "markdown",
   "id": "58565485-b3b0-47cd-95bc-e8edc56c552f",
   "metadata": {},
   "source": [
    "#### 1.3.2 Funktionsvariablen"
   ]
  },
  {
   "cell_type": "markdown",
   "id": "aca256b4-e026-4784-b78a-c36a60a2f2fc",
   "metadata": {},
   "source": [
    "Variablen in Funktionen können von dem Programmteil nicht gelesen werden, welches die Funktion aufruft. Es sind auch gleiche Variablen-Namen haben wie im aufrufenden Programmteil erlaubt. \n",
    "\n",
    "Beispiel:"
   ]
  },
  {
   "cell_type": "code",
   "execution_count": 43,
   "id": "6a493008-65a8-4075-813a-7f0dbd8e3072",
   "metadata": {},
   "outputs": [
    {
     "ename": "NameError",
     "evalue": "name 'z2' is not defined",
     "output_type": "error",
     "traceback": [
      "\u001b[0;31m---------------------------------------------------------------------------\u001b[0m",
      "\u001b[0;31mNameError\u001b[0m                                 Traceback (most recent call last)",
      "\u001b[0;32m<ipython-input-43-9156a1c7ee2a>\u001b[0m in \u001b[0;36m<module>\u001b[0;34m\u001b[0m\n\u001b[1;32m      3\u001b[0m \u001b[0;34m\u001b[0m\u001b[0m\n\u001b[1;32m      4\u001b[0m \u001b[0mfunc_a\u001b[0m\u001b[0;34m(\u001b[0m\u001b[0;36m100\u001b[0m\u001b[0;34m)\u001b[0m\u001b[0;34m\u001b[0m\u001b[0;34m\u001b[0m\u001b[0m\n\u001b[0;32m----> 5\u001b[0;31m \u001b[0mprint\u001b[0m\u001b[0;34m(\u001b[0m\u001b[0mz2\u001b[0m\u001b[0;34m)\u001b[0m     \u001b[0;31m# is not defined\u001b[0m\u001b[0;34m\u001b[0m\u001b[0;34m\u001b[0m\u001b[0m\n\u001b[0m",
      "\u001b[0;31mNameError\u001b[0m: name 'z2' is not defined"
     ]
    }
   ],
   "source": [
    "def func_a(y):\n",
    "    z2 = y + 1\n",
    "    \n",
    "func_a(100)\n",
    "print(z2)     # is not defined"
   ]
  },
  {
   "cell_type": "markdown",
   "id": "5464b650-de33-4472-9876-fb8ed4a80d69",
   "metadata": {},
   "source": [
    "und:"
   ]
  },
  {
   "cell_type": "code",
   "execution_count": 44,
   "id": "5150304a-ea0a-4c2a-a15d-d44c4238c373",
   "metadata": {},
   "outputs": [
    {
     "name": "stdout",
     "output_type": "stream",
     "text": [
      "100\n"
     ]
    }
   ],
   "source": [
    "def func_a(y):\n",
    "    z2 = y + 1\n",
    "    \n",
    "z2 = 100\n",
    "func_a(z2)\n",
    "print(z2)    # does not interfere with the function variable y"
   ]
  },
  {
   "cell_type": "markdown",
   "id": "009db797-5ca8-46c3-b81c-a53e6d78b85b",
   "metadata": {},
   "source": [
    "### 1.4 Zusammenfassung"
   ]
  },
  {
   "cell_type": "markdown",
   "id": "a39e5984-bfff-4e67-9a0d-3f750c97a03e",
   "metadata": {},
   "source": [
    "Wichtig bei der Definition von Funktionen:\n",
    " * Funktionen werden mit dem Word `def` eingeleitet\n",
    " * Funktionsnamen werden wie bei Variablennamen gebildet\n",
    " * es gibt einfache Argumente und Namensargumente, mehrere werden durch `,` getrennt\n",
    " * der Anweisungsblock muss eingerückt werden\n",
    " * Rückgabewerte können selbst definiert werden\n",
    " * es gibt immer einen Rückgabewert `None`, wenn kein Rückgabewert definiert wird\n",
    " * nach einer `return`-Anweisung wird die Funktion beendet!\n",
    " * Variablen innerhalb von Funktionen sind entkoppelt vom restlichen Programmteil"
   ]
  },
  {
   "cell_type": "code",
   "execution_count": null,
   "id": "71d789e1-d1d7-4581-be33-0b15ddd83297",
   "metadata": {},
   "outputs": [],
   "source": []
  }
 ],
 "metadata": {
  "kernelspec": {
   "display_name": "Python 3 (ipykernel)",
   "language": "python",
   "name": "python3"
  },
  "language_info": {
   "codemirror_mode": {
    "name": "ipython",
    "version": 3
   },
   "file_extension": ".py",
   "mimetype": "text/x-python",
   "name": "python",
   "nbconvert_exporter": "python",
   "pygments_lexer": "ipython3",
   "version": "3.9.13"
  }
 },
 "nbformat": 4,
 "nbformat_minor": 5
}
