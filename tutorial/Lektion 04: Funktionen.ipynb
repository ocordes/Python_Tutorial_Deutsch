{
 "cells": [
  {
   "cell_type": "markdown",
   "id": "057fff67-17d3-40b2-b6f6-428e02c64a77",
   "metadata": {
    "tags": []
   },
   "source": [
    "# Lektion 4: Funktionen und Type-Hinting"
   ]
  },
  {
   "cell_type": "markdown",
   "id": "f9b80bba-55ed-404a-993d-7777ff9228be",
   "metadata": {},
   "source": [
    "----\n",
    "\n",
    "Ziele der Lektion:\n",
    "\n",
    " * [Funktionen](#functions)\n",
    "    * Argumente\n",
    "    * [Rückgabewerte](#returns)\n",
    "    * [Namensargumente](#name_args)\n",
    "    * [Funktionsvariablen](#func_vars)\n",
    " * [Type-Hinting](#typehinting)\n",
    " \n",
    "----"
   ]
  },
  {
   "cell_type": "markdown",
   "id": "d8180559-8c60-4464-b9ce-d97b69c2672e",
   "metadata": {},
   "source": [
    "## <a id=functions></a> 1. Funktionen"
   ]
  },
  {
   "cell_type": "markdown",
   "id": "d48069cc-7bc3-4bf9-84ef-803ab7dc29d6",
   "metadata": {},
   "source": [
    "**Motivation von Funktionen:**\n",
    "\n",
    "Anstelle den gleichen Code immer wieder und wieder in den Quelltext zu schreiben, kann man den Code in eine Funktion *auslagern*.\n",
    "\n",
    "**Vorteile:**\n",
    " * einmal den Code schreiben\n",
    " * leichter zu modifizieren\n",
    " * leichter zu testen und Fehler zu finden\n",
    " * man kann den Code besser mit anderen teilen"
   ]
  },
  {
   "cell_type": "markdown",
   "id": "7dcc11d4-e335-4da9-9cd1-373ccbee76d7",
   "metadata": {},
   "source": [
    "### 1.1 Definition"
   ]
  },
  {
   "cell_type": "markdown",
   "id": "d94bf756-2f7e-48d7-afb1-cbc67b373345",
   "metadata": {},
   "source": [
    "Hier ist ein Beispiel, wie man in Python Funktionen definieren kann:"
   ]
  },
  {
   "cell_type": "code",
   "execution_count": 33,
   "id": "74cf2304-c876-4c5c-b5f7-f2c7d6c46bfb",
   "metadata": {},
   "outputs": [
    {
     "name": "stdout",
     "output_type": "stream",
     "text": [
      "Fröhliche Weihnachten! Hohoho!🎅\n",
      "Fröhliche Weihnachten! Hohoho!🎅\n"
     ]
    }
   ],
   "source": [
    "# this is a simple function\n",
    "\n",
    "def hohoho():\n",
    "    print(u'Fröhliche Weihnachten! Hohoho!\\U0001F385')\n",
    "    \n",
    "hohoho()\n",
    "hohoho()"
   ]
  },
  {
   "cell_type": "markdown",
   "id": "a8cfe47e-cc13-469c-89f8-2e17e384a1af",
   "metadata": {},
   "source": [
    "Im Funktionsanweisungsblock können Sie beliebige Anweisungen und Konstrukte verwenden."
   ]
  },
  {
   "cell_type": "markdown",
   "id": "d1b22df5-285e-4f54-aa14-7b33d97fa556",
   "metadata": {},
   "source": [
    "Beim Aufruf von Funktionen können auch Werte übergeben werden. In der Funktion werden diese Argumente wie Variablen verwendet:"
   ]
  },
  {
   "cell_type": "code",
   "execution_count": 35,
   "id": "18a8eb57-fce9-4405-9eb5-c76838667191",
   "metadata": {},
   "outputs": [
    {
     "name": "stdout",
     "output_type": "stream",
     "text": [
      "Fröhliche Weihnachten, Oliver ! Hohoho!🎅\n",
      "Fröhliche Weihnachten, Thomas ! Hohoho!🎅\n"
     ]
    }
   ],
   "source": [
    "def hohoho(name : str) -> None:    # name is an argument\n",
    "    print('Fröhliche Weihnachten,',name, u'! Hohoho!\\U0001F385')\n",
    "    \n",
    "hohoho('Oliver')\n",
    "hohoho('Thomas')"
   ]
  },
  {
   "cell_type": "markdown",
   "id": "760222a1-203f-4f9e-805c-344443e763c9",
   "metadata": {},
   "source": [
    "Es können auch *optionale* Argumente mit vorgegebenen Werten definiert werden. Diese können beim Aufruf der Funktion gesetzt werden, allerdings sollte das mit Nennung des Names gemacht werden! Optionale Argumente sind immer hinter den allg. Argumenten definiert. Mehrere Argumente werden immer mit `,` getrennt:"
   ]
  },
  {
   "cell_type": "code",
   "execution_count": 36,
   "id": "17bc9de8-bde0-49c4-bda8-c61e1246bd65",
   "metadata": {},
   "outputs": [
    {
     "name": "stdout",
     "output_type": "stream",
     "text": [
      "Fröhliche Weihnachten, Oliver ! Hohoho!🎅\n",
      "Fröhliche Weihnachten, Thomas ! Hohoho!🎅\n"
     ]
    }
   ],
   "source": [
    "def hohoho(name : str ='Oliver') -> None:\n",
    "    print('Fröhliche Weihnachten,',name, u'! Hohoho!\\U0001F385')\n",
    "    \n",
    "hohoho()    \n",
    "hohoho(name='Thomas')"
   ]
  },
  {
   "cell_type": "markdown",
   "id": "cfcc5a6e-bb0a-4a23-a46c-021e40612c98",
   "metadata": {},
   "source": [
    "### 1.2 Type-Hinting bei Funktionen"
   ]
  },
  {
   "cell_type": "markdown",
   "id": "92fcecdd-49c1-4ead-b7ba-85ceeabeccdd",
   "metadata": {},
   "source": [
    "Wie in dem ersten Beispiel erkennbar ist, sind Argumente und auch Rückgabewerte (siehe nächster Teil) mit sog. Typen-Hints gekennzeichnet. Diese sind nicht zwingend vorgeschrieben, da Python eigentlich keinen Typ-Zwang für Variablen besitzt. \n",
    "\n",
    "Diese __Hints__ sollen für den Nutzer einen Hinweis geben, welche Datentypen der Programmierer vorgesehen hat. So sollte die `hohoho`-Funktion einen String als Argument bekommen. Natürlich würde in diesem Fall jeder Datentyp funktionieren, da das Argument `name` nur mit `print` ausgegeben wird. Es gibt jedoch auch Funktionen, die explizit nur mit Zahlen funktionieren:"
   ]
  },
  {
   "cell_type": "code",
   "execution_count": 2,
   "id": "8ce28e02-f619-4934-883d-d20ac98df881",
   "metadata": {},
   "outputs": [
    {
     "name": "stdout",
     "output_type": "stream",
     "text": [
      "Noch 18 Tage bis Weihnachten!\n"
     ]
    }
   ],
   "source": [
    "def days2christmas(decdate: int) -> int:\n",
    "    return 24-decdate\n",
    "\n",
    "print('Noch', days2christmas(6), 'Tage bis Weihnachten!')"
   ]
  },
  {
   "cell_type": "markdown",
   "id": "d9678f2a-31ea-4dec-b127-4136b8eb9b88",
   "metadata": {},
   "source": [
    "aber:"
   ]
  },
  {
   "cell_type": "code",
   "execution_count": 5,
   "id": "73a79870-dbbf-4043-adea-bda2bc467d3f",
   "metadata": {},
   "outputs": [
    {
     "ename": "TypeError",
     "evalue": "unsupported operand type(s) for -: 'int' and 'str'",
     "output_type": "error",
     "traceback": [
      "\u001b[0;31m---------------------------------------------------------------------------\u001b[0m",
      "\u001b[0;31mTypeError\u001b[0m                                 Traceback (most recent call last)",
      "Cell \u001b[0;32mIn[5], line 1\u001b[0m\n\u001b[0;32m----> 1\u001b[0m \u001b[38;5;28mprint\u001b[39m(\u001b[38;5;124m'\u001b[39m\u001b[38;5;124mNoch\u001b[39m\u001b[38;5;124m'\u001b[39m, \u001b[43mdays2christmas\u001b[49m\u001b[43m(\u001b[49m\u001b[38;5;124;43m'\u001b[39;49m\u001b[38;5;124;43m6\u001b[39;49m\u001b[38;5;124;43m'\u001b[39;49m\u001b[43m)\u001b[49m, \u001b[38;5;124m'\u001b[39m\u001b[38;5;124mTage bis Weihnachten!\u001b[39m\u001b[38;5;124m'\u001b[39m)\n",
      "Cell \u001b[0;32mIn[2], line 2\u001b[0m, in \u001b[0;36mdays2christmas\u001b[0;34m(decdate)\u001b[0m\n\u001b[1;32m      1\u001b[0m \u001b[38;5;28;01mdef\u001b[39;00m \u001b[38;5;21mdays2christmas\u001b[39m(decdate: \u001b[38;5;28mint\u001b[39m) \u001b[38;5;241m-\u001b[39m\u001b[38;5;241m>\u001b[39m \u001b[38;5;28mint\u001b[39m:\n\u001b[0;32m----> 2\u001b[0m     \u001b[38;5;28;01mreturn\u001b[39;00m \u001b[38;5;241;43m24\u001b[39;49m\u001b[38;5;241;43m-\u001b[39;49m\u001b[43mdecdate\u001b[49m\n",
      "\u001b[0;31mTypeError\u001b[0m: unsupported operand type(s) for -: 'int' and 'str'"
     ]
    }
   ],
   "source": [
    "print('Noch', days2christmas('6'), 'Tage bis Weihnachten!')"
   ]
  },
  {
   "cell_type": "markdown",
   "id": "05d5699d-680e-4c4e-bb03-77a9a568fd82",
   "metadata": {},
   "source": [
    "In diesem Fall verhindert das Type-Hinting nicht, dass eine Fehlermeldung kommt, aber beim Lesen der Funktionsdefinition hätte man durch den __Hint__ erkennen können, was man beim Aufruf verwenden sollte!"
   ]
  },
  {
   "cell_type": "markdown",
   "id": "2f3dba23-d743-4e6d-8cc1-5265e5a25738",
   "metadata": {},
   "source": [
    "### <a id=returns></a> 1.3 Rückgabewerte"
   ]
  },
  {
   "cell_type": "markdown",
   "id": "e4d3df9f-4721-4c45-b6c6-6a806298f7d0",
   "metadata": {},
   "source": [
    "Funktionen können Ergbnisse zurückliefern:"
   ]
  },
  {
   "cell_type": "code",
   "execution_count": 37,
   "id": "125bcc9e-e6c8-4814-b35a-d59af39f29a1",
   "metadata": {},
   "outputs": [
    {
     "name": "stdout",
     "output_type": "stream",
     "text": [
      "True\n",
      "False\n"
     ]
    }
   ],
   "source": [
    "def is_good(name : str) -> bool:\n",
    "    if name == 'Thomas':\n",
    "        good = True\n",
    "    else:\n",
    "        good = False\n",
    "        \n",
    "    return good\n",
    "\n",
    "\n",
    "print(is_good('Thomas'))\n",
    "print(is_good('Oliver'))"
   ]
  },
  {
   "cell_type": "markdown",
   "id": "31d44def-6968-43d5-a506-49d32fc480da",
   "metadata": {},
   "source": [
    "Was passiert, wenn man keinen Wert zurückgibt:"
   ]
  },
  {
   "cell_type": "code",
   "execution_count": 38,
   "id": "1be241a6-e26a-4ed6-bdf2-ab6260752a34",
   "metadata": {},
   "outputs": [
    {
     "name": "stdout",
     "output_type": "stream",
     "text": [
      "War Thomas brav? True\n",
      "None\n",
      "War Oliver brav? False\n",
      "None\n"
     ]
    }
   ],
   "source": [
    "def is_good(name : str) -> None:\n",
    "    if name == 'Thomas':\n",
    "        good = True\n",
    "    else:\n",
    "        good = False\n",
    "        \n",
    "    print('War', name, 'brav?', good)\n",
    "\n",
    "\n",
    "print(is_good('Thomas'))\n",
    "print(is_good('Oliver'))"
   ]
  },
  {
   "cell_type": "markdown",
   "id": "92669fce-dec5-474a-b393-3a1b0ffd04a4",
   "metadata": {},
   "source": [
    "Man kann auch mehrere Funktionswerte zurückgeben:"
   ]
  },
  {
   "cell_type": "code",
   "execution_count": 6,
   "id": "429ca88d-0513-4d80-aada-6fab0f2f3974",
   "metadata": {},
   "outputs": [
    {
     "name": "stdout",
     "output_type": "stream",
     "text": [
      "1.0000000000000002 1.0\n"
     ]
    }
   ],
   "source": [
    "import numpy as np\n",
    "\n",
    "# to_cartesian\n",
    "#\n",
    "# calculate from polar coordinates r, theta to \n",
    "# cartesian coordinates x, y\n",
    "def to_cartesian(r : float, theta : float) -> float :\n",
    "    x = r * np.cos(theta)\n",
    "    y = r * np.sin(theta)\n",
    "    \n",
    "    return x, y\n",
    "\n",
    "\n",
    "x, y = to_cartesian(np.sqrt(2), 45*np.pi/180.)\n",
    "\n",
    "print(x, y)"
   ]
  },
  {
   "cell_type": "markdown",
   "id": "c22061d3-3f7d-4cff-87b2-e23188721e85",
   "metadata": {},
   "source": [
    "Das Type-Hinting soll auch bei den Rückgabewerten angewendet werden. Wird nicht explizit ein `return` verwendet, muss als Hint-Type `None` angegeben werden."
   ]
  },
  {
   "cell_type": "markdown",
   "id": "d8b334c1-68ab-40bf-9a0e-2cb1ebd875d3",
   "metadata": {},
   "source": [
    "### <a id=name_args></a>1.4 Namensargumente"
   ]
  },
  {
   "cell_type": "markdown",
   "id": "c8c49268-a186-43ed-8b72-3a377d28b434",
   "metadata": {},
   "source": [
    "Neben den einfachen Argumenten dürfen auch Namensargumente oder Default-Argumente angegeben werden. Diese werden immer im Anschluss an die normalen Argumente genannt und können beim Aufruf auch weggelassen werden. In diesem Fall nimmt das Argument den Default-Wert an, der in der Definition mitgegeben wurde:"
   ]
  },
  {
   "cell_type": "code",
   "execution_count": 10,
   "id": "3900fe39-042d-4ffc-82ab-134fe999b8e9",
   "metadata": {},
   "outputs": [
    {
     "name": "stdout",
     "output_type": "stream",
     "text": [
      "9.20€ for 10.00 Dollars\n",
      "11.90€ for 10.00 Pounds\n"
     ]
    }
   ],
   "source": [
    "def money2euro(money : float, currency : float = 0.92) -> float :\n",
    "    return money * currency\n",
    "\n",
    "# main program\n",
    "dollar = 0.92\n",
    "pound = 1.19\n",
    "\n",
    "N = 10.0\n",
    "print(f'{money2euro(N):.2f}€ for {N:.2f} Dollars')\n",
    "print(f'{money2euro(N, currency=pound):.2f}€ for {N:.2f} Pounds')"
   ]
  },
  {
   "cell_type": "markdown",
   "id": "e19a7aba-dc99-4a02-993d-498e4b29c362",
   "metadata": {},
   "source": [
    "Soll beim Aufruf der Default-Wert verändert werden, so soll der Name des Arguments `= neuer Wert` genannt werden. Der neue Wert kann auch eine Variable sein. Da der Name des Arguments genannt wird, ist die Reihenfolge bei Nennung von mehreren Namensargumenten nicht wichtig; lässt man den Namen allerdings weg, so muss man selber für die korrekte Aufzählung sorgen! "
   ]
  },
  {
   "cell_type": "markdown",
   "id": "54033273-0948-4375-bd57-01c9306bb162",
   "metadata": {},
   "source": [
    "### <a id=func_vars></a> 1.5  Fragen rund um Funktionen"
   ]
  },
  {
   "cell_type": "markdown",
   "id": "77d18de0-4cdd-4a57-88b9-58efe7548279",
   "metadata": {},
   "source": [
    "#### 1.5.1 Argument-Variablen"
   ]
  },
  {
   "cell_type": "markdown",
   "id": "9d7b35ae-393e-4549-9793-862a1f6a61ec",
   "metadata": {},
   "source": [
    "Argument-Variablen sind wie Variablen in den Funktionen:\n",
    " * sie können verändert werden\n",
    " * sie sind **nicht** gekoppelt an die evt. Variablen beim Aufruf\n",
    " \n",
    "Beispiel:"
   ]
  },
  {
   "cell_type": "code",
   "execution_count": 7,
   "id": "5458509a-3292-4a86-9e6b-fb8ad880593d",
   "metadata": {},
   "outputs": [
    {
     "name": "stdout",
     "output_type": "stream",
     "text": [
      "100\n",
      "100\n"
     ]
    }
   ],
   "source": [
    "def func_a(y : float) -> None:\n",
    "    y = y + 1\n",
    "    y = 1.2\n",
    "    \n",
    "x = 100\n",
    "print(x)\n",
    "func_a(x)\n",
    "print(x)"
   ]
  },
  {
   "cell_type": "markdown",
   "id": "58565485-b3b0-47cd-95bc-e8edc56c552f",
   "metadata": {},
   "source": [
    "#### 1.5.2 Funktionsvariablen"
   ]
  },
  {
   "cell_type": "markdown",
   "id": "aca256b4-e026-4784-b78a-c36a60a2f2fc",
   "metadata": {},
   "source": [
    "Variablen in Funktionen können von dem Programmteil nicht gelesen werden, welches die Funktion aufruft. Es sind auch gleiche Variablen-Namen haben wie im aufrufenden Programmteil erlaubt. \n",
    "\n",
    "Beispiel:"
   ]
  },
  {
   "cell_type": "code",
   "execution_count": 8,
   "id": "6a493008-65a8-4075-813a-7f0dbd8e3072",
   "metadata": {},
   "outputs": [
    {
     "ename": "NameError",
     "evalue": "name 'z2' is not defined",
     "output_type": "error",
     "traceback": [
      "\u001b[0;31m---------------------------------------------------------------------------\u001b[0m",
      "\u001b[0;31mNameError\u001b[0m                                 Traceback (most recent call last)",
      "Cell \u001b[0;32mIn[8], line 5\u001b[0m\n\u001b[1;32m      2\u001b[0m     z2 \u001b[38;5;241m=\u001b[39m y \u001b[38;5;241m+\u001b[39m \u001b[38;5;241m1\u001b[39m\n\u001b[1;32m      4\u001b[0m func_a(\u001b[38;5;241m100\u001b[39m)\n\u001b[0;32m----> 5\u001b[0m \u001b[38;5;28mprint\u001b[39m(\u001b[43mz2\u001b[49m)     \u001b[38;5;66;03m# is not defined\u001b[39;00m\n",
      "\u001b[0;31mNameError\u001b[0m: name 'z2' is not defined"
     ]
    }
   ],
   "source": [
    "def func_a(y : float) -> None:\n",
    "    z2 = y + 1\n",
    "    \n",
    "func_a(100)\n",
    "print(z2)     # is not defined"
   ]
  },
  {
   "cell_type": "markdown",
   "id": "5464b650-de33-4472-9876-fb8ed4a80d69",
   "metadata": {},
   "source": [
    "und:"
   ]
  },
  {
   "cell_type": "code",
   "execution_count": 9,
   "id": "5150304a-ea0a-4c2a-a15d-d44c4238c373",
   "metadata": {},
   "outputs": [
    {
     "name": "stdout",
     "output_type": "stream",
     "text": [
      "100\n"
     ]
    }
   ],
   "source": [
    "def func_a(y : float) -> None:\n",
    "    z2 = y + 1\n",
    "    \n",
    "z2 = 100\n",
    "func_a(z2)\n",
    "print(z2)    # does not interfere with the function variable y"
   ]
  },
  {
   "cell_type": "markdown",
   "id": "009db797-5ca8-46c3-b81c-a53e6d78b85b",
   "metadata": {},
   "source": [
    "### 1.6 Zusammenfassung"
   ]
  },
  {
   "cell_type": "markdown",
   "id": "a39e5984-bfff-4e67-9a0d-3f750c97a03e",
   "metadata": {},
   "source": [
    "Wichtig bei der Definition von Funktionen:\n",
    " * Funktionen werden mit dem Word `def` eingeleitet\n",
    " * Funktionsnamen werden wie bei Variablennamen gebildet\n",
    " * es gibt einfache Argumente und Namensargumente, mehrere werden durch `,` getrennt\n",
    " * der Anweisungsblock muss eingerückt werden\n",
    " * Rückgabewerte können selbst definiert werden\n",
    " * es gibt immer einen Rückgabewert `None`, wenn kein Rückgabewert definiert wird\n",
    " * nach einer `return`-Anweisung wird die Funktion beendet!\n",
    " * Variablen innerhalb von Funktionen sind entkoppelt vom restlichen Programmteil\n",
    " * Type-Hinting ist ein nützlicher Mechanismus, damit ein Nutzer erkennen kann, was der Programmierer für Argument-Typen vorgesehen hat"
   ]
  },
  {
   "cell_type": "markdown",
   "id": "943f663b-b9b1-4c90-8065-5a1cc4cb6de1",
   "metadata": {},
   "source": [
    "----"
   ]
  },
  {
   "cell_type": "markdown",
   "id": "120fbd6a-f8d9-4b0c-9b7e-52a2e9aaa7f8",
   "metadata": {},
   "source": [
    "## <a id=typehinting></a>2. Type-Hinting (generell)"
   ]
  },
  {
   "cell_type": "markdown",
   "id": "d355f202-0272-422d-85c1-93ddd2975267",
   "metadata": {},
   "source": [
    "Wie Sie bei der Definition von Funktionen gesehen haben, sollte man Argumente, aber auch Rückgabewerte mit sog. `type hints` versehen, damit man auch erkennen kann, was sich der Programmierer bei der Erstellung der Funktion gedacht hat, bzw. für welche Datentypen die Funktion ohne Fehler funktioniert."
   ]
  },
  {
   "cell_type": "markdown",
   "id": "37e2971a-294e-42d2-92b1-05e13d56e3b6",
   "metadata": {},
   "source": [
    "In der [Python-Dokumentation](https://docs.python.org/3/library/typing.html) wird folgendes Beispiel genannt:"
   ]
  },
  {
   "cell_type": "code",
   "execution_count": 11,
   "id": "c20d1828-6e41-4076-ac17-84b6fad0603c",
   "metadata": {},
   "outputs": [],
   "source": [
    "def surface_area_of_cube(edge_length: float) -> str:\n",
    "    return f\"The surface area of the cube is {6 * edge_length ** 2}.\""
   ]
  },
  {
   "cell_type": "markdown",
   "id": "cd5ea238-f553-4e06-b455-bbf99cc31855",
   "metadata": {},
   "source": [
    "Hier berechnet die Funktion `surface_area_of_cube` die Oberfläche eine Würfels, wobei die einheitliche Kantanlänge `edge_length` als Argument übergeben werden soll. `edge_length` soll als `float` übergeben werden (`edge_length: float`) und die Funktion gibt einen String zurück, was mit `-> str` gegekennzeichnet wird."
   ]
  },
  {
   "cell_type": "markdown",
   "id": "12693fea-4110-45ab-93e0-5e5bc8042588",
   "metadata": {},
   "source": [
    "### 2.1 Motivation"
   ]
  },
  {
   "cell_type": "markdown",
   "id": "250ab270-30c4-472d-9259-2848f67f56cf",
   "metadata": {},
   "source": [
    "Generell ist Python bzgl. Datentypen einfach gehalten. In der Regel wird erst beim Initialisieren einer Variablen der interne Datentyp für Python festgelegt. Das hat z.B. gegenüber Programmiersprachen mit statischen Type-Deklarationen, dass Variablen in Python durchaus mal den Datentyp verändern können und auch sollen. Der Python-Interpreter versucht dann quasi zu \"erraten\", welcher Datentyp vorhanden ist, gemäß dem Zitat von James Whitcomb Riley:\n",
    "\n",
    "```\n",
    "When I see a bird that walks like a duck and swims like a duck and quacks like a duck, I\n",
    "call that bird a duck.\n",
    "```"
   ]
  },
  {
   "cell_type": "markdown",
   "id": "60afbfc9-87d3-4c07-9117-56bc2155fde4",
   "metadata": {},
   "source": [
    "Natürlich ist dieser Ansatz immer ein erster Punkt, an dem Fehler passieren können, die sich dann auch erst beim 1000x mal manifestieren kann, d.h. 999x lief das Programm ohne Probleme durch, aber bei einer Änderung eines Datentypes bricht das Programm ab.\n",
    "\n",
    "Der Python-Interpreter hat auch keine Chance, dieses vor dem Start des Programmes zu prüfen, wie es andere Compiler mit der Syntax- bzw. Typprüfung machen. \n",
    "\n",
    "Aus diesem Grunde hat man sich mit dem `Type-Hinting` eine Möglichkeit geschaffen, parallel eine **lockere** Kontrollstruktur zu schaffen, die es z.B. externen Programmen oder Umgebungen ermöglicht, mögliche Fehler durch falsche Wahl von Datentypen aufzuzeigen. **locker** heisst hier, dass die Definition von `Hints` nicht **zwingend** ist und/oder man sich auch darüber hinweg setzen kann, natürlich auf **eigene Gefahr**!"
   ]
  },
  {
   "cell_type": "markdown",
   "id": "73813ca9-6108-4e8d-8a88-33aefd98700f",
   "metadata": {},
   "source": [
    "### 2.2 Funktionen"
   ]
  },
  {
   "cell_type": "markdown",
   "id": "61c3d18c-e2a7-441e-8934-62f214711bb6",
   "metadata": {},
   "source": [
    "Funktionsdefinitionen mit `type-hints` sind schon besprochen worden und haben auch zusätzlich einen Dokumentationscharakter."
   ]
  },
  {
   "cell_type": "markdown",
   "id": "c67f87dd-38d5-4d2f-b711-95dc31173f5c",
   "metadata": {},
   "source": [
    "### 2.3 Globale Variablen und Konstanten"
   ]
  },
  {
   "cell_type": "markdown",
   "id": "ade34e44-797e-44ee-a7b7-dbf88c40ee9f",
   "metadata": {},
   "source": [
    "Hier ist ein Beispiel, wie man globale Variablen und/oder Konstanten mit `hints` erweitern kann."
   ]
  },
  {
   "cell_type": "code",
   "execution_count": 12,
   "id": "21c6468d-a665-4d46-9bd4-d15021a42d64",
   "metadata": {},
   "outputs": [],
   "source": [
    "# This is how you declare the type of a variable\n",
    "age: int = 1\n",
    "\n",
    "# You don't need to initialize a variable to annotate it\n",
    "a: int  # Ok (no value at runtime until assigned)\n",
    "\n",
    "# Doing so can be useful in conditional branches\n",
    "child: bool\n",
    "if age < 18:\n",
    "    child = True\n",
    "else:\n",
    "    child = False"
   ]
  },
  {
   "cell_type": "markdown",
   "id": "0fb1b0b4-3e02-492b-99f1-9d1291c079de",
   "metadata": {},
   "source": [
    "Allgemeine Datentypen und deren Anwendung (Listen, Tuples und Dictionaries werden in den nächsten Lektionen noch intensiver behandelt!):"
   ]
  },
  {
   "cell_type": "code",
   "execution_count": 13,
   "id": "c819a258-6921-42c6-8728-7c0ea0e220ef",
   "metadata": {},
   "outputs": [],
   "source": [
    "# For most types, just use the name of the type in the annotation\n",
    "# Note that mypy can usually infer the type of a variable from its value,\n",
    "# so technically these annotations are redundant\n",
    "x: int = 1\n",
    "x: float = 1.0\n",
    "x: bool = True\n",
    "x: str = \"test\"\n",
    "\n",
    "# For collections on Python 3.9+, the type of the collection item is in brackets\n",
    "x: list[int] = [1]\n",
    "\n",
    "# For mappings, we need the types of both keys and values\n",
    "x: dict[str, float] = {\"field\": 2.0}  # Python 3.9+\n",
    "\n",
    "# For tuples of fixed size, we specify the types of all the elements\n",
    "x: tuple[int, str, float] = (3, \"yes\", 7.5)  # Python 3.9+\n",
    "\n",
    "# For tuples of variable size, we use one type and ellipsis\n",
    "x: tuple[int, ...] = (1, 2, 3)  # Python 3.9+\n",
    "\n",
    "# On Python 3.8 and earlier, the name of the collection type is\n",
    "# capitalized, and the type is imported from the 'typing' module\n",
    "from typing import List, Set, Dict, Tuple\n",
    "x: List[int] = [1]\n",
    "x: Dict[str, float] = {\"field\": 2.0}\n",
    "x: Tuple[int, str, float] = (3, \"yes\", 7.5)\n",
    "x: Tuple[int, ...] = (1, 2, 3)"
   ]
  },
  {
   "cell_type": "markdown",
   "id": "574d520c-a922-4a6a-ad46-a1836ac3dbe3",
   "metadata": {},
   "source": [
    "Wenn es möglich ist, sollten Sie z.B. die `hints` für Listen, Tupels und Dictionaties nativ und nicht aus dem Modul `typing` nutzen. Die Versionen in dem Tutorial und auch im Online-System sind dafür ausgelegt."
   ]
  },
  {
   "cell_type": "markdown",
   "id": "289dbe38-3bed-4897-af94-c91a95cae56d",
   "metadata": {},
   "source": [
    "`type-hinting` kann natürlich noch auf weitere Datentypen und insbesondere im Bereich der Objekt-Orientierten-Programmierung (OOP) verwendet werden, was wir in diesem Tutorial nicht abbilden werden. Die Beispiele und auch das vollständige Cheat-Sheet finden Sie [hier](https://mypy.readthedocs.io/en/stable/cheat_sheet_py3.html)."
   ]
  },
  {
   "cell_type": "code",
   "execution_count": null,
   "id": "1edf5678-aeae-4448-8b56-7b8ca76d80f1",
   "metadata": {},
   "outputs": [],
   "source": []
  }
 ],
 "metadata": {
  "kernelspec": {
   "display_name": "Python 3 (ipykernel)",
   "language": "python",
   "name": "python3"
  },
  "language_info": {
   "codemirror_mode": {
    "name": "ipython",
    "version": 3
   },
   "file_extension": ".py",
   "mimetype": "text/x-python",
   "name": "python",
   "nbconvert_exporter": "python",
   "pygments_lexer": "ipython3",
   "version": "3.12.5"
  }
 },
 "nbformat": 4,
 "nbformat_minor": 5
}
