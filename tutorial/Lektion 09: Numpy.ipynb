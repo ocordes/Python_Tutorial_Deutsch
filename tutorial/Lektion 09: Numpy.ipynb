{
 "cells": [
  {
   "cell_type": "markdown",
   "id": "32a0ef92-b175-4521-a517-4c81cd49eb31",
   "metadata": {},
   "source": [
    "# Lektion 09: Numpy"
   ]
  },
  {
   "cell_type": "markdown",
   "id": "a53433ac-5c36-4866-bd18-da44e53c08f8",
   "metadata": {},
   "source": [
    "----\n",
    "\n",
    "Ziel der Lektion:\n",
    "\n",
    " * [Nutzung des `numpy`-Moduls](#numpy)\n",
    " * [`numpy`-Arrays](#1d-arrays)\n",
    " * [2d-`numpy`-Arrays](#2d-arrays)\n",
    " * [Daten einlesen mit `np.loadtxt(...)`](#loadtxt)\n",
    " \n",
    " \n",
    "----"
   ]
  },
  {
   "cell_type": "markdown",
   "id": "d2012c2c-1405-48e8-b530-dd074af2bf2f",
   "metadata": {},
   "source": [
    "## 0. <a id=numpy></a> Das `numpy`-Modul"
   ]
  },
  {
   "cell_type": "markdown",
   "id": "919a6e60-76b0-4ce8-81e4-bd3eb0626b5b",
   "metadata": {},
   "source": [
    "Eigentlich schon in der Lektion 01, in der Zahlen und das Rechnen mit Zahlen behandelt wurde, ist das `numpy`-Modul erwähnt worden:"
   ]
  },
  {
   "cell_type": "code",
   "execution_count": null,
   "id": "26c586ed-00af-4941-a67e-c1a767f7c9ec",
   "metadata": {
    "tags": []
   },
   "outputs": [],
   "source": [
    "import numpy as np\n",
    "\n",
    "# laden des Moduls\n",
    "\n",
    "a = np.sqrt(2)             # Wurzel von 2\n",
    "print(a)\n",
    "\n",
    "b = 45                     # Winkel in Grad\n",
    "print(np.cos(b*np.pi/180)) # cos des Winkels b"
   ]
  },
  {
   "cell_type": "markdown",
   "id": "8e5f847b-e020-4bd1-b157-3958842ab0f7",
   "metadata": {},
   "source": [
    "Mit dem Import des `numpy`-Moduls `import numpy as np` stehen die mathematischen Funktionen zur Verfügung."
   ]
  },
  {
   "cell_type": "markdown",
   "id": "0245cfbe-fe3e-494d-9073-7a2f92ff89a5",
   "metadata": {},
   "source": [
    "Das Modul hat allerdings nicht nur mathematische Funktionen, die für uns wichtig sind, sondern auch eine sehr mächtige Container-Klasse, die wir in dieser Lektion behandeln werden."
   ]
  },
  {
   "cell_type": "markdown",
   "id": "0a98c2f8-643a-49d2-89ab-b58a283faf0b",
   "metadata": {},
   "source": [
    "----"
   ]
  },
  {
   "cell_type": "markdown",
   "id": "c0ed50e4-72c7-4928-8e06-3b6c98f7c371",
   "metadata": {},
   "source": [
    "## <a id=1d-arrays></a> 1. `numpy`-Arrays"
   ]
  },
  {
   "cell_type": "markdown",
   "id": "0d19a271-a8e1-4b38-b0d1-8806986515f1",
   "metadata": {},
   "source": [
    "Ein weiterer Container-Typ, der für viele wissenschaftlichen Aufgaben wichtig und auch notwendig ist, heisst `numpy`-Array. Dieser Typ ist ähnlich zu den Python-Listen, jedoch sind diese erstmal `homogen`, d.h. sie haben nur einen festgelegten Datentyp `dtype` und sie besitzen weitere Eigenschaften, die das Arbeiten mit `Arrays` vereinfachen. Im Vergleich mit anderen Programmiersprachen ist dieser Datentyp equivalent zu dem was man sonst `Arrays` nennt."
   ]
  },
  {
   "cell_type": "markdown",
   "id": "9c93246b-5266-4fa6-9b0e-f4d6584a7162",
   "metadata": {},
   "source": [
    "### Erstellung von Arrays"
   ]
  },
  {
   "cell_type": "code",
   "execution_count": null,
   "id": "7f7301a6-6402-4760-9c34-2541222dcd93",
   "metadata": {},
   "outputs": [],
   "source": [
    "import numpy as np\n",
    "\n",
    "# es gibt viele verschiedene Arten, numpy-arrays zu erstellen\n",
    "a1 = np.array([1,2,3,4])       # Konvertierung von Python-Listen\n",
    "a2 = np.array([1., 2., 3., 4.])\n",
    "print(a1)\n",
    "print(a2)\n",
    "b = np.arange(0.0, 1.0, 0.1)  # erstellt ein Array zwischen den Grenzen 0.0 und\n",
    "                              # 1.0 mit einem festem Abstand zwischen den Elementen\n",
    "                              # 0.1. Das Array bildet ein halb-offenes Interval.\n",
    "print(b)\n",
    "c = np.linspace(0.0, 1.0, 10) # erstellt ein Array zwischen den Grenzen 0.0 und \n",
    "                              # 1.0 wobei hier die Anzahl der Elemente vorgegeben\n",
    "                              # wird. Das Array bildet ein geschlossenes Intervall.\n",
    "print(c)\n",
    "d = np.zeros(10)              # erstellt ein Array mit 10 Elementen '0' \n",
    "print(d)"
   ]
  },
  {
   "cell_type": "markdown",
   "id": "43724bfd-b078-4b8b-bb0f-9eaa60a63e90",
   "metadata": {},
   "source": [
    "### Meta-Daten\n",
    "\n",
    "Im Gegensatz zu den anderen Python-Containertypen besitzen `numypy`-Arrays sog. Meta-Daten, die ein Array beschreiben. \n",
    "Die wichtigsten Meta-Daten sind:"
   ]
  },
  {
   "cell_type": "code",
   "execution_count": null,
   "id": "eb438e1e-c867-43b3-a11a-ca768534ca26",
   "metadata": {
    "tags": []
   },
   "outputs": [],
   "source": [
    "a = np.arange(0,10,1) \n",
    "print(type(a))    # type of the python array\n",
    "print(a.dtype)    # data type of the array\n",
    "print(a.ndim)     # number of dimensions\n",
    "print(a.shape)    # shape of the array"
   ]
  },
  {
   "cell_type": "markdown",
   "id": "303f5623-cc57-41bf-b2b7-6655832f424a",
   "metadata": {},
   "source": [
    "`dtype` beschreibt den Datentyp der Elemente in dem Array.\n",
    "\n",
    "Wichtige Typen:\n",
    "  * `np.int64`    64-bit Ganzzahlen\n",
    "  * `np.float64`  64-bit Fliesskommazahlen\n",
    "  \n",
    "(Ganzzahlen in `numpy` haben eine beschränkte Genauigkeit!)"
   ]
  },
  {
   "cell_type": "markdown",
   "id": "e65e0ac2-ec6b-47b3-afe0-8d5efc67cec0",
   "metadata": {},
   "source": [
    "Man kann bei der Erstellung der `numpy`-Arrays auch den Typ vorgeben:"
   ]
  },
  {
   "cell_type": "code",
   "execution_count": null,
   "id": "10c70afa-c4ce-4e0f-a064-f57c735d286d",
   "metadata": {
    "tags": []
   },
   "outputs": [],
   "source": [
    "a = np.arange(0,10,1, dtype=np.int64) \n",
    "b = np.linspace(0,10,1, dtype=np.float64)\n",
    "print(a)\n",
    "print(a.dtype)\n",
    "\n",
    "print(b)\n",
    "print(b.dtype)"
   ]
  },
  {
   "cell_type": "markdown",
   "id": "d737fa75-674f-4761-b64e-394302ed7289",
   "metadata": {},
   "source": [
    "### Zugriff auf einzelne Elemente"
   ]
  },
  {
   "cell_type": "markdown",
   "id": "d744aa54-2461-4bbc-9dee-50514eb763db",
   "metadata": {},
   "source": [
    "Der Zugriff auf einzelne Elemente geht wie bei vielen Container-Typen mit einem Index. Denken Sie daran, dass die Indices mit `0` starten und auch negative Indices funktionieren:"
   ]
  },
  {
   "cell_type": "code",
   "execution_count": null,
   "id": "75025753-ab1b-49ea-a595-21475d7049a8",
   "metadata": {
    "tags": []
   },
   "outputs": [],
   "source": [
    "a = np.arange(0,10,1) \n",
    "\n",
    "print(a[2])  # print the third element\n",
    "print(a[-1]) # print the last element"
   ]
  },
  {
   "cell_type": "markdown",
   "id": "9c225e2c-a0e8-49db-9571-397d94668bfa",
   "metadata": {},
   "source": [
    "Der Zugriff auf Elemente außerhalb des Definitionsbereiches ergibt eine Fehlermeldung:"
   ]
  },
  {
   "cell_type": "code",
   "execution_count": null,
   "id": "fc65581a-b8d0-4183-9a2f-95d58d8e6634",
   "metadata": {
    "tags": []
   },
   "outputs": [],
   "source": [
    "print(a[20])"
   ]
  },
  {
   "cell_type": "markdown",
   "id": "1fdc901b-5875-4c28-9fba-2314daca0d0c",
   "metadata": {},
   "source": [
    "Einzelne Elemente können auch verändert werden:"
   ]
  },
  {
   "cell_type": "code",
   "execution_count": null,
   "id": "e4c48415-fbe7-44c8-b040-ebf2f5f61e90",
   "metadata": {
    "tags": []
   },
   "outputs": [],
   "source": [
    "a = np.arange(0,10,1) \n",
    "\n",
    "a[2] = 100     # update the third element\n",
    "\n",
    "print(a)"
   ]
  },
  {
   "cell_type": "markdown",
   "id": "5fcfc624-ba1f-443e-8a08-8c7b68a4acca",
   "metadata": {},
   "source": [
    "### Slicing von Arrays"
   ]
  },
  {
   "cell_type": "markdown",
   "id": "34696c9a-2a41-4dd8-a640-99333bb38bbe",
   "metadata": {},
   "source": [
    "Das Slicing  ist auch identisch z.B. zu den Python-Listen. Es gelten die gleichen Regeln:"
   ]
  },
  {
   "cell_type": "code",
   "execution_count": null,
   "id": "0fa28349-081b-4ea6-9a7b-ce64cca8b3af",
   "metadata": {
    "tags": []
   },
   "outputs": [],
   "source": [
    "a = np.arange(0,10,1) \n",
    "\n",
    "print(a[1:3])      # print the second and third element\n",
    "print(a[1:100])    # print from the second element, indices out of limits are ignored\n",
    "print(a[:-2])      # print all elements until the 2nd last element (open intervall)\n",
    "print(a[-5:-1])    # print elements with negative indices\n",
    "print(a[::2])      # every second element\n",
    "print(a[-1:-5:-1]) # backwards from the end until the 6th element\n",
    "print(a[100:200])  # these will return an empty array"
   ]
  },
  {
   "cell_type": "markdown",
   "id": "1b607aa1-091c-4a99-9dab-b2b6b9cbbd5e",
   "metadata": {},
   "source": [
    "Ein wenig anders ist Zugriff auf das Array beim Zuweisen:"
   ]
  },
  {
   "cell_type": "code",
   "execution_count": null,
   "id": "d10c1f44-e79b-439b-881e-8bf7df5a630c",
   "metadata": {
    "tags": []
   },
   "outputs": [],
   "source": [
    "a = np.arange(0,10,1)\n",
    "\n",
    "a[1:4:2] = np.array([100,200])   # replace an array with an array\n",
    "a[5:] = -1                       # replace an sliced array with only one value!\n",
    "\n",
    "print(a)"
   ]
  },
  {
   "cell_type": "markdown",
   "id": "7de83cd4-ef54-48f3-83d0-b3ad27889e06",
   "metadata": {},
   "source": [
    "Es kann einem Array ein gleichlanges Array zugewiesen werden oder jeweils ein gleiche Wert!\n",
    "\n",
    "**Wichtig:** Das Slicing von `Arrays` erzeugt __kein__ neues Array, sondern nur ein sog. `View`, welches auf die gleichen Daten zeigt (Siehe *Kopierproblem von Arrays* unten)."
   ]
  },
  {
   "cell_type": "markdown",
   "id": "a4f4d138-d6af-4a83-b86a-c6a11db76972",
   "metadata": {},
   "source": [
    "### Rechnen mit Arrays"
   ]
  },
  {
   "cell_type": "markdown",
   "id": "e73ecb3e-0df2-461e-bbda-49d04bfc779c",
   "metadata": {},
   "source": [
    "Man kann mit Arrays wie mit einzelnen Variablen rechnen oder auch mit jeweils gleich großen Arrays:"
   ]
  },
  {
   "cell_type": "code",
   "execution_count": null,
   "id": "6b079c3a-8256-4d54-aeda-61511f0711ba",
   "metadata": {
    "tags": []
   },
   "outputs": [],
   "source": [
    "a = np.arange(0,10,1)\n",
    "b = np.arange(100,110,1)\n",
    "\n",
    "c = a + 5     # add 5 to the array\n",
    "d = a * 10    # multiply with 10\n",
    "e = a / b     # real divide both arrays\n",
    "\n",
    "print(c)\n",
    "print(d)\n",
    "print(e)"
   ]
  },
  {
   "cell_type": "markdown",
   "id": "3624d5f9-e0c8-46c6-93e2-a144060a969e",
   "metadata": {},
   "source": [
    "Die mathematische Operation wird intern elementweise ausgeführt! Bitte nutzen Sie niemals eine Schleifenkonstruktion wie in anderen Programmiersprachen, um so eine Operation auszuführen!"
   ]
  },
  {
   "cell_type": "markdown",
   "id": "6e9b4f8c-dd52-4128-8ea9-56e669b8e6a4",
   "metadata": {},
   "source": [
    "Mathematische Funktionen aus der `numpy`-Bibliothek arbeiten nicht nur auf einzelnen Werten, sondern auch auf `Arrays`:"
   ]
  },
  {
   "cell_type": "code",
   "execution_count": null,
   "id": "dbd31bff-f3b6-4112-98d1-8a4de5d1c8cb",
   "metadata": {
    "tags": []
   },
   "outputs": [],
   "source": [
    "a = np.linspace(0.,10.,11)\n",
    "\n",
    "print(np.sqrt(a))"
   ]
  },
  {
   "cell_type": "markdown",
   "id": "ed1aa651-7264-4d30-9f23-3be656a10102",
   "metadata": {},
   "source": [
    "Jede mathematische Operation mit einem `Array` erzeugt ein neues `Array`!"
   ]
  },
  {
   "cell_type": "markdown",
   "id": "22b03fdb-da17-42e6-ab69-b2756a628da9",
   "metadata": {},
   "source": [
    "### Funktionen von Arrays"
   ]
  },
  {
   "cell_type": "markdown",
   "id": "6d4cdd35-a0ba-4000-8b75-a70b80fc0052",
   "metadata": {},
   "source": [
    "`Array` haben noch spezielle Funktionen, die wie bei den anderen Container-Typen aufgerufen werden können:"
   ]
  },
  {
   "cell_type": "code",
   "execution_count": null,
   "id": "3fbdbd9e-cd1e-42f6-b8b0-58cdaebfa644",
   "metadata": {
    "tags": []
   },
   "outputs": [],
   "source": [
    "a = np.linspace(0.,10.,11)\n",
    "\n",
    "print(a.mean())    # print the mean value of the array\n",
    "print(a.sum())     # print the sum of the array"
   ]
  },
  {
   "cell_type": "markdown",
   "id": "51020bc5-9a7f-4db9-b071-6ff2a9484cce",
   "metadata": {},
   "source": [
    "Einige Funktionen können auch über das `numpy`-Modul aufgerufen werden:"
   ]
  },
  {
   "cell_type": "code",
   "execution_count": null,
   "id": "e5cf5848-16f6-46a1-8daf-9854cb482dfb",
   "metadata": {
    "tags": []
   },
   "outputs": [],
   "source": [
    "a = np.linspace(0.,10.,11)\n",
    "\n",
    "print(a.mean())\n",
    "print(np.mean(a))   # identical to a.mean()"
   ]
  },
  {
   "cell_type": "markdown",
   "id": "cae73f2c-6d41-48a4-a4c3-3d4ae7349257",
   "metadata": {},
   "source": [
    "**Wichtig:** Nicht alle Funktionen sind so implementiert, schauen Sie sich im Bedarf die Dokumentation an oder probieren es aus!"
   ]
  },
  {
   "cell_type": "markdown",
   "id": "7885ed7c-1854-4915-8ed2-724580f4910d",
   "metadata": {},
   "source": [
    "### Kopierprobem von Arrays"
   ]
  },
  {
   "cell_type": "markdown",
   "id": "810af612-85d0-4740-80d0-da972769a1a8",
   "metadata": {},
   "source": [
    "Ein immer wiederkehrendes Problem und Quelle von aufwendigen Fehlersuchen ist das Kopierproblem von `Arrays`. In Python kann man normalerweise jede Variable mit einer Anweisung duplizieren, wie z.B.:"
   ]
  },
  {
   "cell_type": "code",
   "execution_count": null,
   "id": "5cb00cff-cf27-4a22-b552-b9739e2b4c49",
   "metadata": {
    "tags": []
   },
   "outputs": [],
   "source": [
    "a = 10\n",
    "b = a     # make a copy of a\n",
    "\n",
    "a = 100\n",
    "\n",
    "print(b)"
   ]
  },
  {
   "cell_type": "markdown",
   "id": "433c3400-3ea2-4b5b-b1d2-2dd076bc1bce",
   "metadata": {},
   "source": [
    "`a` wird in `b` kopiert und dann kann man `a` ändern, `b` bleibt unangerührt. Allerdings bei `Arrays` führt dieses zu Problemen:"
   ]
  },
  {
   "cell_type": "code",
   "execution_count": null,
   "id": "635e8b5e-d8bf-4487-9f02-5c3103db35c6",
   "metadata": {
    "tags": []
   },
   "outputs": [],
   "source": [
    "a = np.arange(0,10,1)\n",
    "b = a       # make a copy of a\n",
    " \n",
    "a[0] = 100  # change an element\n",
    "\n",
    "print(b)"
   ]
  },
  {
   "cell_type": "markdown",
   "id": "cc483337-a6cd-457d-a9c5-8a4f9e757e0f",
   "metadata": {},
   "source": [
    "In diesem Fall ist `b = a` keine Kopie, sondern in `b` wird ein sog. `View` erzeugt, der auf die gleichen Daten wie `a` zeigt. Deswegen ist eine Veränderung, die über die Variable `a` angestoßen wird, auch in `b` sichtbar."
   ]
  },
  {
   "cell_type": "markdown",
   "id": "da880d20-afb8-48ad-ba9b-edf3c2fe9813",
   "metadata": {},
   "source": [
    "Das gleiche Problem wird beim Slicing erzeugt:"
   ]
  },
  {
   "cell_type": "code",
   "execution_count": null,
   "id": "0528cf3c-34a1-4f7a-bc1e-7342f29117d0",
   "metadata": {
    "tags": []
   },
   "outputs": [],
   "source": [
    "a = np.arange(0,10,1)\n",
    "b = a[::2]\n",
    "\n",
    "a[0] = 100  # change an element\n",
    "\n",
    "print(b)"
   ]
  },
  {
   "cell_type": "markdown",
   "id": "d2fdfb2f-1c47-4d9d-b002-075822ab6c10",
   "metadata": {},
   "source": [
    "Auch das Slicing erzeugt ein neues `View` auf die gleichen Daten von `a`, wenn auch das ausgegebene Array kürzer ist!"
   ]
  },
  {
   "cell_type": "markdown",
   "id": "07827d46-7091-4969-9c42-21b34368d13c",
   "metadata": {},
   "source": [
    "Genauso muss man vorsichtig bei Funktionen sein:"
   ]
  },
  {
   "cell_type": "code",
   "execution_count": null,
   "id": "d4b5ad56-990a-4fb5-b550-97a87f5c3a74",
   "metadata": {
    "tags": []
   },
   "outputs": [],
   "source": [
    "def change_array(x):\n",
    "    x[1] = 100\n",
    "    \n",
    "    return x\n",
    "\n",
    "\n",
    "a = np.arange(0,10,1)\n",
    "\n",
    "b = change_array(a)\n",
    "\n",
    "print(b)\n",
    "# but:\n",
    "print(a)"
   ]
  },
  {
   "cell_type": "markdown",
   "id": "ad6c4cca-dc92-48f0-886f-1da76b95c895",
   "metadata": {},
   "source": [
    "In diesem Fall wird beim Aufruf von `change_array` auch nur ein `View` übergeben und im Funktionsbody das originale Array verändert. Es sieht so aus, dass `b` nach dem Funktionsaufruf die korrekten Werte enthält. Man übersieht aber leicht, dass `a` auch verändert wurde. Das führt dazu, dass nachträgliche Operationen, die auf `a` aufbauen, plötzlich *komische* Ergebnisse erzeugen!"
   ]
  },
  {
   "cell_type": "markdown",
   "id": "1f953798-8e1c-4e14-b6fe-22fb4b08e92b",
   "metadata": {},
   "source": [
    "----"
   ]
  },
  {
   "cell_type": "markdown",
   "id": "83e2ed3f-1673-44a4-b6e2-bb17e1d1fe61",
   "metadata": {},
   "source": [
    "## <a id=2d-arrays></a> 2. 2d-`numpy`-Arrays"
   ]
  },
  {
   "cell_type": "markdown",
   "id": "550b14f2-c019-4656-9168-6cbc16cfe3db",
   "metadata": {},
   "source": [
    "Nach den einfachen `numpy`-Arrays kann man auch sehr leicht zu 2d-`Array` umsteigen. Viele Eigenschaften lassen sich vom 1d-Fall auf die 2d-Objekte übertragen."
   ]
  },
  {
   "cell_type": "markdown",
   "id": "7467a0d4-b252-439d-aa58-99b2ef1fb73c",
   "metadata": {},
   "source": [
    "2d-`Arrays` lassen sich am Besten als vollständige Tabellen mit `x` Spalten und `y` Zeilen beschreiben. Vollständig meint, dass alle Elemente definiert sein müssen, es gibt keine Lücken. Bei der Erstellung aus Python-Zahlen-Listen muss man auf sog. `nested`-Listen zurückgreifen, wobei man dort eine Liste von Zeilen erstellt und die Zeilen jeweils eine Liste aus Spaltenelementen besitzt:"
   ]
  },
  {
   "cell_type": "code",
   "execution_count": null,
   "id": "ac990016-acc9-42d0-b62c-829eb056ef1d",
   "metadata": {
    "tags": []
   },
   "outputs": [],
   "source": [
    "import numpy as np\n",
    "\n",
    "a = np.array([[1,2,3],[4,5,6]])\n",
    "\n",
    "print(a)"
   ]
  },
  {
   "cell_type": "markdown",
   "id": "d484905c-a5fa-497a-a30f-b4200b69c333",
   "metadata": {},
   "source": [
    "Der Zugriff erfolgt mit einem Index erstmal auf eine Zeile, wobei das Ergebnis ein 1d-`Array` ist:"
   ]
  },
  {
   "cell_type": "code",
   "execution_count": null,
   "id": "c0b4185d-ac94-459c-9cb0-2ca3435c3b82",
   "metadata": {
    "tags": []
   },
   "outputs": [],
   "source": [
    "print(a[0])   # print the first row\n",
    "print(a[-1])  # print the last row"
   ]
  },
  {
   "cell_type": "markdown",
   "id": "602c92c5-af5e-4b42-a4fc-2e093c09af02",
   "metadata": {},
   "source": [
    "Möchte man ein einzelnes spezielles Element adressieren, so muss man zwei Indices verwenden `a[y,x]`:"
   ]
  },
  {
   "cell_type": "code",
   "execution_count": null,
   "id": "fc893e89-41a6-49ca-be47-26d64b098f5a",
   "metadata": {
    "tags": []
   },
   "outputs": [],
   "source": [
    "print(a[1,1])\n",
    "print(a[0,2])"
   ]
  },
  {
   "cell_type": "markdown",
   "id": "65e541ef-2292-4262-bbb8-d2a0826f7a64",
   "metadata": {},
   "source": [
    "Die einzelnen Indices werden durch Kommata getrennt."
   ]
  },
  {
   "cell_type": "markdown",
   "id": "26137488-38e3-4a70-9886-540ebcb0596a",
   "metadata": {},
   "source": [
    "Eine geläufige Methode, um 2d-`Array` zu erzeugen, ist der Ansatz, aus deinem sog. `flachen` 1d-`Array` ein 2d-`Array` zu erzeugen:"
   ]
  },
  {
   "cell_type": "code",
   "execution_count": null,
   "id": "8001bfcc-38ab-403b-a168-813ece64e70a",
   "metadata": {
    "tags": []
   },
   "outputs": [],
   "source": [
    "a = np.arange(0,49,1)\n",
    "\n",
    "b = a.reshape((7,7))\n",
    "\n",
    "print(b)"
   ]
  },
  {
   "cell_type": "markdown",
   "id": "57400449-67bf-432e-8665-39a04b760956",
   "metadata": {},
   "source": [
    "`.reshape(...)` verändert das Aussehen des Arrays (sofern möglich). Das Argument ist ein Tupel, welches die Anzahl der Elemente in den beiden Dimensionen angibt. **Vorsicht:** `.reshape` erzeugt auch ein `View` und kein neues Array. "
   ]
  },
  {
   "cell_type": "markdown",
   "id": "2b26126d-56ee-465b-a7b1-ae078cb705ed",
   "metadata": {},
   "source": [
    "Auch das Slicing geht wie gewohnt:"
   ]
  },
  {
   "cell_type": "code",
   "execution_count": null,
   "id": "07238879-95a1-4125-8872-204ce8fcb174",
   "metadata": {
    "tags": []
   },
   "outputs": [],
   "source": [
    "print(b[1:3])       # second and third row\n",
    "print(b[1:3,0:4])   # second and third row, the first 3 colunmns\n",
    "print(b[::2,::-1])  # every second row, backwards for the columns"
   ]
  },
  {
   "cell_type": "markdown",
   "id": "f5857a09-561c-4b03-9fce-63181fff7e11",
   "metadata": {},
   "source": [
    "Die Ergebnisse des Slicings können neben einzelnen Werten, 1d- oder 2d-`Arrays` sein. Das sollte immer bei Verändern der Elemente berücksichtig werden:"
   ]
  },
  {
   "cell_type": "code",
   "execution_count": null,
   "id": "84826d41-cdff-4bed-9a9b-71648672eda3",
   "metadata": {
    "tags": []
   },
   "outputs": [],
   "source": [
    "b[1:3,1] = np.array([100,200])                              # change a column\n",
    "b[2:4,4:7] = np.array([[1000,2000,3000],[4000,5000,6000]])  # change an array\n",
    "\n",
    "b[4:7,0:2] = np.array([1,2])                                # change an array with the same row\n",
    "b[5:7,5:7] = -100                                           # change an array with the same value\n",
    "print(b)"
   ]
  },
  {
   "cell_type": "markdown",
   "id": "ee92180a-9ac8-4391-90c3-ee1604f04fdb",
   "metadata": {},
   "source": [
    "In dem Beispiel sind nur einfache Array-/Wert-Konstruktionen benutzt worden. Die Zuweisungen machen sich ein `numpy`-Feature zu Nutze, welches unter `broadcasting` zu finden ist. Das `broadcasting` erlaubt es z.B. beim Zuweisen von Array-Feldern aus einzelnen Werten und kleineren `Arrays` passende `Arrays` zu erstellen. Dieses Thema führt aber hier zuweit."
   ]
  },
  {
   "cell_type": "markdown",
   "id": "a603e0f8-b5c0-45a2-b6dc-24212b005817",
   "metadata": {},
   "source": [
    "----"
   ]
  },
  {
   "cell_type": "markdown",
   "id": "4acc2cc2-82f8-4c81-93b0-d4098a8f2572",
   "metadata": {},
   "source": [
    "## <a id=loadtxt></a> 3. Daten einlesen"
   ]
  },
  {
   "cell_type": "markdown",
   "id": "28ef8281-520b-4afd-a19b-b3121a9889bf",
   "metadata": {},
   "source": [
    "Ein ganz wichtiger Aspekt mit den Nutzen von `Arrays` ist das Einlesen von Daten."
   ]
  },
  {
   "cell_type": "markdown",
   "id": "7acd3e32-1d50-48f7-ad2c-8cedcb794dd7",
   "metadata": {},
   "source": [
    "Die meisten Daten, die Sie und wir nutzen, werden in Text-Dateien abgespeichert. "
   ]
  },
  {
   "cell_type": "code",
   "execution_count": null,
   "id": "fa3f5841-4f93-4b35-a67a-7ccf20571242",
   "metadata": {
    "tags": []
   },
   "outputs": [],
   "source": [
    "!cat data/data.txt"
   ]
  },
  {
   "cell_type": "markdown",
   "id": "a0751750-1225-4192-8592-403cf889f012",
   "metadata": {},
   "source": [
    "`numpy` bietet zum Einlesen die Funktion `.loadtxt()`:"
   ]
  },
  {
   "cell_type": "code",
   "execution_count": null,
   "id": "34625f84-d209-47f3-86a9-5d83c11f43e5",
   "metadata": {
    "tags": []
   },
   "outputs": [],
   "source": [
    "import numpy as np\n",
    "\n",
    "data = np.loadtxt('data/data.txt')\n",
    "\n",
    "print(data)"
   ]
  },
  {
   "cell_type": "markdown",
   "id": "3c1ab2db-0a93-477b-8fcf-55842ede44f9",
   "metadata": {},
   "source": [
    "`loadtxt` liest die Daten ein und gibt ein 2d-`Array` zurück. Zur besseren Verwendung (je nach Aufgabenstellung) kann man das 2d-`Array` wieder in Spalten oder Zeilen zerlegen. Meistens hat man Spalten mit verschiedenen Messwerten und die Zeilen geben dann die Anzahl der verschiedenen Messwerten wieder. Achten Sie bitte darauf, dass die Tabellen in den Dateien auch immer vollständig sind. Lücken kann man nicht so problemlos einlesen."
   ]
  },
  {
   "cell_type": "code",
   "execution_count": null,
   "id": "2b99abee-ef15-427c-9df3-06866ca0cefb",
   "metadata": {
    "tags": []
   },
   "outputs": [],
   "source": [
    "x_values = data[:,0]   # split the 1st column\n",
    "y_values = data[:,1]   # split the 2nd column\n",
    "\n",
    "print(x_values)\n",
    "print(y_values)"
   ]
  },
  {
   "cell_type": "markdown",
   "id": "29d9cfe2-0de7-4758-95a5-46a0e9fcf6ff",
   "metadata": {},
   "source": [
    "Zum Splitten nutzen wir das Slicing, wobei man dort `:` für die alle Zeilen angeben muss!"
   ]
  },
  {
   "cell_type": "markdown",
   "id": "ab42e136-0fd8-4137-b03d-8ae6cc01387e",
   "metadata": {},
   "source": [
    "Wie man in diesem Beispiel sieht, macht `loadtxt` einiges im Hintergrund automatisch. So werden Kommentarzeilen übersprungen und auch die Spaces zwischen den Zahlen werden als Trennzeichen verwendet. \n",
    "\n",
    "Wichtige Argumente für `loadtxt` sind die folgenden und können für bestimmte Aufgaben angepasst werden:"
   ]
  },
  {
   "cell_type": "markdown",
   "id": "aded3179-53fd-405b-a8a5-729455711613",
   "metadata": {},
   "source": [
    "```python\n",
    "  data = np.loadtxt(fname,          # filename to read from\n",
    "                    comments='#',   # identifying comments\n",
    "                    delimiter=' ',  # delimiter between values\n",
    "                    skiprows=0,     # skip the number of rows\n",
    "                    usecols=None,   # tuple with column numbers\n",
    "                    ndim=0,         # number of dimensions of the result\n",
    "                    )\n",
    "```"
   ]
  },
  {
   "cell_type": "markdown",
   "id": "97fa3a4e-f2d3-46ed-898e-6960dfb6cda9",
   "metadata": {},
   "source": [
    "Ein anderes Beispiel:"
   ]
  },
  {
   "cell_type": "code",
   "execution_count": null,
   "id": "361b4773-929d-442f-98cc-d9b64df4f34c",
   "metadata": {
    "tags": []
   },
   "outputs": [],
   "source": [
    "!cat data/data.csv"
   ]
  },
  {
   "cell_type": "code",
   "execution_count": null,
   "id": "d3624df5-3992-4ba9-a7a7-87224fdcecd6",
   "metadata": {
    "tags": []
   },
   "outputs": [],
   "source": [
    "import numpy as np\n",
    "\n",
    "data = np.loadtxt('data/data.csv', comments=';', delimiter=',', usecols=(0,2))\n",
    "\n",
    "print(data)"
   ]
  },
  {
   "cell_type": "markdown",
   "id": "c609a9d8-8d7f-4ed3-81f4-d7d18a12d61b",
   "metadata": {
    "tags": []
   },
   "source": [
    "In diesem Beispiel werden die Kommentare mit `;` gekennzeichnet und die Werte sind mit `,` getrennt. Auch sollen nur die Spalten `1` und `3` eingelesen werden. Bei gemischten Kommentaren am Anfang würde auch ein `skiprows=4` helfen!"
   ]
  },
  {
   "cell_type": "markdown",
   "id": "67ed53dd-db2e-4c97-9620-15da6072ea92",
   "metadata": {},
   "source": [
    "Eine besondere Bedeutung hat der Parameter `ndim=X`. $X$ gibt dabei die Anzahl der Dimensionen des Rückgabe-Arrays an. `X=0` ist der `default`, was bedeutet, dass `numpy` selber die Dimension bestimmt. `X=2` ist hilfreich, wenn man z.B. eine Tabelle mit mehreren Spalten aber nur einer Zeile einlesen will. Damit wird dann trotzdem ein 2d-Array erzeugt!"
   ]
  }
 ],
 "metadata": {
  "kernelspec": {
   "display_name": "Python 3 (ipykernel)",
   "language": "python",
   "name": "python3"
  },
  "language_info": {
   "codemirror_mode": {
    "name": "ipython",
    "version": 3
   },
   "file_extension": ".py",
   "mimetype": "text/x-python",
   "name": "python",
   "nbconvert_exporter": "python",
   "pygments_lexer": "ipython3",
   "version": "3.11.6"
  }
 },
 "nbformat": 4,
 "nbformat_minor": 5
}
