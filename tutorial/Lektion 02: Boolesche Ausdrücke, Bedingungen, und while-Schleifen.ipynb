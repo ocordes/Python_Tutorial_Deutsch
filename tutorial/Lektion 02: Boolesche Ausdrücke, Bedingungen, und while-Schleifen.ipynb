{
 "cells": [
  {
   "cell_type": "markdown",
   "metadata": {},
   "source": [
    "# Lektion 02: Boolesche Ausdrücke, Bedingungen und *while*-Schleifen"
   ]
  },
  {
   "cell_type": "markdown",
   "metadata": {},
   "source": [
    "----\n",
    "\n",
    "Ziel dieser Lektion:\n",
    "\n",
    " * [Boolesche Ausdrücke](#bool) (Video: [Python - Bedingungen und if](https://www.youtube.com/watch?v=xpGVG6Bwnaw&list=PL4XPVfJ_raU-37_-94SHaxTtExPfr3eTw&index=3))\n",
    " * [die if-Anweisung](#if_clause)\n",
    " * [die while-Schleife](#while_clause) (Video: [Python - While-Schleife](https://www.youtube.com/watch?v=oYDQCM6N430&list=PL4XPVfJ_raU-37_-94SHaxTtExPfr3eTw&index=4))\n",
    " * [die elif-Anweisung](#elif_clause)\n",
    "----"
   ]
  },
  {
   "cell_type": "markdown",
   "metadata": {},
   "source": [
    "## <a id=bool></a> 1. Boolesche Ausdrücke"
   ]
  },
  {
   "cell_type": "markdown",
   "metadata": {},
   "source": [
    "Neben den Datentypen der Ganz- und Fließkommazahlen ist ein weiterer Datentyp am Anfang zum Programmieren notwendig, der Type `bool` (Abkürzung für `Boolean`!). Mit diesem Typ lassen sich die sog. Zustände, `Richtig` und `Falsch` (im englischen `True` und `False`) abbilden. Wir werden in dem Tutorial die englischen Begriffe verwenden, die auch in Python implementiert sind. \n",
    "\n",
    "Ein Ergebnis vom Typ `Boolean` wird immer erzeugt, wenn man in Python ein Vergleich ausführt. In der folgenden Anweisungen wird geprüft, ob eine Ganzzahl-Variable jeweils den Wert 1 hat (`==` ist der Gleichheitsoperator):"
   ]
  },
  {
   "cell_type": "code",
   "execution_count": null,
   "metadata": {},
   "outputs": [],
   "source": [
    "i = 1\n",
    "j = 2\n",
    "\n",
    "print(i == 1)\n",
    "print(j == 1)"
   ]
  },
  {
   "cell_type": "markdown",
   "metadata": {},
   "source": [
    "Wie sie sehen, hat `i` den Wert 1, während `j` den Wert 2, also nicht 1, hat. Damit ist der Vergleich (`i==1`) richtig, während (`j==1`) falsch ist.\n",
    "Verwechseln Sie den Gleichheitsoperator `==` **nicht** mit der Variablenzuweisung `=`:"
   ]
  },
  {
   "cell_type": "code",
   "execution_count": null,
   "metadata": {},
   "outputs": [],
   "source": [
    "i = 1           # Variablenzuweisung\n",
    "print(i == 1)   # Gleichheitsoperator"
   ]
  },
  {
   "cell_type": "markdown",
   "metadata": {},
   "source": [
    "Es gibt noch weitere Operatoren für die Vergleiche:"
   ]
  },
  {
   "cell_type": "code",
   "execution_count": null,
   "metadata": {},
   "outputs": [],
   "source": [
    "i = 1\n",
    "print(i > 1)  # größer als\n",
    "print(i >= 1) # größer als oder gleich \n",
    "print(i < 1)  # kleiner als\n",
    "print(i <= 1) # kleiner als oder gleich\n",
    "print(i != 1) # ungleich"
   ]
  },
  {
   "cell_type": "markdown",
   "metadata": {},
   "source": [
    "Der Gleichheitsoperator funktioniert bei Ganzzahlen ohne Probleme. Bei Fließkommazahlen jedoch gibt es einige Probleme, die durch die Darstellung von `Fließkommazahlen` (wie in Lektion 3 erwähnt) hervorgerufen werden. Der Gleichheitsoperator gibt nur dann `True` zurück, wenn die zu vergleichende Werte **identisch** sind. Rundungs- oder Darstellungsfehler werden dabei nicht berücksichtigt. \n",
    "\n",
    "Folgendes Beispiel dokumentiert die Problematik:"
   ]
  },
  {
   "cell_type": "code",
   "execution_count": null,
   "metadata": {},
   "outputs": [],
   "source": [
    "i = 0.6\n",
    "print(i == 0.6)   # das klappt\n",
    "\n",
    "# aber:\n",
    "i = 3 * 0.2       # ist nicht exakt 0.6!\n",
    "\n",
    "print(i == 0.6)   # der Vergleich geht schief!\n",
    "print(i)          # zeigt den Fehler!"
   ]
  },
  {
   "cell_type": "markdown",
   "metadata": {},
   "source": [
    "Aus diesem Grunde dürfen Sie nie den Gleichheitsoperator auf Fließkommazahlen anwenden! Abhilfe schafft hier die Funktion `isclose` des `numpy`-Moduls:"
   ]
  },
  {
   "cell_type": "code",
   "execution_count": null,
   "metadata": {},
   "outputs": [],
   "source": [
    "import numpy\n",
    "\n",
    "i = 3 * 0.2\n",
    "print(numpy.isclose(i, 0.6))   # numpy.isclose for the == "
   ]
  },
  {
   "cell_type": "markdown",
   "metadata": {},
   "source": [
    "----"
   ]
  },
  {
   "cell_type": "markdown",
   "metadata": {},
   "source": [
    "## 2. Logische Operatoren"
   ]
  },
  {
   "cell_type": "markdown",
   "metadata": {},
   "source": [
    "Ergebnisse vom Typ `bool` lassen sich mit logischen Operatoren wieder zu boolschen Ausdrücken zusammenfassen. Es gibt die Operatoren `and`,  `or` und `not`. Einige Beispiele:"
   ]
  },
  {
   "cell_type": "code",
   "execution_count": null,
   "metadata": {},
   "outputs": [],
   "source": [
    "i = 1\n",
    "j = 2\n",
    "print((i == 1) and (j > 1))\n",
    "print((i == 1) or (j == 1))\n",
    "print(not(i == 2))           "
   ]
  },
  {
   "cell_type": "markdown",
   "metadata": {},
   "source": [
    "Das Ergebnis von `and` ist nur dann `True` wenn beide Operanden `True` sind. Dagegen ist das Ergebnis von `or` `True`, wenn einer oder beide Operanden `True` sind. Der `not`-Operator ergibt `True`, wenn der Operand `False` ist. Sonst sind alle Ergebnisse `False`. \n",
    "\n",
    "Eine Übersicht der Kombinationen sehen Sie im folgenden Beispiel:"
   ]
  },
  {
   "cell_type": "markdown",
   "metadata": {},
   "source": [
    "Die Ergebnisse der Kombinationen für den `and`- und `or`-Operator sehen Sie in folgender Tabelle:\n",
    "\n",
    "| $a$   |  $b$  | $a$ and $b$ | $a$ or $b$ |\n",
    "|-------|-------|-------------|------------|\n",
    "| True  | True  | True        | True       |\n",
    "| True  | False | False       | True       |\n",
    "| False | True  | False       | True       |\n",
    "| False | False | False       | False      |\n",
    "\n",
    "Für den `not`-Operator gilt folgende Tabelle:\n",
    "\n",
    "| $a$   | not $a$ |\n",
    "|-------|---------|\n",
    "| True  | False   |\n",
    "| False | True    |\n"
   ]
  },
  {
   "cell_type": "markdown",
   "metadata": {},
   "source": [
    "Es gibt einige Anwendungen, in denen boolsche Ausdrücke mit logische Ketten aus <code>and</code> und <code>or</code> notwendig sind. Hier gilt die Regel wie bei den Zahlen, dass der Python-Ausdruck von links nach rechts ausgewertet wird. Ein `or`-Operator entspricht einer Strich-Operation und der `and`-Operator einer Punkt-Operation und wird dewegen vor einem `or`-Operator ausgewertet. "
   ]
  },
  {
   "cell_type": "markdown",
   "metadata": {},
   "source": [
    "\n",
    "Für eine einfache und lesbare Implementierung von logischen Ketten gibt es folgende einfache Regeln:\n",
    "<ul>\n",
    "    <li>bei Ketten mit gemischten logischen Operatoren immer 2 Operanden als Gruppe mit Klammern zusammenfassen</li>\n",
    "    <li>Ketten mit den gleichen Operatoren brauchen keine spezielle Klammerung </li>\n",
    "</ul>"
   ]
  },
  {
   "cell_type": "markdown",
   "metadata": {},
   "source": [
    "Hier einige Beispiele für logische Ketten:"
   ]
  },
  {
   "cell_type": "code",
   "execution_count": null,
   "metadata": {},
   "outputs": [],
   "source": [
    "i = True\n",
    "j = True\n",
    "k = True\n",
    "l = False\n",
    "print(i and j and k)          # gleicher logischer Operator\n",
    "print((i and j) or (k and l)) # gemischte Operatoren\n",
    "print(i and (j or k or l))"
   ]
  },
  {
   "cell_type": "markdown",
   "metadata": {},
   "source": [
    "----"
   ]
  },
  {
   "cell_type": "markdown",
   "metadata": {},
   "source": [
    "## <a id=if_clause></a> 3. Die if-Anweisung"
   ]
  },
  {
   "cell_type": "markdown",
   "metadata": {},
   "source": [
    "In Programmen gibt es immer wieder Stellen, an denen Anweisungen ausgeführt werden sollen, wenn eine bestimmte Bedingung erfüllt ist. Unter einer Bedingung wird in fast allen Programmiersprachen ein boolscher Ausdruck verstanden, der nach Auswertung ein `True` oder `False` ergibt. Bei `True` ist dann die Bedingung erfüllt. Python bietet, wie auch andere Programmiersprachen, dazu die `if`-Anweisung. Im Prinzip wird folgende Anweisung umgesetzt, *wenn diese Bedingung erfüllt ist, dann mache dies, sonst das*.\n",
    "\n",
    "Ein einfaches Beispiel:"
   ]
  },
  {
   "cell_type": "code",
   "execution_count": null,
   "metadata": {},
   "outputs": [],
   "source": [
    "age = 46 # in Jahren\n",
    "\n",
    "if age >= 18:\n",
    "    print('Sie sind volljährig!')"
   ]
  },
  {
   "cell_type": "markdown",
   "metadata": {},
   "source": [
    "Hier wird das Alter in einer Variablen gespeichert. Die Bedingung in der `if`-Anweisung ist `age >= 18`. Ist diese Bedingung erfüllt, so wird der String `Sie sind volljährig!` ausgeführt. "
   ]
  },
  {
   "cell_type": "markdown",
   "metadata": {},
   "source": [
    "Denken Sie bei dieser Art von Anweisungen, dass nach der Bedingung ein Doppelpunkt `:` folgen muss. Die Bedingung selber muss nicht geklammert werden (in der Sprache C ist dieses z.B. zwingend notwendig!). Die Anweisungen, die bei der Erfüllung ausgeführt werden sollen, müssen als Block eingerückt werden. Achten Sie penibel auf die gleiche Einrückung, sonst wird Python Ihnen dieses mit einer Fehlermeldung quittieren."
   ]
  },
  {
   "cell_type": "markdown",
   "metadata": {},
   "source": [
    "Wid die Bedingung bei der `if`-Anweisung nicht erfüllt, kann man optional auch einen Befehlsblock definieren, der dann ausgeführt wird. Python kennt dafür die Anweisung `else`, die unter der `if`-Anweisung eingerückt werden muss. Hinter `else` muss wieder zwingend ein Doppelpunkt `:` geschrieben werden und der Anweisungsblock muss selbstverständlich wieder eingerückt sein:"
   ]
  },
  {
   "cell_type": "code",
   "execution_count": null,
   "metadata": {},
   "outputs": [],
   "source": [
    "age = 46 # in Jahren\n",
    "\n",
    "if age >= 18:\n",
    "    print('Sie sind volljährig!')\n",
    "else:\n",
    "    print('Sie sind minderjährig!')"
   ]
  },
  {
   "cell_type": "markdown",
   "metadata": {},
   "source": [
    "Der Programmfluss und die Struktur eines if-Befehls ist in folgender Figur anhand des aktuellen Beispiels veranschaulicht.\n",
    "\n",
    "\n",
    "<img src=\"figs/04_if_else_combined.png\" style=\"width: 800px;\">"
   ]
  },
  {
   "cell_type": "markdown",
   "metadata": {},
   "source": [
    "In Python ist es erlaubt, innerhalb von `if`-Anweisungen weitere `if`-Anweisungen zu verschachteln. So kann man das deutsche Wahlrecht wie folgt abbilden:"
   ]
  },
  {
   "cell_type": "code",
   "execution_count": null,
   "metadata": {},
   "outputs": [],
   "source": [
    "age = 22 # in Jahren\n",
    "\n",
    "if age >= 18:\n",
    "    if age >= 21:\n",
    "        print('Sie dürfen wählen und sich selber zur Wahl stellen')\n",
    "    else:\n",
    "        print('Sie dürfen wählen!')\n",
    "else:\n",
    "    print('Sie dürfen an der Wahl nicht teilnehmen!')"
   ]
  },
  {
   "cell_type": "markdown",
   "metadata": {},
   "source": [
    "In diesem Beispiel wird erst abgefragt, ob man das Alter von 18 erreicht hat. Nur in diesem Fall wird mit einem zweiten Befehl abgefragt, ob man schon 21 ist. Wenn diese Bedingung erfüllt ist, wird der Text `Sie dürfen wählen und sich selber zur Wahl stellen` ausgegeben. "
   ]
  },
  {
   "cell_type": "markdown",
   "metadata": {},
   "source": [
    "Wichtig für das Verständnis von `if`-Abfragen ist, dass die beiden Blöcke, die bei erfüllter und bei nicht erfüllter Bedingung separat ausgeführt werden, auch wenn diese Blöcke untereinander in dem Programm geschrieben sind. Der `else`-Block wird in dem Fall, dass die `if`-Bedingung erfüllt ist, komplett **übersprungen**, egal was für Anweisungen in dem `else`-Block stehen. Hier noch ein anschauliches Beispiel:"
   ]
  },
  {
   "cell_type": "code",
   "execution_count": null,
   "metadata": {},
   "outputs": [],
   "source": [
    "age = 22\n",
    "\n",
    "if age >= 18:\n",
    "    print('Sie sind volljährig!')\n",
    "    age = 15\n",
    "else:\n",
    "    if age < 18:\n",
    "        print('Sie sind nicht volljährig!')\n"
   ]
  },
  {
   "cell_type": "markdown",
   "metadata": {},
   "source": [
    "In diesem Fall ist die Bedingung der `if`-Abfrage erfüllt und der Text `Sie sind volljährig!` ausgegeben und der `else`-Block wird übersprungen. Durch die Anweisung `age = 15` denken viele Studenten am Anfang, dass nun die Bedinung für den `else`-Block *doch noch* erfüllt wird und dann abgearbeitet wird. Das ist nicht der Fall! Es wird nur *einmal* bei der Auswertung der `if`-Bedingung geprüft, welcher Block ausgeführt wird!\n",
    "\n",
    "----"
   ]
  },
  {
   "cell_type": "markdown",
   "metadata": {
    "tags": []
   },
   "source": [
    "## <a id=while_clause></a> 4. Die while-Schleife"
   ]
  },
  {
   "cell_type": "markdown",
   "metadata": {},
   "source": [
    "Neben der `if`-Bedingung ist die `while`-Schleife ein bedeutendes Konstrukt einer Programmiersprache. Mit Schleife meint man, dass ein bestimmter Programm-Block immer wieder ausgeführt wird. Mit einer `while`-Schleife wird dieser Block immer ausgeführt, solange eine bestimmte Bedingung erfüllt ist. Hier ein Beispiel:"
   ]
  },
  {
   "cell_type": "code",
   "execution_count": null,
   "metadata": {},
   "outputs": [],
   "source": [
    "counter = 10\n",
    "while counter >= 0:\n",
    "    print(counter)\n",
    "    counter = counter - 1"
   ]
  },
  {
   "cell_type": "markdown",
   "metadata": {},
   "source": [
    "Dieses Beispiel ist eine Implementation eines Count-Downs, der von `10` bis `0` herunterzählt. \n",
    "\n",
    "Wichtig bei den `while`-Schleifen sind folgende Elemente, einen Anfangszustand, die Bedingung der Schleife, die Anweisungen und die Modifikation des Anfangszustandes. Letzeres ist absolut notwendig, damit die `while`-Schleife nicht als Endlos-Schleife für immer weiterläuft."
   ]
  },
  {
   "cell_type": "markdown",
   "metadata": {},
   "source": [
    "Generell gilt:\n",
    "\n",
    "```Python\n",
    "Anfangszustand\n",
    "\n",
    "while bedingung:\n",
    "    \n",
    "    Anweisungsblock\n",
    "    \n",
    "    Modifikation des Anfangszustandes\n",
    "    \n",
    "```"
   ]
  },
  {
   "cell_type": "markdown",
   "metadata": {},
   "source": [
    "Wichtig:\n",
    "  * der Anweisungsblock und die Modifikationsanweisungen müssen eingerückt sein\n",
    "  * die Bedingung kann auch komplex sein\n",
    "  * die Schleife muss abbrechen können (Bedingung nicht mehr erfüllt)-> sonst Endlosschleife\n",
    "  * `while`-Schleifen können verschachtelt werden"
   ]
  },
  {
   "cell_type": "markdown",
   "metadata": {},
   "source": [
    "Ein Fehler:"
   ]
  },
  {
   "cell_type": "code",
   "execution_count": null,
   "metadata": {},
   "outputs": [],
   "source": [
    "counter = 10\n",
    "while counter >= 0:\n",
    "    print(counter)\n",
    "    # counter = counter - 1 # die Bedingung ist immer True -> Endlosschleife"
   ]
  },
  {
   "cell_type": "markdown",
   "metadata": {},
   "source": [
    "----"
   ]
  },
  {
   "cell_type": "markdown",
   "metadata": {},
   "source": [
    "## <a id=elif_clause></a> 5. elif-Anweisung"
   ]
  },
  {
   "cell_type": "markdown",
   "metadata": {},
   "source": [
    "**Hinweis**:\n",
    "\n",
    "Dies ist für Fortgeschrittene, damit der Code bei bestimmten `if`-Anweisungen besser geschrieben werden kann."
   ]
  },
  {
   "cell_type": "markdown",
   "metadata": {},
   "source": [
    "Nehmen wir folgenden Code-Abschnitt:"
   ]
  },
  {
   "cell_type": "code",
   "execution_count": 13,
   "metadata": {},
   "outputs": [
    {
     "name": "stdout",
     "output_type": "stream",
     "text": [
      "7 5\n",
      "Ziel erreicht!\n"
     ]
    }
   ],
   "source": [
    "import random\n",
    "\n",
    "x = random.randint(0,10)\n",
    "y = random.randint(0,10)\n",
    "\n",
    "print(x,y)\n",
    "if x > 4:\n",
    "    print('Ziel erreicht!')\n",
    "else:\n",
    "    if y > 4:\n",
    "        print('Ziel ereicht!')\n",
    "    else:\n",
    "        print('Ziel nicht erreicht!')"
   ]
  },
  {
   "cell_type": "markdown",
   "metadata": {},
   "source": [
    "An dieser Stelle soll getestet werden, ob entweder `x` oder `y` größer als 4 sind. Natürlich kann man dieses in einer Abfrage mit einer `oder`-Verknüpfung erreichen, aber es geht um etwas anderes. Schauen wir mal in den `else`-Zweig des Beispiels, welches wieder direkt eine `if`-Abfrage enthält. Es ist also eine weitere verschachtelte Abfrage. Dieses kann man in Python etwas eleganter lösen:"
   ]
  },
  {
   "cell_type": "code",
   "execution_count": 14,
   "metadata": {},
   "outputs": [
    {
     "name": "stdout",
     "output_type": "stream",
     "text": [
      "3 5\n",
      "Ziel ereicht!\n"
     ]
    }
   ],
   "source": [
    "import random\n",
    "\n",
    "x = random.randint(0,10)\n",
    "y = random.randint(0,10)\n",
    "\n",
    "print(x,y)\n",
    "if x > 4:\n",
    "    print('Ziel erreicht!')\n",
    "elif y > 4:\n",
    "    print('Ziel ereicht!')\n",
    "else:\n",
    "    print('Ziel nicht erreicht!')"
   ]
  },
  {
   "cell_type": "markdown",
   "metadata": {},
   "source": [
    "Hier wird der `else`-Zweig und die `if`-Abfrage zu einem `elif`-Zweig verschmolzen. Der `else`-Zweit bleibt dann am Ende stehen, er braucht dann nur nicht mehr so weit eingerückt werden."
   ]
  },
  {
   "cell_type": "markdown",
   "metadata": {},
   "source": [
    "Eigenschaften:\n",
    "  * es können beliebige `elif`-Zweige zwischen `if` und `else` stehen\n",
    "  * mit `elif` können beliebige Tests gemacht werden (im Gegensatz zu `switch` und `case` bei C)\n",
    "  * `else` schliesst die anderen Fragen als `wenn alles andere nicht passt, dann...` ab"
   ]
  },
  {
   "cell_type": "markdown",
   "metadata": {},
   "source": [
    "----"
   ]
  }
 ],
 "metadata": {
  "kernelspec": {
   "display_name": "Python 3 (ipykernel)",
   "language": "python",
   "name": "python3"
  },
  "language_info": {
   "codemirror_mode": {
    "name": "ipython",
    "version": 3
   },
   "file_extension": ".py",
   "mimetype": "text/x-python",
   "name": "python",
   "nbconvert_exporter": "python",
   "pygments_lexer": "ipython3",
   "version": "3.9.13"
  },
  "latex_envs": {
   "LaTeX_envs_menu_present": true,
   "autoclose": false,
   "autocomplete": true,
   "bibliofile": "biblio.bib",
   "cite_by": "apalike",
   "current_citInitial": 1,
   "eqLabelWithNumbers": true,
   "eqNumInitial": 1,
   "hotkeys": {
    "equation": "Ctrl-E",
    "itemize": "Ctrl-I"
   },
   "labels_anchors": false,
   "latex_user_defs": false,
   "report_style_numbering": false,
   "user_envs_cfg": false
  },
  "toc": {
   "base_numbering": 1,
   "nav_menu": {},
   "number_sections": true,
   "sideBar": true,
   "skip_h1_title": false,
   "title_cell": "Boolesche Ausdrücke, if und while",
   "title_sidebar": "Boolesche Ausdrücke, if  und while",
   "toc_cell": true,
   "toc_position": {},
   "toc_section_display": true,
   "toc_window_display": true
  }
 },
 "nbformat": 4,
 "nbformat_minor": 4
}
