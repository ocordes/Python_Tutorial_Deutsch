{
 "cells": [
  {
   "cell_type": "markdown",
   "id": "c0985a0d-9e9f-4ddb-aa91-e2c3705c4f85",
   "metadata": {},
   "source": [
    "# Lektion 07: Daten einlesen und abspeichern"
   ]
  },
  {
   "cell_type": "markdown",
   "id": "3f0e3f6f-7157-4feb-ad40-c662065a1976",
   "metadata": {},
   "source": [
    "----\n",
    "\n",
    "Ziele der Lektion:\n",
    "\n",
    " * Daten einlesen\n",
    " * [Daten abspeichern](#write)\n",
    " * [Daten anhängen](#append)\n",
    " \n",
    "----"
   ]
  },
  {
   "cell_type": "markdown",
   "id": "f6180d96-3cd5-44f1-9343-6abf39e76f21",
   "metadata": {},
   "source": [
    "## 1. Daten einlesen"
   ]
  },
  {
   "cell_type": "markdown",
   "id": "aa35b0ce-ac98-442d-91c1-2e3738a2c509",
   "metadata": {},
   "source": [
    "In dieser Lektion geht es hauptsächlich um das Einlesen von Textdateien. Neben den Textdateien gibt es noch sog. `binäre`-Dateien, die es dann ermöglichen, alle Bits- und Bytes direkt zu lesen und dann zu verarbeiten. \n",
    "\n",
    "Nehmen wir dazu ein Beispiel-Text:"
   ]
  },
  {
   "cell_type": "code",
   "execution_count": 2,
   "id": "7b740d94-6953-4653-b724-2b5ab7609bdf",
   "metadata": {},
   "outputs": [
    {
     "name": "stdout",
     "output_type": "stream",
     "text": [
      "Dies ist ein Demo-Text. Der Inhalt spielt hier keine Rolle.\n",
      "\n",
      "Wichtig ist, dass wir hier ein paar\n",
      "Textzeilen haben, die einen\n",
      "Inhalt vorspielen,\n",
      "der gar nicht vorhanden ist!"
     ]
    }
   ],
   "source": [
    "!cat data/demo.txt"
   ]
  },
  {
   "cell_type": "markdown",
   "id": "53ddcf36-6940-41eb-9483-010b86170260",
   "metadata": {},
   "source": [
    "Python beinhaltet eine wunderbare FILE-IO-Bibliothek, die es ermöglicht, auf Dateien (Files) zuzugreifen, was in den folgenden Schritten gezeigt werden soll:"
   ]
  },
  {
   "cell_type": "markdown",
   "id": "ac879197-aa99-4284-ba63-40d5c5a998db",
   "metadata": {},
   "source": [
    "### 1.1 Datei öffnen"
   ]
  },
  {
   "cell_type": "markdown",
   "id": "05dde21e-b6f2-44a8-a1b2-9ede4d2ccc00",
   "metadata": {},
   "source": [
    "Als ersten Schritt müssen wir die Datei öffnen. Dazu gibt es die Funktion `open(...)`, die genau 2 Argumente erfordert. Das erste Argument ist der Dateiname, der wie in allen Betriebssystemlagen ein einfacher Dateiname oder ein Name mit vorangehenden absoluten oder relativen Pfadangaben. Das zweite Argument ist ein String, der angibt, was man machen möchte. In dem aktuellen Fall soll die Datei zum `Lesen = Read` geöffnet werden, wir nutzen deswegen `r`. \n",
    "\n",
    "Die `with`-Anweisung wird hier genutzt, damit alle Datei-Operationen in einem abgeschotteten Block unternommen werden können. Sie führt die `open`-Funktion aus und in dem Anweisungsblock steht und die Datei als Variable `f` zur Verfügung:"
   ]
  },
  {
   "cell_type": "code",
   "execution_count": 4,
   "id": "21add4da-9940-427a-bf41-0c3f4703951e",
   "metadata": {},
   "outputs": [],
   "source": [
    "with open('data/demo.txt', 'r') as f:\n",
    "    pass # ein Platzhalter"
   ]
  },
  {
   "cell_type": "markdown",
   "id": "d5701815-975d-4676-a69b-913d7e92a03f",
   "metadata": {},
   "source": [
    "**Wichtig:**\n",
    " * die Datei kann nur geöffnet werden, wenn Sie in diesem Fall da ist, also existiert! Versuchen Sie eine Datei zu öffnen, die nicht da ist, gibt es eine Fehlermeldung\n",
    " * die Variable `f` ist nur in dem `with`-Block gültig!"
   ]
  },
  {
   "cell_type": "markdown",
   "id": "446210ce-ee79-4d26-b63e-7ca08191f095",
   "metadata": {},
   "source": [
    "### 1.2 Lesen"
   ]
  },
  {
   "cell_type": "markdown",
   "id": "3006d30e-09ae-42ba-9b1c-54133b235ba0",
   "metadata": {},
   "source": [
    "Nachdem die Datei geöffnet wurde, kann man einzelne Zeilen lesen und verarbeiten, dafür gibt es zwei Ansätze:"
   ]
  },
  {
   "cell_type": "code",
   "execution_count": 10,
   "id": "83ddaa68-4d3b-4062-bb0e-26fe74168501",
   "metadata": {},
   "outputs": [
    {
     "name": "stdout",
     "output_type": "stream",
     "text": [
      "Dies ist ein Demo-Text. Der Inhalt spielt hier keine Rolle.\n",
      "\n",
      "\n",
      "\n",
      "Wichtig ist, dass wir hier ein paar\n",
      "\n",
      "Textzeilen haben, die einen\n",
      "\n",
      "Inhalt vorspielen,\n",
      "\n",
      "der gar nicht vorhanden ist!\n"
     ]
    }
   ],
   "source": [
    "with open('data/demo.txt', 'r') as f:\n",
    "    for line in f:\n",
    "        print(line)"
   ]
  },
  {
   "cell_type": "markdown",
   "id": "6c2479d8-7c41-4b30-a474-0a0a315c217a",
   "metadata": {},
   "source": [
    "Sie können einmal mit einer `for`-Schleife über alle Zeilen iterieren (gehen) und die jeweilige Zeile in `line` speichern. Alternativ können Sie alle Zeilen\n",
    "auf einmal in eine Liste einlesen und dann im zweiten Schritt kann man über die Zeilen iterieren:"
   ]
  },
  {
   "cell_type": "code",
   "execution_count": 11,
   "id": "733bf915-9b74-4093-a925-5c729d772a7c",
   "metadata": {},
   "outputs": [
    {
     "name": "stdout",
     "output_type": "stream",
     "text": [
      "Dies ist ein Demo-Text. Der Inhalt spielt hier keine Rolle.\n",
      "\n",
      "\n",
      "\n",
      "  Wichtig ist, dass wir hier ein paar\n",
      "\n",
      "Textzeilen haben, die einen\n",
      "\n",
      "Inhalt vorspielen,\n",
      "\n",
      "der gar nicht vorhanden ist!\n"
     ]
    }
   ],
   "source": [
    "with open('data/demo.txt', 'r') as f:\n",
    "    lines = f.readlines()\n",
    "    for line in lines:\n",
    "        print(line)"
   ]
  },
  {
   "cell_type": "markdown",
   "id": "5a7c2075-6053-4e3f-86ee-c0b6394d8ee7",
   "metadata": {},
   "source": [
    "Wenn Sie eine von beiden Alternativen ausprobieren, sehen Sie, dass die Ausgabe etwas `komisch` ist, dass statt einer Zeile immer 2 Zeilen ausgegeben werden. \n",
    "\n",
    "Das liegt daran, dass in der Text-Datei am Ende einer Zeile das sog. `Return`-Zeichen mit abgespeichert wird. Am Ende einer Datei kann dieses `Return` auch manchmal fehlen. \n",
    "\n",
    "Da man in der Regel dieses Zeichen nicht haben möchte, kann man vor der Ausgabe, den Zeilen-Inhalt ein wenig `bearbeiten`. Dafür nutzt man die `String`-Funktion `.rstrip()`:"
   ]
  },
  {
   "cell_type": "code",
   "execution_count": 12,
   "id": "a312226a-0024-4b01-ac1a-cdc74d4df073",
   "metadata": {},
   "outputs": [
    {
     "name": "stdout",
     "output_type": "stream",
     "text": [
      "Dies ist ein Demo-Text. Der Inhalt spielt hier keine Rolle.\n",
      "\n",
      "  Wichtig ist, dass wir hier ein paar\n",
      "Textzeilen haben, die einen\n",
      "Inhalt vorspielen,\n",
      "der gar nicht vorhanden ist!\n"
     ]
    }
   ],
   "source": [
    "with open('data/demo.txt', 'r') as f:\n",
    "    for line in f:\n",
    "        line = line.rstrip()\n",
    "        print(line)"
   ]
  },
  {
   "cell_type": "markdown",
   "id": "94e40cac-1528-4080-8eae-81f0b13d2a8a",
   "metadata": {},
   "source": [
    "Wie man sieht, sind die Zeilen nun ohne `Return`-Zeichen abgespeichert. `.rstrip()` bedeutet, dass alle nicht Buchstaben, Zahlen, Satzzeichen usw. vom Ende her gelöscht werden, bis ein sinnvolles Zeichen die Zeile beendet! Es gibt dazu auch die Funktion `.lstrip()` für den Zeilenanfang, oder `.strip()` für Anfang und Ende:"
   ]
  },
  {
   "cell_type": "code",
   "execution_count": 13,
   "id": "23e4535b-ddd7-4a03-99cf-a4bd5d8eb15f",
   "metadata": {},
   "outputs": [
    {
     "name": "stdout",
     "output_type": "stream",
     "text": [
      "Dies ist ein Demo-Text. Der Inhalt spielt hier keine Rolle.\n",
      "\n",
      "Wichtig ist, dass wir hier ein paar\n",
      "Textzeilen haben, die einen\n",
      "Inhalt vorspielen,\n",
      "der gar nicht vorhanden ist!\n"
     ]
    }
   ],
   "source": [
    "with open('data/demo.txt', 'r') as f:\n",
    "    for line in f:\n",
    "        line = line.strip()\n",
    "        print(line)"
   ]
  },
  {
   "cell_type": "markdown",
   "id": "7c839f18-3734-4088-892d-1f1fff2891e0",
   "metadata": {},
   "source": [
    "Der Unterschied mit `.strip()` ist, das z.B. Leerzeichen am Zeilenanfang mit gelöscht werden! Also **vorsicht**, bitte die gewünschte `strip`-Funktion wählen."
   ]
  },
  {
   "cell_type": "markdown",
   "id": "5ec25cc1-346a-4ef3-83b2-f89014314345",
   "metadata": {},
   "source": [
    "### 1.3 Alternatives öffnen und schliessen"
   ]
  },
  {
   "cell_type": "markdown",
   "id": "1f33db66-172c-4035-b0f4-dca902b30d13",
   "metadata": {},
   "source": [
    "Die `with`-Anweisung hat viele Vorteile, so muss man sich keine Gedanken darüber machen, dass eine geöffnete Datei auch wieder geschlossen werden muss, da sonst u.U. Probleme mit dem OS geben könnte. Vor dem Einführen von `with` wurde das Einlesen wie folgt gemacht:"
   ]
  },
  {
   "cell_type": "code",
   "execution_count": 18,
   "id": "472e00f2-e9d0-4393-8380-e7bacb4783c6",
   "metadata": {},
   "outputs": [
    {
     "name": "stdout",
     "output_type": "stream",
     "text": [
      "Dies ist ein Demo-Text. Der Inhalt spielt hier keine Rolle.\n",
      "\n",
      "Wichtig ist, dass wir hier ein paar\n",
      "Textzeilen haben, die einen\n",
      "Inhalt vorspielen,\n",
      "der gar nicht vorhanden ist!\n"
     ]
    }
   ],
   "source": [
    "f = open('data/demo.txt', 'r')\n",
    "for line in f:\n",
    "    line = line.strip()\n",
    "    print(line)\n",
    "    \n",
    "f.close()   # absolut notwendig!"
   ]
  },
  {
   "cell_type": "markdown",
   "id": "c4a4c512-a772-48cd-bfb5-2e34c8814383",
   "metadata": {},
   "source": [
    "Sie sehen, das Ergebnis ist das Gleiche, aber es ist eine Zeile mehr Code!"
   ]
  },
  {
   "cell_type": "markdown",
   "id": "0a32ee89-769c-412a-8d9a-0f086876c460",
   "metadata": {},
   "source": [
    "----"
   ]
  },
  {
   "cell_type": "markdown",
   "id": "fcd30350-8e5b-4e48-8c99-e61304fe2508",
   "metadata": {},
   "source": [
    "## 2. <a id=\"write\"></a> Daten abspeichern"
   ]
  },
  {
   "cell_type": "markdown",
   "id": "2e3e18a6-51f1-4356-97ec-3ed680b919e9",
   "metadata": {},
   "source": [
    "Für das Speichern von Text-Dateien gibt es verschiedene Möglichkeiten."
   ]
  },
  {
   "cell_type": "markdown",
   "id": "58cd6d80-0b28-4546-8677-7876b25f3c74",
   "metadata": {},
   "source": [
    "### 2.1 print-Anweisung"
   ]
  },
  {
   "cell_type": "markdown",
   "id": "2c392fbd-e79a-4e52-8b5d-35e9a30b3fcb",
   "metadata": {},
   "source": [
    "Bisher haben wir für alle Ausgaben auf dem Bildschirm und in den Notebooks die `print(...)`-Anweisung benutzt. Vielfach unbekannt ist, dass man `print` auch benutzen kann, die Ausgabe in eine Datei zu schreiben.\n",
    "\n",
    "Nehmen wir hier als Beispiel eine Liste mit `l` mit Wörtern, die wir normal mit `print` ausgeben:"
   ]
  },
  {
   "cell_type": "code",
   "execution_count": 19,
   "id": "22377a9b-21b6-4f67-b052-9ec5b31578be",
   "metadata": {},
   "outputs": [
    {
     "name": "stdout",
     "output_type": "stream",
     "text": [
      "Dies\n",
      "ist\n",
      "ein\n",
      "komischer\n",
      "Satz!\n"
     ]
    }
   ],
   "source": [
    "l = ['Dies', 'ist', 'ein', 'komischer', 'Satz!']\n",
    "\n",
    "for word in l:\n",
    "    print(word)"
   ]
  },
  {
   "cell_type": "markdown",
   "id": "509e1e38-561d-43cd-b6e6-27a3bfda2c58",
   "metadata": {},
   "source": [
    "Im nächsten Schritt müssen wir eine Datei zum Schreiben öffnen. Dazu nutzen wir wieder die `with`-Umgebung, allerdings wird `open` nun beim zweiten Argument mit `w` genutzt. Die Datei, die Sie hier angeben muss nicht vorhanden sein, sie wird dann neu erstellt. Ist die Datei schon vorhanden, wird diese einfach ohne Meldung überschrieben:"
   ]
  },
  {
   "cell_type": "code",
   "execution_count": 22,
   "id": "0c622d42-3b3e-4a9a-8452-7f0577a4cf09",
   "metadata": {},
   "outputs": [],
   "source": [
    "l = ['Dies', 'ist', 'ein', 'komischer', 'Satz!']\n",
    "\n",
    "with open('output.txt', 'w') as f:\n",
    "    for word in l:\n",
    "        print(word, file=f)"
   ]
  },
  {
   "cell_type": "markdown",
   "id": "3019b6f8-6376-4225-97c3-ca02badad96c",
   "metadata": {},
   "source": [
    "Hier wird nun die Datei `output.txt` zum Schreiben geöffnet und die `print`-Anweisung hat nun als letztes Argument, `file=f`, was andeutet, dass in die geöffnete mit `f` verknüpfte Datei geschrieben werden soll. Die Datei hat nun den gewünschten Inhalt:"
   ]
  },
  {
   "cell_type": "code",
   "execution_count": 23,
   "id": "1dfbb462-5e27-4517-9f7a-6cad0ce0585d",
   "metadata": {},
   "outputs": [
    {
     "name": "stdout",
     "output_type": "stream",
     "text": [
      "Dies\n",
      "ist\n",
      "ein\n",
      "komischer\n",
      "Satz!\n"
     ]
    }
   ],
   "source": [
    "!cat output.txt"
   ]
  },
  {
   "cell_type": "markdown",
   "id": "5bda23df-25ff-4e51-bb42-0e6a892e447b",
   "metadata": {},
   "source": [
    "An dieser Stelle kann man natürlich auch den alternativen Weg ohne `with` gehen:"
   ]
  },
  {
   "cell_type": "code",
   "execution_count": 25,
   "id": "3a338765-3a80-4ae5-854c-5690a9dfed8e",
   "metadata": {},
   "outputs": [],
   "source": [
    "l = ['Dies', 'ist', 'ein', 'komischer', 'Satz!']\n",
    "\n",
    "f = open('output.txt', 'w')\n",
    "for word in l:\n",
    "    print(word, file=f)\n",
    "    \n",
    "f.close() # nicht vergessen!"
   ]
  },
  {
   "cell_type": "markdown",
   "id": "7b534f74-5052-48cb-ab04-fd10eb7417ee",
   "metadata": {},
   "source": [
    "**Wichtig:**\n",
    " * hier wird das Vergessen von `f.close()` dazu führen, dass die Daten unter Umständen nicht vollständig geschrieben werden!"
   ]
  },
  {
   "cell_type": "markdown",
   "id": "20cebd95-693c-4725-8d3a-fd267df62114",
   "metadata": {},
   "source": [
    "### 2.2 write-Anweisung"
   ]
  },
  {
   "cell_type": "markdown",
   "id": "44f7de39-d0df-459c-8482-8c3b78b3d5d5",
   "metadata": {},
   "source": [
    "Neben der `print`-Anweisung kann man eine Funktion der Variablen `f` nutzen, damit man Zeilen in eine Datei schreibt:"
   ]
  },
  {
   "cell_type": "code",
   "execution_count": 27,
   "id": "4e20872a-53eb-45e4-bdfa-1c130eb81061",
   "metadata": {},
   "outputs": [],
   "source": [
    "l = ['Dies', 'ist', 'ein', 'komischer', 'Satz!']\n",
    "\n",
    "with open('output.txt', 'w') as f:\n",
    "    for word in l:\n",
    "        f.write(word+'\\n')"
   ]
  },
  {
   "cell_type": "markdown",
   "id": "a2f50c96-0260-462a-8c73-5cc72e52d2a2",
   "metadata": {},
   "source": [
    "Dieses Beispiel schreibt die Wörter genauso wie `print` in die Datei `output.txt`. Bitte beachten Sie, dass `write` am Ende der Zeile kein `Return`-Zeichen anhängt, während `print` ohne weitere Angabe macht. Sie müssen dann bei jedem `write`-Befehl ein `'\\n'` hinzufügen."
   ]
  },
  {
   "cell_type": "markdown",
   "id": "c16d119c-cb76-4249-9249-1aacb5271c0b",
   "metadata": {},
   "source": [
    "----"
   ]
  },
  {
   "cell_type": "markdown",
   "id": "4ed9e6e6-064c-46d6-8fc6-ef1d7f58e799",
   "metadata": {},
   "source": [
    "## 3. <a id=\"append\"></a>Daten anhängen"
   ]
  },
  {
   "cell_type": "markdown",
   "id": "f1e9d0d2-4690-4d5b-ac06-d19e89fd208d",
   "metadata": {},
   "source": [
    "Es gibt einige Situationen, wo man an bestehende Dateien, neue Daten anhängen will. Es entspricht in etwa der Unix/Linux-Ausgabenumlenkung `>>`."
   ]
  },
  {
   "cell_type": "markdown",
   "id": "a8372f4f-187b-42c2-a6e8-f58296d1d3a1",
   "metadata": {},
   "source": [
    "Als Beispiel erzeugen wir erstmal eine Datei `anhang.txt`:"
   ]
  },
  {
   "cell_type": "code",
   "execution_count": 7,
   "id": "3bc1d1d2-84b2-47f3-b6bf-ba5ee49cc356",
   "metadata": {},
   "outputs": [],
   "source": [
    "with open('anhang.txt','w') as f:\n",
    "    print('Ein Text!', file=f)"
   ]
  },
  {
   "cell_type": "code",
   "execution_count": 8,
   "id": "cd2a70df-239a-45bc-8699-822fecc5675f",
   "metadata": {},
   "outputs": [
    {
     "name": "stdout",
     "output_type": "stream",
     "text": [
      "Ein Text!\n"
     ]
    }
   ],
   "source": [
    "!cat anhang.txt"
   ]
  },
  {
   "cell_type": "markdown",
   "id": "6ae27aec-2aa1-4275-b721-e66fe24446d1",
   "metadata": {},
   "source": [
    "Nun öffnen wir die Datei `anhang.txt` wie vorher, statt `'w'` nutzen wir ein `'a'` für `append`:"
   ]
  },
  {
   "cell_type": "code",
   "execution_count": 9,
   "id": "0dc47d6c-f48a-4ac1-af76-1e75d1aa78e0",
   "metadata": {},
   "outputs": [],
   "source": [
    "with open('anhang.txt','a') as f:\n",
    "    print('Ein neuer Text!', file=f)"
   ]
  },
  {
   "cell_type": "code",
   "execution_count": 10,
   "id": "f15b47e9-9e73-4858-bd85-e232be73f299",
   "metadata": {},
   "outputs": [
    {
     "name": "stdout",
     "output_type": "stream",
     "text": [
      "Ein Text!\n",
      "Ein neuer Text!\n"
     ]
    }
   ],
   "source": [
    "!cat anhang.txt"
   ]
  },
  {
   "cell_type": "markdown",
   "id": "e9fb5271-5d86-437f-a376-f61845b4ac90",
   "metadata": {},
   "source": [
    "Wie man sieht, wurde nun die neue Zeile an die vorhandene Datei angehängt!"
   ]
  },
  {
   "cell_type": "markdown",
   "id": "7e9c54b7-a66e-4f30-ad16-1819b557bb40",
   "metadata": {},
   "source": [
    "----"
   ]
  },
  {
   "cell_type": "markdown",
   "id": "a691119b-2732-4e93-9fd6-34fa6c4a2002",
   "metadata": {},
   "source": [
    "**Zusammenfassung**:\n",
    " * Dateien am Besten mit `with open(...) as f:` öffnen\n",
    " * zum Lesen `open` mit `'r'` nutzen\n",
    " * zum Schreiben `open` mit `'w'` nutzen\n",
    " * beim Lesen werden `Return`-Zeichen mitgelesen\n",
    " * beim Schreiben mit `write` müssen `Return`-Zeichen mitgeschrieben werden, bei `print`nicht"
   ]
  }
 ],
 "metadata": {
  "kernelspec": {
   "display_name": "Python 3 (ipykernel)",
   "language": "python",
   "name": "python3"
  },
  "language_info": {
   "codemirror_mode": {
    "name": "ipython",
    "version": 3
   },
   "file_extension": ".py",
   "mimetype": "text/x-python",
   "name": "python",
   "nbconvert_exporter": "python",
   "pygments_lexer": "ipython3",
   "version": "3.9.13"
  }
 },
 "nbformat": 4,
 "nbformat_minor": 5
}
