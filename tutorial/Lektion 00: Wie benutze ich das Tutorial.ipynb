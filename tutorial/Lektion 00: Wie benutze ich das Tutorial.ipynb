{
 "cells": [
  {
   "cell_type": "markdown",
   "id": "f9da0a5b-4ecf-401d-9e21-273ac310b390",
   "metadata": {},
   "source": [
    "# Wie benutze ich dieses Tutorial?"
   ]
  },
  {
   "cell_type": "markdown",
   "id": "317c116b-79b8-486a-8479-c8a2372f0ab0",
   "metadata": {},
   "source": [
    "**Bitte lesen dieses Notebook komplett durch, bevor Sie anfangen mit den Materialien zu arbeiten!**\n",
    "\n",
    "Zum Inhaltsverzeichnis geht es [hier](#toc)!\n",
    "\n",
    "---"
   ]
  },
  {
   "cell_type": "markdown",
   "id": "3f6317a7-5892-495f-a9d4-d0380eddcde3",
   "metadata": {},
   "source": [
    "## Was wird in dem Tutorial behandelt?"
   ]
  },
  {
   "cell_type": "markdown",
   "id": "60adcf77-b1ba-4701-aaf7-dd79c5f98c95",
   "metadata": {},
   "source": [
    "Das Tutorial ist eine Sammlung von Materialien, die wir für die Vorlesung *EDV für Physikerinnen und Physiker* zu dem Bereich Python/Datenanalyse gesammelt haben. Es beinhaltet eine **Einführung** in die Programmiersprache **Python** und das benennen der *Basics* von *Python*, was notwendig ist, um mit *Python* einfache Daten-Analysen und -Visualisierungen zu erledigen. Dazu gehören die Basis-Typen von *Python* und die Nutzung der numerischen Bibliothek *numpy*.\n",
    "\n",
    "Für einige Lektionen gibt es auch verlinkte Videos auf einem Youtube-Channel. Die dort gezeigten Materialien können aber von der hier dargestellten Versionen abweichen. "
   ]
  },
  {
   "cell_type": "markdown",
   "id": "70d32441-4343-401a-967b-23c3049f6e96",
   "metadata": {},
   "source": [
    "**Das Tutorial kann komplett online innerhalb eines Web-Browsers und ohne zusätzliche Installationen bearbeitet werden.**\n",
    "\n",
    "----"
   ]
  },
  {
   "cell_type": "markdown",
   "id": "91cdb51f-cb50-43e4-bd54-67b55ca6597f",
   "metadata": {},
   "source": [
    "## Wie benutze ich die Materialien?"
   ]
  },
  {
   "cell_type": "markdown",
   "id": "602cf564-128d-4ec5-9c4c-fb20079dee64",
   "metadata": {},
   "source": [
    "Nach dem Aufruf des Tutorials, sehen Sie ein Verzeichnisbaum auf der linken Seite des Webbrowser-Fensters. Dort finden Sie die Notebooks (Endung ist .ipynb!) der einzelnen Lektionen des Tutorials. Wenn Sie auf eine Lektion mit der Maus *doppelklicken*, öffnet sich ein neuer Reiter mit dem Notebook. Sind mehere Lektionen gleichzeitig offen, können Sie über die Reiter die gewünschte Lektion auswählen.\n",
    "\n",
    "Inhaltlich sind die Lektionen aufeinander aufgebaut und unter Umständen voneinander abhängig. Wenn Sie eine Lektion nicht komplett verstehen, müssen Sie die vorherigen Lektionen nochmal studieren."
   ]
  },
  {
   "cell_type": "markdown",
   "id": "39b242f1-b550-462e-943a-2b3aa6c006f9",
   "metadata": {},
   "source": [
    "Die Lektionen sind in sog. `Jupyter-Notebooks` geschrieben. *Notebooks* sind aufgebaut aus sog. Zellen, die entweder Dokumentationen oder `Code` enthalten können. Die `Code`-Beispiele können Sie **aktiv** ausprobieren, welches genau der Vorteil dieses Online-Tutorials ist! Wenn Sie auf eine `Code`-Zelle klicken, können Sie diese mit der Tastenkombination `Strg/Ctrl-Enter` starten. Sie können auch den Inhalt der `Code`-Zellen verändern und erweitern und somit weiteren `Code` ausprobieren. Die Änderungen an den Notebooks werden solange für Sie zur Verfügung stehen, solange Sie die Sitzung mit dem Browser aktiv bedienen. Nach einer Zeit der Inaktivität oder wenn Sie den Browser schliessen, fangen Sie wieder mit dem Original-Tutorial an. Alle Veränderungen sind dann verloren! Wenn Sie gerne Ihre Varianten speichern wollen, können Sie das entsprechende Notebook über das Context-Menu (rechte Maustaste) in dem Dateibaum (links) auf Ihren lokalen Computer herunterladen.\n",
    "\n",
    "Nutzen Sie diese Möglichkeit bei Bedarf, Sie haben hiermit eine Plattform, mit der Sie Programmieren lernen können, ohne selber Software installieren zu müssen. Auch wenn Sie *rumprobieren*, Sie können nichts kaputt machen! Falls Sie nicht weiterkommen, starten Sie das Tutorial einfach wieder neu!"
   ]
  },
  {
   "cell_type": "markdown",
   "id": "be305a2c-a1a0-4a91-b3e5-b95fba0fe79d",
   "metadata": {},
   "source": [
    "----"
   ]
  },
  {
   "cell_type": "markdown",
   "id": "a2b808bd-56c2-48ad-b39f-de021672e21d",
   "metadata": {},
   "source": [
    "## Probleme mit dem Ausführen der Notebooks"
   ]
  },
  {
   "cell_type": "markdown",
   "id": "a28a337f-b91d-4331-8faa-862c14fbc39a",
   "metadata": {},
   "source": [
    "Es kann vorkommen, dass Sie beim Testen von neuem `Code` das Notebook auf keine weiteren Eingaben mehr reagiert. In diesem Fall können Sie über das Menu `Kernel->Restart Kernel ...` (linksoben) das Notebook neu starten. Dann sollte das Notebook wieder auf Eingaben reagieren. Sie sollten dann aber die `Code`-Zelle, die diesen Zustand erzeugt hat, modifizieren bzw. korrigieren und dann wieder ausprobieren."
   ]
  },
  {
   "cell_type": "markdown",
   "id": "eb371d5a-1d4e-493e-b283-07068e3c5d02",
   "metadata": {},
   "source": [
    "----"
   ]
  },
  {
   "cell_type": "markdown",
   "id": "5afbcbdb-0b46-414c-be12-09b037f0feed",
   "metadata": {},
   "source": [
    "## <a id='toc'></a>Inhaltsverzeichnis"
   ]
  },
  {
   "cell_type": "markdown",
   "id": "7bd020dd-1e2c-4b9e-860e-0c4c5bd32323",
   "metadata": {},
   "source": [
    " * [Lektion 01: Zahlen, Variablen und Zuweisungen](Lektion%2001%3A%20Zahlen%2C%20Variablen%20und%20Zuweisungen.ipynb)\n",
    " * [Lektion 02: Boolesche Ausdrücke, Bedingungen und while-Schleifen](Lektion%2002%3A%20Boolesche%20Ausdr%C3%BCcke%2C%20Bedingungen%2C%20und%20while-Schleifen.ipynb)\n",
    " * [Lektion 03: Module, Konvertierungen und Hilfen](Lektion%2003%3A%20Module%2C%20Konvertierungen%20und%20Hilfen.ipynb)\n",
    " * [Lektion 04: Funktionen](Lektion%2004%3A%20Funktionen.ipynb)"
   ]
  }
 ],
 "metadata": {
  "kernelspec": {
   "display_name": "Python 3 (ipykernel)",
   "language": "python",
   "name": "python3"
  },
  "language_info": {
   "codemirror_mode": {
    "name": "ipython",
    "version": 3
   },
   "file_extension": ".py",
   "mimetype": "text/x-python",
   "name": "python",
   "nbconvert_exporter": "python",
   "pygments_lexer": "ipython3",
   "version": "3.9.13"
  }
 },
 "nbformat": 4,
 "nbformat_minor": 5
}
