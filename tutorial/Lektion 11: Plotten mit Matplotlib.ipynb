{
 "cells": [
  {
   "cell_type": "markdown",
   "id": "978fbd54-416e-4837-b747-efe3d6c1a7cf",
   "metadata": {},
   "source": [
    "# Lektion 11: Plotten mit der Matplotlib"
   ]
  },
  {
   "cell_type": "markdown",
   "id": "aba39d15-b0be-4601-b9e8-561bcbbb726f",
   "metadata": {},
   "source": [
    "----\n",
    "\n",
    "Ziel der Lektion\n",
    "\n",
    " * Plotten mit `matplotlib`\n",
    " * `homogenize_plot.py`\n",
    " \n",
    "----"
   ]
  },
  {
   "cell_type": "markdown",
   "id": "9058bba9-8780-4375-8c1e-1f33c295bbf0",
   "metadata": {},
   "source": [
    "Für die Datenvisualisierung nutzen wir die Python-Bibliothek `matplotlib`, die sich nahtlos an die `numpy`-Bibliothek anschliesst."
   ]
  },
  {
   "cell_type": "markdown",
   "id": "82d4bec0-cdbd-4cf0-a579-c31ce447be22",
   "metadata": {},
   "source": [
    "### 1. `matplotlib` in Jupyter-Notebooks"
   ]
  },
  {
   "cell_type": "markdown",
   "id": "20d1d38b-67bd-4d1a-a2a8-44c448f8eda6",
   "metadata": {},
   "source": [
    "Bevor wir anfangen, Plots zu erzeugen, müssen einige Vorbereitungen geschaffen werden, damit die Plots überhaupt klappen können. In Jupyter-Notebooks brauchen wir immer wiederkehrende Befehle als `Präambel` in den Code-Zellen:"
   ]
  },
  {
   "cell_type": "code",
   "execution_count": null,
   "id": "367a618c-adcb-4c41-a97d-9a1b3e97d9dd",
   "metadata": {},
   "outputs": [],
   "source": [
    "%matplotlib inline\n",
    "\n",
    "import matplotlib.pyplot as plt"
   ]
  },
  {
   "cell_type": "markdown",
   "id": "6f67c3f4-2ea8-4e90-ac50-6b7f824119c8",
   "metadata": {},
   "source": [
    "Damit wird die `matplotlib` mit dem Alias `plt` geladen und die Magic-Zeile am Anfang `%matplotlib inline` schaltet die `matplotlib` sinnvoll für die Notebooks um (klappt __nicht__ in Scripten!)."
   ]
  },
  {
   "cell_type": "markdown",
   "id": "434ea86a-7ba9-4851-a135-0ad543f992ca",
   "metadata": {},
   "source": [
    "Die nächsten Zeilen sind Standards für die Erstellung von Plots und sollten immer beherzigt werden:"
   ]
  },
  {
   "cell_type": "code",
   "execution_count": null,
   "id": "d5ce3729-92dd-4b42-93a5-ac59d39faa83",
   "metadata": {},
   "outputs": [],
   "source": [
    "%matplotlib inline\n",
    "# Präambel\n",
    "\n",
    "import matplotlib.pyplot as plt\n",
    "\n",
    "# configure plot\n",
    "\n",
    "fig, ax = plt.subplots()       # create a figure with axes\n",
    "\n",
    "ax.plot([1,2,3],[4,5,6])       # example plot\n",
    "\n",
    "# use always useful labels and titles\n",
    "ax.set_xlabel('Numbers')       # label for x axes \n",
    "ax.set_ylabel('More numbers')  # label for y axes\n",
    "ax.set_title('Numbers-Plot')   # title for the plot"
   ]
  },
  {
   "cell_type": "markdown",
   "id": "ae009a24-1640-4cf9-9705-8b1980df5f9f",
   "metadata": {},
   "source": [
    "An diesem Beispiel sind die letzten 3 Zeilen wichtig: jeder Plot sollte *sinnvolle* Achsenbeschriftungen und einen Titel haben, damit man weis, was gegen was und warum geplottet wird! (Dieses sind Standard für jedes Plot-Programm, siehe gnuplot!)"
   ]
  },
  {
   "cell_type": "markdown",
   "id": "ae457d06-1480-445c-b6e9-90c87c2b769c",
   "metadata": {},
   "source": [
    "----"
   ]
  },
  {
   "cell_type": "markdown",
   "id": "26b59f16-8dcc-43e2-a982-648bccd2231e",
   "metadata": {},
   "source": [
    "### 2. Verschiedene Plot-Typen"
   ]
  },
  {
   "cell_type": "markdown",
   "id": "55d145cd-2acb-4906-b87a-7fd6a2e0ef2b",
   "metadata": {},
   "source": [
    "Es gibt viele Möglichkeiten, Daten zu visualisieren. Wir beschränken uns hier auf die wichtigsten Plot-Typen um sog. xy-Daten zu visualisieren. Sie können jederzeit die `matplotlib`-[Galerie](https://matplotlib.org/stable/gallery/index.html) aufrufen und nach einem geeigneten Plot-Typ für Ihre Ideen suchen. Die Galerie bietet in der Regel immer ein paar Demos mit Programm-Codes an, die Sie dann übernehmen können! Zudem wollen wir hier *nur* die __statischen nicht-interaktiven__ Plots zeigen, die in der Regel vollkommen ausreichend sind."
   ]
  },
  {
   "cell_type": "markdown",
   "id": "3c04cf1d-f09b-4cc6-a4cd-53e28c71206c",
   "metadata": {},
   "source": [
    "Zum Vergleich der verschiedenen Plot-Typen erzeugen wir erstmal Daten:"
   ]
  },
  {
   "cell_type": "code",
   "execution_count": null,
   "id": "bdb9c6d6-8ec0-4a50-9b1d-726a901c05dd",
   "metadata": {},
   "outputs": [],
   "source": [
    "import numpy as np\n",
    "\n",
    "x = np.array([1,2,3,4,5])\n",
    "wx = np.array([4,2,3,1,5])\n",
    "y = np.array([1,1.2,3,2.5,3.3])\n",
    "x_err = np.array([0.05,0.01,0.02,0.1,0.04])\n",
    "y_err = np.array([0.2,0.25,0.21,0.15,0.19])"
   ]
  },
  {
   "cell_type": "markdown",
   "id": "0c112cd3-6ebc-4c4a-b6b8-7e37f5095854",
   "metadata": {},
   "source": [
    "Wir nutzen beim Plotten __immer__ `numpy`-Arrays, die `matplotlib` kann auch python-Listen darstellen!"
   ]
  },
  {
   "cell_type": "markdown",
   "id": "c97348f5-2a0a-46fa-9552-82d7f4db565f",
   "metadata": {},
   "source": [
    "#### 2.1 Linien-Plot"
   ]
  },
  {
   "cell_type": "markdown",
   "id": "468bad53-8f86-4e86-bf1b-4b20c69e4f25",
   "metadata": {},
   "source": [
    "Als einfachen Plot können Sie die Daten $x$ gegen $y$ auftragen, wobei die Punkte durch *gerade* Linien verbunden werden:"
   ]
  },
  {
   "cell_type": "code",
   "execution_count": null,
   "id": "153c2156-b43f-4c36-bc82-b9098a42d29e",
   "metadata": {},
   "outputs": [],
   "source": [
    "%matplotlib inline\n",
    "\n",
    "import matplotlib.pyplot as plt\n",
    "\n",
    "fig, ax = plt.subplots()       \n",
    "\n",
    "ax.plot(x,y)                    # line plot\n",
    "\n",
    "ax.set_xlabel(r'$x$')\n",
    "ax.set_ylabel(r'$y$')\n",
    "ax.set_title('Line-Plot')"
   ]
  },
  {
   "cell_type": "markdown",
   "id": "7f91c5c1-2c71-41d3-b8e3-3ca1eb9b055f",
   "metadata": {},
   "source": [
    "Wichtig ist hierbei, dass jeweils benachbarte Punkte mit einer Linie verbunden werden, dazu sollten die $x$-Werte aufsteigend sortiert sein, sonst gibt es Verwirrungen:"
   ]
  },
  {
   "cell_type": "code",
   "execution_count": null,
   "id": "7023d86a-faa7-48ca-afe9-610ead370217",
   "metadata": {},
   "outputs": [],
   "source": [
    "%matplotlib inline\n",
    "\n",
    "import matplotlib.pyplot as plt\n",
    "\n",
    "fig, ax = plt.subplots()\n",
    "\n",
    "ax.plot(wx,y)                   # wrong line plot\n",
    "\n",
    "ax.set_xlabel(r'$x$')\n",
    "ax.set_ylabel(r'$y$')\n",
    "ax.set_title('Wrong-Line-Plot')"
   ]
  },
  {
   "cell_type": "markdown",
   "id": "95cb12b2-7e15-442f-80b9-67f343d4e3a9",
   "metadata": {},
   "source": [
    "#### 2.2 Scatter-Plot"
   ]
  },
  {
   "cell_type": "markdown",
   "id": "3e4bf0b0-d75e-4f69-a365-f94f86537431",
   "metadata": {},
   "source": [
    "Dieser Plot-Typ zeigt alle Datenpunkte ohne diese zu verbinden:"
   ]
  },
  {
   "cell_type": "code",
   "execution_count": null,
   "id": "7d083c51-2696-429c-87a5-cffb8d339625",
   "metadata": {},
   "outputs": [],
   "source": [
    "%matplotlib inline\n",
    "\n",
    "import matplotlib.pyplot as plt\n",
    "\n",
    "fig, ax = plt.subplots()\n",
    "\n",
    "ax.scatter(x,y)                 # scatter-Plot\n",
    "\n",
    "ax.set_xlabel(r'$x$')\n",
    "ax.set_ylabel(r'$y$')\n",
    "ax.set_title('Scatter-Plot')"
   ]
  },
  {
   "cell_type": "markdown",
   "id": "47ad536e-e9ba-4212-acd6-1df4f7a4a4b6",
   "metadata": {},
   "source": [
    "#### 2.3 Fehlerbalken-Plot"
   ]
  },
  {
   "cell_type": "markdown",
   "id": "6133c5e2-558b-49bb-9551-148ec430f3ca",
   "metadata": {},
   "source": [
    "Ein Fehlerbalken-Plot ist ein wenig aufwendiger, als erstes ein Plot mit Fehlern für die $y$-Werte:"
   ]
  },
  {
   "cell_type": "code",
   "execution_count": null,
   "id": "a31db4cc-af7d-4022-9ee6-10b8cb85fb7d",
   "metadata": {},
   "outputs": [],
   "source": [
    "%matplotlib inline\n",
    "\n",
    "import matplotlib.pyplot as plt\n",
    "\n",
    "fig, ax = plt.subplots()\n",
    "\n",
    "ax.errorbar(x,y,y_err, marker='o', capsize=3, linestyle='--')       # errorbar-Plot\n",
    "\n",
    "ax.set_xlabel(r'$x$')\n",
    "ax.set_ylabel(r'$y$')\n",
    "ax.set_title('Errorbar-Plot 1')"
   ]
  },
  {
   "cell_type": "markdown",
   "id": "a8a7484e-16d1-4e4d-9b8a-419d784e737a",
   "metadata": {},
   "source": [
    "oder mit $x$- und $y$-Fehlern (und __keiner__ Linie zwischen den Punkten):"
   ]
  },
  {
   "cell_type": "code",
   "execution_count": null,
   "id": "e1ee5ce6-1d27-4fa2-9ffc-38cd1917783a",
   "metadata": {},
   "outputs": [],
   "source": [
    "%matplotlib inline\n",
    "\n",
    "import matplotlib.pyplot as plt\n",
    "\n",
    "fig, ax = plt.subplots()\n",
    "\n",
    "ax.errorbar(x,y,xerr=x_err, yerr=y_err,  marker='o', capsize=3, linestyle='')       # errorbar-Plot\n",
    "\n",
    "ax.set_xlabel(r'$x$')\n",
    "ax.set_ylabel(r'$y$')\n",
    "ax.set_title('Errorbar-Plot 2')"
   ]
  },
  {
   "cell_type": "markdown",
   "id": "3799733b-2d9c-43f6-95c7-045dbac531ab",
   "metadata": {},
   "source": [
    "#### 2.4 Balken-Plots"
   ]
  },
  {
   "cell_type": "markdown",
   "id": "3165fa17-85e3-4617-8336-bc1c8de2b47a",
   "metadata": {},
   "source": [
    "Nützlich sind auch Balken-Plots:"
   ]
  },
  {
   "cell_type": "code",
   "execution_count": null,
   "id": "e026ff51-b4c9-4db6-ba25-574c633a9379",
   "metadata": {},
   "outputs": [],
   "source": [
    "%matplotlib inline\n",
    "\n",
    "import matplotlib.pyplot as plt\n",
    "\n",
    "fig, ax = plt.subplots()\n",
    "\n",
    "ax.bar(x,y)               # bar-Plot\n",
    "\n",
    "ax.set_xlabel(r'$x$')\n",
    "ax.set_ylabel(r'$y$')\n",
    "ax.set_title('Bar-Plot 1')"
   ]
  },
  {
   "cell_type": "markdown",
   "id": "027f4142-5865-403d-9741-2273bce9cf7d",
   "metadata": {},
   "source": [
    "Man kann auch die Breite der `bars` wählen:"
   ]
  },
  {
   "cell_type": "code",
   "execution_count": null,
   "id": "5f251e68-094d-4c49-bc9d-0dfc70f6cfb8",
   "metadata": {},
   "outputs": [],
   "source": [
    "%matplotlib inline\n",
    "\n",
    "import matplotlib.pyplot as plt\n",
    "\n",
    "fig, ax = plt.subplots()\n",
    "\n",
    "ax.bar(x,y, width=1.)              # bar-Plot\n",
    "\n",
    "ax.set_xlabel(r'$x$')\n",
    "ax.set_ylabel(r'$y$')\n",
    "ax.set_title('Bar-Plot 2')"
   ]
  },
  {
   "cell_type": "markdown",
   "id": "f9b80083-efdc-4185-b49b-19a61193356a",
   "metadata": {},
   "source": [
    "----"
   ]
  },
  {
   "cell_type": "markdown",
   "id": "5d3d7fa8-9f2b-49d4-8761-42806f928379",
   "metadata": {},
   "source": [
    "### 3. Farben und Stile"
   ]
  },
  {
   "cell_type": "markdown",
   "id": "bf107aef-5c80-4a77-86c5-2f2f8ac3093c",
   "metadata": {},
   "source": [
    "Neben den Typen der Plots bietet die `matplotlib` viele Möglichkeiten der Anpassung und der Verschönerung. "
   ]
  },
  {
   "cell_type": "markdown",
   "id": "52d4108e-ead1-4360-9e95-f08402e46dae",
   "metadata": {},
   "source": [
    "In dem Fall, dass z.B. mehrere Plots übereinander dargestellt werden sollen, z.B. verschiedene Kurven, ist es notwendig, wenn sich diese Kurven durch verschiedene Farben und Stile unterscheiden. `matplotlib` generiert bei übereinanderliegenden Kurven jeweils eine andere Farbe:"
   ]
  },
  {
   "cell_type": "code",
   "execution_count": null,
   "id": "a0973b95-df27-49b8-996d-ac64f5e8c598",
   "metadata": {},
   "outputs": [],
   "source": [
    "%matplotlib inline\n",
    "\n",
    "import matplotlib.pyplot as plt\n",
    "import numpy as np\n",
    "\n",
    "fig, ax = plt.subplots()\n",
    "\n",
    "\n",
    "x = np.linspace(0,2*np.pi,1000)\n",
    "\n",
    "\n",
    "ax.plot(x, np.sin(x))\n",
    "ax.plot(x, np.cos(x))\n",
    "\n",
    "ax.set_xlabel(r'$x$')\n",
    "ax.set_ylabel(r'$y$')\n",
    "ax.set_title('Color-Plot 1')"
   ]
  },
  {
   "cell_type": "markdown",
   "id": "beee7c6e-a674-4951-8743-5551be2b8b52",
   "metadata": {},
   "source": [
    "Möchten Sie den ersten Plot **rot** und den zweiten Plot **grün** haben, so können Sie das auch vorgeben:"
   ]
  },
  {
   "cell_type": "code",
   "execution_count": null,
   "id": "89fc6240-18d2-4f8a-b6fc-2b86ffe1454b",
   "metadata": {},
   "outputs": [],
   "source": [
    "%matplotlib inline\n",
    "\n",
    "import matplotlib.pyplot as plt\n",
    "import numpy as np\n",
    "\n",
    "fig, ax = plt.subplots()\n",
    "\n",
    "\n",
    "x = np.linspace(0,2*np.pi,1000)\n",
    "\n",
    "\n",
    "ax.plot(x, np.sin(x), color='red')\n",
    "ax.plot(x, np.cos(x), color='green')\n",
    "\n",
    "ax.set_xlabel(r'$x$')\n",
    "ax.set_ylabel(r'$y$')\n",
    "ax.set_title('Color-Plot 2')"
   ]
  },
  {
   "cell_type": "markdown",
   "id": "108cfd2e-ac85-4952-a743-0c54662d433e",
   "metadata": {},
   "source": [
    "Das gleiche betrifft auch den Stil der Linien. Als Grundunterscheidung setzt `matplotlib` erstmal  auf Farben, aber man diesen Stil auch verändern:"
   ]
  },
  {
   "cell_type": "code",
   "execution_count": null,
   "id": "5ed644eb-4fae-4477-afa0-88a5c527988a",
   "metadata": {},
   "outputs": [],
   "source": [
    "%matplotlib inline\n",
    "\n",
    "import matplotlib.pyplot as plt\n",
    "import numpy as np\n",
    "\n",
    "fig, ax = plt.subplots()\n",
    "\n",
    "\n",
    "x = np.linspace(0,2*np.pi,1000)\n",
    "\n",
    "\n",
    "ax.plot(x, np.sin(x), linestyle='--')   # is equal to dashed\n",
    "ax.plot(x, np.cos(x), linestyle='dotted')\n",
    "\n",
    "ax.set_xlabel(r'$x$')\n",
    "ax.set_ylabel(r'$y$')\n",
    "ax.set_title('Color-Plot 3')"
   ]
  },
  {
   "cell_type": "markdown",
   "id": "99ac2397-8f3f-4b6f-8939-1bbc5029ed6c",
   "metadata": {},
   "source": [
    "Für einen Plot, in dem einzelne Punkte hervorgehoben werden sollen, Scatter, Errorbar usw., kann man auch den Stil des *Punktes* (Marker) definieren:"
   ]
  },
  {
   "cell_type": "code",
   "execution_count": null,
   "id": "cd5c19cb-0d4c-4f16-a827-ff6e387b98ba",
   "metadata": {},
   "outputs": [],
   "source": [
    "%matplotlib inline\n",
    "\n",
    "import matplotlib.pyplot as plt\n",
    "import numpy as np\n",
    "\n",
    "fig, ax = plt.subplots()\n",
    "\n",
    "x = np.array([1,2,3,4,5])\n",
    "y = np.array([1,1.2,3,2.5,3.3])\n",
    "\n",
    "ax.scatter(x,y, marker='o')                 # scatter-Plot\n",
    "ax.scatter(x,y+0.5, marker='.')   \n",
    "ax.scatter(x,y+1.0, marker='x')   \n",
    "ax.scatter(x,y+1.5, marker='>')   \n",
    "ax.scatter(x,y+2.0, marker='^')   \n",
    "\n",
    "ax.set_xlabel(r'$x$')\n",
    "ax.set_ylabel(r'$y$')\n",
    "ax.set_title('Scatter-Plot 1')"
   ]
  },
  {
   "cell_type": "markdown",
   "id": "b4982ffb-4faf-46d0-9b30-e5509c92bed4",
   "metadata": {},
   "source": [
    "Eine Mischung der Farben und Stile ist natürlich möglich!"
   ]
  },
  {
   "cell_type": "markdown",
   "id": "05354440-17cc-4914-b36b-c14175e2d50c",
   "metadata": {},
   "source": [
    "----"
   ]
  },
  {
   "cell_type": "markdown",
   "id": "435fc2f8-21a3-428f-a09d-690c5375d403",
   "metadata": {},
   "source": [
    "### 4. Beschriftungen und Legenden"
   ]
  },
  {
   "cell_type": "markdown",
   "id": "9441058c-df41-42a4-a3c5-e6f02f3193e7",
   "metadata": {},
   "source": [
    "#### 4.1 Beschriftungen"
   ]
  },
  {
   "cell_type": "markdown",
   "id": "5d794b6f-1f4b-4c8f-a179-86ec86405edd",
   "metadata": {},
   "source": [
    "Grundsätzlich sollen ja alle Achsen beschriftet und ein Titel gesetzt werden. In vielen Fällen sollen/müssen dort Formeln oder Formel-Fragmente benutzt werden. Dazu verwendet man in der `matplotlib` sog. Raw-Strings, die mit `r'...'` eingeleitet werden. Die Raw-Strings werden dann besonders interpretiert und man kann dort $\\LaTeX$-Code verwenden. Für das erste sollen diese Beispiele reichen:"
   ]
  },
  {
   "cell_type": "markdown",
   "id": "f80e8174-ca4b-4369-a37a-830fbcf08282",
   "metadata": {},
   "source": [
    "* Variablen und Formeln werden in `$...$` geschrieben\n",
    "* Hochgestellt wird mit `^`, Tiefergestellt mit `_`; wird mehr als ein Zeichen *verstellt*, so muss der Ausdruck in `{...}` geschrieben werden\n",
    "* Einheiten werden nicht in besonders formatiert\n",
    "* sollen Wörter verstellt werden, so nutzte man `{\\mbox{}\n",
    "\n",
    "Beispiele:\n",
    "* `r'$x$` -> $x$\n",
    "* `r'$x^2$'` -> $x^2$\n",
    "* `r'$x_n$'` -> $x_n$\n",
    "* `r'$T$ [K]'`  -> $T$ [K]\n",
    "* `r'$T_{\\mathrm{eff}}$'` -> $T_{\\mathrm{eff}}$"
   ]
  },
  {
   "cell_type": "markdown",
   "id": "1046dccd-1046-4868-993c-26ef14129762",
   "metadata": {},
   "source": [
    "#### 4.2 Legenden"
   ]
  },
  {
   "cell_type": "markdown",
   "id": "4506460e-3d4c-46bd-aded-3ac18a35ca96",
   "metadata": {},
   "source": [
    "In Fällen, wo mehrere Plots übereinandere liegen, sollte man diese in sog. *Legenden* besonders deutlich machen:"
   ]
  },
  {
   "cell_type": "code",
   "execution_count": null,
   "id": "741efe3c-13bd-46ee-a4db-03293f2bce4e",
   "metadata": {
    "tags": []
   },
   "outputs": [],
   "source": [
    "%matplotlib inline\n",
    "\n",
    "import matplotlib.pyplot as plt\n",
    "import numpy as np\n",
    "\n",
    "fig, ax = plt.subplots()\n",
    "\n",
    "\n",
    "x = np.linspace(0,2*np.pi,1000)\n",
    "\n",
    "\n",
    "ax.plot(x, np.sin(x), linestyle='-', label=r'$\\sin(x)$')   # is equal to dashed\n",
    "ax.plot(x, np.cos(x), linestyle='dotted', label='$\\cos(x)$')\n",
    "\n",
    "ax.set_xlabel(r'$x$')\n",
    "ax.set_ylabel(r'$y$')\n",
    "ax.set_title('Color-Plot 3')\n",
    "ax.legend(loc='upper right')"
   ]
  },
  {
   "cell_type": "markdown",
   "id": "b45bc659-31e5-423d-a279-9897fbc9158a",
   "metadata": {},
   "source": [
    "Wie Sie sehen, setzt `matplotlib` alle Stile zur Identifikation ein!"
   ]
  },
  {
   "cell_type": "markdown",
   "id": "35c49ad1-be5a-47a3-9ac9-91035efbbfbe",
   "metadata": {},
   "source": [
    "Man erkennt hier leider auch, dass die Legenden-Box den eigentlichen Plot überdeckt. Dazu kann man den y-Plot-Bereich verändern:"
   ]
  },
  {
   "cell_type": "code",
   "execution_count": null,
   "id": "2e57450f-f5e7-4230-bb19-a36801aa0a60",
   "metadata": {},
   "outputs": [],
   "source": [
    "%matplotlib inline\n",
    "\n",
    "import matplotlib.pyplot as plt\n",
    "import numpy as np\n",
    "\n",
    "fig, ax = plt.subplots()\n",
    "\n",
    "\n",
    "x = np.linspace(0,2*np.pi,1000)\n",
    "\n",
    "\n",
    "ax.plot(x, np.sin(x), linestyle='-', label=r'$\\sin(x)$')   # is equal to dashed\n",
    "ax.plot(x, np.cos(x), linestyle='dotted', label='$\\cos(x)$')\n",
    "\n",
    "ax.set_ylim(-1.2,1.6)   # adjust the plot region for the y axes\n",
    "ax.set_xlabel(r'$x$')\n",
    "ax.set_ylabel(r'$y$')\n",
    "ax.set_title('Color-Plot 3')\n",
    "ax.legend(loc='upper right')"
   ]
  },
  {
   "cell_type": "markdown",
   "id": "5507335e-6eed-4da7-9305-d633ffe08fd0",
   "metadata": {},
   "source": [
    "`ax.set_ylim(...,...)` erwartet 2 Argumente für den unteren und oberen Bereich. Analog könnte man auch den Bereich für die $x$-Achse beschränken."
   ]
  },
  {
   "cell_type": "markdown",
   "id": "da125d52-cc2d-4b4e-9e52-1b4560c2826c",
   "metadata": {},
   "source": [
    "----"
   ]
  },
  {
   "cell_type": "markdown",
   "id": "43deda1e-b9ee-401b-8c49-fd550f1a69f0",
   "metadata": {},
   "source": [
    "### 5. Multiple Plots"
   ]
  },
  {
   "cell_type": "markdown",
   "id": "caaa543e-c854-4be3-983f-d8f0486f810f",
   "metadata": {},
   "source": [
    "An vielen Stellen ist es sinnvoll, mehrere Plots nicht nur übereinander, sondern auch nebeneinander zu erstellen. Die `matplotlib` bietet dafür beim Erzeugen der `figure`-Umgebung die Möglichkeit, Plot-Slots zu erzeugen, dazu kann man `plt.subplots(...)` mit Argumenten versehen. Der erste Parameter definiert, wieviele Zeilen für Plots reserviert werden und der zweite Parameter, wieviele Plots in einer Zeile sich befinden. Der dritte Parameter `figsize=(...,...)` gibt die Größe bzw. Seitenverhältnisse der `figure`-Umgebung an:"
   ]
  },
  {
   "cell_type": "code",
   "execution_count": null,
   "id": "488a1e23-2508-4d3c-a67a-0243b1478ddb",
   "metadata": {},
   "outputs": [],
   "source": [
    "%matplotlib inline\n",
    "\n",
    "import matplotlib.pyplot as plt\n",
    "import numpy as np\n",
    "\n",
    "fig, ax = plt.subplots(1,2, figsize=(15,5))\n",
    "\n",
    "\n",
    "x = np.linspace(0,2*np.pi,1000)\n",
    "\n",
    "\n",
    "ax[0].plot(x, np.sin(x), linestyle='-', label=r'$\\sin(x)$')   # is equal to dashed\n",
    "ax[1].plot(x, np.cos(x), linestyle='dotted', label='$\\cos(x)$')\n",
    "\n",
    "ax[0].set_xlabel(r'$x$')\n",
    "ax[0].set_ylabel(r'$y$')\n",
    "ax[0].set_title(r'$\\sin (x)$')\n",
    "ax[1].set_xlabel(r'$x$')\n",
    "ax[1].set_ylabel(r'$y$')\n",
    "ax[1].set_title(r'$\\cos (x)$')"
   ]
  },
  {
   "cell_type": "markdown",
   "id": "909a4f05-595e-49ab-9b5a-71b79330b1d5",
   "metadata": {},
   "source": [
    "Wichtig ist hierbei, dass Sie für jeden Plot-Slot eine __Achse__ als Python-Liste zurückbekommen, die Sie dann speziell ansprechen können, um dort den Plot zu estellen!"
   ]
  },
  {
   "cell_type": "markdown",
   "id": "b0ed0972-c545-4966-9fc9-de7ec7f4bb3b",
   "metadata": {},
   "source": [
    "----"
   ]
  },
  {
   "cell_type": "markdown",
   "id": "3ec1b32c-0a5d-4c19-aaa0-7453b7f73670",
   "metadata": {},
   "source": [
    "### 6. Spezielle Plots"
   ]
  },
  {
   "cell_type": "markdown",
   "id": "2ee86d3a-9f6a-4289-a51e-cbf225a8b5c0",
   "metadata": {},
   "source": [
    "#### 6.1 Torten-Diagramme"
   ]
  },
  {
   "cell_type": "markdown",
   "id": "fd60ef34-534f-4a88-94a8-3b5d50a960f2",
   "metadata": {},
   "source": [
    "Torten-Diagramme sind in manchen Fällen nützlich, um Zusammensetzungen darzustellen:"
   ]
  },
  {
   "cell_type": "code",
   "execution_count": null,
   "id": "94b306da-7e0e-44f9-bd39-cfbaf9f58f7c",
   "metadata": {},
   "outputs": [],
   "source": [
    "%matplotlib inline\n",
    "\n",
    "import matplotlib.pyplot as plt\n",
    "\n",
    "\n",
    "# Daten aus dem MSCI-World Index\n",
    "countries = {\n",
    "    'Canada' : 0.032,\n",
    "    'France' : 0.0316,\n",
    "    'Japan' : 0.0645,\n",
    "    'UK'    : 0.0396,\n",
    "    'USA'   : 0.6931,\n",
    "    'Other' : 0.1393\n",
    "}\n",
    "print(countries)\n",
    "\n",
    "\n",
    "# Pie chart, where the slices are plot counter-clockwise:\n",
    "explode = (0, 0, 0, 0.1, 0, 0)  # only \"explode\" the 4th slice (i.e. 'UK')\n",
    "colors = ['blue', 'red', 'yellow', 'violet', 'green']\n",
    "\n",
    "\n",
    "# important parameters\n",
    "# labels: the labels of the wedges\n",
    "# colors: colors of the wedges\n",
    "# autopct: format of the value written in the wedge\n",
    "# shadow: paint a shadow around the pie\n",
    "# startangle: change the startangle (counter clockwise)\n",
    "# radius: radius of the pie\n",
    "\n",
    "# Create 2 pie charts side-by-side. ax is a list with 2 elements.\n",
    "fig, ax = plt.subplots(1, 2, figsize=(10,5))\n",
    "_ = ax[0].pie(list(countries.values()), labels=list(countries.keys()), autopct='%1.1f%%',\n",
    "        shadow=True, startangle=90);\n",
    "#ax[0].axis('equal')  # Equal aspect ratio ensures that pie is drawn as a circle.\n",
    "\n",
    "_ = ax[1].pie(list(countries.values()), labels=list(countries.keys()), autopct='%1.1f%%',\n",
    "        radius=1.5, explode=explode, colors=colors)\n",
    "#ax[1].axis('equal')"
   ]
  },
  {
   "cell_type": "markdown",
   "id": "e27d96a7-29d3-4c9d-94b4-964f976a68e4",
   "metadata": {},
   "source": [
    "#### 6.1 Histogramme"
   ]
  },
  {
   "cell_type": "markdown",
   "id": "4e54e0bc-5260-47ad-84ee-633027bacb11",
   "metadata": {},
   "source": [
    "Histogramme spielen in der Statistik eine große Rolle. Nehmen wir einfach mal eine große Menge von Zufallszahlen:"
   ]
  },
  {
   "cell_type": "code",
   "execution_count": null,
   "id": "8a1c4c5d-2c96-454c-a806-8310e8770c5d",
   "metadata": {},
   "outputs": [],
   "source": [
    "%matplotlib inline\n",
    "\n",
    "import matplotlib.pyplot as plt\n",
    "\n",
    "import numpy as np\n",
    "import numpy.random as nr\n",
    "\n",
    "data = nr.normal(loc=5, scale=0.5, size=10000)\n",
    "\n",
    "fig, ax = plt.subplots()\n",
    "                 \n",
    "vals, bins, _ = ax.hist(data, bins=30)"
   ]
  },
  {
   "cell_type": "markdown",
   "id": "2dc1fae9-7024-4140-a73b-99fef6d0d593",
   "metadata": {},
   "source": [
    "`ax.hist(...)` erzeugt aus den Daten ein Histogram und gibt die Werte dann in den Variablen `vals` und `bins` zurück. "
   ]
  },
  {
   "cell_type": "code",
   "execution_count": null,
   "id": "446bd871-8c09-4d83-be44-b90d4d39ef3c",
   "metadata": {},
   "outputs": [],
   "source": [
    "print(vals)\n",
    "print(bins)"
   ]
  },
  {
   "cell_type": "markdown",
   "id": "85a430db-5186-4c94-a067-5b8bcaaf80f2",
   "metadata": {},
   "source": [
    "In `bins` werden die gewählten Bereiche der Bins und in `vals` die Anzahl der Werte, die in den Binbereich fallen, zurückgegeben."
   ]
  },
  {
   "cell_type": "markdown",
   "id": "a8321a76-c484-411e-a106-4c981b49d3f6",
   "metadata": {},
   "source": [
    "Die Bins in `ax.hist(...)` lassen sich auf verschiedene Weisen erzeugen:\n",
    " * `bins=XXX`  Anzahl XXX bins\n",
    " * `bins=[1,2,3,4,5]` z.B. 5 bins, wobei die Werte jeweils die Bin-Grenzen (halboffene Intervalle) darstellen"
   ]
  },
  {
   "cell_type": "markdown",
   "id": "84c0af20-fb26-42b8-910c-b6d5a51baf9c",
   "metadata": {},
   "source": [
    "Man kann auch das Histogramm normieren `density=True`:"
   ]
  },
  {
   "cell_type": "code",
   "execution_count": null,
   "id": "1f9afaae-d8b9-435a-8600-de9b5aff0678",
   "metadata": {},
   "outputs": [],
   "source": [
    "%matplotlib inline\n",
    "\n",
    "import matplotlib.pyplot as plt\n",
    "import numpy as np\n",
    "\n",
    "import numpy as np\n",
    "import numpy.random as nr\n",
    "\n",
    "data = nr.normal(loc=5, scale=0.5, size=10000)\n",
    "\n",
    "fig, ax = plt.subplots()\n",
    "                 \n",
    "vals, bins, _ = ax.hist(data, bins=30, density=True)"
   ]
  },
  {
   "cell_type": "markdown",
   "id": "a2684ff8-6152-4ed2-a6c2-86e80bc15dec",
   "metadata": {},
   "source": [
    "Viele Möglichkeiten kann man auch mit der `numpy`-Funktion `np.histogram` erreichen, wobei die gleichen Rückgabe-Werte erzeugt werden, das Histogram natürlich nicht geplottet wird!"
   ]
  },
  {
   "cell_type": "markdown",
   "id": "8748bc69-60db-4953-9231-b039a641f20a",
   "metadata": {},
   "source": [
    "----"
   ]
  },
  {
   "cell_type": "markdown",
   "id": "956221a7-bfff-43d0-b6ee-d2e400594d55",
   "metadata": {},
   "source": [
    "### 7. Plots abspeichern und `homogenize_plot.py`"
   ]
  },
  {
   "cell_type": "markdown",
   "id": "4d9c3ed7-04be-42c8-9aa4-4fe34b1c0293",
   "metadata": {},
   "source": [
    "Haben Sie einen Plot fertiggestellt, so möchten Sie diesen auch abspeichern und dann weiter verwenden. `matplotlib` stellt dazu den Befehl `plt.savefig` zur Verfügung:"
   ]
  },
  {
   "cell_type": "code",
   "execution_count": null,
   "id": "b20b9267-0912-457f-8168-a97c056efca8",
   "metadata": {},
   "outputs": [],
   "source": [
    "%matplotlib inline\n",
    "\n",
    "import matplotlib.pyplot as plt\n",
    "import numpy as np\n",
    "\n",
    "fig, ax = plt.subplots()\n",
    "\n",
    "\n",
    "x = np.linspace(0,2*np.pi,1000)\n",
    "\n",
    "\n",
    "ax.plot(x, np.sin(x), color='red')\n",
    "ax.plot(x, np.cos(x), color='green')\n",
    "\n",
    "ax.set_xlabel(r'$x$')\n",
    "ax.set_ylabel(r'$y$')\n",
    "ax.set_title('Nice plot')\n",
    "\n",
    "plt.savefig('niceplot.png')"
   ]
  },
  {
   "cell_type": "markdown",
   "id": "ef84212f-adff-4d46-915a-1c8844ac08e0",
   "metadata": {},
   "source": [
    "Als Argument wird dabei nur ein Dateiname benötigt. `plt.savefig` kann anhand der Dateiendungen das Format bestimmen, so können Sie auch eine `pdf`- oder `jpeg`-Datei erzeugen. "
   ]
  },
  {
   "cell_type": "markdown",
   "id": "d0159496-9f25-4228-b78f-c3270f99cb7a",
   "metadata": {},
   "source": [
    "Mit dem Parameter `dpi=XXX` können Sie die Größe beeinflussen:"
   ]
  },
  {
   "cell_type": "code",
   "execution_count": null,
   "id": "970f1cb3-8cee-48be-9435-f3b28517fc1c",
   "metadata": {},
   "outputs": [],
   "source": [
    "%matplotlib inline\n",
    "\n",
    "import matplotlib.pyplot as plt\n",
    "\n",
    "fig, ax = plt.subplots()\n",
    "\n",
    "\n",
    "x = np.linspace(0,2*np.pi,1000)\n",
    "\n",
    "\n",
    "ax.plot(x, np.sin(x), color='red')\n",
    "ax.plot(x, np.cos(x), color='green')\n",
    "\n",
    "ax.set_xlabel(r'$x$')\n",
    "ax.set_ylabel(r'$y$')\n",
    "ax.set_title('Nice plot')\n",
    "\n",
    "plt.savefig('niceplot2.png', dpi=600)"
   ]
  },
  {
   "cell_type": "markdown",
   "id": "e4f7f020-fa8b-4ef5-a27d-0922228ff440",
   "metadata": {},
   "source": [
    "Mit diesen Funktionen können Sie Ihre Plots schon mal sehr gut abspeichern. Wollen Sie diese Plots allerdings in Text-Dokumente einbetten, so kommen Sie schnell zu dem Problem, dass Plot-Größe und Beschriftungen meistens nicht gut aufeinander abgestimmt sind. \n",
    "\n",
    "Abhilfe schafft ein spezielles Modul `homogenize_plot.py` welches angepasste Graphiken erzeugt:"
   ]
  },
  {
   "cell_type": "code",
   "execution_count": null,
   "id": "0857510d-5842-459d-852a-7d06646d2a09",
   "metadata": {},
   "outputs": [],
   "source": [
    "%matplotlib inline\n",
    "\n",
    "import matplotlib.pyplot as plt\n",
    "import numpy as np\n",
    "\n",
    "import code2.homogenize_plot as hp\n",
    "\n",
    "\n",
    "hp.set_params(fig_width=2.8)   # use the homogenize_plot modul\n",
    "\n",
    "fig, ax = plt.subplots()\n",
    "\n",
    "\n",
    "x = np.linspace(0,2*np.pi,1000)\n",
    "\n",
    "\n",
    "ax.plot(x, np.sin(x), color='red')\n",
    "ax.plot(x, np.cos(x), color='green')\n",
    "\n",
    "ax.set_xlabel(r'$x$')\n",
    "ax.set_ylabel(r'$y$')\n",
    "ax.set_title('Nice plot')\n",
    "\n",
    "plt.savefig('niceplot_hp.png')\n",
    "\n",
    "hp.revert_params() # reset all parameters"
   ]
  },
  {
   "cell_type": "markdown",
   "id": "ab6ac472-bce1-47e8-a7ef-c828d9eccc05",
   "metadata": {},
   "source": [
    "**Beispiel für $\\LaTeX$:**"
   ]
  },
  {
   "cell_type": "markdown",
   "id": "d9edc7b9-4317-4619-98bb-8377cfa21cfe",
   "metadata": {},
   "source": [
    "Wenn Sie die obigen Zeilen ausgeführt haben, haben Sie zwei Dateien `niceplot.png` und `niceplot_hp.png` erzeugt. In dem Materialien  finden Sie die $\\LaTeX$-Quell-Datei `data/latex.tex` . Sie können diese Datei mit den beiden Plots in eine $\\LaTeX$-Umgebung kopieren und dann übersetzen. Passen Sie evt. den Pfad zu den Bildern in dem Quelltext an. Dann sehen Sie den Unterschied, den `homogenize_plot.py` mit den Plots erzeugt. \n",
    "\n",
    "In der Regel werden Sie erstmal nur einspaltige Dokumente erzeugen, wobei Sie dann `fig_width=7` nutzen können."
   ]
  },
  {
   "cell_type": "markdown",
   "id": "3e874a0a-a809-47e5-8722-de3379ed7d33",
   "metadata": {},
   "source": [
    "----"
   ]
  },
  {
   "cell_type": "code",
   "execution_count": null,
   "id": "73f47339-e2ac-4fe4-944d-48242f9cc508",
   "metadata": {},
   "outputs": [],
   "source": []
  }
 ],
 "metadata": {
  "kernelspec": {
   "display_name": "Python 3 (ipykernel)",
   "language": "python",
   "name": "python3"
  },
  "language_info": {
   "codemirror_mode": {
    "name": "ipython",
    "version": 3
   },
   "file_extension": ".py",
   "mimetype": "text/x-python",
   "name": "python",
   "nbconvert_exporter": "python",
   "pygments_lexer": "ipython3",
   "version": "3.11.6"
  }
 },
 "nbformat": 4,
 "nbformat_minor": 5
}
