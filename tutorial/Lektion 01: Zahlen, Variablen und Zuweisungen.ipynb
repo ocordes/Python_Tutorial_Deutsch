{
 "cells": [
  {
   "cell_type": "markdown",
   "metadata": {},
   "source": [
    "# Lektion 01: Zahlen, Variablen und Zuweisungen"
   ]
  },
  {
   "cell_type": "markdown",
   "metadata": {},
   "source": [
    "----\n",
    "\n",
    "Ziele der Lektion:\n",
    "\n",
    " * Zahlen\n",
    " * Variablen und Zuweisungen\n",
    " * Genauigkeiten von Zahlen\n",
    " \n",
    "----"
   ]
  },
  {
   "cell_type": "markdown",
   "metadata": {},
   "source": [
    "## 1. Zahlen"
   ]
  },
  {
   "cell_type": "markdown",
   "metadata": {},
   "source": [
    "Python kennt zwei verschiedene skalare Datentypen für Zahlen die Ganzzahlen (Integer) und die Fliesskommazahlen (Floats). Grundsätzlich unterscheiden sich beide Datentypen in ihrer Darstellung und Genauigkeit, aber die Operationen, die man mit beiden Typen machen kann sind zum großen Teil identisch. \n",
    "\n",
    "**Als Hintergrund:** \n",
    "\n",
    "Computer können im Prinzip erstmal nur mit `0` und `1` umgehen. Ganze Zahlen lassen sich sehr einfach mit `0` und `1` beschreiben (binär-Format) und so waren die Ganzzahlen lange die einzigen Zahlen in den Computern. Natürlicherweise reichen die Ganzzahlen nicht aus, jede mathematische Operation auszuführen (z.B. Division), so wurden auch die Fliesskommazahlen in den Computern implementiert. Die Bearbeitung von Fliesskommazahlen ist jedoch im Vergleich zu den Ganzzahlen recht Zeitintensiv und wird auch mit speziellen Rechenwerken erledigt."
   ]
  },
  {
   "cell_type": "markdown",
   "metadata": {},
   "source": [
    "### 1.1 Darstellung"
   ]
  },
  {
   "cell_type": "markdown",
   "metadata": {},
   "source": [
    "Zur besseren Darstellung der Zahlen, werden alle Zahlen mit der ```print()```-Anweisung ausgegeben. Die Bedeutung der einzelnen Notationen sind jeweils als Kommentar mitgegeben. Sie können die folgende Zelle ausführen:"
   ]
  },
  {
   "cell_type": "code",
   "execution_count": 7,
   "metadata": {},
   "outputs": [
    {
     "name": "stdout",
     "output_type": "stream",
     "text": [
      "1\n",
      "-1\n",
      "1\n",
      "1.23\n",
      "120.0\n",
      "120.0\n",
      "-0.012\n"
     ]
    }
   ],
   "source": [
    "print(1)       # die Ganzzahl 1\n",
    "print(-1)      # negative Zahlen haben immer ein \"-\"-Zeichen vorweg\n",
    "print(+1)      # das Pluszeichen ist möglich, aber hier nutzlos!\n",
    "print(1.23)    # die Fliesskommazahl 1,23 = das deutsche Komma wird als Punkt verwendet!\n",
    "print(1.2e2)   # Fliesskommazahlen können auch Zehnerpotenzen enthalten\n",
    "print(1.2E02)  # e oder E ist egal, führende Nullen werden hier ignoriert!\n",
    "print(-1.2e-2) # negative Flisskommazahlen existieren, genauso wie negative Zehnerpotenzen "
   ]
  },
  {
   "cell_type": "markdown",
   "metadata": {},
   "source": [
    "Die folgenden Beispiele sind falsche Darstellungen. Führen Sie die Beispiele zur Anschauung einfach mal aus:"
   ]
  },
  {
   "cell_type": "code",
   "execution_count": 8,
   "metadata": {},
   "outputs": [
    {
     "ename": "SyntaxError",
     "evalue": "leading zeros in decimal integer literals are not permitted; use an 0o prefix for octal integers (<ipython-input-8-93fdf7a608ae>, line 1)",
     "output_type": "error",
     "traceback": [
      "\u001b[0;36m  File \u001b[0;32m\"<ipython-input-8-93fdf7a608ae>\"\u001b[0;36m, line \u001b[0;32m1\u001b[0m\n\u001b[0;31m    print(0001)   # hier werden die führenden Nullen als Fehler markiert!\u001b[0m\n\u001b[0m             ^\u001b[0m\n\u001b[0;31mSyntaxError\u001b[0m\u001b[0;31m:\u001b[0m leading zeros in decimal integer literals are not permitted; use an 0o prefix for octal integers\n"
     ]
    }
   ],
   "source": [
    "print(0001)   # hier werden die führenden Nullen als Fehler markiert!"
   ]
  },
  {
   "cell_type": "code",
   "execution_count": 10,
   "metadata": {},
   "outputs": [
    {
     "ename": "SyntaxError",
     "evalue": "invalid syntax (<ipython-input-10-06048c20352e>, line 1)",
     "output_type": "error",
     "traceback": [
      "\u001b[0;36m  File \u001b[0;32m\"<ipython-input-10-06048c20352e>\"\u001b[0;36m, line \u001b[0;32m1\u001b[0m\n\u001b[0;31m    print(1.2e2.2)  # mathematisch vielleicht sinnvoll, aber die Zehnerpotenzen dürfen nur ganze Zahlen sein!\u001b[0m\n\u001b[0m               ^\u001b[0m\n\u001b[0;31mSyntaxError\u001b[0m\u001b[0;31m:\u001b[0m invalid syntax\n"
     ]
    }
   ],
   "source": [
    "print(1.2e2.2)  # mathematisch vielleicht sinnvoll, aber die Zehnerpotenzen dürfen nur ganze Zahlen sein!"
   ]
  },
  {
   "cell_type": "markdown",
   "metadata": {},
   "source": [
    "### 1.2 Mathematische Operationen"
   ]
  },
  {
   "cell_type": "markdown",
   "metadata": {},
   "source": [
    "Mit den Zahlen kann man natürlich auch rechnen. Dazu lassen sich die klassischen Operationen, die Sie aus der Mathematik kennen direkt in Python nutzen. Hier ist ein Beispiel der Addition, Subtraktion und Multiplikation mit ganzen Zahlen:"
   ]
  },
  {
   "cell_type": "code",
   "execution_count": 12,
   "metadata": {},
   "outputs": [
    {
     "name": "stdout",
     "output_type": "stream",
     "text": [
      "3\n",
      "-2\n",
      "42\n"
     ]
    }
   ],
   "source": [
    "print(1+2)  # Addition\n",
    "print(3-5)  # Subtraktion\n",
    "print(6*7)  # Multiplikation"
   ]
  },
  {
   "cell_type": "markdown",
   "metadata": {},
   "source": [
    "Das ganze geht natürlich auch mit Fliesskommazahlen oder mit der Mischung aus beiden Zahlentypen, wobei das Ergebnisimmer eine Fliesskommazahl ergibt:"
   ]
  },
  {
   "cell_type": "code",
   "execution_count": 19,
   "metadata": {},
   "outputs": [
    {
     "name": "stdout",
     "output_type": "stream",
     "text": [
      "4.1\n",
      "1.5631\n",
      "38.254\n",
      "3.0\n",
      "-1.1\n",
      "31.0\n"
     ]
    }
   ],
   "source": [
    "print(1.2+2.9)      # Addition mit Fliesskommazahlen\n",
    "print(2.431-0.8679) # Subtraktion mit Fliesskommazahlen\n",
    "print(12.34*3.1)    # Muliplikation mit Fliesskommazahlen\n",
    "print(1+2.0)        # gemischte Addition\n",
    "print(2-3.1)        # gemischte Subtraktion\n",
    "print(3.1*10)       # gemischte Multiplikation"
   ]
  },
  {
   "cell_type": "markdown",
   "metadata": {},
   "source": [
    "Betrachtet man die Ausgaben der beiden vorherigen Zellen, so sieht man, dass bei Operationen von zwei ganzen Zahlen wieder eine ganze zahl berechnet wird, während bei den anderen Rechnungen, die eine oder zwei Fliesskommazahlen enthalten, wie man erwarten würde, wieder eine Fliesskommazahl entsteht."
   ]
  },
  {
   "cell_type": "markdown",
   "metadata": {},
   "source": [
    "Die Division ist ein wenig komplexer. Python kennt bei den Zahlen zwei Divisionsoperationen, die Ganzzahl-Division `//` und die *reale* Division `/`. Beide Divisionen können jeweils auf die ganzen Zahlen und auf die Fliesskommazahlen angewendet werden:"
   ]
  },
  {
   "cell_type": "code",
   "execution_count": 23,
   "metadata": {},
   "outputs": [
    {
     "name": "stdout",
     "output_type": "stream",
     "text": [
      "1\n",
      "1.5\n",
      "1.0\n",
      "1.5\n",
      "-2\n"
     ]
    }
   ],
   "source": [
    "print(3//2)      # die Ganzzahldivsion \n",
    "print(3/2)       # die reale Division\n",
    "print(3.0//2.0)  # die Ganzzahldivision bei Fliesskommazahlen\n",
    "print(3.0/2.0)   # die reale Division\n",
    "print(-3//2)     # geht auch mit negativen Zahlen, aber das Ergebnis ist unerwartet"
   ]
  },
  {
   "cell_type": "markdown",
   "metadata": {},
   "source": [
    "Das letzte Beispiel `-3//2` ergibt mit `-2` ein unerwartetes Ergebnis. Das liegt an der Bestimmungsregel für die Ganzzahldivision. Das Ergbnis der Ganzzahldivision ist das Ergebnis der mathematischen (realen) Division abgerundet zur nächsten kleineren ganzen Zahl. Die reale Division von `3/2` ist `1.5` und die nächste kleinere ganze Zahl ist `1`. Für die negativen Zahlen ist `-3/2` gleich `-1.5` und die nächste kleinere Zahl ist `-2`. Auch hier ist es wichtig, dass sobald eine der beiden Operanden eine Fliesskommazahl ist, wird das Ergebnis auch eine Fliesskommazahl."
   ]
  },
  {
   "cell_type": "markdown",
   "metadata": {},
   "source": [
    "### 1.3 Potenz- und Modulo-Operator"
   ]
  },
  {
   "cell_type": "markdown",
   "metadata": {},
   "source": [
    "Neben den klassischen Operationen, Addition, Subtraktion, Multiplikation und Division gibt es in Python noch einen Potenz- und Modulo-Operator, die an vielen Stellen hilfreich sind. Der Potenzoperator ist das mathematische `hoch` und der Modulo-Operator lässt sich am Besten mit dem Rest einer Division beschreiben. Hier sind ein paar Beispiele für den Potenzoperator:"
   ]
  },
  {
   "cell_type": "code",
   "execution_count": 25,
   "metadata": {},
   "outputs": [
    {
     "name": "stdout",
     "output_type": "stream",
     "text": [
      "4\n",
      "4.840000000000001\n",
      "1.4142135623730951\n"
     ]
    }
   ],
   "source": [
    "print(2**2)    # 2^2 = 4 Potenzoperator \n",
    "print(2.2**2)  # Potenzoperator mit Fliesskommazahlen\n",
    "print(2**0.5)  # als Potenzen sind auch Fliesskommazahlen erlaubt, hier eine Beschreibung des Wurzelziehens!"
   ]
  },
  {
   "cell_type": "markdown",
   "metadata": {},
   "source": [
    "Damit man den Modulo-Operator korrekt verstehen kann, sollte man sich die Definition genauestens anschauen:\n",
    "```\n",
    "x % n = x - (x // n) * n\n",
    "```\n",
    "Diese Definition gilt für positive und negative Zahlen und kann auf Ganzzahlen oder Fliesskommazahlen angewendet werden."
   ]
  },
  {
   "cell_type": "code",
   "execution_count": 10,
   "metadata": {},
   "outputs": [
    {
     "name": "stdout",
     "output_type": "stream",
     "text": [
      "1\n",
      "1.0\n",
      "-2\n",
      "-1\n"
     ]
    }
   ],
   "source": [
    "print(4 % 3)     # der Rest nach der Division \n",
    "print(4.0 % 3.0) # geht auch mit Fliesskommazahlen\n",
    "print(-4 % -3)   # natürlich auch für negative Zahlen\n",
    "print(4 % -3)    # sieht etwas komisch aus, aber korrekt, wenn man die Regeln nachvollzieht"
   ]
  },
  {
   "cell_type": "markdown",
   "metadata": {},
   "source": [
    "### 1.4 Klammerungen und Auswertungen von mathematischen Operationen"
   ]
  },
  {
   "cell_type": "markdown",
   "metadata": {},
   "source": [
    "Alle mathematischen Operationen werden von links nach rechts ausgeführt. Dabei werden die Multiplikationen und Divisionen vor der Addition und Subtraktion ausgeführt. Der Modulo-Operator wird in dieser Reihenfolge wie eine Multiplikation gewertet:"
   ]
  },
  {
   "cell_type": "code",
   "execution_count": 12,
   "metadata": {},
   "outputs": [
    {
     "name": "stdout",
     "output_type": "stream",
     "text": [
      "22\n",
      "0\n"
     ]
    }
   ],
   "source": [
    "print(3+4+5+6)  # von links nach rechts auswerten\n",
    "print(3+4*5-1)  # erst wird die 3 zum Ergebnis der Multiplikation 20 gezählt und dann 1 subtrahiert\n",
    "print(3+5%2-4)  # hier wird die 3 zum Ergebnis er Rest-Operation 1 gezählt und 4 subtrahiert"
   ]
  },
  {
   "cell_type": "markdown",
   "metadata": {},
   "source": [
    "Eine Ausnahme ist der Potenzoperator, der von rechts nach links ausgewertet wird:"
   ]
  },
  {
   "cell_type": "code",
   "execution_count": 13,
   "metadata": {},
   "outputs": [
    {
     "name": "stdout",
     "output_type": "stream",
     "text": [
      "512\n"
     ]
    }
   ],
   "source": [
    "print(2**3**2) # es ist nicht 8**2 = 64 , sondern 2**9 = 512!"
   ]
  },
  {
   "cell_type": "markdown",
   "metadata": {},
   "source": [
    "Der Potenzoperator macht es genau wie in der Mathematik $2^{3^2} = 512$ !"
   ]
  },
  {
   "cell_type": "markdown",
   "metadata": {},
   "source": [
    "Möchte man diese Art der Auswertungen umgehen, so muss man Teil-Operationen mit den runden Klammern abgrenzen:"
   ]
  },
  {
   "cell_type": "code",
   "execution_count": 14,
   "metadata": {},
   "outputs": [
    {
     "name": "stdout",
     "output_type": "stream",
     "text": [
      "64\n"
     ]
    }
   ],
   "source": [
    "print((2**3)**2)  # dieses ergibt 8**2 = 64, weil die Klammer vorrang vor den anderen Operationen haben"
   ]
  },
  {
   "cell_type": "markdown",
   "metadata": {},
   "source": [
    "An vielen Stellen ist es sinnvoll, Klammern zu verwenden, damit man selber den Überblick nicht verliert. Ein Tipp wäre, jede gemischte Operation durch Klammern eindeutig abzugrenzen. Das verhindert Fehler und macht das Programm lesbarer."
   ]
  },
  {
   "cell_type": "markdown",
   "metadata": {},
   "source": [
    "### 1.5 Weitere mathematische Operationen"
   ]
  },
  {
   "cell_type": "markdown",
   "metadata": {},
   "source": [
    "Mit den einfachen mathematischen Operationen lassen sich schon viele Aufgaben erledigen, allerdings kennen Sie aus der Mathematik noch weitere spezielle Funktionen, z.B. das Wurzelziehen, die trigonometrischen und die logarithmischen Funktionen. Diese können nicht direkt in Python genutzt werden. Dazu benötigt man eine Bibliothek oder Modul `numpy`, die diese Funktionen bereit stellt. Der Einfachheit geschuldet zeigen wir hier die konkrete Anwendung dieser Funktionen, die Erklärung, wie man Module nutzt, kommt in einem weiteren Tutorial. `numpy` wird wie folgt genutzt:"
   ]
  },
  {
   "cell_type": "code",
   "execution_count": 6,
   "metadata": {},
   "outputs": [
    {
     "name": "stdout",
     "output_type": "stream",
     "text": [
      "1.0\n",
      "1.4142135623730951\n",
      "3.141592653589793\n",
      "0.49999999999999994\n"
     ]
    }
   ],
   "source": [
    "import numpy\n",
    "\n",
    "print(numpy.exp(0))                # e^0 = 1 !\n",
    "print(numpy.sqrt(2))               # Wurzel aus 2\n",
    "print(numpy.pi)                    # auch Pi wird angegeben\n",
    "print(numpy.sin(numpy.pi*30/180))  # sinus von 30 Grad"
   ]
  },
  {
   "cell_type": "markdown",
   "metadata": {},
   "source": [
    "Neben den Funktionen bietet `numpy` auch den Wert $\\pi$ zur Benutzung an. Bei den trigonometrischen Funktionen bedenken Sie bitte, dass die Werte im Bogenmass und nicht in Grad übergeben werden. Sie müssen die Grad-Zahl deswegen erst umrechnen!\n",
    "\n",
    "----"
   ]
  },
  {
   "cell_type": "markdown",
   "metadata": {
    "tags": []
   },
   "source": [
    "## 2. Variablen + Zuweisungen"
   ]
  },
  {
   "cell_type": "markdown",
   "metadata": {},
   "source": [
    "### 2.1 Variablen"
   ]
  },
  {
   "cell_type": "markdown",
   "metadata": {},
   "source": [
    "Variablen sind Speicherplätze im Computer, die z.B. mit Zahlen oder anderem Inhalt gefüllt werden können. Diese stehen immer bereit und können bei Bedarf modifiziert oder überschrieben werden:"
   ]
  },
  {
   "cell_type": "code",
   "execution_count": 15,
   "metadata": {},
   "outputs": [
    {
     "name": "stdout",
     "output_type": "stream",
     "text": [
      "12345\n",
      "12344\n",
      "1.2\n"
     ]
    }
   ],
   "source": [
    "itime = 12345      # die Variable hat den Wert 12345\n",
    "print(itime)  \n",
    "itime = itime - 1  # der Wert wird modifiziert\n",
    "print(itime)\n",
    "itime = 1.2        # der Wert wird überschrieben\n",
    "print(itime)"
   ]
  },
  {
   "cell_type": "markdown",
   "metadata": {},
   "source": [
    "Variablen in Python haben im Gegensatz zu anderen Programmiersprachen keine Type-Bindung. Das bedeutet, dass man eine Variable, der einen Ganzzahl hat mit einer Fliesskommazahl überschreiben kann. Variablen lassen sich auch durch eine Operation modifizieren.  "
   ]
  },
  {
   "cell_type": "markdown",
   "metadata": {},
   "source": [
    "Bei der Wahl des Namens für die Variablen müssen einige Regeln eingehalten werden, Sie sollen aber in jedem Fall im Programm einen Hinweis geben, wofür der Wert der Variablen gedacht ist. Es macht also Sinn, eine Variable für Zeitangaben `itime` zu nennen, der Name `word` wäre irreführend und `a` nicht aussagekräftig.\n",
    "\n",
    "Regeln zur Findung von Variablennamen:\n",
    " * der erste Buchstabe darf keine Zahl sein\n",
    " * große und kleine Buchstaben sind erlaubt, sowie Zahlen im Namen\n",
    " * ein Bindestrich ist im Namen nicht erlaubt, der Bindestrich steht für die Subtraktion\n",
    " * (kein Muss) englische Namen wählen, wie bei den Kommentaren für die Lesbarkeit"
   ]
  },
  {
   "cell_type": "markdown",
   "metadata": {},
   "source": [
    "### 2.2 Zuweisungen"
   ]
  },
  {
   "cell_type": "markdown",
   "metadata": {},
   "source": [
    "#### 2.2.1 klassische Zuweisung"
   ]
  },
  {
   "cell_type": "markdown",
   "metadata": {},
   "source": [
    "Wie in anderen Programmiersprachen, gibt es die klassische Zuweisung in Python: _einer Variablen wird ein anderer Wert zugewiesen_"
   ]
  },
  {
   "cell_type": "code",
   "execution_count": null,
   "metadata": {},
   "outputs": [],
   "source": [
    "x = 1234\n",
    "print(x)"
   ]
  },
  {
   "cell_type": "markdown",
   "metadata": {},
   "source": [
    "oder"
   ]
  },
  {
   "cell_type": "code",
   "execution_count": null,
   "metadata": {},
   "outputs": [],
   "source": [
    "x = 1234\n",
    "y = x\n",
    "print(y)"
   ]
  },
  {
   "cell_type": "markdown",
   "metadata": {},
   "source": [
    "(Hinweis: Variablen werden durch die Zuweisung dem Programm bekannt gemacht!)"
   ]
  },
  {
   "cell_type": "markdown",
   "metadata": {},
   "source": [
    "### 2.2.2 multiple Zuweisung"
   ]
  },
  {
   "cell_type": "markdown",
   "metadata": {},
   "source": [
    "Es können auch __mehreren__ Variablen zugleich ein __gleicher__ Wert zugewiesen werden:"
   ]
  },
  {
   "cell_type": "code",
   "execution_count": null,
   "metadata": {},
   "outputs": [],
   "source": [
    "x = y = z = 1\n",
    "print(x, y, z)"
   ]
  },
  {
   "cell_type": "markdown",
   "metadata": {},
   "source": [
    "### 2.2.3 parallele Zuweisung"
   ]
  },
  {
   "cell_type": "markdown",
   "metadata": {},
   "source": [
    "__Mehreren__ Variablen kann man auch __verschiedene__ Werte zuweisen:"
   ]
  },
  {
   "cell_type": "code",
   "execution_count": null,
   "metadata": {},
   "outputs": [],
   "source": [
    "x, y = 1, 2   # the number of values on the left and right must be identical\n",
    "print(x,y)"
   ]
  },
  {
   "cell_type": "markdown",
   "metadata": {},
   "source": [
    "Wichtig zu merken ist, dass erst die rechte Seite **komplett** ausgewertet wird und dann die Variablen auf der linke Seite gesetzt werden:"
   ]
  },
  {
   "cell_type": "code",
   "execution_count": null,
   "metadata": {},
   "outputs": [],
   "source": [
    "a = 1\n",
    "b = 2\n",
    "a,b = a+b,a-b\n",
    "\n",
    "print(a,b)"
   ]
  },
  {
   "cell_type": "markdown",
   "metadata": {},
   "source": [
    "----"
   ]
  },
  {
   "cell_type": "markdown",
   "metadata": {},
   "source": [
    "## 3. Genauigkeiten von Zahlen"
   ]
  },
  {
   "cell_type": "markdown",
   "metadata": {},
   "source": [
    "Ein ganz wichtiger Aspekt bei der Nutzung von Zahlen ist die Genauigkeit. Aus der Mathematik kennen Sie sicher das Beispiel, dass das Ergebnis einer Division durch 7 oder 9 nicht exakt mit einer ausgeschriebenen Zahl angegeben werden kann. Bei sich immer wiederholenden Nachkommastellen kann man sich dann mit der Periodendarstellung behelfen:\n",
    "\n",
    "$$ \\frac{1}{9} = 0.\\overline{1}$$\n",
    "\n",
    "Dies ist ein Problem, welches man mit Zahlen hat, die man mit dem Computer bearbeiten möchte. An dieser Stelle müssen wir zwischen den Ganzzahlen und den Fliesskommazahlen unterscheiden. "
   ]
  },
  {
   "cell_type": "markdown",
   "metadata": {},
   "source": [
    "Python erlaubt es, Ganzzahlen in beliebiger Größe darzustellen, womit auch alle mathematischen Operationen, die als Ergbnis eine Ganzzahl ergeben, immer ein genaues Ergebnis liefern. Ein Beispiel:"
   ]
  },
  {
   "cell_type": "code",
   "execution_count": 7,
   "metadata": {},
   "outputs": [
    {
     "name": "stdout",
     "output_type": "stream",
     "text": [
      "5966168960605969465897840432221570682240962491405470442492865628185649004305076742888571353308620807173528695730080412257172847333192548012987484226230496238465902875446022503734676029524063256260392206690768550395772180133724314498597552007870002969142665260021557644182757653418526578637511887073640914251846618184678277713553468745098438386011808872335877890594999377891757852966221591410822480985053177203164787892164996827586613190052307560295621478434106510509738799077592690193471769613453576293869400881930934794780335871324352603946838990694683862696222015835598421975924225184124860813228215788856559773575090280217883028889985006701676208578080630198436654231645088648462149674777608941880540172106026955582154699858243559284150018266143789318205359826541499912904685229801341098162511145455470966838263691984740559108491088315084335936516789866142247907475638235332743909236576459173704662446031940120092419826653066035208751500293187417000353835930647747331402296286202777375314157059934330772411551496574580331748735660319342633829033363859497376162194921400369543911262372372579202867842712178871018273822158155874145197886604243744448184651740021322805309842335341071614827101358081901566783433878611841587724085650765069733607508911550454182408691102905734274641127231676240738643703389200569922740790452398053786549921280362822258892423555026221337075229245095946707413534459740607143694911224530239860941799053246137391762078070953420693720502098957126485327632453913900205932070715763137178319753524578815257160782396475730425022506553160773639042483906547991714282476014550313416731987835771885920453581569285469960285247418305561750034424012962173270314291252728701694073453361927325805003585727568957767377643001762587247739142144\n"
     ]
    }
   ],
   "source": [
    "print(1234**567)"
   ]
  },
  {
   "cell_type": "markdown",
   "metadata": {},
   "source": [
    "Das Ergebnis hat `1753` Stellen und ist genau. Verwechseln Sie die Ganzzahlen nicht mit den Integer-Datentypen aus anderen Programmiersprachen, die nicht so viele Stellen darstellen können. \n",
    "\n",
    "Etwas anders sieht es bei den Fliesskommazahlen aus. Machen wir die gleiche Rechnung, so erhält man:"
   ]
  },
  {
   "cell_type": "code",
   "execution_count": 9,
   "metadata": {},
   "outputs": [
    {
     "ename": "OverflowError",
     "evalue": "(34, 'Numerical result out of range')",
     "output_type": "error",
     "traceback": [
      "\u001b[0;31m---------------------------------------------------------------------------\u001b[0m",
      "\u001b[0;31mOverflowError\u001b[0m                             Traceback (most recent call last)",
      "\u001b[0;32m<ipython-input-9-daca1fee645a>\u001b[0m in \u001b[0;36m<module>\u001b[0;34m\u001b[0m\n\u001b[0;32m----> 1\u001b[0;31m \u001b[0mprint\u001b[0m\u001b[0;34m(\u001b[0m\u001b[0;36m1234.0\u001b[0m\u001b[0;34m**\u001b[0m\u001b[0;36m567\u001b[0m\u001b[0;34m)\u001b[0m\u001b[0;34m\u001b[0m\u001b[0;34m\u001b[0m\u001b[0m\n\u001b[0m",
      "\u001b[0;31mOverflowError\u001b[0m: (34, 'Numerical result out of range')"
     ]
    }
   ],
   "source": [
    "print(1234.0**567.0)"
   ]
  },
  {
   "cell_type": "markdown",
   "metadata": {},
   "source": [
    "eine Fehlermeldung, dass das Ergebnis dieser Operation `ausserhalb` des Darstellungsbereiches liegt. Dieses ist erstmal dem Umstand geschuldet, dass bei Fliesskommazahlen nur eine begrenzte Anzahl von Bytes für das Speichern zur Verfügung steht (8 Bytes maximal). Damit klar wird, woher die Beschränkung der Darstellung her kommt, müssen wir uns die Fliesskommazahlen ein wenig genauer anschauen. "
   ]
  },
  {
   "cell_type": "markdown",
   "metadata": {},
   "source": [
    "Jede Fliesskommazahl lässt sich schreiben, als eine Zahl, die nur aus Nachkommastellen besteht, die dann mit einer Zehnerpotenz multipliziert werden muss:\n",
    "\n",
    "```\n",
    "1.2 = 0.12 * 10^1   \n",
    "120 = 0.12 * 10^3\n",
    "```\n",
    "Wird die Fliesskommazahl im Computer abgespeichert, muss man **nur** die Nachkommastellen und die Zehnerpotenz abspeichern. Die Anzahl der Nachkommastellen ist allerdings auf etwa 8 beschränkt (Genaueres siehe unten). Allerdings wird es kompliziert, wenn man mit Fliesskommazahlen rechnet. Da kommt es auf die Zahlen mit denen man rechnet an. Leicht nachzuvollziehen ist es, wenn man eine sehr große Fliesskommazahl zu einer sehr kleinen Zahl addiert. Da kann es vorkommen, dass die kleine Zahl keine Wirkung auf die Addition hat, z.B.:"
   ]
  },
  {
   "cell_type": "code",
   "execution_count": 4,
   "metadata": {},
   "outputs": [
    {
     "name": "stdout",
     "output_type": "stream",
     "text": [
      "1e+30\n"
     ]
    }
   ],
   "source": [
    "print(1e30+1.)  # große Zahl plus eine kleine Zahl"
   ]
  },
  {
   "cell_type": "markdown",
   "metadata": {},
   "source": [
    "Das ergibt keine Veränderung! Insofern muss man genau an dieser Stelle vorsichtig sein und genau schauen, mit welchen Zahlengrößen man rechnet!"
   ]
  },
  {
   "cell_type": "markdown",
   "metadata": {},
   "source": [
    "Es gibt noch ein anderes Problem, was auftritt, wenn man mit Fliesskommazahlen rechnet. Schauen wir das folgende Beispiel an:"
   ]
  },
  {
   "cell_type": "code",
   "execution_count": 3,
   "metadata": {},
   "outputs": [
    {
     "name": "stdout",
     "output_type": "stream",
     "text": [
      "0.1\n",
      "0.30000000000000004\n"
     ]
    }
   ],
   "source": [
    "print(0.1)\n",
    "print(0.1*3)"
   ]
  },
  {
   "cell_type": "markdown",
   "metadata": {},
   "source": [
    "Die erste Ausgabe ist noch okay, aber bei der zweiten Ausgabe ist das Ergebnis nicht wie erwartet `0.1 * 3 = 0.3`, sondern leicht größer! Warum?"
   ]
  },
  {
   "cell_type": "markdown",
   "metadata": {},
   "source": [
    "Computer speichern die Zahlen nicht so einfach, wie wir uns das vielleicht vorstellen. Die kleinste Speichereinheit oder Zahl, die ein Computer eigentlich versteht, ist ein sog. `Bit` eine `0` oder `1`. Wenn man mehrere `0` und `1` zusammenfügt, kann man ganze Zahlen genau beschreiben. Diese ergibt die sog. binäre Darstellung oder mathematisch die Zahlen zu der Basis `2` anstelle des Dezimalssystems mit der Basis `10`, welches wir normalerweise nutzen.\n",
    "\n",
    "Mathematisch lassen sich alle ganzen Zahlen $x$ aus dem  Dezimalssystem so darstellen:\n",
    "$$ x = \\sum_{i=0}^{\\infty} b_i 2^i $$\n",
    "Die Zahlen $b_i$ sind dann die Bits und haben die Werte `0` und `1`. Man schreibt in der Regel die Binärzahlen mit dem kleinsten Bit am Schluss:\n",
    "$$ x = \\ldots b_5 b_4 b_3 b_2 b_1 b_0$$\n",
    "\n",
    "So ist z.B. `100` die Darstellung von `4` und `101010` von `42`. "
   ]
  },
  {
   "cell_type": "markdown",
   "metadata": {},
   "source": [
    "Nun müssen auch die Fliesskommazahlen in das binäre Format umgewandelt werden. Die Exponenten als Ganze Zahlen lassen sich wie im Beispiel vorher einfach darstellen. Der Nachkommateil der Fliesskommazahl ist allerdings etwas komplizierter. Obige Umrechnung kann man etwas erweitern:\n",
    "\n",
    "$$ f = \\sum_{j=1}^{\\infty} b_i 2^{-j}$$\n",
    "\n",
    "wobei hier nun \n",
    "\n",
    "$$ f = . b_1 b_2 b_3 b_4 b_5 \\ldots $$\n",
    "bedeutet.\n",
    "\n",
    "\n",
    "Dieses ist die Darstellung einer positiven Zahl $f$ die kleiner als 1 ist. Wenn Sie sich nun anschauen, wie `0.1` in der binäre Darstellung aussieht, so stellt man fest, dass sich `0.1` nicht als binäre Zahl genau umwandeln lässt. Am Besten schaut man in die Umrechnungstabelle für die einzelnen Bits und versucht daraus die `0.1` in einer Summe zu berechnen:\n",
    "\n",
    "| Bit   | Wert |\n",
    "| :------------- | :------------- |\n",
    "| $b_1$ | 0.5 |\n",
    "| $b_2$ | 0.25 |\n",
    "| $b_3$ | 0.125 |\n",
    "| $b_4$ | 0.0625 |\n",
    "| $b_5$ | 0.030125 |\n",
    "| $b_6$ | 0.015625 |\n",
    "| $b_7$ | 0.0078125 |\n",
    "| ... | ... |\n",
    "\n",
    "Eine Annäherung wäre `0.0001100...`, aber wie gesagt, die Zahl kann nicht genau im Computer abgespeichert werden. Diese Abweichung wird natürlich beim Multiplizieren mitgenommen und dann vergrößert. So kann man diese Ungenauigkeit mit der Ausgabe darstellen."
   ]
  },
  {
   "cell_type": "markdown",
   "metadata": {},
   "source": [
    "----"
   ]
  },
  {
   "cell_type": "code",
   "execution_count": null,
   "metadata": {},
   "outputs": [],
   "source": []
  }
 ],
 "metadata": {
  "kernelspec": {
   "display_name": "Python 3 (ipykernel)",
   "language": "python",
   "name": "python3"
  },
  "language_info": {
   "codemirror_mode": {
    "name": "ipython",
    "version": 3
   },
   "file_extension": ".py",
   "mimetype": "text/x-python",
   "name": "python",
   "nbconvert_exporter": "python",
   "pygments_lexer": "ipython3",
   "version": "3.9.13"
  }
 },
 "nbformat": 4,
 "nbformat_minor": 4
}
