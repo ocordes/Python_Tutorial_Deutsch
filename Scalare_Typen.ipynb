{
 "cells": [
  {
   "cell_type": "markdown",
   "metadata": {},
   "source": [
    "# Scalare Typen in Python"
   ]
  },
  {
   "cell_type": "markdown",
   "metadata": {},
   "source": [
    "## Überblick"
   ]
  },
  {
   "cell_type": "markdown",
   "metadata": {},
   "source": [
    "Die Programmiersprache Python beinhaltet, wie andere Programmiersprachen auch, viele verschiedenen Datentypen, z.B. Zahlen, Zeichenketten, Arrays, Objekte usw. Dabei unterscheidet man zwischen den skalaren Datentypen, die in der Regel einem einzelnen Wert entsprechen und sog. Verbundtypen (Compound types), die aus mehreren skalaren (gleichen und verschiedenen) Datentypen bestehen. So sind z.B. Zahlen typische skalare Typen, während ein Array von Zahlen oder eine Adresse mit Namen, Strasse, PLZ und Ort ein Verbundtyp darstellt."
   ]
  },
  {
   "cell_type": "markdown",
   "metadata": {},
   "source": [
    "In diesem Kapitel werden wir uns mit den skalaren Datentypen in Python, Zahlen, Boolean beschäftigen. In den nächsten Kapiteln werden die wichtigen Verbundtypen, die Arrays behandelt. Eine Zwitterstellung nehmen die Zeichenketten (Strings) ein. Diese werden machmal als skalare Typen behandelt, sie sind aber in Python als ein Array des skalaren Datentyos Zeichen definiert. Diese beiden Typen werden in einem weiteren Kapitel beschrieben."
   ]
  },
  {
   "cell_type": "markdown",
   "metadata": {},
   "source": [
    "## Zahlen"
   ]
  },
  {
   "cell_type": "markdown",
   "metadata": {},
   "source": [
    "Python kennt zwei verschiedene skalare Datentypen für Zahlen die Ganzzahlen (Integer) und die Fliesskommazahlen (Floats). Grundsätzlich unterscheiden sich beide Datentypen in ihrer Darstellung und Genauigkeit, aber die Operationen, die man mit beiden Typen machen kann sind zum großen Teil identisch. "
   ]
  },
  {
   "cell_type": "markdown",
   "metadata": {},
   "source": [
    "### Darstellung"
   ]
  },
  {
   "cell_type": "markdown",
   "metadata": {},
   "source": [
    "Zur besseren Darstellung der Zahlen, werden alle Zahlen mit der ```print()```-Anweisung ausgegeben. Die Bedeutung der einzelnen Notationen sind jeweils als Kommentar mitgegeben. Sie können die folgende Zelle ausführen:"
   ]
  },
  {
   "cell_type": "code",
   "execution_count": 7,
   "metadata": {},
   "outputs": [
    {
     "name": "stdout",
     "output_type": "stream",
     "text": [
      "1\n",
      "-1\n",
      "1\n",
      "1.23\n",
      "120.0\n",
      "120.0\n",
      "-0.012\n"
     ]
    }
   ],
   "source": [
    "print(1)       # die Ganzzahl 1\n",
    "print(-1)      # negative Zahlen haben immer ein \"-\"-Zeichen vorweg\n",
    "print(+1)      # das Pluszeichen ist möglich, aber hier nutzlos!\n",
    "print(1.23)    # die Fliesskommazahl 1,23 = das deutsche Komma wird als Punkt verwendet!\n",
    "print(1.2e2)   # Fliesskommazahlen können auch Zehnerpotenzen enthalten\n",
    "print(1.2E02)  # e oder E ist egal, führende Nullen werden hier ignoriert!\n",
    "print(-1.2e-2) # negative Flisskommazahlen existieren, genauso wie negative Zehnerpotenzen "
   ]
  },
  {
   "cell_type": "markdown",
   "metadata": {},
   "source": [
    "Die folgenden Beispiele sind falsche Darstellungen. Führen Sie die Beispiele zur Anschauung einfach mal aus:"
   ]
  },
  {
   "cell_type": "code",
   "execution_count": 8,
   "metadata": {},
   "outputs": [
    {
     "ename": "SyntaxError",
     "evalue": "leading zeros in decimal integer literals are not permitted; use an 0o prefix for octal integers (<ipython-input-8-93fdf7a608ae>, line 1)",
     "output_type": "error",
     "traceback": [
      "\u001b[0;36m  File \u001b[0;32m\"<ipython-input-8-93fdf7a608ae>\"\u001b[0;36m, line \u001b[0;32m1\u001b[0m\n\u001b[0;31m    print(0001)   # hier werden die führenden Nullen als Fehler markiert!\u001b[0m\n\u001b[0m             ^\u001b[0m\n\u001b[0;31mSyntaxError\u001b[0m\u001b[0;31m:\u001b[0m leading zeros in decimal integer literals are not permitted; use an 0o prefix for octal integers\n"
     ]
    }
   ],
   "source": [
    "print(0001)   # hier werden die führenden Nullen als Fehler markiert!"
   ]
  },
  {
   "cell_type": "code",
   "execution_count": 10,
   "metadata": {},
   "outputs": [
    {
     "ename": "SyntaxError",
     "evalue": "invalid syntax (<ipython-input-10-06048c20352e>, line 1)",
     "output_type": "error",
     "traceback": [
      "\u001b[0;36m  File \u001b[0;32m\"<ipython-input-10-06048c20352e>\"\u001b[0;36m, line \u001b[0;32m1\u001b[0m\n\u001b[0;31m    print(1.2e2.2)  # mathematisch vielleicht sinnvoll, aber die Zehnerpotenzen dürfen nur ganze Zahlen sein!\u001b[0m\n\u001b[0m               ^\u001b[0m\n\u001b[0;31mSyntaxError\u001b[0m\u001b[0;31m:\u001b[0m invalid syntax\n"
     ]
    }
   ],
   "source": [
    "print(1.2e2.2)  # mathematisch vielleicht sinnvoll, aber die Zehnerpotenzen dürfen nur ganze Zahlen sein!"
   ]
  },
  {
   "cell_type": "code",
   "execution_count": null,
   "metadata": {},
   "outputs": [],
   "source": []
  },
  {
   "cell_type": "markdown",
   "metadata": {},
   "source": [
    "### Mathematische Operationen"
   ]
  },
  {
   "cell_type": "markdown",
   "metadata": {},
   "source": [
    "Mit den Zahlen kann man natürlich auch rechnen. Dazu lassen sich die klassischen Operationen, die Sie aus der Mathematik kennen direkt in Python nutzen. Hier ist ein Beispiel der Addition, Subtraktion und Multiplikation mit ganzen Zahlen:"
   ]
  },
  {
   "cell_type": "code",
   "execution_count": 12,
   "metadata": {},
   "outputs": [
    {
     "name": "stdout",
     "output_type": "stream",
     "text": [
      "3\n",
      "-2\n",
      "42\n"
     ]
    }
   ],
   "source": [
    "print(1+2)  # Addition\n",
    "print(3-5)  # Subtraktion\n",
    "print(6*7)  # Multiplikation"
   ]
  },
  {
   "cell_type": "markdown",
   "metadata": {},
   "source": [
    "Das ganze geht natürlich auch mit Fliesskommazahlen oder mit der Mischung aus beiden Zahlentypen:"
   ]
  },
  {
   "cell_type": "code",
   "execution_count": 19,
   "metadata": {},
   "outputs": [
    {
     "name": "stdout",
     "output_type": "stream",
     "text": [
      "4.1\n",
      "1.5631\n",
      "38.254\n",
      "3.0\n",
      "-1.1\n",
      "31.0\n"
     ]
    }
   ],
   "source": [
    "print(1.2+2.9)      # Addition mit Fliesskommazahlen\n",
    "print(2.431-0.8679) # Subtraktion mit Fliesskommazahlen\n",
    "print(12.34*3.1)    # Muliplikation mit Fliesskommazahlen\n",
    "print(1+2.0)        # gemischte Addition\n",
    "print(2-3.1)        # gemischte Subtraktion\n",
    "print(3.1*10)       # gemischte Multiplikation"
   ]
  },
  {
   "cell_type": "markdown",
   "metadata": {},
   "source": [
    "Betrachtet man die Ausgaben der beiden vorherigen Zellen, so sieht man, dass bei Operationen von zwei ganzen Zahlen wieder eine ganze zahl berechnet wird, während bei den anderen Rechnungen, die eine oder zwei Fliesskommazahlen enthalten, wie man erwarten würde, wieder eine Fliesskommazahl entsteht."
   ]
  },
  {
   "cell_type": "markdown",
   "metadata": {},
   "source": [
    "Die Division ist ein wenig komplexer. Python kennt bei den Zahlen zwei Divisionsoperationen, die Ganzzahl-Division `//` und die *reale* Division `/`. Beide Divisionen können jeweils auf die ganzen Zahlen und auf die Fliesskommazahlen angewendet werden:"
   ]
  },
  {
   "cell_type": "code",
   "execution_count": 23,
   "metadata": {},
   "outputs": [
    {
     "name": "stdout",
     "output_type": "stream",
     "text": [
      "1\n",
      "1.5\n",
      "1.0\n",
      "1.5\n",
      "-2\n"
     ]
    }
   ],
   "source": [
    "print(3//2)      # die Ganzzahldivsion \n",
    "print(3/2)       # die reale Division\n",
    "print(3.0//2.0)  # die Ganzzahldivision bei Fliesskommazahlen\n",
    "print(3.0/2.0)   # die reale Division\n",
    "print(-3//2)     # geht auch mit negativen Zahlen, aber das Ergebnis ist unerwartet"
   ]
  },
  {
   "cell_type": "markdown",
   "metadata": {},
   "source": [
    "Das letzte Beispiel `-3//2` ergibt mit `-2` ein unerwartetes Ergebnis. Das liegt an der Bestimmungsregel für die Ganzzahldivision. Das Ergbnis der Ganzzahldivision ist das Ergebnis der mathematischen (realen) Division abgerundet zur nächsten kleineren ganzen Zahl. Die reale Division von `3/2` ist `1.5` und die nächste kleinere ganze Zahl ist `1`. Für die negativen Zahlen ist `-3/2` gleich `-1.5` und die nächste kleinere Zahl ist `-2`. Auch hier ist es wichtig, dass sobald eine der beiden Operanden eine Fliesskommazahl ist, wird das Ergebnis auch eine Fliesskommazahl."
   ]
  },
  {
   "cell_type": "markdown",
   "metadata": {},
   "source": [
    "### Potenz- und Modulo-Operator"
   ]
  },
  {
   "cell_type": "markdown",
   "metadata": {},
   "source": [
    "Neben den klassischen Operationen, Addition, Subtraktion, Multiplikation und Division gibt es in Python noch einen Potenz- und Modulo-Operator, die an vielen Stellen hilfreich sind. Der Potenzoperator ist das mathematische `hoch` und der Modulo-Operator lässt sich am Besten mit dem Rest einer Division beschreiben. Hier sind ein paar Beispiele für den Potenzoperator:"
   ]
  },
  {
   "cell_type": "code",
   "execution_count": 25,
   "metadata": {},
   "outputs": [
    {
     "name": "stdout",
     "output_type": "stream",
     "text": [
      "4\n",
      "4.840000000000001\n",
      "1.4142135623730951\n"
     ]
    }
   ],
   "source": [
    "print(2**2)    # 2^2 = 4 Potenzoperator \n",
    "print(2.2**2)  # Potenzoperator mit Fliesskommazahlen\n",
    "print(2**0.5)  # als Potenzen sind auch Fliesskommazahlen erlaubt, hier eine Beschreibung des Wurzelziehens!"
   ]
  },
  {
   "cell_type": "code",
   "execution_count": 30,
   "metadata": {},
   "outputs": [
    {
     "name": "stdout",
     "output_type": "stream",
     "text": [
      "1\n",
      "0.9999999999999998\n"
     ]
    }
   ],
   "source": [
    "print(4 % 3)\n",
    "print((4/3-(4//3))*3)"
   ]
  },
  {
   "cell_type": "markdown",
   "metadata": {},
   "source": [
    "### Genauigkeiten von Zahlen"
   ]
  },
  {
   "cell_type": "markdown",
   "metadata": {},
   "source": [
    "Ein ganz wichtiger Aspekt bei der Nutzung von Zahlen ist die Genauigkeit. Aus der Mathematik kennen Sie sicher das Beispiel, dass das Ergebnis einer Division durch 7 oder 9 nicht exakt angegeben werden kann. Bei sich immer wiederholenden Nachkommastellen kann man sich dann mit der Periodendarstellung behelfen:\n",
    "\n",
    "$$ \\frac{1}{9} = 0.\\overline{1}$$\n",
    "\n",
    "Dies ist ein Problem, welches man mit Zahlen hat, die man mit dem Computer bearbeiten möchte. An dieser Stelle müssen wir zwischen den Ganzzahlen und den Fliesskommazahlen unterscheiden. "
   ]
  },
  {
   "cell_type": "markdown",
   "metadata": {},
   "source": [
    "Python erlaubt es, Ganzzahlen in beliebiger Größe darzustellen, womit auch alle mathematischen Operationen, die als Ergbnis eine Ganzzahl ergeben, immer ein genaues Ergebnis liefern. Ein Beispiel:"
   ]
  },
  {
   "cell_type": "code",
   "execution_count": 7,
   "metadata": {},
   "outputs": [
    {
     "name": "stdout",
     "output_type": "stream",
     "text": [
      "5966168960605969465897840432221570682240962491405470442492865628185649004305076742888571353308620807173528695730080412257172847333192548012987484226230496238465902875446022503734676029524063256260392206690768550395772180133724314498597552007870002969142665260021557644182757653418526578637511887073640914251846618184678277713553468745098438386011808872335877890594999377891757852966221591410822480985053177203164787892164996827586613190052307560295621478434106510509738799077592690193471769613453576293869400881930934794780335871324352603946838990694683862696222015835598421975924225184124860813228215788856559773575090280217883028889985006701676208578080630198436654231645088648462149674777608941880540172106026955582154699858243559284150018266143789318205359826541499912904685229801341098162511145455470966838263691984740559108491088315084335936516789866142247907475638235332743909236576459173704662446031940120092419826653066035208751500293187417000353835930647747331402296286202777375314157059934330772411551496574580331748735660319342633829033363859497376162194921400369543911262372372579202867842712178871018273822158155874145197886604243744448184651740021322805309842335341071614827101358081901566783433878611841587724085650765069733607508911550454182408691102905734274641127231676240738643703389200569922740790452398053786549921280362822258892423555026221337075229245095946707413534459740607143694911224530239860941799053246137391762078070953420693720502098957126485327632453913900205932070715763137178319753524578815257160782396475730425022506553160773639042483906547991714282476014550313416731987835771885920453581569285469960285247418305561750034424012962173270314291252728701694073453361927325805003585727568957767377643001762587247739142144\n"
     ]
    }
   ],
   "source": [
    "print(1234**567)"
   ]
  },
  {
   "cell_type": "markdown",
   "metadata": {},
   "source": [
    "Das Ergebnis hat `1753` Stellen und ist genau. Verwechseln Sie die Ganzzahlen nicht mit den Integer-Datentypen aus anderen Programmiersprachen, die nicht so viele Stellen darstellen können. \n",
    "\n",
    "Etwas anders sieht es bei den Fliesskommazahlen aus. Machen wir die gleiche Rechnung, so erhält man:"
   ]
  },
  {
   "cell_type": "code",
   "execution_count": 9,
   "metadata": {},
   "outputs": [
    {
     "ename": "OverflowError",
     "evalue": "(34, 'Numerical result out of range')",
     "output_type": "error",
     "traceback": [
      "\u001b[0;31m---------------------------------------------------------------------------\u001b[0m",
      "\u001b[0;31mOverflowError\u001b[0m                             Traceback (most recent call last)",
      "\u001b[0;32m<ipython-input-9-daca1fee645a>\u001b[0m in \u001b[0;36m<module>\u001b[0;34m\u001b[0m\n\u001b[0;32m----> 1\u001b[0;31m \u001b[0mprint\u001b[0m\u001b[0;34m(\u001b[0m\u001b[0;36m1234.0\u001b[0m\u001b[0;34m**\u001b[0m\u001b[0;36m567\u001b[0m\u001b[0;34m)\u001b[0m\u001b[0;34m\u001b[0m\u001b[0;34m\u001b[0m\u001b[0m\n\u001b[0m",
      "\u001b[0;31mOverflowError\u001b[0m: (34, 'Numerical result out of range')"
     ]
    }
   ],
   "source": [
    "print(1234.0**567.0)"
   ]
  },
  {
   "cell_type": "markdown",
   "metadata": {},
   "source": [
    "eine Fehlermeldung, dass das Ergebnis dieser Operation `ausserhalb` des Darstellungsbereiches liegt. Dieses ist erstmal dem Umstand geschuldet, dass bei Fliesskommazahlen nur eine begrenzte Anzahl von Bytes für das Speichern zur Verfügung steht (8 Bytes maximal). Damit klar wird, woher die Beschränkung der Darstellung her kommt, müssen wir uns die Fliesskommazahlen ein wenig genauer anschauen. "
   ]
  },
  {
   "cell_type": "markdown",
   "metadata": {},
   "source": [
    "Jede Fliesskommazahl lässt sich schreiben, als eine Zahl, die nur aus Nachkommastellen besteht, die dann mit einer Zehnerpotenz multipliziert werden muss:\n",
    "\n",
    "```\n",
    "1.2 = 0.12 * 10^1   \n",
    "120 = 0.12 * 10^3\n",
    "```\n",
    "Wird die Fliesskommazahl im Computer abgespeichert, muss man **nur** die Nachkommastellen und die Zehnerpotenz abspeichern."
   ]
  },
  {
   "cell_type": "markdown",
   "metadata": {},
   "source": [
    "## Boolean"
   ]
  },
  {
   "cell_type": "code",
   "execution_count": null,
   "metadata": {},
   "outputs": [],
   "source": []
  }
 ],
 "metadata": {
  "kernelspec": {
   "display_name": "Python 3",
   "language": "python",
   "name": "python3"
  },
  "language_info": {
   "codemirror_mode": {
    "name": "ipython",
    "version": 3
   },
   "file_extension": ".py",
   "mimetype": "text/x-python",
   "name": "python",
   "nbconvert_exporter": "python",
   "pygments_lexer": "ipython3",
   "version": "3.8.3"
  }
 },
 "nbformat": 4,
 "nbformat_minor": 4
}
